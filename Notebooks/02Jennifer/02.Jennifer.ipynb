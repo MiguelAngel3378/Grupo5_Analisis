{
 "cells": [
  {
   "cell_type": "code",
   "execution_count": 1,
   "metadata": {},
   "outputs": [
    {
     "name": "stdout",
     "output_type": "stream",
     "text": [
      "Hello World_03\n"
     ]
    }
   ],
   "source": [
    "print(\"Hello World_03\")"
   ]
  }
 ],
 "metadata": {
  "kernelspec": {
   "display_name": "Python 3",
   "language": "python",
   "name": "python3"
  },
  "language_info": {
   "codemirror_mode": {
    "name": "ipython",
    "version": 3
   },
   "file_extension": ".py",
   "mimetype": "text/x-python",
   "name": "python",
   "nbconvert_exporter": "python",
   "pygments_lexer": "ipython3",
   "version": "3.10.11"
  },
  "orig_nbformat": 4
 },
 "nbformat": 4,
 "nbformat_minor": 2
}

import numpy as np 
import pandas as pd 
import matplotlib.pyplot as plt
import seaborn as sns


IMPORTAMOS EL CSV
df=pd.read_csv("../../Data/FuentesOriginales/USAR/world_population.csv")
df.head()


INFORMACION DE LA DATA
df.shape

df.shape


VERIFICAMOS LOS NULOS
df.isnull().sum()

AGRUPACON DE LA DATA
continent_df = df.groupby(by='Continent').sum()
continent_df

DISTRIBUSCION DE LA POBLACION POR CONTINENTES
continent_df['2022 Population'].plot(kind='pie', figsize=(10,5), shadow=True, autopct='%1.1f%%') # autopct create %
plt.title('Distribucion de la poblacion por Continentes')
plt.axis('equal')

plt.show()


# Creando dataframe de los paises por continentes

# Asia
asian_countries = df.loc[df["Continent"]=="Asia"].sort_values(by=["2022 Population"], ascending=False, ignore_index=True)

# Africa
african_countries = df.loc[df["Continent"]=="Africa"].sort_values(by=["2022 Population"], ascending=False, ignore_index=True)

# Europe
european_countries = df.loc[df["Continent"]=="Europe"].sort_values(by=["2022 Population"], ascending=False, ignore_index=True)

# North America
na_countries = df.loc[df["Continent"]=="North America"].sort_values(by=["2022 Population"], ascending=False, ignore_index=True)

# Oceania
oc_countries = df.loc[df["Continent"]=="Oceania"].sort_values(by=["2022 Population"], ascending=False, ignore_index=True)

# South America
sa_countries = df.loc[df["Continent"]=="South America"].sort_values(by=["2022 Population"], ascending=False, ignore_index=True)



# Visualizando el Top 5, de las ciudades con mayor poblacion por continente

# Asian countries

top_5_countries = asian_countries[["Country/Territory", "2022 Population"]].sort_values(by="2022 Population", ascending=False).head(5)

sns.barplot(data=top_5_countries, x="Country/Territory", y="2022 Population")
plt.xlabel("Country/Territory")
plt.ylabel("2022 Population")
plt.title("Top 5 paises con mayor poblacion en Asia")

plt.show()


top_5_european =european_countries [["Country/Territory", "2022 Population"]].sort_values(by="2022 Population", ascending=False).head(5)

sns.barplot(data=top_5_european, x="Country/Territory", y="2022 Population")
plt.xlabel("Country/Territory")
plt.ylabel("2022 Population")
plt.title("Top 5 paises con mayor poblacion en Europa")



top_5_na =na_countries [["Country/Territory", "2022 Population"]].sort_values(by="2022 Population", ascending=False).head(5)

sns.barplot(data=top_5_na, x="Country/Territory", y="2022 Population")
plt.xlabel("Country/Territory")
plt.ylabel("2022 Population")
plt.title("Top 5 paises con mayor poblacion en Norte America")



top_5_oc =oc_countries [["Country/Territory", "2022 Population"]].sort_values(by="2022 Population", ascending=False).head(5)

sns.barplot(data=top_5_oc, x="Country/Territory", y="2022 Population")
plt.xlabel("Country/Territory")
plt.ylabel("2022 Population")
plt.title("Top 5 paises con mayor poblacion en Oceania")


top_5_sa =sa_countries [["Country/Territory", "2022 Population"]].sort_values(by="2022 Population", ascending=False).head(5)

sns.barplot(data=top_5_sa, x="Country/Territory", y="2022 Population")
plt.xlabel("Country/Territory")
plt.ylabel("2022 Population")
plt.title("Top 5 paises con mayor poblacion en America del Sur")








