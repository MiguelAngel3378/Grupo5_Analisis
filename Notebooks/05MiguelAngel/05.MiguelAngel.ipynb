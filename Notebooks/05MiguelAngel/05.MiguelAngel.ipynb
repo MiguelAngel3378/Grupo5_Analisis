{
 "cells": [
  {
   "cell_type": "code",
   "execution_count": null,
   "metadata": {},
   "outputs": [],
   "source": [
    "from mpl_toolkits.mplot3d import Axes3D\n",
    "from sklearn.preprocessing import StandardScaler\n",
    "import matplotlib.pyplot as plt \n",
    "import numpy as np \n",
    "import os \n",
    "import pandas as pd "
   ]
  },
  {
   "cell_type": "code",
   "execution_count": 6,
   "metadata": {},
   "outputs": [
    {
     "name": "stdout",
     "output_type": "stream",
     "text": [
      "There are 5 rows and 5 columns\n"
     ]
    }
   ],
   "source": [
    "nRowsRead = 1000  \n",
    "df1 = pd.read_csv('../Data/migration_2020.csv', delimiter=',', nrows = nRowsRead)\n",
    "df1.dataframeName = 'migration_2000.csv'\n",
    "nRow, nCol = df1.shape\n",
    "print(f'There are {nRow} rows and {nCol} columns')"
   ]
  },
  {
   "cell_type": "code",
   "execution_count": 7,
   "metadata": {},
   "outputs": [
    {
     "data": {
      "text/html": [
       "<div>\n",
       "<style scoped>\n",
       "    .dataframe tbody tr th:only-of-type {\n",
       "        vertical-align: middle;\n",
       "    }\n",
       "\n",
       "    .dataframe tbody tr th {\n",
       "        vertical-align: top;\n",
       "    }\n",
       "\n",
       "    .dataframe thead th {\n",
       "        text-align: right;\n",
       "    }\n",
       "</style>\n",
       "<table border=\"1\" class=\"dataframe\">\n",
       "  <thead>\n",
       "    <tr style=\"text-align: right;\">\n",
       "      <th></th>\n",
       "      <th>Country</th>\n",
       "      <th>Stock of foreign population by nationality(Total)</th>\n",
       "      <th>Stock of foreign population by nationality(Women)</th>\n",
       "      <th>Stock of foreign-born population by country of birth(Total)</th>\n",
       "      <th>Stock of foreign-born population by country of birth(Women)</th>\n",
       "    </tr>\n",
       "  </thead>\n",
       "  <tbody>\n",
       "    <tr>\n",
       "      <th>0</th>\n",
       "      <td>Czech Republic</td>\n",
       "      <td>593366.0</td>\n",
       "      <td>253057.0</td>\n",
       "      <td>NaN</td>\n",
       "      <td>NaN</td>\n",
       "    </tr>\n",
       "    <tr>\n",
       "      <th>1</th>\n",
       "      <td>Denmark</td>\n",
       "      <td>NaN</td>\n",
       "      <td>NaN</td>\n",
       "      <td>614353.0</td>\n",
       "      <td>308529.0</td>\n",
       "    </tr>\n",
       "    <tr>\n",
       "      <th>2</th>\n",
       "      <td>Latvia</td>\n",
       "      <td>260405.0</td>\n",
       "      <td>NaN</td>\n",
       "      <td>236959.0</td>\n",
       "      <td>NaN</td>\n",
       "    </tr>\n",
       "    <tr>\n",
       "      <th>3</th>\n",
       "      <td>Norway</td>\n",
       "      <td>604525.0</td>\n",
       "      <td>277391.0</td>\n",
       "      <td>867778.0</td>\n",
       "      <td>419186.0</td>\n",
       "    </tr>\n",
       "    <tr>\n",
       "      <th>4</th>\n",
       "      <td>Slovak Republic</td>\n",
       "      <td>78936.0</td>\n",
       "      <td>29796.0</td>\n",
       "      <td>198429.0</td>\n",
       "      <td>95998.0</td>\n",
       "    </tr>\n",
       "  </tbody>\n",
       "</table>\n",
       "</div>"
      ],
      "text/plain": [
       "           Country  Stock of foreign population by nationality(Total)   \n",
       "0   Czech Republic                                           593366.0  \\\n",
       "1          Denmark                                                NaN   \n",
       "2           Latvia                                           260405.0   \n",
       "3           Norway                                           604525.0   \n",
       "4  Slovak Republic                                            78936.0   \n",
       "\n",
       "   Stock of foreign population by nationality(Women)   \n",
       "0                                           253057.0  \\\n",
       "1                                                NaN   \n",
       "2                                                NaN   \n",
       "3                                           277391.0   \n",
       "4                                            29796.0   \n",
       "\n",
       "   Stock of foreign-born population by country of birth(Total)   \n",
       "0                                                NaN            \\\n",
       "1                                           614353.0             \n",
       "2                                           236959.0             \n",
       "3                                           867778.0             \n",
       "4                                           198429.0             \n",
       "\n",
       "   Stock of foreign-born population by country of birth(Women)  \n",
       "0                                                NaN            \n",
       "1                                           308529.0            \n",
       "2                                                NaN            \n",
       "3                                           419186.0            \n",
       "4                                            95998.0            "
      ]
     },
     "execution_count": 7,
     "metadata": {},
     "output_type": "execute_result"
    }
   ],
   "source": [
    "df1.head(5)"
   ]
  },
  {
   "cell_type": "code",
   "execution_count": null,
   "metadata": {},
   "outputs": [],
   "source": [
    "plotPerColumnDistribution(df1, 10, 5)"
   ]
  }
 ],
 "metadata": {
  "kernelspec": {
   "display_name": "Python 3",
   "language": "python",
   "name": "python3"
  },
  "language_info": {
   "codemirror_mode": {
    "name": "ipython",
    "version": 3
   },
   "file_extension": ".py",
   "mimetype": "text/x-python",
   "name": "python",
   "nbconvert_exporter": "python",
   "pygments_lexer": "ipython3",
   "version": "3.10.11"
  },
  "orig_nbformat": 4
 },
 "nbformat": 4,
 "nbformat_minor": 2
}
