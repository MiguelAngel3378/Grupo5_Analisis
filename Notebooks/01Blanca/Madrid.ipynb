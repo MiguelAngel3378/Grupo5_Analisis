{
 "cells": [
  {
   "cell_type": "code",
   "execution_count": 9,
   "metadata": {},
   "outputs": [],
   "source": [
    "import numpy as np\n",
    "import pandas as pd\n",
    "import matplotlib.pyplot as plt\n",
    "import seaborn as sns\n",
    "%matplotlib inline\n",
    "sns.set()"
   ]
  },
  {
   "cell_type": "code",
   "execution_count": 2,
   "metadata": {},
   "outputs": [
    {
     "data": {
      "text/html": [
       "<div>\n",
       "<style scoped>\n",
       "    .dataframe tbody tr th:only-of-type {\n",
       "        vertical-align: middle;\n",
       "    }\n",
       "\n",
       "    .dataframe tbody tr th {\n",
       "        vertical-align: top;\n",
       "    }\n",
       "\n",
       "    .dataframe thead th {\n",
       "        text-align: right;\n",
       "    }\n",
       "</style>\n",
       "<table border=\"1\" class=\"dataframe\">\n",
       "  <thead>\n",
       "    <tr style=\"text-align: right;\">\n",
       "      <th></th>\n",
       "      <th>municipio_codigo,municipio_nombre,distrito_codigo,distrito_nombre,barrio_codigo,barrio_nombre,sexo,nacionalidad,poblacion_empadronada</th>\n",
       "    </tr>\n",
       "  </thead>\n",
       "  <tbody>\n",
       "    <tr>\n",
       "      <th>0</th>\n",
       "      <td>79,Madrid,79601,Centro,796011,Palacio,Hombre,A...</td>\n",
       "    </tr>\n",
       "    <tr>\n",
       "      <th>1</th>\n",
       "      <td>79,Madrid,79601,Centro,796011,Palacio,Hombre,A...</td>\n",
       "    </tr>\n",
       "    <tr>\n",
       "      <th>2</th>\n",
       "      <td>79,Madrid,79601,Centro,796011,Palacio,Hombre,A...</td>\n",
       "    </tr>\n",
       "    <tr>\n",
       "      <th>3</th>\n",
       "      <td>79,Madrid,79601,Centro,796011,Palacio,Hombre,A...</td>\n",
       "    </tr>\n",
       "    <tr>\n",
       "      <th>4</th>\n",
       "      <td>79,Madrid,79601,Centro,796011,Palacio,Hombre,A...</td>\n",
       "    </tr>\n",
       "  </tbody>\n",
       "</table>\n",
       "</div>"
      ],
      "text/plain": [
       "  municipio_codigo,municipio_nombre,distrito_codigo,distrito_nombre,barrio_codigo,barrio_nombre,sexo,nacionalidad,poblacion_empadronada\n",
       "0  79,Madrid,79601,Centro,796011,Palacio,Hombre,A...                                                                                   \n",
       "1  79,Madrid,79601,Centro,796011,Palacio,Hombre,A...                                                                                   \n",
       "2  79,Madrid,79601,Centro,796011,Palacio,Hombre,A...                                                                                   \n",
       "3  79,Madrid,79601,Centro,796011,Palacio,Hombre,A...                                                                                   \n",
       "4  79,Madrid,79601,Centro,796011,Palacio,Hombre,A...                                                                                   "
      ]
     },
     "execution_count": 2,
     "metadata": {},
     "output_type": "execute_result"
    }
   ],
   "source": [
    "df = pd.read_csv('../../../Grupo5_Analisis/Data/FuentesOriginales/MADRID/MADRID_UTF8_CLEAN.csv', delimiter=';')\n",
    "df.head()"
   ]
  },
  {
   "cell_type": "code",
   "execution_count": 3,
   "metadata": {},
   "outputs": [
    {
     "data": {
      "text/plain": [
       "<bound method DataFrame.info of      municipio_codigo,municipio_nombre,distrito_codigo,distrito_nombre,barrio_codigo,barrio_nombre,sexo,nacionalidad,poblacion_empadronada\n",
       "0     79,Madrid,79601,Centro,796011,Palacio,Hombre,A...                                                                                   \n",
       "1     79,Madrid,79601,Centro,796011,Palacio,Hombre,A...                                                                                   \n",
       "2     79,Madrid,79601,Centro,796011,Palacio,Hombre,A...                                                                                   \n",
       "3     79,Madrid,79601,Centro,796011,Palacio,Hombre,A...                                                                                   \n",
       "4     79,Madrid,79601,Centro,796011,Palacio,Hombre,A...                                                                                   \n",
       "...                                                 ...                                                                                   \n",
       "2555  79,Madrid,79621,Barajas,796215,Corralejos,Muje...                                                                                   \n",
       "2556  79,Madrid,79621,Barajas,796215,Corralejos,Muje...                                                                                   \n",
       "2557  79,Madrid,79621,Barajas,796215,Corralejos,Muje...                                                                                   \n",
       "2558  79,Madrid,79621,Barajas,796215,Corralejos,Muje...                                                                                   \n",
       "2559  79,Madrid,79621,Barajas,796215,Corralejos,Muje...                                                                                   \n",
       "\n",
       "[2560 rows x 1 columns]>"
      ]
     },
     "execution_count": 3,
     "metadata": {},
     "output_type": "execute_result"
    }
   ],
   "source": [
    "df.info\n"
   ]
  },
  {
   "cell_type": "code",
   "execution_count": 5,
   "metadata": {},
   "outputs": [
    {
     "data": {
      "text/html": [
       "<div>\n",
       "<style scoped>\n",
       "    .dataframe tbody tr th:only-of-type {\n",
       "        vertical-align: middle;\n",
       "    }\n",
       "\n",
       "    .dataframe tbody tr th {\n",
       "        vertical-align: top;\n",
       "    }\n",
       "\n",
       "    .dataframe thead th {\n",
       "        text-align: right;\n",
       "    }\n",
       "</style>\n",
       "<table border=\"1\" class=\"dataframe\">\n",
       "  <thead>\n",
       "    <tr style=\"text-align: right;\">\n",
       "      <th></th>\n",
       "      <th>municipio_codigo,municipio_nombre,distrito_codigo,distrito_nombre,barrio_codigo,barrio_nombre,sexo,nacionalidad,poblacion_empadronada</th>\n",
       "    </tr>\n",
       "  </thead>\n",
       "  <tbody>\n",
       "    <tr>\n",
       "      <th>count</th>\n",
       "      <td>2560</td>\n",
       "    </tr>\n",
       "    <tr>\n",
       "      <th>unique</th>\n",
       "      <td>2560</td>\n",
       "    </tr>\n",
       "    <tr>\n",
       "      <th>top</th>\n",
       "      <td>79,Madrid,79601,Centro,796011,Palacio,Hombre,A...</td>\n",
       "    </tr>\n",
       "    <tr>\n",
       "      <th>freq</th>\n",
       "      <td>1</td>\n",
       "    </tr>\n",
       "  </tbody>\n",
       "</table>\n",
       "</div>"
      ],
      "text/plain": [
       "       municipio_codigo,municipio_nombre,distrito_codigo,distrito_nombre,barrio_codigo,barrio_nombre,sexo,nacionalidad,poblacion_empadronada\n",
       "count                                                2560                                                                                   \n",
       "unique                                               2560                                                                                   \n",
       "top     79,Madrid,79601,Centro,796011,Palacio,Hombre,A...                                                                                   \n",
       "freq                                                    1                                                                                   "
      ]
     },
     "execution_count": 5,
     "metadata": {},
     "output_type": "execute_result"
    }
   ],
   "source": [
    "df.describe()\n"
   ]
  },
  {
   "cell_type": "code",
   "execution_count": 7,
   "metadata": {},
   "outputs": [
    {
     "data": {
      "text/plain": [
       "municipio_codigo,municipio_nombre,distrito_codigo,distrito_nombre,barrio_codigo,barrio_nombre,sexo,nacionalidad,poblacion_empadronada    0\n",
       "dtype: int64"
      ]
     },
     "execution_count": 7,
     "metadata": {},
     "output_type": "execute_result"
    }
   ],
   "source": [
    "df.isnull().sum()"
   ]
  },
  {
   "cell_type": "code",
   "execution_count": 8,
   "metadata": {},
   "outputs": [
    {
     "data": {
      "text/html": [
       "<div>\n",
       "<style scoped>\n",
       "    .dataframe tbody tr th:only-of-type {\n",
       "        vertical-align: middle;\n",
       "    }\n",
       "\n",
       "    .dataframe tbody tr th {\n",
       "        vertical-align: top;\n",
       "    }\n",
       "\n",
       "    .dataframe thead th {\n",
       "        text-align: right;\n",
       "    }\n",
       "</style>\n",
       "<table border=\"1\" class=\"dataframe\">\n",
       "  <thead>\n",
       "    <tr style=\"text-align: right;\">\n",
       "      <th></th>\n",
       "      <th>municipio_codigo,municipio_nombre,distrito_codigo,distrito_nombre,barrio_codigo,barrio_nombre,sexo,nacionalidad,poblacion_empadronada</th>\n",
       "    </tr>\n",
       "  </thead>\n",
       "  <tbody>\n",
       "    <tr>\n",
       "      <th>0</th>\n",
       "      <td>False</td>\n",
       "    </tr>\n",
       "    <tr>\n",
       "      <th>1</th>\n",
       "      <td>False</td>\n",
       "    </tr>\n",
       "    <tr>\n",
       "      <th>2</th>\n",
       "      <td>False</td>\n",
       "    </tr>\n",
       "    <tr>\n",
       "      <th>3</th>\n",
       "      <td>False</td>\n",
       "    </tr>\n",
       "    <tr>\n",
       "      <th>4</th>\n",
       "      <td>False</td>\n",
       "    </tr>\n",
       "    <tr>\n",
       "      <th>...</th>\n",
       "      <td>...</td>\n",
       "    </tr>\n",
       "    <tr>\n",
       "      <th>2555</th>\n",
       "      <td>False</td>\n",
       "    </tr>\n",
       "    <tr>\n",
       "      <th>2556</th>\n",
       "      <td>False</td>\n",
       "    </tr>\n",
       "    <tr>\n",
       "      <th>2557</th>\n",
       "      <td>False</td>\n",
       "    </tr>\n",
       "    <tr>\n",
       "      <th>2558</th>\n",
       "      <td>False</td>\n",
       "    </tr>\n",
       "    <tr>\n",
       "      <th>2559</th>\n",
       "      <td>False</td>\n",
       "    </tr>\n",
       "  </tbody>\n",
       "</table>\n",
       "<p>2560 rows × 1 columns</p>\n",
       "</div>"
      ],
      "text/plain": [
       "      municipio_codigo,municipio_nombre,distrito_codigo,distrito_nombre,barrio_codigo,barrio_nombre,sexo,nacionalidad,poblacion_empadronada\n",
       "0                                                 False                                                                                    \n",
       "1                                                 False                                                                                    \n",
       "2                                                 False                                                                                    \n",
       "3                                                 False                                                                                    \n",
       "4                                                 False                                                                                    \n",
       "...                                                 ...                                                                                    \n",
       "2555                                              False                                                                                    \n",
       "2556                                              False                                                                                    \n",
       "2557                                              False                                                                                    \n",
       "2558                                              False                                                                                    \n",
       "2559                                              False                                                                                    \n",
       "\n",
       "[2560 rows x 1 columns]"
      ]
     },
     "execution_count": 8,
     "metadata": {},
     "output_type": "execute_result"
    }
   ],
   "source": [
    "df.isnull()"
   ]
  },
  {
   "cell_type": "code",
   "execution_count": 14,
   "metadata": {},
   "outputs": [
    {
     "data": {
      "text/plain": [
       "<Figure size 1200x800 with 0 Axes>"
      ]
     },
     "execution_count": 14,
     "metadata": {},
     "output_type": "execute_result"
    },
    {
     "data": {
      "text/plain": [
       "<Figure size 1200x800 with 0 Axes>"
      ]
     },
     "metadata": {},
     "output_type": "display_data"
    }
   ],
   "source": [
    "\n"
   ]
  }
 ],
 "metadata": {
  "kernelspec": {
   "display_name": "Python 3",
   "language": "python",
   "name": "python3"
  },
  "language_info": {
   "codemirror_mode": {
    "name": "ipython",
    "version": 3
   },
   "file_extension": ".py",
   "mimetype": "text/x-python",
   "name": "python",
   "nbconvert_exporter": "python",
   "pygments_lexer": "ipython3",
   "version": "3.10.11"
  },
  "orig_nbformat": 4
 },
 "nbformat": 4,
 "nbformat_minor": 2
}
