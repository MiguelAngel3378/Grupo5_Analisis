{
 "cells": [
  {
   "attachments": {},
   "cell_type": "markdown",
   "metadata": {},
   "source": [
    "TRABAJOS DE LOS INMIGRANTES EN MADRID\n"
   ]
  },
  {
   "cell_type": "code",
   "execution_count": 1,
   "metadata": {},
   "outputs": [],
   "source": [
    "import os\n",
    "import numpy as np\n",
    "import pandas as pd\n",
    "import random\n",
    "import matplotlib.pyplot as plt\n",
    "import seaborn as sns"
   ]
  },
  {
   "attachments": {},
   "cell_type": "markdown",
   "metadata": {},
   "source": [
    "PREPARAR DATOS"
   ]
  },
  {
   "cell_type": "code",
   "execution_count": 3,
   "metadata": {},
   "outputs": [
    {
     "data": {
      "text/html": [
       "<div>\n",
       "<style scoped>\n",
       "    .dataframe tbody tr th:only-of-type {\n",
       "        vertical-align: middle;\n",
       "    }\n",
       "\n",
       "    .dataframe tbody tr th {\n",
       "        vertical-align: top;\n",
       "    }\n",
       "\n",
       "    .dataframe thead th {\n",
       "        text-align: right;\n",
       "    }\n",
       "</style>\n",
       "<table border=\"1\" class=\"dataframe\">\n",
       "  <thead>\n",
       "    <tr style=\"text-align: right;\">\n",
       "      <th></th>\n",
       "      <th>Unnamed: 0</th>\n",
       "      <th>Gender</th>\n",
       "      <th>Age</th>\n",
       "      <th>Studies</th>\n",
       "      <th>Nationality</th>\n",
       "      <th>Administrative_situation</th>\n",
       "      <th>Working</th>\n",
       "    </tr>\n",
       "  </thead>\n",
       "  <tbody>\n",
       "    <tr>\n",
       "      <th>0</th>\n",
       "      <td>0</td>\n",
       "      <td>Women</td>\n",
       "      <td>51-65</td>\n",
       "      <td>College</td>\n",
       "      <td>España</td>\n",
       "      <td>Community</td>\n",
       "      <td>No</td>\n",
       "    </tr>\n",
       "    <tr>\n",
       "      <th>1</th>\n",
       "      <td>1</td>\n",
       "      <td>Women</td>\n",
       "      <td>51-65</td>\n",
       "      <td>College</td>\n",
       "      <td>Venezuela</td>\n",
       "      <td>ART</td>\n",
       "      <td>No</td>\n",
       "    </tr>\n",
       "    <tr>\n",
       "      <th>2</th>\n",
       "      <td>2</td>\n",
       "      <td>Women</td>\n",
       "      <td>18-30</td>\n",
       "      <td>Pre-college</td>\n",
       "      <td>Honduras</td>\n",
       "      <td>Refugee</td>\n",
       "      <td>No</td>\n",
       "    </tr>\n",
       "    <tr>\n",
       "      <th>3</th>\n",
       "      <td>3</td>\n",
       "      <td>Women</td>\n",
       "      <td>18-30</td>\n",
       "      <td>Pre-college</td>\n",
       "      <td>Venezuela</td>\n",
       "      <td>Community</td>\n",
       "      <td>No</td>\n",
       "    </tr>\n",
       "    <tr>\n",
       "      <th>4</th>\n",
       "      <td>4</td>\n",
       "      <td>Women</td>\n",
       "      <td>18-30</td>\n",
       "      <td>Pre-college</td>\n",
       "      <td>República Dominicana</td>\n",
       "      <td>Community_familiar</td>\n",
       "      <td>No</td>\n",
       "    </tr>\n",
       "  </tbody>\n",
       "</table>\n",
       "</div>"
      ],
      "text/plain": [
       "   Unnamed: 0 Gender    Age      Studies           Nationality   \n",
       "0           0  Women  51-65      College                España  \\\n",
       "1           1  Women  51-65      College             Venezuela   \n",
       "2           2  Women  18-30  Pre-college              Honduras   \n",
       "3           3  Women  18-30  Pre-college             Venezuela   \n",
       "4           4  Women  18-30  Pre-college  República Dominicana   \n",
       "\n",
       "  Administrative_situation Working  \n",
       "0                Community      No  \n",
       "1                      ART      No  \n",
       "2                  Refugee      No  \n",
       "3                Community      No  \n",
       "4       Community_familiar      No  "
      ]
     },
     "execution_count": 3,
     "metadata": {},
     "output_type": "execute_result"
    }
   ],
   "source": [
    "df = pd.read_csv(\"../../Data/FuentesOriginales/MADRID/Madrid_inmigration_2021\")\n",
    "df.head()"
   ]
  },
  {
   "cell_type": "code",
   "execution_count": 4,
   "metadata": {},
   "outputs": [
    {
     "data": {
      "text/plain": [
       "Working\n",
       "No     1417\n",
       "Yes     106\n",
       "Name: count, dtype: int64"
      ]
     },
     "metadata": {},
     "output_type": "display_data"
    }
   ],
   "source": [
    "display(df['Working'].value_counts())"
   ]
  },
  {
   "cell_type": "code",
   "execution_count": 5,
   "metadata": {},
   "outputs": [
    {
     "name": "stdout",
     "output_type": "stream",
     "text": [
      "['Unnamed: 0', 'Gender', 'Age', 'Studies', 'Nationality', 'Administrative_situation', 'Working']\n",
      "{'No': 0, 'Yes': 1}\n"
     ]
    }
   ],
   "source": [
    "print(df.columns.tolist())\n",
    "Name=df['Working'].unique().tolist()\n",
    "N=[0,1]\n",
    "normal_mapping=dict(zip(Name,N)) \n",
    "reverse_mapping=dict(zip(N,Name))        \n",
    "print(normal_mapping)\n",
    "df=df.drop('Unnamed: 0',axis=1)\n",
    "df['Working']=df['Working'].map(normal_mapping)"
   ]
  },
  {
   "cell_type": "code",
   "execution_count": 6,
   "metadata": {},
   "outputs": [
    {
     "data": {
      "text/plain": [
       "Gender                      object\n",
       "Age                         object\n",
       "Studies                     object\n",
       "Nationality                 object\n",
       "Administrative_situation    object\n",
       "Working                      int64\n",
       "dtype: object"
      ]
     },
     "execution_count": 6,
     "metadata": {},
     "output_type": "execute_result"
    }
   ],
   "source": [
    "df.dtypes"
   ]
  },
  {
   "cell_type": "code",
   "execution_count": null,
   "metadata": {},
   "outputs": [],
   "source": []
  }
 ],
 "metadata": {
  "kernelspec": {
   "display_name": "Python 3",
   "language": "python",
   "name": "python3"
  },
  "language_info": {
   "codemirror_mode": {
    "name": "ipython",
    "version": 3
   },
   "file_extension": ".py",
   "mimetype": "text/x-python",
   "name": "python",
   "nbconvert_exporter": "python",
   "pygments_lexer": "ipython3",
   "version": "3.10.11"
  },
  "orig_nbformat": 4
 },
 "nbformat": 4,
 "nbformat_minor": 2
}
