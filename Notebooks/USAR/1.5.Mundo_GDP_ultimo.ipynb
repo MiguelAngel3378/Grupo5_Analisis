{
 "cells": [
  {
   "cell_type": "code",
   "execution_count": 1,
   "metadata": {},
   "outputs": [],
   "source": [
    "import numpy as np\n",
    "import pandas as pd \n",
    "import matplotlib.pyplot as plt\n",
    "import plotly.express as px\n",
    "import country_converter as coco"
   ]
  },
  {
   "cell_type": "code",
   "execution_count": 2,
   "metadata": {},
   "outputs": [
    {
     "data": {
      "text/html": [
       "<div>\n",
       "<style scoped>\n",
       "    .dataframe tbody tr th:only-of-type {\n",
       "        vertical-align: middle;\n",
       "    }\n",
       "\n",
       "    .dataframe tbody tr th {\n",
       "        vertical-align: top;\n",
       "    }\n",
       "\n",
       "    .dataframe thead th {\n",
       "        text-align: right;\n",
       "    }\n",
       "</style>\n",
       "<table border=\"1\" class=\"dataframe\">\n",
       "  <thead>\n",
       "    <tr style=\"text-align: right;\">\n",
       "      <th></th>\n",
       "      <th>Index Number</th>\n",
       "      <th>Rank</th>\n",
       "      <th>Country/Economy</th>\n",
       "      <th>GDP (millions of $)</th>\n",
       "      <th>Agriculture GDP</th>\n",
       "      <th>Unnamed: 5</th>\n",
       "      <th>Unnamed: 6</th>\n",
       "      <th>Industry</th>\n",
       "      <th>Unnamed: 8</th>\n",
       "      <th>Unnamed: 9</th>\n",
       "      <th>Services</th>\n",
       "      <th>Unnamed: 11</th>\n",
       "      <th>Unnamed: 12</th>\n",
       "      <th>Year GDP</th>\n",
       "      <th>Year Sector</th>\n",
       "    </tr>\n",
       "  </thead>\n",
       "  <tbody>\n",
       "    <tr>\n",
       "      <th>0</th>\n",
       "      <td>NaN</td>\n",
       "      <td>NaN</td>\n",
       "      <td>NaN</td>\n",
       "      <td>NaN</td>\n",
       "      <td>GDP</td>\n",
       "      <td>Rank</td>\n",
       "      <td>% of GDP</td>\n",
       "      <td>GDP</td>\n",
       "      <td>Rank</td>\n",
       "      <td>% of GDP</td>\n",
       "      <td>GDP</td>\n",
       "      <td>Rank</td>\n",
       "      <td>% of GDP</td>\n",
       "      <td>NaN</td>\n",
       "      <td>NaN</td>\n",
       "    </tr>\n",
       "    <tr>\n",
       "      <th>1</th>\n",
       "      <td>0.0</td>\n",
       "      <td>1</td>\n",
       "      <td>United States</td>\n",
       "      <td>19360000</td>\n",
       "      <td>174240</td>\n",
       "      <td>3</td>\n",
       "      <td>0.9</td>\n",
       "      <td>3659040</td>\n",
       "      <td>2</td>\n",
       "      <td>18.9</td>\n",
       "      <td>15526720</td>\n",
       "      <td>1</td>\n",
       "      <td>80.2</td>\n",
       "      <td>2017</td>\n",
       "      <td>2017</td>\n",
       "    </tr>\n",
       "    <tr>\n",
       "      <th>2</th>\n",
       "      <td>1.0</td>\n",
       "      <td>2</td>\n",
       "      <td>China</td>\n",
       "      <td>11940000</td>\n",
       "      <td>991020</td>\n",
       "      <td>1</td>\n",
       "      <td>8.3</td>\n",
       "      <td>4716300</td>\n",
       "      <td>1</td>\n",
       "      <td>39.5</td>\n",
       "      <td>6232680</td>\n",
       "      <td>2</td>\n",
       "      <td>52.2</td>\n",
       "      <td>2017</td>\n",
       "      <td>2017</td>\n",
       "    </tr>\n",
       "    <tr>\n",
       "      <th>3</th>\n",
       "      <td>2.0</td>\n",
       "      <td>3</td>\n",
       "      <td>Japan</td>\n",
       "      <td>4884000</td>\n",
       "      <td>48840</td>\n",
       "      <td>13</td>\n",
       "      <td>1</td>\n",
       "      <td>1450548</td>\n",
       "      <td>3</td>\n",
       "      <td>29.7</td>\n",
       "      <td>3384612</td>\n",
       "      <td>3</td>\n",
       "      <td>69.3</td>\n",
       "      <td>2017</td>\n",
       "      <td>2017</td>\n",
       "    </tr>\n",
       "    <tr>\n",
       "      <th>4</th>\n",
       "      <td>3.0</td>\n",
       "      <td>4</td>\n",
       "      <td>Germany</td>\n",
       "      <td>3652000</td>\n",
       "      <td>21912</td>\n",
       "      <td>31</td>\n",
       "      <td>0.6</td>\n",
       "      <td>1099252</td>\n",
       "      <td>4</td>\n",
       "      <td>30.1</td>\n",
       "      <td>2530836</td>\n",
       "      <td>4</td>\n",
       "      <td>69.3</td>\n",
       "      <td>2016</td>\n",
       "      <td>2017</td>\n",
       "    </tr>\n",
       "  </tbody>\n",
       "</table>\n",
       "</div>"
      ],
      "text/plain": [
       "   Index Number  Rank Country/Economy GDP (millions of $) Agriculture GDP   \n",
       "0            NaN  NaN             NaN                 NaN             GDP  \\\n",
       "1            0.0    1   United States            19360000          174240   \n",
       "2            1.0    2           China            11940000          991020   \n",
       "3            2.0    3           Japan             4884000           48840   \n",
       "4            3.0    4         Germany             3652000           21912   \n",
       "\n",
       "  Unnamed: 5 Unnamed: 6 Industry Unnamed: 8 Unnamed: 9  Services Unnamed: 11   \n",
       "0       Rank   % of GDP      GDP       Rank   % of GDP       GDP        Rank  \\\n",
       "1          3        0.9  3659040          2       18.9  15526720           1   \n",
       "2          1        8.3  4716300          1       39.5   6232680           2   \n",
       "3         13          1  1450548          3       29.7   3384612           3   \n",
       "4         31        0.6  1099252          4       30.1   2530836           4   \n",
       "\n",
       "  Unnamed: 12 Year GDP  Year Sector  \n",
       "0    % of GDP       NaN         NaN  \n",
       "1        80.2      2017        2017  \n",
       "2        52.2      2017        2017  \n",
       "3        69.3      2017        2017  \n",
       "4        69.3      2016        2017  "
      ]
     },
     "execution_count": 2,
     "metadata": {},
     "output_type": "execute_result"
    }
   ],
   "source": [
    "data = pd.read_csv('../../Data/FuentesOriginales/USAR/List of Countries by GDP Sector Composition.csv')\n",
    "data.head()"
   ]
  },
  {
   "cell_type": "markdown",
   "metadata": {},
   "source": [
    "PREPAR DATA"
   ]
  },
  {
   "cell_type": "markdown",
   "metadata": {},
   "source": [
    "1. RENOMBRAR LAS COLUMNAS MANUALMENTE"
   ]
  },
  {
   "cell_type": "code",
   "execution_count": 3,
   "metadata": {},
   "outputs": [],
   "source": [
    "column_names = [\n",
    "    \"Index Number\",\n",
    "    \"Rank\",\n",
    "    \"Country/Economy\",\n",
    "    \"GDP (millions of $)\",\n",
    "    \"Agriculture GDP\",\n",
    "    \"Agriculture Rank\",\n",
    "    \"Agriculture % of GDP\",\n",
    "    \"Industry GDP\",\n",
    "    \"Industry Rank\",\n",
    "    \"Industry % of GDP\",\n",
    "    \"Services GDP\",\n",
    "    \"Services Rank\",\n",
    "    \"Services % of GDP\",\n",
    "    \"Year GDP\",\n",
    "    \"Year Sector\",\n",
    "]\n",
    "\n",
    "data.columns = column_names"
   ]
  },
  {
   "cell_type": "code",
   "execution_count": 4,
   "metadata": {},
   "outputs": [],
   "source": [
    "data = data.drop(index=0)"
   ]
  },
  {
   "cell_type": "code",
   "execution_count": 5,
   "metadata": {},
   "outputs": [
    {
     "data": {
      "text/html": [
       "<div>\n",
       "<style scoped>\n",
       "    .dataframe tbody tr th:only-of-type {\n",
       "        vertical-align: middle;\n",
       "    }\n",
       "\n",
       "    .dataframe tbody tr th {\n",
       "        vertical-align: top;\n",
       "    }\n",
       "\n",
       "    .dataframe thead th {\n",
       "        text-align: right;\n",
       "    }\n",
       "</style>\n",
       "<table border=\"1\" class=\"dataframe\">\n",
       "  <thead>\n",
       "    <tr style=\"text-align: right;\">\n",
       "      <th></th>\n",
       "      <th>Index Number</th>\n",
       "      <th>Rank</th>\n",
       "      <th>Country/Economy</th>\n",
       "      <th>GDP (millions of $)</th>\n",
       "      <th>Agriculture GDP</th>\n",
       "      <th>Agriculture Rank</th>\n",
       "      <th>Agriculture % of GDP</th>\n",
       "      <th>Industry GDP</th>\n",
       "      <th>Industry Rank</th>\n",
       "      <th>Industry % of GDP</th>\n",
       "      <th>Services GDP</th>\n",
       "      <th>Services Rank</th>\n",
       "      <th>Services % of GDP</th>\n",
       "      <th>Year GDP</th>\n",
       "      <th>Year Sector</th>\n",
       "    </tr>\n",
       "  </thead>\n",
       "  <tbody>\n",
       "    <tr>\n",
       "      <th>1</th>\n",
       "      <td>0.0</td>\n",
       "      <td>1</td>\n",
       "      <td>United States</td>\n",
       "      <td>19360000</td>\n",
       "      <td>174240</td>\n",
       "      <td>3</td>\n",
       "      <td>0.9</td>\n",
       "      <td>3659040</td>\n",
       "      <td>2</td>\n",
       "      <td>18.9</td>\n",
       "      <td>15526720</td>\n",
       "      <td>1</td>\n",
       "      <td>80.2</td>\n",
       "      <td>2017</td>\n",
       "      <td>2017</td>\n",
       "    </tr>\n",
       "    <tr>\n",
       "      <th>2</th>\n",
       "      <td>1.0</td>\n",
       "      <td>2</td>\n",
       "      <td>China</td>\n",
       "      <td>11940000</td>\n",
       "      <td>991020</td>\n",
       "      <td>1</td>\n",
       "      <td>8.3</td>\n",
       "      <td>4716300</td>\n",
       "      <td>1</td>\n",
       "      <td>39.5</td>\n",
       "      <td>6232680</td>\n",
       "      <td>2</td>\n",
       "      <td>52.2</td>\n",
       "      <td>2017</td>\n",
       "      <td>2017</td>\n",
       "    </tr>\n",
       "    <tr>\n",
       "      <th>3</th>\n",
       "      <td>2.0</td>\n",
       "      <td>3</td>\n",
       "      <td>Japan</td>\n",
       "      <td>4884000</td>\n",
       "      <td>48840</td>\n",
       "      <td>13</td>\n",
       "      <td>1</td>\n",
       "      <td>1450548</td>\n",
       "      <td>3</td>\n",
       "      <td>29.7</td>\n",
       "      <td>3384612</td>\n",
       "      <td>3</td>\n",
       "      <td>69.3</td>\n",
       "      <td>2017</td>\n",
       "      <td>2017</td>\n",
       "    </tr>\n",
       "    <tr>\n",
       "      <th>4</th>\n",
       "      <td>3.0</td>\n",
       "      <td>4</td>\n",
       "      <td>Germany</td>\n",
       "      <td>3652000</td>\n",
       "      <td>21912</td>\n",
       "      <td>31</td>\n",
       "      <td>0.6</td>\n",
       "      <td>1099252</td>\n",
       "      <td>4</td>\n",
       "      <td>30.1</td>\n",
       "      <td>2530836</td>\n",
       "      <td>4</td>\n",
       "      <td>69.3</td>\n",
       "      <td>2016</td>\n",
       "      <td>2017</td>\n",
       "    </tr>\n",
       "    <tr>\n",
       "      <th>5</th>\n",
       "      <td>4.0</td>\n",
       "      <td>5</td>\n",
       "      <td>France</td>\n",
       "      <td>2575000</td>\n",
       "      <td>51500</td>\n",
       "      <td>11</td>\n",
       "      <td>2</td>\n",
       "      <td>517575</td>\n",
       "      <td>7</td>\n",
       "      <td>20.1</td>\n",
       "      <td>2005925</td>\n",
       "      <td>6</td>\n",
       "      <td>77.9</td>\n",
       "      <td>2017</td>\n",
       "      <td>2017</td>\n",
       "    </tr>\n",
       "  </tbody>\n",
       "</table>\n",
       "</div>"
      ],
      "text/plain": [
       "   Index Number Rank Country/Economy GDP (millions of $) Agriculture GDP   \n",
       "1           0.0    1   United States            19360000          174240  \\\n",
       "2           1.0    2           China            11940000          991020   \n",
       "3           2.0    3           Japan             4884000           48840   \n",
       "4           3.0    4         Germany             3652000           21912   \n",
       "5           4.0    5          France             2575000           51500   \n",
       "\n",
       "  Agriculture Rank Agriculture % of GDP Industry GDP Industry Rank   \n",
       "1                3                  0.9      3659040             2  \\\n",
       "2                1                  8.3      4716300             1   \n",
       "3               13                    1      1450548             3   \n",
       "4               31                  0.6      1099252             4   \n",
       "5               11                    2       517575             7   \n",
       "\n",
       "  Industry % of GDP Services GDP Services Rank Services % of GDP Year GDP   \n",
       "1              18.9     15526720             1              80.2     2017  \\\n",
       "2              39.5      6232680             2              52.2     2017   \n",
       "3              29.7      3384612             3              69.3     2017   \n",
       "4              30.1      2530836             4              69.3     2016   \n",
       "5              20.1      2005925             6              77.9     2017   \n",
       "\n",
       "  Year Sector  \n",
       "1        2017  \n",
       "2        2017  \n",
       "3        2017  \n",
       "4        2017  \n",
       "5        2017  "
      ]
     },
     "execution_count": 5,
     "metadata": {},
     "output_type": "execute_result"
    }
   ],
   "source": [
    "data.head()"
   ]
  },
  {
   "cell_type": "code",
   "execution_count": 6,
   "metadata": {},
   "outputs": [
    {
     "data": {
      "text/plain": [
       "(230, 15)"
      ]
     },
     "execution_count": 6,
     "metadata": {},
     "output_type": "execute_result"
    }
   ],
   "source": [
    "data.shape"
   ]
  },
  {
   "cell_type": "markdown",
   "metadata": {},
   "source": [
    "PREPARAMOS EL LAYOUT PATA EL SUBPLOT"
   ]
  },
  {
   "cell_type": "code",
   "execution_count": 7,
   "metadata": {},
   "outputs": [],
   "source": [
    "columns = len(data.columns)\n",
    "rows = (columns + 1) // 2"
   ]
  },
  {
   "cell_type": "markdown",
   "metadata": {},
   "source": [
    "CREAMOS LA FIGURA Y DETERMINAMOS EL TAMAÑO"
   ]
  },
  {
   "cell_type": "code",
   "execution_count": 13,
   "metadata": {},
   "outputs": [
    {
     "data": {
      "image/png": "[encoded data removed]",
      "text/plain": [
       "<Figure size 1000x3200 with 16 Axes>"
      ]
     },
     "metadata": {},
     "output_type": "display_data"
    },
    {
     "data": {
      "text/plain": [
       "<Figure size 640x480 with 0 Axes>"
      ]
     },
     "metadata": {},
     "output_type": "display_data"
    }
   ],
   "source": [
    "fig, axes = plt.subplots(rows, 2, figsize=(10, rows * 4))\n",
    "axes = axes.flatten()\n",
    "\n",
    "for i, column in enumerate(data.columns):\n",
    "    value_counts = data[column].value_counts().head(5)\n",
    "    value_counts_table = axes[i].table(cellText=value_counts.to_frame().values,\n",
    "            rowLabels=value_counts.index,\n",
    "            colLabels=[column],\n",
    "            loc=\"center\")\n",
    "    value_counts_table.auto_set_font_size(False)\n",
    "    value_counts_table.set_fontsize(12)\n",
    "    value_counts_table.scale(1, 1.5)\n",
    "    axes[i].axis(\"off\")\n",
    "for j in range(i+1, len(axes)):\n",
    "    axes[j].axis(\"off\")\n",
    "\n",
    "\n",
    "plt.tight_layout()\n",
    "plt.show()\n",
    "\n",
    "plt.tight_layout()\n",
    "plt.show()"
   ]
  },
  {
   "cell_type": "code",
   "execution_count": 14,
   "metadata": {},
   "outputs": [
    {
     "data": {
      "text/plain": [
       "Index Number            float64\n",
       "Rank                     object\n",
       "Country/Economy          object\n",
       "GDP (millions of $)      object\n",
       "Agriculture GDP          object\n",
       "Agriculture Rank         object\n",
       "Agriculture % of GDP     object\n",
       "Industry GDP             object\n",
       "Industry Rank            object\n",
       "Industry % of GDP        object\n",
       "Services GDP             object\n",
       "Services Rank            object\n",
       "Services % of GDP        object\n",
       "Year GDP                 object\n",
       "Year Sector              object\n",
       "dtype: object"
      ]
     },
     "execution_count": 14,
     "metadata": {},
     "output_type": "execute_result"
    }
   ],
   "source": [
    "data.dtypes"
   ]
  },
  {
   "cell_type": "markdown",
   "metadata": {},
   "source": [
    "CONVERTIMOS EL DATA TYPE A NUMERICO"
   ]
  },
  {
   "cell_type": "code",
   "execution_count": 16,
   "metadata": {},
   "outputs": [],
   "source": [
    "numeric_columns = [\n",
    "    \"GDP (millions of $)\",\n",
    "    \"Agriculture GDP\",\n",
    "    \"Agriculture Rank\",\n",
    "    \"Agriculture % of GDP\",\n",
    "    \"Industry GDP\",\n",
    "    \"Industry Rank\",\n",
    "    \"Industry % of GDP\",\n",
    "    \"Services GDP\",\n",
    "    \"Services Rank\",\n",
    "    \"Services % of GDP\",\n",
    "    \"Year GDP\",\n",
    "    \"Year Sector\",\n",
    "]\n",
    "\n",
    "for column in numeric_columns:\n",
    "    data[column] = pd.to_numeric(data[column], errors='coerce')"
   ]
  },
  {
   "cell_type": "markdown",
   "metadata": {},
   "source": [
    "CREAMOS LOS DATAFRAMES"
   ]
  },
  {
   "cell_type": "code",
   "execution_count": 17,
   "metadata": {},
   "outputs": [],
   "source": [
    "data[\"Year GDP\"] = data[\"Year GDP\"].astype(\"category\")\n",
    "data[\"Year Sector\"] = data[\"Year Sector\"].astype(\"category\")"
   ]
  },
  {
   "cell_type": "code",
   "execution_count": 18,
   "metadata": {},
   "outputs": [
    {
     "data": {
      "text/plain": [
       "Index Number             float64\n",
       "Rank                      object\n",
       "Country/Economy           object\n",
       "GDP (millions of $)      float64\n",
       "Agriculture GDP          float64\n",
       "Agriculture Rank         float64\n",
       "Agriculture % of GDP     float64\n",
       "Industry GDP             float64\n",
       "Industry Rank            float64\n",
       "Industry % of GDP        float64\n",
       "Services GDP             float64\n",
       "Services Rank            float64\n",
       "Services % of GDP        float64\n",
       "Year GDP                category\n",
       "Year Sector             category\n",
       "dtype: object"
      ]
     },
     "execution_count": 18,
     "metadata": {},
     "output_type": "execute_result"
    }
   ],
   "source": [
    "data.dtypes"
   ]
  },
  {
   "cell_type": "markdown",
   "metadata": {},
   "source": [
    "TRATAMIENTO DE VALORES NULOS"
   ]
  },
  {
   "cell_type": "code",
   "execution_count": 19,
   "metadata": {},
   "outputs": [
    {
     "data": {
      "text/plain": [
       "Index Number             0\n",
       "Rank                     0\n",
       "Country/Economy          0\n",
       "GDP (millions of $)      6\n",
       "Agriculture GDP         12\n",
       "Agriculture Rank        12\n",
       "Agriculture % of GDP     6\n",
       "Industry GDP            10\n",
       "Industry Rank           10\n",
       "Industry % of GDP        7\n",
       "Services GDP             9\n",
       "Services Rank            9\n",
       "Services % of GDP        6\n",
       "Year GDP                 6\n",
       "Year Sector              6\n",
       "dtype: int64"
      ]
     },
     "execution_count": 19,
     "metadata": {},
     "output_type": "execute_result"
    }
   ],
   "source": [
    "data.isna().sum()"
   ]
  },
  {
   "cell_type": "code",
   "execution_count": 20,
   "metadata": {},
   "outputs": [
    {
     "data": {
      "text/html": [
       "<div>\n",
       "<style scoped>\n",
       "    .dataframe tbody tr th:only-of-type {\n",
       "        vertical-align: middle;\n",
       "    }\n",
       "\n",
       "    .dataframe tbody tr th {\n",
       "        vertical-align: top;\n",
       "    }\n",
       "\n",
       "    .dataframe thead th {\n",
       "        text-align: right;\n",
       "    }\n",
       "</style>\n",
       "<table border=\"1\" class=\"dataframe\">\n",
       "  <thead>\n",
       "    <tr style=\"text-align: right;\">\n",
       "      <th></th>\n",
       "      <th>Index Number</th>\n",
       "      <th>GDP (millions of $)</th>\n",
       "      <th>Agriculture GDP</th>\n",
       "      <th>Agriculture Rank</th>\n",
       "      <th>Agriculture % of GDP</th>\n",
       "      <th>Industry GDP</th>\n",
       "      <th>Industry Rank</th>\n",
       "      <th>Industry % of GDP</th>\n",
       "      <th>Services GDP</th>\n",
       "      <th>Services Rank</th>\n",
       "      <th>Services % of GDP</th>\n",
       "    </tr>\n",
       "  </thead>\n",
       "  <tbody>\n",
       "    <tr>\n",
       "      <th>count</th>\n",
       "      <td>230.000000</td>\n",
       "      <td>2.240000e+02</td>\n",
       "      <td>218.000000</td>\n",
       "      <td>218.000000</td>\n",
       "      <td>224.000000</td>\n",
       "      <td>2.200000e+02</td>\n",
       "      <td>220.000000</td>\n",
       "      <td>223.000000</td>\n",
       "      <td>2.210000e+02</td>\n",
       "      <td>221.000000</td>\n",
       "      <td>224.000000</td>\n",
       "    </tr>\n",
       "    <tr>\n",
       "      <th>mean</th>\n",
       "      <td>114.500000</td>\n",
       "      <td>3.543662e+05</td>\n",
       "      <td>15820.288991</td>\n",
       "      <td>109.500000</td>\n",
       "      <td>11.297321</td>\n",
       "      <td>9.996509e+04</td>\n",
       "      <td>110.500000</td>\n",
       "      <td>26.232287</td>\n",
       "      <td>2.434012e+05</td>\n",
       "      <td>111.000000</td>\n",
       "      <td>62.244643</td>\n",
       "    </tr>\n",
       "    <tr>\n",
       "      <th>std</th>\n",
       "      <td>66.539462</td>\n",
       "      <td>1.603511e+06</td>\n",
       "      <td>74005.759231</td>\n",
       "      <td>63.075352</td>\n",
       "      <td>12.186433</td>\n",
       "      <td>4.270580e+05</td>\n",
       "      <td>63.652704</td>\n",
       "      <td>12.193557</td>\n",
       "      <td>1.183021e+06</td>\n",
       "      <td>63.941379</td>\n",
       "      <td>14.796023</td>\n",
       "    </tr>\n",
       "    <tr>\n",
       "      <th>min</th>\n",
       "      <td>0.000000</td>\n",
       "      <td>1.000000e+01</td>\n",
       "      <td>1.000000</td>\n",
       "      <td>1.000000</td>\n",
       "      <td>0.000000</td>\n",
       "      <td>2.000000e+00</td>\n",
       "      <td>1.000000</td>\n",
       "      <td>0.000000</td>\n",
       "      <td>5.000000e+00</td>\n",
       "      <td>1.000000</td>\n",
       "      <td>27.000000</td>\n",
       "    </tr>\n",
       "    <tr>\n",
       "      <th>25%</th>\n",
       "      <td>57.250000</td>\n",
       "      <td>4.758250e+03</td>\n",
       "      <td>267.500000</td>\n",
       "      <td>55.250000</td>\n",
       "      <td>2.300000</td>\n",
       "      <td>8.995000e+02</td>\n",
       "      <td>55.750000</td>\n",
       "      <td>17.650000</td>\n",
       "      <td>2.630000e+03</td>\n",
       "      <td>56.000000</td>\n",
       "      <td>51.500000</td>\n",
       "    </tr>\n",
       "    <tr>\n",
       "      <th>50%</th>\n",
       "      <td>114.500000</td>\n",
       "      <td>2.168000e+04</td>\n",
       "      <td>2130.500000</td>\n",
       "      <td>109.500000</td>\n",
       "      <td>6.850000</td>\n",
       "      <td>5.951500e+03</td>\n",
       "      <td>110.500000</td>\n",
       "      <td>25.500000</td>\n",
       "      <td>1.177300e+04</td>\n",
       "      <td>111.000000</td>\n",
       "      <td>61.050000</td>\n",
       "    </tr>\n",
       "    <tr>\n",
       "      <th>75%</th>\n",
       "      <td>171.750000</td>\n",
       "      <td>1.587250e+05</td>\n",
       "      <td>7960.750000</td>\n",
       "      <td>163.750000</td>\n",
       "      <td>17.425000</td>\n",
       "      <td>5.277500e+04</td>\n",
       "      <td>165.250000</td>\n",
       "      <td>33.450000</td>\n",
       "      <td>8.897900e+04</td>\n",
       "      <td>166.000000</td>\n",
       "      <td>73.425000</td>\n",
       "    </tr>\n",
       "    <tr>\n",
       "      <th>max</th>\n",
       "      <td>229.000000</td>\n",
       "      <td>1.936000e+07</td>\n",
       "      <td>991020.000000</td>\n",
       "      <td>218.000000</td>\n",
       "      <td>60.700000</td>\n",
       "      <td>4.716300e+06</td>\n",
       "      <td>220.000000</td>\n",
       "      <td>63.800000</td>\n",
       "      <td>1.552672e+07</td>\n",
       "      <td>221.000000</td>\n",
       "      <td>100.000000</td>\n",
       "    </tr>\n",
       "  </tbody>\n",
       "</table>\n",
       "</div>"
      ],
      "text/plain": [
       "       Index Number  GDP (millions of $)  Agriculture GDP  Agriculture Rank   \n",
       "count    230.000000         2.240000e+02       218.000000        218.000000  \\\n",
       "mean     114.500000         3.543662e+05     15820.288991        109.500000   \n",
       "std       66.539462         1.603511e+06     74005.759231         63.075352   \n",
       "min        0.000000         1.000000e+01         1.000000          1.000000   \n",
       "25%       57.250000         4.758250e+03       267.500000         55.250000   \n",
       "50%      114.500000         2.168000e+04      2130.500000        109.500000   \n",
       "75%      171.750000         1.587250e+05      7960.750000        163.750000   \n",
       "max      229.000000         1.936000e+07    991020.000000        218.000000   \n",
       "\n",
       "       Agriculture % of GDP  Industry GDP  Industry Rank  Industry % of GDP   \n",
       "count            224.000000  2.200000e+02     220.000000         223.000000  \\\n",
       "mean              11.297321  9.996509e+04     110.500000          26.232287   \n",
       "std               12.186433  4.270580e+05      63.652704          12.193557   \n",
       "min                0.000000  2.000000e+00       1.000000           0.000000   \n",
       "25%                2.300000  8.995000e+02      55.750000          17.650000   \n",
       "50%                6.850000  5.951500e+03     110.500000          25.500000   \n",
       "75%               17.425000  5.277500e+04     165.250000          33.450000   \n",
       "max               60.700000  4.716300e+06     220.000000          63.800000   \n",
       "\n",
       "       Services GDP  Services Rank  Services % of GDP  \n",
       "count  2.210000e+02     221.000000         224.000000  \n",
       "mean   2.434012e+05     111.000000          62.244643  \n",
       "std    1.183021e+06      63.941379          14.796023  \n",
       "min    5.000000e+00       1.000000          27.000000  \n",
       "25%    2.630000e+03      56.000000          51.500000  \n",
       "50%    1.177300e+04     111.000000          61.050000  \n",
       "75%    8.897900e+04     166.000000          73.425000  \n",
       "max    1.552672e+07     221.000000         100.000000  "
      ]
     },
     "execution_count": 20,
     "metadata": {},
     "output_type": "execute_result"
    }
   ],
   "source": [
    "data.describe()"
   ]
  },
  {
   "cell_type": "code",
   "execution_count": 21,
   "metadata": {},
   "outputs": [
    {
     "name": "stderr",
     "output_type": "stream",
     "text": [
      "Virgin Islands not found in regex\n"
     ]
    }
   ],
   "source": [
    "data[\"Continent\"] = data[\"Country/Economy\"].apply(lambda x: coco.convert(names=x, to=\"Continent\", not_found=\"Other\"))"
   ]
  },
  {
   "cell_type": "markdown",
   "metadata": {},
   "source": [
    "EXPLORAMOS LA DATA"
   ]
  },
  {
   "cell_type": "markdown",
   "metadata": {},
   "source": [
    "LISTA DE LOS 20 PAISES"
   ]
  },
  {
   "cell_type": "code",
   "execution_count": 29,
   "metadata": {},
   "outputs": [
    {
     "data": {
      "text/html": [
       "<div>\n",
       "<style scoped>\n",
       "    .dataframe tbody tr th:only-of-type {\n",
       "        vertical-align: middle;\n",
       "    }\n",
       "\n",
       "    .dataframe tbody tr th {\n",
       "        vertical-align: top;\n",
       "    }\n",
       "\n",
       "    .dataframe thead th {\n",
       "        text-align: right;\n",
       "    }\n",
       "</style>\n",
       "<table border=\"1\" class=\"dataframe\">\n",
       "  <thead>\n",
       "    <tr style=\"text-align: right;\">\n",
       "      <th></th>\n",
       "      <th>Index Number</th>\n",
       "      <th>Rank</th>\n",
       "      <th>Country/Economy</th>\n",
       "      <th>GDP (millions of $)</th>\n",
       "      <th>Agriculture GDP</th>\n",
       "      <th>Agriculture Rank</th>\n",
       "      <th>Agriculture % of GDP</th>\n",
       "      <th>Industry GDP</th>\n",
       "      <th>Industry Rank</th>\n",
       "      <th>Industry % of GDP</th>\n",
       "      <th>Services GDP</th>\n",
       "      <th>Services Rank</th>\n",
       "      <th>Services % of GDP</th>\n",
       "      <th>Year GDP</th>\n",
       "      <th>Year Sector</th>\n",
       "      <th>Continent</th>\n",
       "    </tr>\n",
       "  </thead>\n",
       "  <tbody>\n",
       "    <tr>\n",
       "      <th>1</th>\n",
       "      <td>0.0</td>\n",
       "      <td>1</td>\n",
       "      <td>United States</td>\n",
       "      <td>19360000.0</td>\n",
       "      <td>174240.0</td>\n",
       "      <td>3.0</td>\n",
       "      <td>0.9</td>\n",
       "      <td>3659040.0</td>\n",
       "      <td>2.0</td>\n",
       "      <td>18.9</td>\n",
       "      <td>15526720.0</td>\n",
       "      <td>1.0</td>\n",
       "      <td>80.2</td>\n",
       "      <td>2017.0</td>\n",
       "      <td>2017.0</td>\n",
       "      <td>America</td>\n",
       "    </tr>\n",
       "    <tr>\n",
       "      <th>2</th>\n",
       "      <td>1.0</td>\n",
       "      <td>2</td>\n",
       "      <td>China</td>\n",
       "      <td>11940000.0</td>\n",
       "      <td>991020.0</td>\n",
       "      <td>1.0</td>\n",
       "      <td>8.3</td>\n",
       "      <td>4716300.0</td>\n",
       "      <td>1.0</td>\n",
       "      <td>39.5</td>\n",
       "      <td>6232680.0</td>\n",
       "      <td>2.0</td>\n",
       "      <td>52.2</td>\n",
       "      <td>2017.0</td>\n",
       "      <td>2017.0</td>\n",
       "      <td>Asia</td>\n",
       "    </tr>\n",
       "    <tr>\n",
       "      <th>3</th>\n",
       "      <td>2.0</td>\n",
       "      <td>3</td>\n",
       "      <td>Japan</td>\n",
       "      <td>4884000.0</td>\n",
       "      <td>48840.0</td>\n",
       "      <td>13.0</td>\n",
       "      <td>1.0</td>\n",
       "      <td>1450548.0</td>\n",
       "      <td>3.0</td>\n",
       "      <td>29.7</td>\n",
       "      <td>3384612.0</td>\n",
       "      <td>3.0</td>\n",
       "      <td>69.3</td>\n",
       "      <td>2017.0</td>\n",
       "      <td>2017.0</td>\n",
       "      <td>Asia</td>\n",
       "    </tr>\n",
       "    <tr>\n",
       "      <th>4</th>\n",
       "      <td>3.0</td>\n",
       "      <td>4</td>\n",
       "      <td>Germany</td>\n",
       "      <td>3652000.0</td>\n",
       "      <td>21912.0</td>\n",
       "      <td>31.0</td>\n",
       "      <td>0.6</td>\n",
       "      <td>1099252.0</td>\n",
       "      <td>4.0</td>\n",
       "      <td>30.1</td>\n",
       "      <td>2530836.0</td>\n",
       "      <td>4.0</td>\n",
       "      <td>69.3</td>\n",
       "      <td>2016.0</td>\n",
       "      <td>2017.0</td>\n",
       "      <td>Europe</td>\n",
       "    </tr>\n",
       "    <tr>\n",
       "      <th>5</th>\n",
       "      <td>4.0</td>\n",
       "      <td>5</td>\n",
       "      <td>France</td>\n",
       "      <td>2575000.0</td>\n",
       "      <td>51500.0</td>\n",
       "      <td>11.0</td>\n",
       "      <td>2.0</td>\n",
       "      <td>517575.0</td>\n",
       "      <td>7.0</td>\n",
       "      <td>20.1</td>\n",
       "      <td>2005925.0</td>\n",
       "      <td>6.0</td>\n",
       "      <td>77.9</td>\n",
       "      <td>2017.0</td>\n",
       "      <td>2017.0</td>\n",
       "      <td>Europe</td>\n",
       "    </tr>\n",
       "    <tr>\n",
       "      <th>6</th>\n",
       "      <td>5.0</td>\n",
       "      <td>6</td>\n",
       "      <td>United Kingdom</td>\n",
       "      <td>2565000.0</td>\n",
       "      <td>15390.0</td>\n",
       "      <td>36.0</td>\n",
       "      <td>0.6</td>\n",
       "      <td>487350.0</td>\n",
       "      <td>8.0</td>\n",
       "      <td>19.0</td>\n",
       "      <td>2062260.0</td>\n",
       "      <td>5.0</td>\n",
       "      <td>80.4</td>\n",
       "      <td>2017.0</td>\n",
       "      <td>2017.0</td>\n",
       "      <td>Europe</td>\n",
       "    </tr>\n",
       "    <tr>\n",
       "      <th>7</th>\n",
       "      <td>6.0</td>\n",
       "      <td>7</td>\n",
       "      <td>India</td>\n",
       "      <td>2439000.0</td>\n",
       "      <td>375606.0</td>\n",
       "      <td>2.0</td>\n",
       "      <td>15.4</td>\n",
       "      <td>560970.0</td>\n",
       "      <td>6.0</td>\n",
       "      <td>23.0</td>\n",
       "      <td>1499985.0</td>\n",
       "      <td>8.0</td>\n",
       "      <td>61.5</td>\n",
       "      <td>2017.0</td>\n",
       "      <td>2016.0</td>\n",
       "      <td>Asia</td>\n",
       "    </tr>\n",
       "    <tr>\n",
       "      <th>8</th>\n",
       "      <td>7.0</td>\n",
       "      <td>8</td>\n",
       "      <td>Brazil</td>\n",
       "      <td>2081000.0</td>\n",
       "      <td>129022.0</td>\n",
       "      <td>4.0</td>\n",
       "      <td>6.2</td>\n",
       "      <td>437010.0</td>\n",
       "      <td>12.0</td>\n",
       "      <td>21.0</td>\n",
       "      <td>1514968.0</td>\n",
       "      <td>7.0</td>\n",
       "      <td>72.8</td>\n",
       "      <td>2017.0</td>\n",
       "      <td>2017.0</td>\n",
       "      <td>America</td>\n",
       "    </tr>\n",
       "    <tr>\n",
       "      <th>9</th>\n",
       "      <td>8.0</td>\n",
       "      <td>9</td>\n",
       "      <td>Italy</td>\n",
       "      <td>1921000.0</td>\n",
       "      <td>40341.0</td>\n",
       "      <td>17.0</td>\n",
       "      <td>2.1</td>\n",
       "      <td>461040.0</td>\n",
       "      <td>10.0</td>\n",
       "      <td>24.0</td>\n",
       "      <td>1419619.0</td>\n",
       "      <td>9.0</td>\n",
       "      <td>73.9</td>\n",
       "      <td>2017.0</td>\n",
       "      <td>2017.0</td>\n",
       "      <td>Europe</td>\n",
       "    </tr>\n",
       "    <tr>\n",
       "      <th>10</th>\n",
       "      <td>9.0</td>\n",
       "      <td>10</td>\n",
       "      <td>Canada</td>\n",
       "      <td>1640000.0</td>\n",
       "      <td>27880.0</td>\n",
       "      <td>25.0</td>\n",
       "      <td>1.7</td>\n",
       "      <td>460840.0</td>\n",
       "      <td>11.0</td>\n",
       "      <td>28.1</td>\n",
       "      <td>1151280.0</td>\n",
       "      <td>10.0</td>\n",
       "      <td>70.2</td>\n",
       "      <td>2017.0</td>\n",
       "      <td>2017.0</td>\n",
       "      <td>America</td>\n",
       "    </tr>\n",
       "    <tr>\n",
       "      <th>11</th>\n",
       "      <td>10.0</td>\n",
       "      <td>11</td>\n",
       "      <td>Korea, South</td>\n",
       "      <td>1530000.0</td>\n",
       "      <td>33660.0</td>\n",
       "      <td>22.0</td>\n",
       "      <td>2.2</td>\n",
       "      <td>601290.0</td>\n",
       "      <td>5.0</td>\n",
       "      <td>39.3</td>\n",
       "      <td>891990.0</td>\n",
       "      <td>14.0</td>\n",
       "      <td>58.3</td>\n",
       "      <td>2017.0</td>\n",
       "      <td>2017.0</td>\n",
       "      <td>Asia</td>\n",
       "    </tr>\n",
       "    <tr>\n",
       "      <th>12</th>\n",
       "      <td>11.0</td>\n",
       "      <td>12</td>\n",
       "      <td>Russia</td>\n",
       "      <td>1469000.0</td>\n",
       "      <td>69043.0</td>\n",
       "      <td>7.0</td>\n",
       "      <td>4.7</td>\n",
       "      <td>475956.0</td>\n",
       "      <td>9.0</td>\n",
       "      <td>32.4</td>\n",
       "      <td>915187.0</td>\n",
       "      <td>13.0</td>\n",
       "      <td>62.3</td>\n",
       "      <td>2017.0</td>\n",
       "      <td>2017.0</td>\n",
       "      <td>Europe</td>\n",
       "    </tr>\n",
       "    <tr>\n",
       "      <th>13</th>\n",
       "      <td>12.0</td>\n",
       "      <td>13</td>\n",
       "      <td>Australia</td>\n",
       "      <td>1390000.0</td>\n",
       "      <td>50040.0</td>\n",
       "      <td>12.0</td>\n",
       "      <td>3.6</td>\n",
       "      <td>362790.0</td>\n",
       "      <td>14.0</td>\n",
       "      <td>26.1</td>\n",
       "      <td>977170.0</td>\n",
       "      <td>11.0</td>\n",
       "      <td>70.3</td>\n",
       "      <td>2017.0</td>\n",
       "      <td>2017.0</td>\n",
       "      <td>Oceania</td>\n",
       "    </tr>\n",
       "    <tr>\n",
       "      <th>15</th>\n",
       "      <td>14.0</td>\n",
       "      <td>15</td>\n",
       "      <td>Mexico</td>\n",
       "      <td>1142000.0</td>\n",
       "      <td>44538.0</td>\n",
       "      <td>15.0</td>\n",
       "      <td>3.9</td>\n",
       "      <td>360872.0</td>\n",
       "      <td>15.0</td>\n",
       "      <td>31.6</td>\n",
       "      <td>730880.0</td>\n",
       "      <td>15.0</td>\n",
       "      <td>64.0</td>\n",
       "      <td>2017.0</td>\n",
       "      <td>2017.0</td>\n",
       "      <td>America</td>\n",
       "    </tr>\n",
       "    <tr>\n",
       "      <th>16</th>\n",
       "      <td>15.0</td>\n",
       "      <td>16</td>\n",
       "      <td>Indonesia</td>\n",
       "      <td>923300.0</td>\n",
       "      <td>128339.0</td>\n",
       "      <td>5.0</td>\n",
       "      <td>13.9</td>\n",
       "      <td>372090.0</td>\n",
       "      <td>13.0</td>\n",
       "      <td>40.3</td>\n",
       "      <td>423795.0</td>\n",
       "      <td>19.0</td>\n",
       "      <td>45.9</td>\n",
       "      <td>2016.0</td>\n",
       "      <td>2017.0</td>\n",
       "      <td>Asia</td>\n",
       "    </tr>\n",
       "    <tr>\n",
       "      <th>17</th>\n",
       "      <td>16.0</td>\n",
       "      <td>17</td>\n",
       "      <td>Turkey</td>\n",
       "      <td>841200.0</td>\n",
       "      <td>56360.0</td>\n",
       "      <td>10.0</td>\n",
       "      <td>6.7</td>\n",
       "      <td>267502.0</td>\n",
       "      <td>18.0</td>\n",
       "      <td>31.8</td>\n",
       "      <td>516497.0</td>\n",
       "      <td>17.0</td>\n",
       "      <td>61.4</td>\n",
       "      <td>2017.0</td>\n",
       "      <td>2017.0</td>\n",
       "      <td>Asia</td>\n",
       "    </tr>\n",
       "    <tr>\n",
       "      <th>19</th>\n",
       "      <td>18.0</td>\n",
       "      <td>19</td>\n",
       "      <td>Saudi Arabia</td>\n",
       "      <td>683700.0</td>\n",
       "      <td>17776.0</td>\n",
       "      <td>32.0</td>\n",
       "      <td>2.6</td>\n",
       "      <td>302195.0</td>\n",
       "      <td>17.0</td>\n",
       "      <td>44.2</td>\n",
       "      <td>363728.0</td>\n",
       "      <td>22.0</td>\n",
       "      <td>53.2</td>\n",
       "      <td>2017.0</td>\n",
       "      <td>2017.0</td>\n",
       "      <td>Asia</td>\n",
       "    </tr>\n",
       "    <tr>\n",
       "      <th>21</th>\n",
       "      <td>20.0</td>\n",
       "      <td>21</td>\n",
       "      <td>Argentina</td>\n",
       "      <td>619900.0</td>\n",
       "      <td>67569.0</td>\n",
       "      <td>9.0</td>\n",
       "      <td>10.9</td>\n",
       "      <td>174812.0</td>\n",
       "      <td>23.0</td>\n",
       "      <td>28.2</td>\n",
       "      <td>377519.0</td>\n",
       "      <td>21.0</td>\n",
       "      <td>60.9</td>\n",
       "      <td>2017.0</td>\n",
       "      <td>2017.0</td>\n",
       "      <td>America</td>\n",
       "    </tr>\n",
       "    <tr>\n",
       "      <th>33</th>\n",
       "      <td>32.0</td>\n",
       "      <td>33</td>\n",
       "      <td>South Africa</td>\n",
       "      <td>344100.0</td>\n",
       "      <td>9635.0</td>\n",
       "      <td>45.0</td>\n",
       "      <td>2.8</td>\n",
       "      <td>102198.0</td>\n",
       "      <td>33.0</td>\n",
       "      <td>29.7</td>\n",
       "      <td>232268.0</td>\n",
       "      <td>33.0</td>\n",
       "      <td>67.5</td>\n",
       "      <td>2017.0</td>\n",
       "      <td>2017.0</td>\n",
       "      <td>Africa</td>\n",
       "    </tr>\n",
       "  </tbody>\n",
       "</table>\n",
       "</div>"
      ],
      "text/plain": [
       "    Index Number Rank Country/Economy  GDP (millions of $)  Agriculture GDP   \n",
       "1            0.0    1   United States           19360000.0         174240.0  \\\n",
       "2            1.0    2           China           11940000.0         991020.0   \n",
       "3            2.0    3           Japan            4884000.0          48840.0   \n",
       "4            3.0    4         Germany            3652000.0          21912.0   \n",
       "5            4.0    5          France            2575000.0          51500.0   \n",
       "6            5.0    6  United Kingdom            2565000.0          15390.0   \n",
       "7            6.0    7           India            2439000.0         375606.0   \n",
       "8            7.0    8          Brazil            2081000.0         129022.0   \n",
       "9            8.0    9           Italy            1921000.0          40341.0   \n",
       "10           9.0   10          Canada            1640000.0          27880.0   \n",
       "11          10.0   11    Korea, South            1530000.0          33660.0   \n",
       "12          11.0   12          Russia            1469000.0          69043.0   \n",
       "13          12.0   13       Australia            1390000.0          50040.0   \n",
       "15          14.0   15          Mexico            1142000.0          44538.0   \n",
       "16          15.0   16       Indonesia             923300.0         128339.0   \n",
       "17          16.0   17          Turkey             841200.0          56360.0   \n",
       "19          18.0   19    Saudi Arabia             683700.0          17776.0   \n",
       "21          20.0   21       Argentina             619900.0          67569.0   \n",
       "33          32.0   33    South Africa             344100.0           9635.0   \n",
       "\n",
       "    Agriculture Rank  Agriculture % of GDP  Industry GDP  Industry Rank   \n",
       "1                3.0                   0.9     3659040.0            2.0  \\\n",
       "2                1.0                   8.3     4716300.0            1.0   \n",
       "3               13.0                   1.0     1450548.0            3.0   \n",
       "4               31.0                   0.6     1099252.0            4.0   \n",
       "5               11.0                   2.0      517575.0            7.0   \n",
       "6               36.0                   0.6      487350.0            8.0   \n",
       "7                2.0                  15.4      560970.0            6.0   \n",
       "8                4.0                   6.2      437010.0           12.0   \n",
       "9               17.0                   2.1      461040.0           10.0   \n",
       "10              25.0                   1.7      460840.0           11.0   \n",
       "11              22.0                   2.2      601290.0            5.0   \n",
       "12               7.0                   4.7      475956.0            9.0   \n",
       "13              12.0                   3.6      362790.0           14.0   \n",
       "15              15.0                   3.9      360872.0           15.0   \n",
       "16               5.0                  13.9      372090.0           13.0   \n",
       "17              10.0                   6.7      267502.0           18.0   \n",
       "19              32.0                   2.6      302195.0           17.0   \n",
       "21               9.0                  10.9      174812.0           23.0   \n",
       "33              45.0                   2.8      102198.0           33.0   \n",
       "\n",
       "    Industry % of GDP  Services GDP  Services Rank  Services % of GDP   \n",
       "1                18.9    15526720.0            1.0               80.2  \\\n",
       "2                39.5     6232680.0            2.0               52.2   \n",
       "3                29.7     3384612.0            3.0               69.3   \n",
       "4                30.1     2530836.0            4.0               69.3   \n",
       "5                20.1     2005925.0            6.0               77.9   \n",
       "6                19.0     2062260.0            5.0               80.4   \n",
       "7                23.0     1499985.0            8.0               61.5   \n",
       "8                21.0     1514968.0            7.0               72.8   \n",
       "9                24.0     1419619.0            9.0               73.9   \n",
       "10               28.1     1151280.0           10.0               70.2   \n",
       "11               39.3      891990.0           14.0               58.3   \n",
       "12               32.4      915187.0           13.0               62.3   \n",
       "13               26.1      977170.0           11.0               70.3   \n",
       "15               31.6      730880.0           15.0               64.0   \n",
       "16               40.3      423795.0           19.0               45.9   \n",
       "17               31.8      516497.0           17.0               61.4   \n",
       "19               44.2      363728.0           22.0               53.2   \n",
       "21               28.2      377519.0           21.0               60.9   \n",
       "33               29.7      232268.0           33.0               67.5   \n",
       "\n",
       "   Year GDP Year Sector Continent  \n",
       "1    2017.0      2017.0   America  \n",
       "2    2017.0      2017.0      Asia  \n",
       "3    2017.0      2017.0      Asia  \n",
       "4    2016.0      2017.0    Europe  \n",
       "5    2017.0      2017.0    Europe  \n",
       "6    2017.0      2017.0    Europe  \n",
       "7    2017.0      2016.0      Asia  \n",
       "8    2017.0      2017.0   America  \n",
       "9    2017.0      2017.0    Europe  \n",
       "10   2017.0      2017.0   America  \n",
       "11   2017.0      2017.0      Asia  \n",
       "12   2017.0      2017.0    Europe  \n",
       "13   2017.0      2017.0   Oceania  \n",
       "15   2017.0      2017.0   America  \n",
       "16   2016.0      2017.0      Asia  \n",
       "17   2017.0      2017.0      Asia  \n",
       "19   2017.0      2017.0      Asia  \n",
       "21   2017.0      2017.0   America  \n",
       "33   2017.0      2017.0    Africa  "
      ]
     },
     "execution_count": 29,
     "metadata": {},
     "output_type": "execute_result"
    }
   ],
   "source": [
    "g20_countries = [\n",
    "    \"Argentina\", \"Australia\", \"Brazil\", \"Canada\", \"China\", \"France\", \"Germany\", \"India\", \"Indonesia\", \"Italy\",\n",
    "    \"Japan\", \"Mexico\", \"Russia\", \"Saudi Arabia\", \"South Africa\", \"Korea, South\", \"Turkey\", \"United Kingdom\",\n",
    "    \"United States\"\n",
    "]\n",
    "\n",
    "g20_data = data[data[\"Country/Economy\"].isin(g20_countries)]\n",
    "\n",
    "g20_data.head(35)"
   ]
  },
  {
   "cell_type": "code",
   "execution_count": 27,
   "metadata": {},
   "outputs": [
    {
     "data": {
      "application/vnd.plotly.v1+json": {
       "config": {
        "plotlyServerURL": "https://plot.ly"
       },
       "data": [
        {
         "alignmentgroup": "True",
         "hovertemplate": "Country/Economy=%{x}<br>GDP (millions of $)=%{y}<extra></extra>",
         "legendgroup": "",
         "marker": {
          "color": "#636efa",
          "pattern": {
           "shape": ""
          }
         },
         "name": "",
         "offsetgroup": "",
         "orientation": "v",
         "showlegend": false,
         "textposition": "auto",
         "type": "bar",
         "x": [
          "United States",
          "China",
          "Japan",
          "Germany",
          "France",
          "United Kingdom",
          "India",
          "Brazil",
          "Italy",
          "Canada",
          "Korea, South",
          "Russia",
          "Australia",
          "Mexico",
          "Indonesia",
          "Turkey",
          "Saudi Arabia",
          "Argentina",
          "South Africa"
         ],
         "xaxis": "x",
         "y": [
          19360000,
          11940000,
          4884000,
          3652000,
          2575000,
          2565000,
          2439000,
          2081000,
          1921000,
          1640000,
          1530000,
          1469000,
          1390000,
          1142000,
          923300,
          841200,
          683700,
          619900,
          344100
         ],
         "yaxis": "y"
        }
       ],
       "layout": {
        "barmode": "relative",
        "legend": {
         "tracegroupgap": 0
        },
        "template": {
         "data": {
          "bar": [
           {
            "error_x": {
             "color": "#2a3f5f"
            },
            "error_y": {
             "color": "#2a3f5f"
            },
            "marker": {
             "line": {
              "color": "#E5ECF6",
              "width": 0.5
             },
             "pattern": {
              "fillmode": "overlay",
              "size": 10,
              "solidity": 0.2
             }
            },
            "type": "bar"
           }
          ],
          "barpolar": [
           {
            "marker": {
             "line": {
              "color": "#E5ECF6",
              "width": 0.5
             },
             "pattern": {
              "fillmode": "overlay",
              "size": 10,
              "solidity": 0.2
             }
            },
            "type": "barpolar"
           }
          ],
          "carpet": [
           {
            "aaxis": {
             "endlinecolor": "#2a3f5f",
             "gridcolor": "white",
             "linecolor": "white",
             "minorgridcolor": "white",
             "startlinecolor": "#2a3f5f"
            },
            "baxis": {
             "endlinecolor": "#2a3f5f",
             "gridcolor": "white",
             "linecolor": "white",
             "minorgridcolor": "white",
             "startlinecolor": "#2a3f5f"
            },
            "type": "carpet"
           }
          ],
          "choropleth": [
           {
            "colorbar": {
             "outlinewidth": 0,
             "ticks": ""
            },
            "type": "choropleth"
           }
          ],
          "contour": [
           {
            "colorbar": {
             "outlinewidth": 0,
             "ticks": ""
            },
            "colorscale": [
             [
              0,
              "#0d0887"
             ],
             [
              0.1111111111111111,
              "#46039f"
             ],
             [
              0.2222222222222222,
              "#7201a8"
             ],
             [
              0.3333333333333333,
              "#9c179e"
             ],
             [
              0.4444444444444444,
              "#bd3786"
             ],
             [
              0.5555555555555556,
              "#d8576b"
             ],
             [
              0.6666666666666666,
              "#ed7953"
             ],
             [
              0.7777777777777778,
              "#fb9f3a"
             ],
             [
              0.8888888888888888,
              "#fdca26"
             ],
             [
              1,
              "#f0f921"
             ]
            ],
            "type": "contour"
           }
          ],
          "contourcarpet": [
           {
            "colorbar": {
             "outlinewidth": 0,
             "ticks": ""
            },
            "type": "contourcarpet"
           }
          ],
          "heatmap": [
           {
            "colorbar": {
             "outlinewidth": 0,
             "ticks": ""
            },
            "colorscale": [
             [
              0,
              "#0d0887"
             ],
             [
              0.1111111111111111,
              "#46039f"
             ],
             [
              0.2222222222222222,
              "#7201a8"
             ],
             [
              0.3333333333333333,
              "#9c179e"
             ],
             [
              0.4444444444444444,
              "#bd3786"
             ],
             [
              0.5555555555555556,
              "#d8576b"
             ],
             [
              0.6666666666666666,
              "#ed7953"
             ],
             [
              0.7777777777777778,
              "#fb9f3a"
             ],
             [
              0.8888888888888888,
              "#fdca26"
             ],
             [
              1,
              "#f0f921"
             ]
            ],
            "type": "heatmap"
           }
          ],
          "heatmapgl": [
           {
            "colorbar": {
             "outlinewidth": 0,
             "ticks": ""
            },
            "colorscale": [
             [
              0,
              "#0d0887"
             ],
             [
              0.1111111111111111,
              "#46039f"
             ],
             [
              0.2222222222222222,
              "#7201a8"
             ],
             [
              0.3333333333333333,
              "#9c179e"
             ],
             [
              0.4444444444444444,
              "#bd3786"
             ],
             [
              0.5555555555555556,
              "#d8576b"
             ],
             [
              0.6666666666666666,
              "#ed7953"
             ],
             [
              0.7777777777777778,
              "#fb9f3a"
             ],
             [
              0.8888888888888888,
              "#fdca26"
             ],
             [
              1,
              "#f0f921"
             ]
            ],
            "type": "heatmapgl"
           }
          ],
          "histogram": [
           {
            "marker": {
             "pattern": {
              "fillmode": "overlay",
              "size": 10,
              "solidity": 0.2
             }
            },
            "type": "histogram"
           }
          ],
          "histogram2d": [
           {
            "colorbar": {
             "outlinewidth": 0,
             "ticks": ""
            },
            "colorscale": [
             [
              0,
              "#0d0887"
             ],
             [
              0.1111111111111111,
              "#46039f"
             ],
             [
              0.2222222222222222,
              "#7201a8"
             ],
             [
              0.3333333333333333,
              "#9c179e"
             ],
             [
              0.4444444444444444,
              "#bd3786"
             ],
             [
              0.5555555555555556,
              "#d8576b"
             ],
             [
              0.6666666666666666,
              "#ed7953"
             ],
             [
              0.7777777777777778,
              "#fb9f3a"
             ],
             [
              0.8888888888888888,
              "#fdca26"
             ],
             [
              1,
              "#f0f921"
             ]
            ],
            "type": "histogram2d"
           }
          ],
          "histogram2dcontour": [
           {
            "colorbar": {
             "outlinewidth": 0,
             "ticks": ""
            },
            "colorscale": [
             [
              0,
              "#0d0887"
             ],
             [
              0.1111111111111111,
              "#46039f"
             ],
             [
              0.2222222222222222,
              "#7201a8"
             ],
             [
              0.3333333333333333,
              "#9c179e"
             ],
             [
              0.4444444444444444,
              "#bd3786"
             ],
             [
              0.5555555555555556,
              "#d8576b"
             ],
             [
              0.6666666666666666,
              "#ed7953"
             ],
             [
              0.7777777777777778,
              "#fb9f3a"
             ],
             [
              0.8888888888888888,
              "#fdca26"
             ],
             [
              1,
              "#f0f921"
             ]
            ],
            "type": "histogram2dcontour"
           }
          ],
          "mesh3d": [
           {
            "colorbar": {
             "outlinewidth": 0,
             "ticks": ""
            },
            "type": "mesh3d"
           }
          ],
          "parcoords": [
           {
            "line": {
             "colorbar": {
              "outlinewidth": 0,
              "ticks": ""
             }
            },
            "type": "parcoords"
           }
          ],
          "pie": [
           {
            "automargin": true,
            "type": "pie"
           }
          ],
          "scatter": [
           {
            "fillpattern": {
             "fillmode": "overlay",
             "size": 10,
             "solidity": 0.2
            },
            "type": "scatter"
           }
          ],
          "scatter3d": [
           {
            "line": {
             "colorbar": {
              "outlinewidth": 0,
              "ticks": ""
             }
            },
            "marker": {
             "colorbar": {
              "outlinewidth": 0,
              "ticks": ""
             }
            },
            "type": "scatter3d"
           }
          ],
          "scattercarpet": [
           {
            "marker": {
             "colorbar": {
              "outlinewidth": 0,
              "ticks": ""
             }
            },
            "type": "scattercarpet"
           }
          ],
          "scattergeo": [
           {
            "marker": {
             "colorbar": {
              "outlinewidth": 0,
              "ticks": ""
             }
            },
            "type": "scattergeo"
           }
          ],
          "scattergl": [
           {
            "marker": {
             "colorbar": {
              "outlinewidth": 0,
              "ticks": ""
             }
            },
            "type": "scattergl"
           }
          ],
          "scattermapbox": [
           {
            "marker": {
             "colorbar": {
              "outlinewidth": 0,
              "ticks": ""
             }
            },
            "type": "scattermapbox"
           }
          ],
          "scatterpolar": [
           {
            "marker": {
             "colorbar": {
              "outlinewidth": 0,
              "ticks": ""
             }
            },
            "type": "scatterpolar"
           }
          ],
          "scatterpolargl": [
           {
            "marker": {
             "colorbar": {
              "outlinewidth": 0,
              "ticks": ""
             }
            },
            "type": "scatterpolargl"
           }
          ],
          "scatterternary": [
           {
            "marker": {
             "colorbar": {
              "outlinewidth": 0,
              "ticks": ""
             }
            },
            "type": "scatterternary"
           }
          ],
          "surface": [
           {
            "colorbar": {
             "outlinewidth": 0,
             "ticks": ""
            },
            "colorscale": [
             [
              0,
              "#0d0887"
             ],
             [
              0.1111111111111111,
              "#46039f"
             ],
             [
              0.2222222222222222,
              "#7201a8"
             ],
             [
              0.3333333333333333,
              "#9c179e"
             ],
             [
              0.4444444444444444,
              "#bd3786"
             ],
             [
              0.5555555555555556,
              "#d8576b"
             ],
             [
              0.6666666666666666,
              "#ed7953"
             ],
             [
              0.7777777777777778,
              "#fb9f3a"
             ],
             [
              0.8888888888888888,
              "#fdca26"
             ],
             [
              1,
              "#f0f921"
             ]
            ],
            "type": "surface"
           }
          ],
          "table": [
           {
            "cells": {
             "fill": {
              "color": "#EBF0F8"
             },
             "line": {
              "color": "white"
             }
            },
            "header": {
             "fill": {
              "color": "#C8D4E3"
             },
             "line": {
              "color": "white"
             }
            },
            "type": "table"
           }
          ]
         },
         "layout": {
          "annotationdefaults": {
           "arrowcolor": "#2a3f5f",
           "arrowhead": 0,
           "arrowwidth": 1
          },
          "autotypenumbers": "strict",
          "coloraxis": {
           "colorbar": {
            "outlinewidth": 0,
            "ticks": ""
           }
          },
          "colorscale": {
           "diverging": [
            [
             0,
             "#8e0152"
            ],
            [
             0.1,
             "#c51b7d"
            ],
            [
             0.2,
             "#de77ae"
            ],
            [
             0.3,
             "#f1b6da"
            ],
            [
             0.4,
             "#fde0ef"
            ],
            [
             0.5,
             "#f7f7f7"
            ],
            [
             0.6,
             "#e6f5d0"
            ],
            [
             0.7,
             "#b8e186"
            ],
            [
             0.8,
             "#7fbc41"
            ],
            [
             0.9,
             "#4d9221"
            ],
            [
             1,
             "#276419"
            ]
           ],
           "sequential": [
            [
             0,
             "#0d0887"
            ],
            [
             0.1111111111111111,
             "#46039f"
            ],
            [
             0.2222222222222222,
             "#7201a8"
            ],
            [
             0.3333333333333333,
             "#9c179e"
            ],
            [
             0.4444444444444444,
             "#bd3786"
            ],
            [
             0.5555555555555556,
             "#d8576b"
            ],
            [
             0.6666666666666666,
             "#ed7953"
            ],
            [
             0.7777777777777778,
             "#fb9f3a"
            ],
            [
             0.8888888888888888,
             "#fdca26"
            ],
            [
             1,
             "#f0f921"
            ]
           ],
           "sequentialminus": [
            [
             0,
             "#0d0887"
            ],
            [
             0.1111111111111111,
             "#46039f"
            ],
            [
             0.2222222222222222,
             "#7201a8"
            ],
            [
             0.3333333333333333,
             "#9c179e"
            ],
            [
             0.4444444444444444,
             "#bd3786"
            ],
            [
             0.5555555555555556,
             "#d8576b"
            ],
            [
             0.6666666666666666,
             "#ed7953"
            ],
            [
             0.7777777777777778,
             "#fb9f3a"
            ],
            [
             0.8888888888888888,
             "#fdca26"
            ],
            [
             1,
             "#f0f921"
            ]
           ]
          },
          "colorway": [
           "#636efa",
           "#EF553B",
           "#00cc96",
           "#ab63fa",
           "#FFA15A",
           "#19d3f3",
           "#FF6692",
           "#B6E880",
           "#FF97FF",
           "#FECB52"
          ],
          "font": {
           "color": "#2a3f5f"
          },
          "geo": {
           "bgcolor": "white",
           "lakecolor": "white",
           "landcolor": "#E5ECF6",
           "showlakes": true,
           "showland": true,
           "subunitcolor": "white"
          },
          "hoverlabel": {
           "align": "left"
          },
          "hovermode": "closest",
          "mapbox": {
           "style": "light"
          },
          "paper_bgcolor": "white",
          "plot_bgcolor": "#E5ECF6",
          "polar": {
           "angularaxis": {
            "gridcolor": "white",
            "linecolor": "white",
            "ticks": ""
           },
           "bgcolor": "#E5ECF6",
           "radialaxis": {
            "gridcolor": "white",
            "linecolor": "white",
            "ticks": ""
           }
          },
          "scene": {
           "xaxis": {
            "backgroundcolor": "#E5ECF6",
            "gridcolor": "white",
            "gridwidth": 2,
            "linecolor": "white",
            "showbackground": true,
            "ticks": "",
            "zerolinecolor": "white"
           },
           "yaxis": {
            "backgroundcolor": "#E5ECF6",
            "gridcolor": "white",
            "gridwidth": 2,
            "linecolor": "white",
            "showbackground": true,
            "ticks": "",
            "zerolinecolor": "white"
           },
           "zaxis": {
            "backgroundcolor": "#E5ECF6",
            "gridcolor": "white",
            "gridwidth": 2,
            "linecolor": "white",
            "showbackground": true,
            "ticks": "",
            "zerolinecolor": "white"
           }
          },
          "shapedefaults": {
           "line": {
            "color": "#2a3f5f"
           }
          },
          "ternary": {
           "aaxis": {
            "gridcolor": "white",
            "linecolor": "white",
            "ticks": ""
           },
           "baxis": {
            "gridcolor": "white",
            "linecolor": "white",
            "ticks": ""
           },
           "bgcolor": "#E5ECF6",
           "caxis": {
            "gridcolor": "white",
            "linecolor": "white",
            "ticks": ""
           }
          },
          "title": {
           "x": 0.05
          },
          "xaxis": {
           "automargin": true,
           "gridcolor": "white",
           "linecolor": "white",
           "ticks": "",
           "title": {
            "standoff": 15
           },
           "zerolinecolor": "white",
           "zerolinewidth": 2
          },
          "yaxis": {
           "automargin": true,
           "gridcolor": "white",
           "linecolor": "white",
           "ticks": "",
           "title": {
            "standoff": 15
           },
           "zerolinecolor": "white",
           "zerolinewidth": 2
          }
         }
        },
        "title": {
         "text": "G20 Countries' GDP (millions of $)"
        },
        "xaxis": {
         "anchor": "y",
         "domain": [
          0,
          1
         ],
         "title": {
          "text": "Country/Economy"
         }
        },
        "yaxis": {
         "anchor": "x",
         "domain": [
          0,
          1
         ],
         "title": {
          "text": "GDP (millions of $)"
         }
        }
       }
      }
     },
     "metadata": {},
     "output_type": "display_data"
    },
    {
     "data": {
      "application/vnd.plotly.v1+json": {
       "config": {
        "plotlyServerURL": "https://plot.ly"
       },
       "data": [
        {
         "alignmentgroup": "True",
         "hovertemplate": "Sector=Agriculture GDP<br>Country/Economy=%{x}<br>GDP=%{y}<extra></extra>",
         "legendgroup": "Agriculture GDP",
         "marker": {
          "color": "#636efa",
          "pattern": {
           "shape": ""
          }
         },
         "name": "Agriculture GDP",
         "offsetgroup": "Agriculture GDP",
         "orientation": "v",
         "showlegend": true,
         "textposition": "auto",
         "type": "bar",
         "x": [
          "United States",
          "China",
          "Japan",
          "Germany",
          "France",
          "United Kingdom",
          "India",
          "Brazil",
          "Italy",
          "Canada",
          "Korea, South",
          "Russia",
          "Australia",
          "Mexico",
          "Indonesia",
          "Turkey",
          "Saudi Arabia",
          "Argentina",
          "South Africa"
         ],
         "xaxis": "x",
         "y": [
          174240,
          991020,
          48840,
          21912,
          51500,
          15390,
          375606,
          129022,
          40341,
          27880,
          33660,
          69043,
          50040,
          44538,
          128339,
          56360,
          17776,
          67569,
          9635
         ],
         "yaxis": "y"
        },
        {
         "alignmentgroup": "True",
         "hovertemplate": "Sector=Industry GDP<br>Country/Economy=%{x}<br>GDP=%{y}<extra></extra>",
         "legendgroup": "Industry GDP",
         "marker": {
          "color": "#EF553B",
          "pattern": {
           "shape": ""
          }
         },
         "name": "Industry GDP",
         "offsetgroup": "Industry GDP",
         "orientation": "v",
         "showlegend": true,
         "textposition": "auto",
         "type": "bar",
         "x": [
          "United States",
          "China",
          "Japan",
          "Germany",
          "France",
          "United Kingdom",
          "India",
          "Brazil",
          "Italy",
          "Canada",
          "Korea, South",
          "Russia",
          "Australia",
          "Mexico",
          "Indonesia",
          "Turkey",
          "Saudi Arabia",
          "Argentina",
          "South Africa"
         ],
         "xaxis": "x",
         "y": [
          3659040,
          4716300,
          1450548,
          1099252,
          517575,
          487350,
          560970,
          437010,
          461040,
          460840,
          601290,
          475956,
          362790,
          360872,
          372090,
          267502,
          302195,
          174812,
          102198
         ],
         "yaxis": "y"
        },
        {
         "alignmentgroup": "True",
         "hovertemplate": "Sector=Services GDP<br>Country/Economy=%{x}<br>GDP=%{y}<extra></extra>",
         "legendgroup": "Services GDP",
         "marker": {
          "color": "#00cc96",
          "pattern": {
           "shape": ""
          }
         },
         "name": "Services GDP",
         "offsetgroup": "Services GDP",
         "orientation": "v",
         "showlegend": true,
         "textposition": "auto",
         "type": "bar",
         "x": [
          "United States",
          "China",
          "Japan",
          "Germany",
          "France",
          "United Kingdom",
          "India",
          "Brazil",
          "Italy",
          "Canada",
          "Korea, South",
          "Russia",
          "Australia",
          "Mexico",
          "Indonesia",
          "Turkey",
          "Saudi Arabia",
          "Argentina",
          "South Africa"
         ],
         "xaxis": "x",
         "y": [
          15526720,
          6232680,
          3384612,
          2530836,
          2005925,
          2062260,
          1499985,
          1514968,
          1419619,
          1151280,
          891990,
          915187,
          977170,
          730880,
          423795,
          516497,
          363728,
          377519,
          232268
         ],
         "yaxis": "y"
        }
       ],
       "layout": {
        "barmode": "relative",
        "legend": {
         "title": {
          "text": "Sector"
         },
         "tracegroupgap": 0
        },
        "template": {
         "data": {
          "bar": [
           {
            "error_x": {
             "color": "#2a3f5f"
            },
            "error_y": {
             "color": "#2a3f5f"
            },
            "marker": {
             "line": {
              "color": "#E5ECF6",
              "width": 0.5
             },
             "pattern": {
              "fillmode": "overlay",
              "size": 10,
              "solidity": 0.2
             }
            },
            "type": "bar"
           }
          ],
          "barpolar": [
           {
            "marker": {
             "line": {
              "color": "#E5ECF6",
              "width": 0.5
             },
             "pattern": {
              "fillmode": "overlay",
              "size": 10,
              "solidity": 0.2
             }
            },
            "type": "barpolar"
           }
          ],
          "carpet": [
           {
            "aaxis": {
             "endlinecolor": "#2a3f5f",
             "gridcolor": "white",
             "linecolor": "white",
             "minorgridcolor": "white",
             "startlinecolor": "#2a3f5f"
            },
            "baxis": {
             "endlinecolor": "#2a3f5f",
             "gridcolor": "white",
             "linecolor": "white",
             "minorgridcolor": "white",
             "startlinecolor": "#2a3f5f"
            },
            "type": "carpet"
           }
          ],
          "choropleth": [
           {
            "colorbar": {
             "outlinewidth": 0,
             "ticks": ""
            },
            "type": "choropleth"
           }
          ],
          "contour": [
           {
            "colorbar": {
             "outlinewidth": 0,
             "ticks": ""
            },
            "colorscale": [
             [
              0,
              "#0d0887"
             ],
             [
              0.1111111111111111,
              "#46039f"
             ],
             [
              0.2222222222222222,
              "#7201a8"
             ],
             [
              0.3333333333333333,
              "#9c179e"
             ],
             [
              0.4444444444444444,
              "#bd3786"
             ],
             [
              0.5555555555555556,
              "#d8576b"
             ],
             [
              0.6666666666666666,
              "#ed7953"
             ],
             [
              0.7777777777777778,
              "#fb9f3a"
             ],
             [
              0.8888888888888888,
              "#fdca26"
             ],
             [
              1,
              "#f0f921"
             ]
            ],
            "type": "contour"
           }
          ],
          "contourcarpet": [
           {
            "colorbar": {
             "outlinewidth": 0,
             "ticks": ""
            },
            "type": "contourcarpet"
           }
          ],
          "heatmap": [
           {
            "colorbar": {
             "outlinewidth": 0,
             "ticks": ""
            },
            "colorscale": [
             [
              0,
              "#0d0887"
             ],
             [
              0.1111111111111111,
              "#46039f"
             ],
             [
              0.2222222222222222,
              "#7201a8"
             ],
             [
              0.3333333333333333,
              "#9c179e"
             ],
             [
              0.4444444444444444,
              "#bd3786"
             ],
             [
              0.5555555555555556,
              "#d8576b"
             ],
             [
              0.6666666666666666,
              "#ed7953"
             ],
             [
              0.7777777777777778,
              "#fb9f3a"
             ],
             [
              0.8888888888888888,
              "#fdca26"
             ],
             [
              1,
              "#f0f921"
             ]
            ],
            "type": "heatmap"
           }
          ],
          "heatmapgl": [
           {
            "colorbar": {
             "outlinewidth": 0,
             "ticks": ""
            },
            "colorscale": [
             [
              0,
              "#0d0887"
             ],
             [
              0.1111111111111111,
              "#46039f"
             ],
             [
              0.2222222222222222,
              "#7201a8"
             ],
             [
              0.3333333333333333,
              "#9c179e"
             ],
             [
              0.4444444444444444,
              "#bd3786"
             ],
             [
              0.5555555555555556,
              "#d8576b"
             ],
             [
              0.6666666666666666,
              "#ed7953"
             ],
             [
              0.7777777777777778,
              "#fb9f3a"
             ],
             [
              0.8888888888888888,
              "#fdca26"
             ],
             [
              1,
              "#f0f921"
             ]
            ],
            "type": "heatmapgl"
           }
          ],
          "histogram": [
           {
            "marker": {
             "pattern": {
              "fillmode": "overlay",
              "size": 10,
              "solidity": 0.2
             }
            },
            "type": "histogram"
           }
          ],
          "histogram2d": [
           {
            "colorbar": {
             "outlinewidth": 0,
             "ticks": ""
            },
            "colorscale": [
             [
              0,
              "#0d0887"
             ],
             [
              0.1111111111111111,
              "#46039f"
             ],
             [
              0.2222222222222222,
              "#7201a8"
             ],
             [
              0.3333333333333333,
              "#9c179e"
             ],
             [
              0.4444444444444444,
              "#bd3786"
             ],
             [
              0.5555555555555556,
              "#d8576b"
             ],
             [
              0.6666666666666666,
              "#ed7953"
             ],
             [
              0.7777777777777778,
              "#fb9f3a"
             ],
             [
              0.8888888888888888,
              "#fdca26"
             ],
             [
              1,
              "#f0f921"
             ]
            ],
            "type": "histogram2d"
           }
          ],
          "histogram2dcontour": [
           {
            "colorbar": {
             "outlinewidth": 0,
             "ticks": ""
            },
            "colorscale": [
             [
              0,
              "#0d0887"
             ],
             [
              0.1111111111111111,
              "#46039f"
             ],
             [
              0.2222222222222222,
              "#7201a8"
             ],
             [
              0.3333333333333333,
              "#9c179e"
             ],
             [
              0.4444444444444444,
              "#bd3786"
             ],
             [
              0.5555555555555556,
              "#d8576b"
             ],
             [
              0.6666666666666666,
              "#ed7953"
             ],
             [
              0.7777777777777778,
              "#fb9f3a"
             ],
             [
              0.8888888888888888,
              "#fdca26"
             ],
             [
              1,
              "#f0f921"
             ]
            ],
            "type": "histogram2dcontour"
           }
          ],
          "mesh3d": [
           {
            "colorbar": {
             "outlinewidth": 0,
             "ticks": ""
            },
            "type": "mesh3d"
           }
          ],
          "parcoords": [
           {
            "line": {
             "colorbar": {
              "outlinewidth": 0,
              "ticks": ""
             }
            },
            "type": "parcoords"
           }
          ],
          "pie": [
           {
            "automargin": true,
            "type": "pie"
           }
          ],
          "scatter": [
           {
            "fillpattern": {
             "fillmode": "overlay",
             "size": 10,
             "solidity": 0.2
            },
            "type": "scatter"
           }
          ],
          "scatter3d": [
           {
            "line": {
             "colorbar": {
              "outlinewidth": 0,
              "ticks": ""
             }
            },
            "marker": {
             "colorbar": {
              "outlinewidth": 0,
              "ticks": ""
             }
            },
            "type": "scatter3d"
           }
          ],
          "scattercarpet": [
           {
            "marker": {
             "colorbar": {
              "outlinewidth": 0,
              "ticks": ""
             }
            },
            "type": "scattercarpet"
           }
          ],
          "scattergeo": [
           {
            "marker": {
             "colorbar": {
              "outlinewidth": 0,
              "ticks": ""
             }
            },
            "type": "scattergeo"
           }
          ],
          "scattergl": [
           {
            "marker": {
             "colorbar": {
              "outlinewidth": 0,
              "ticks": ""
             }
            },
            "type": "scattergl"
           }
          ],
          "scattermapbox": [
           {
            "marker": {
             "colorbar": {
              "outlinewidth": 0,
              "ticks": ""
             }
            },
            "type": "scattermapbox"
           }
          ],
          "scatterpolar": [
           {
            "marker": {
             "colorbar": {
              "outlinewidth": 0,
              "ticks": ""
             }
            },
            "type": "scatterpolar"
           }
          ],
          "scatterpolargl": [
           {
            "marker": {
             "colorbar": {
              "outlinewidth": 0,
              "ticks": ""
             }
            },
            "type": "scatterpolargl"
           }
          ],
          "scatterternary": [
           {
            "marker": {
             "colorbar": {
              "outlinewidth": 0,
              "ticks": ""
             }
            },
            "type": "scatterternary"
           }
          ],
          "surface": [
           {
            "colorbar": {
             "outlinewidth": 0,
             "ticks": ""
            },
            "colorscale": [
             [
              0,
              "#0d0887"
             ],
             [
              0.1111111111111111,
              "#46039f"
             ],
             [
              0.2222222222222222,
              "#7201a8"
             ],
             [
              0.3333333333333333,
              "#9c179e"
             ],
             [
              0.4444444444444444,
              "#bd3786"
             ],
             [
              0.5555555555555556,
              "#d8576b"
             ],
             [
              0.6666666666666666,
              "#ed7953"
             ],
             [
              0.7777777777777778,
              "#fb9f3a"
             ],
             [
              0.8888888888888888,
              "#fdca26"
             ],
             [
              1,
              "#f0f921"
             ]
            ],
            "type": "surface"
           }
          ],
          "table": [
           {
            "cells": {
             "fill": {
              "color": "#EBF0F8"
             },
             "line": {
              "color": "white"
             }
            },
            "header": {
             "fill": {
              "color": "#C8D4E3"
             },
             "line": {
              "color": "white"
             }
            },
            "type": "table"
           }
          ]
         },
         "layout": {
          "annotationdefaults": {
           "arrowcolor": "#2a3f5f",
           "arrowhead": 0,
           "arrowwidth": 1
          },
          "autotypenumbers": "strict",
          "coloraxis": {
           "colorbar": {
            "outlinewidth": 0,
            "ticks": ""
           }
          },
          "colorscale": {
           "diverging": [
            [
             0,
             "#8e0152"
            ],
            [
             0.1,
             "#c51b7d"
            ],
            [
             0.2,
             "#de77ae"
            ],
            [
             0.3,
             "#f1b6da"
            ],
            [
             0.4,
             "#fde0ef"
            ],
            [
             0.5,
             "#f7f7f7"
            ],
            [
             0.6,
             "#e6f5d0"
            ],
            [
             0.7,
             "#b8e186"
            ],
            [
             0.8,
             "#7fbc41"
            ],
            [
             0.9,
             "#4d9221"
            ],
            [
             1,
             "#276419"
            ]
           ],
           "sequential": [
            [
             0,
             "#0d0887"
            ],
            [
             0.1111111111111111,
             "#46039f"
            ],
            [
             0.2222222222222222,
             "#7201a8"
            ],
            [
             0.3333333333333333,
             "#9c179e"
            ],
            [
             0.4444444444444444,
             "#bd3786"
            ],
            [
             0.5555555555555556,
             "#d8576b"
            ],
            [
             0.6666666666666666,
             "#ed7953"
            ],
            [
             0.7777777777777778,
             "#fb9f3a"
            ],
            [
             0.8888888888888888,
             "#fdca26"
            ],
            [
             1,
             "#f0f921"
            ]
           ],
           "sequentialminus": [
            [
             0,
             "#0d0887"
            ],
            [
             0.1111111111111111,
             "#46039f"
            ],
            [
             0.2222222222222222,
             "#7201a8"
            ],
            [
             0.3333333333333333,
             "#9c179e"
            ],
            [
             0.4444444444444444,
             "#bd3786"
            ],
            [
             0.5555555555555556,
             "#d8576b"
            ],
            [
             0.6666666666666666,
             "#ed7953"
            ],
            [
             0.7777777777777778,
             "#fb9f3a"
            ],
            [
             0.8888888888888888,
             "#fdca26"
            ],
            [
             1,
             "#f0f921"
            ]
           ]
          },
          "colorway": [
           "#636efa",
           "#EF553B",
           "#00cc96",
           "#ab63fa",
           "#FFA15A",
           "#19d3f3",
           "#FF6692",
           "#B6E880",
           "#FF97FF",
           "#FECB52"
          ],
          "font": {
           "color": "#2a3f5f"
          },
          "geo": {
           "bgcolor": "white",
           "lakecolor": "white",
           "landcolor": "#E5ECF6",
           "showlakes": true,
           "showland": true,
           "subunitcolor": "white"
          },
          "hoverlabel": {
           "align": "left"
          },
          "hovermode": "closest",
          "mapbox": {
           "style": "light"
          },
          "paper_bgcolor": "white",
          "plot_bgcolor": "#E5ECF6",
          "polar": {
           "angularaxis": {
            "gridcolor": "white",
            "linecolor": "white",
            "ticks": ""
           },
           "bgcolor": "#E5ECF6",
           "radialaxis": {
            "gridcolor": "white",
            "linecolor": "white",
            "ticks": ""
           }
          },
          "scene": {
           "xaxis": {
            "backgroundcolor": "#E5ECF6",
            "gridcolor": "white",
            "gridwidth": 2,
            "linecolor": "white",
            "showbackground": true,
            "ticks": "",
            "zerolinecolor": "white"
           },
           "yaxis": {
            "backgroundcolor": "#E5ECF6",
            "gridcolor": "white",
            "gridwidth": 2,
            "linecolor": "white",
            "showbackground": true,
            "ticks": "",
            "zerolinecolor": "white"
           },
           "zaxis": {
            "backgroundcolor": "#E5ECF6",
            "gridcolor": "white",
            "gridwidth": 2,
            "linecolor": "white",
            "showbackground": true,
            "ticks": "",
            "zerolinecolor": "white"
           }
          },
          "shapedefaults": {
           "line": {
            "color": "#2a3f5f"
           }
          },
          "ternary": {
           "aaxis": {
            "gridcolor": "white",
            "linecolor": "white",
            "ticks": ""
           },
           "baxis": {
            "gridcolor": "white",
            "linecolor": "white",
            "ticks": ""
           },
           "bgcolor": "#E5ECF6",
           "caxis": {
            "gridcolor": "white",
            "linecolor": "white",
            "ticks": ""
           }
          },
          "title": {
           "x": 0.05
          },
          "xaxis": {
           "automargin": true,
           "gridcolor": "white",
           "linecolor": "white",
           "ticks": "",
           "title": {
            "standoff": 15
           },
           "zerolinecolor": "white",
           "zerolinewidth": 2
          },
          "yaxis": {
           "automargin": true,
           "gridcolor": "white",
           "linecolor": "white",
           "ticks": "",
           "title": {
            "standoff": 15
           },
           "zerolinecolor": "white",
           "zerolinewidth": 2
          }
         }
        },
        "title": {
         "text": "G20 Countries' Sector Compositions"
        },
        "xaxis": {
         "anchor": "y",
         "domain": [
          0,
          1
         ],
         "title": {
          "text": "Country/Economy"
         }
        },
        "yaxis": {
         "anchor": "x",
         "domain": [
          0,
          1
         ],
         "title": {
          "text": "GDP"
         }
        }
       }
      }
     },
     "metadata": {},
     "output_type": "display_data"
    }
   ],
   "source": [
    "gdp_chart = px.bar(g20_data, x=\"Country/Economy\", y=\"GDP (millions of $)\", title=\"G20 Countries' GDP (millions of $)\")\n",
    "gdp_chart.show()\n",
    "\n",
    "# Reshape the data for sector compositions\n",
    "g20_data_melted = g20_data.melt(id_vars=\"Country/Economy\", value_vars=[\"Agriculture GDP\", \"Industry GDP\", \"Services GDP\"], \n",
    "                                var_name=\"Sector\", value_name=\"GDP\")\n",
    "\n",
    "# Create a bar chart for sector compositions\n",
    "sector_chart = px.bar(g20_data_melted, x=\"Country/Economy\", y=\"GDP\", color=\"Sector\",\n",
    "                title=\"G20 Countries' Sector Compositions\")\n",
    "sector_chart.show()"
   ]
  },
  {
   "cell_type": "markdown",
   "metadata": {},
   "source": [
    "Con base en el análisis de las economías del G20 y sus composiciones sectoriales, podemos resumir lo siguiente:\n",
    "\n",
    "En la mayoría de los países del G20, el sector de los servicios es el que más contribuye a sus economías. Estados Unidos lidera en el sector servicios, seguido de China y Japón. Esta tendencia destaca la creciente importancia del sector de servicios en las economías modernas, que puede atribuirse al crecimiento de la tecnología, los servicios financieros, la atención médica y otras industrias orientadas a los servicios.\n",
    "\n",
    "China es el país líder en el G20 tanto en el sector industrial como en el agrícola. En el sector industrial, China es seguida por Estados Unidos, mientras que en agricultura, India ocupa el segundo lugar. El dominio de China en estos sectores se puede atribuir a su gran población, vasta superficie terrestre y rápido desarrollo económico en las últimas décadas. El país ha invertido mucho en la producción industrial y agrícola, lo que lo convierte en una potencia mundial en estos sectores."
   ]
  },
  {
   "cell_type": "markdown",
   "metadata": {},
   "source": [
    "Agrupamos los datos por continente y se calculo la suma del PIB y las composiciones sectoriales"
   ]
  },
  {
   "cell_type": "code",
   "execution_count": 30,
   "metadata": {},
   "outputs": [
    {
     "data": {
      "application/vnd.plotly.v1+json": {
       "config": {
        "plotlyServerURL": "https://plot.ly"
       },
       "data": [
        {
         "alignmentgroup": "True",
         "hovertemplate": "Sector=Agriculture GDP<br>Continent=%{x}<br>GDP=%{y}<extra></extra>",
         "legendgroup": "Agriculture GDP",
         "marker": {
          "color": "#636efa",
          "pattern": {
           "shape": ""
          }
         },
         "name": "Agriculture GDP",
         "offsetgroup": "Agriculture GDP",
         "orientation": "v",
         "showlegend": true,
         "textposition": "auto",
         "type": "bar",
         "x": [
          "Africa",
          "America",
          "Asia",
          "Europe",
          "Oceania",
          "Other"
         ],
         "xaxis": "x",
         "y": [
          384239,
          560599,
          2058915,
          380616,
          64350,
          104
         ],
         "yaxis": "y"
        },
        {
         "alignmentgroup": "True",
         "hovertemplate": "Sector=Industry GDP<br>Continent=%{x}<br>GDP=%{y}<extra></extra>",
         "legendgroup": "Industry GDP",
         "marker": {
          "color": "#EF553B",
          "pattern": {
           "shape": ""
          }
         },
         "name": "Industry GDP",
         "offsetgroup": "Industry GDP",
         "orientation": "v",
         "showlegend": true,
         "textposition": "auto",
         "type": "bar",
         "x": [
          "Africa",
          "America",
          "Asia",
          "Europe",
          "Oceania",
          "Other"
         ],
         "xaxis": "x",
         "y": [
          617689,
          5677441,
          10120004,
          5146458,
          429691,
          1036
         ],
         "yaxis": "y"
        },
        {
         "alignmentgroup": "True",
         "hovertemplate": "Sector=Services GDP<br>Continent=%{x}<br>GDP=%{y}<extra></extra>",
         "legendgroup": "Services GDP",
         "marker": {
          "color": "#00cc96",
          "pattern": {
           "shape": ""
          }
         },
         "name": "Services GDP",
         "offsetgroup": "Services GDP",
         "orientation": "v",
         "showlegend": true,
         "textposition": "auto",
         "type": "bar",
         "x": [
          "Africa",
          "America",
          "Asia",
          "Europe",
          "Oceania",
          "Other"
         ],
         "xaxis": "x",
         "y": [
          1209985,
          20440151,
          16660964,
          14333147,
          1143370,
          4042
         ],
         "yaxis": "y"
        }
       ],
       "layout": {
        "barmode": "relative",
        "legend": {
         "title": {
          "text": "Sector"
         },
         "tracegroupgap": 0
        },
        "template": {
         "data": {
          "bar": [
           {
            "error_x": {
             "color": "#2a3f5f"
            },
            "error_y": {
             "color": "#2a3f5f"
            },
            "marker": {
             "line": {
              "color": "#E5ECF6",
              "width": 0.5
             },
             "pattern": {
              "fillmode": "overlay",
              "size": 10,
              "solidity": 0.2
             }
            },
            "type": "bar"
           }
          ],
          "barpolar": [
           {
            "marker": {
             "line": {
              "color": "#E5ECF6",
              "width": 0.5
             },
             "pattern": {
              "fillmode": "overlay",
              "size": 10,
              "solidity": 0.2
             }
            },
            "type": "barpolar"
           }
          ],
          "carpet": [
           {
            "aaxis": {
             "endlinecolor": "#2a3f5f",
             "gridcolor": "white",
             "linecolor": "white",
             "minorgridcolor": "white",
             "startlinecolor": "#2a3f5f"
            },
            "baxis": {
             "endlinecolor": "#2a3f5f",
             "gridcolor": "white",
             "linecolor": "white",
             "minorgridcolor": "white",
             "startlinecolor": "#2a3f5f"
            },
            "type": "carpet"
           }
          ],
          "choropleth": [
           {
            "colorbar": {
             "outlinewidth": 0,
             "ticks": ""
            },
            "type": "choropleth"
           }
          ],
          "contour": [
           {
            "colorbar": {
             "outlinewidth": 0,
             "ticks": ""
            },
            "colorscale": [
             [
              0,
              "#0d0887"
             ],
             [
              0.1111111111111111,
              "#46039f"
             ],
             [
              0.2222222222222222,
              "#7201a8"
             ],
             [
              0.3333333333333333,
              "#9c179e"
             ],
             [
              0.4444444444444444,
              "#bd3786"
             ],
             [
              0.5555555555555556,
              "#d8576b"
             ],
             [
              0.6666666666666666,
              "#ed7953"
             ],
             [
              0.7777777777777778,
              "#fb9f3a"
             ],
             [
              0.8888888888888888,
              "#fdca26"
             ],
             [
              1,
              "#f0f921"
             ]
            ],
            "type": "contour"
           }
          ],
          "contourcarpet": [
           {
            "colorbar": {
             "outlinewidth": 0,
             "ticks": ""
            },
            "type": "contourcarpet"
           }
          ],
          "heatmap": [
           {
            "colorbar": {
             "outlinewidth": 0,
             "ticks": ""
            },
            "colorscale": [
             [
              0,
              "#0d0887"
             ],
             [
              0.1111111111111111,
              "#46039f"
             ],
             [
              0.2222222222222222,
              "#7201a8"
             ],
             [
              0.3333333333333333,
              "#9c179e"
             ],
             [
              0.4444444444444444,
              "#bd3786"
             ],
             [
              0.5555555555555556,
              "#d8576b"
             ],
             [
              0.6666666666666666,
              "#ed7953"
             ],
             [
              0.7777777777777778,
              "#fb9f3a"
             ],
             [
              0.8888888888888888,
              "#fdca26"
             ],
             [
              1,
              "#f0f921"
             ]
            ],
            "type": "heatmap"
           }
          ],
          "heatmapgl": [
           {
            "colorbar": {
             "outlinewidth": 0,
             "ticks": ""
            },
            "colorscale": [
             [
              0,
              "#0d0887"
             ],
             [
              0.1111111111111111,
              "#46039f"
             ],
             [
              0.2222222222222222,
              "#7201a8"
             ],
             [
              0.3333333333333333,
              "#9c179e"
             ],
             [
              0.4444444444444444,
              "#bd3786"
             ],
             [
              0.5555555555555556,
              "#d8576b"
             ],
             [
              0.6666666666666666,
              "#ed7953"
             ],
             [
              0.7777777777777778,
              "#fb9f3a"
             ],
             [
              0.8888888888888888,
              "#fdca26"
             ],
             [
              1,
              "#f0f921"
             ]
            ],
            "type": "heatmapgl"
           }
          ],
          "histogram": [
           {
            "marker": {
             "pattern": {
              "fillmode": "overlay",
              "size": 10,
              "solidity": 0.2
             }
            },
            "type": "histogram"
           }
          ],
          "histogram2d": [
           {
            "colorbar": {
             "outlinewidth": 0,
             "ticks": ""
            },
            "colorscale": [
             [
              0,
              "#0d0887"
             ],
             [
              0.1111111111111111,
              "#46039f"
             ],
             [
              0.2222222222222222,
              "#7201a8"
             ],
             [
              0.3333333333333333,
              "#9c179e"
             ],
             [
              0.4444444444444444,
              "#bd3786"
             ],
             [
              0.5555555555555556,
              "#d8576b"
             ],
             [
              0.6666666666666666,
              "#ed7953"
             ],
             [
              0.7777777777777778,
              "#fb9f3a"
             ],
             [
              0.8888888888888888,
              "#fdca26"
             ],
             [
              1,
              "#f0f921"
             ]
            ],
            "type": "histogram2d"
           }
          ],
          "histogram2dcontour": [
           {
            "colorbar": {
             "outlinewidth": 0,
             "ticks": ""
            },
            "colorscale": [
             [
              0,
              "#0d0887"
             ],
             [
              0.1111111111111111,
              "#46039f"
             ],
             [
              0.2222222222222222,
              "#7201a8"
             ],
             [
              0.3333333333333333,
              "#9c179e"
             ],
             [
              0.4444444444444444,
              "#bd3786"
             ],
             [
              0.5555555555555556,
              "#d8576b"
             ],
             [
              0.6666666666666666,
              "#ed7953"
             ],
             [
              0.7777777777777778,
              "#fb9f3a"
             ],
             [
              0.8888888888888888,
              "#fdca26"
             ],
             [
              1,
              "#f0f921"
             ]
            ],
            "type": "histogram2dcontour"
           }
          ],
          "mesh3d": [
           {
            "colorbar": {
             "outlinewidth": 0,
             "ticks": ""
            },
            "type": "mesh3d"
           }
          ],
          "parcoords": [
           {
            "line": {
             "colorbar": {
              "outlinewidth": 0,
              "ticks": ""
             }
            },
            "type": "parcoords"
           }
          ],
          "pie": [
           {
            "automargin": true,
            "type": "pie"
           }
          ],
          "scatter": [
           {
            "fillpattern": {
             "fillmode": "overlay",
             "size": 10,
             "solidity": 0.2
            },
            "type": "scatter"
           }
          ],
          "scatter3d": [
           {
            "line": {
             "colorbar": {
              "outlinewidth": 0,
              "ticks": ""
             }
            },
            "marker": {
             "colorbar": {
              "outlinewidth": 0,
              "ticks": ""
             }
            },
            "type": "scatter3d"
           }
          ],
          "scattercarpet": [
           {
            "marker": {
             "colorbar": {
              "outlinewidth": 0,
              "ticks": ""
             }
            },
            "type": "scattercarpet"
           }
          ],
          "scattergeo": [
           {
            "marker": {
             "colorbar": {
              "outlinewidth": 0,
              "ticks": ""
             }
            },
            "type": "scattergeo"
           }
          ],
          "scattergl": [
           {
            "marker": {
             "colorbar": {
              "outlinewidth": 0,
              "ticks": ""
             }
            },
            "type": "scattergl"
           }
          ],
          "scattermapbox": [
           {
            "marker": {
             "colorbar": {
              "outlinewidth": 0,
              "ticks": ""
             }
            },
            "type": "scattermapbox"
           }
          ],
          "scatterpolar": [
           {
            "marker": {
             "colorbar": {
              "outlinewidth": 0,
              "ticks": ""
             }
            },
            "type": "scatterpolar"
           }
          ],
          "scatterpolargl": [
           {
            "marker": {
             "colorbar": {
              "outlinewidth": 0,
              "ticks": ""
             }
            },
            "type": "scatterpolargl"
           }
          ],
          "scatterternary": [
           {
            "marker": {
             "colorbar": {
              "outlinewidth": 0,
              "ticks": ""
             }
            },
            "type": "scatterternary"
           }
          ],
          "surface": [
           {
            "colorbar": {
             "outlinewidth": 0,
             "ticks": ""
            },
            "colorscale": [
             [
              0,
              "#0d0887"
             ],
             [
              0.1111111111111111,
              "#46039f"
             ],
             [
              0.2222222222222222,
              "#7201a8"
             ],
             [
              0.3333333333333333,
              "#9c179e"
             ],
             [
              0.4444444444444444,
              "#bd3786"
             ],
             [
              0.5555555555555556,
              "#d8576b"
             ],
             [
              0.6666666666666666,
              "#ed7953"
             ],
             [
              0.7777777777777778,
              "#fb9f3a"
             ],
             [
              0.8888888888888888,
              "#fdca26"
             ],
             [
              1,
              "#f0f921"
             ]
            ],
            "type": "surface"
           }
          ],
          "table": [
           {
            "cells": {
             "fill": {
              "color": "#EBF0F8"
             },
             "line": {
              "color": "white"
             }
            },
            "header": {
             "fill": {
              "color": "#C8D4E3"
             },
             "line": {
              "color": "white"
             }
            },
            "type": "table"
           }
          ]
         },
         "layout": {
          "annotationdefaults": {
           "arrowcolor": "#2a3f5f",
           "arrowhead": 0,
           "arrowwidth": 1
          },
          "autotypenumbers": "strict",
          "coloraxis": {
           "colorbar": {
            "outlinewidth": 0,
            "ticks": ""
           }
          },
          "colorscale": {
           "diverging": [
            [
             0,
             "#8e0152"
            ],
            [
             0.1,
             "#c51b7d"
            ],
            [
             0.2,
             "#de77ae"
            ],
            [
             0.3,
             "#f1b6da"
            ],
            [
             0.4,
             "#fde0ef"
            ],
            [
             0.5,
             "#f7f7f7"
            ],
            [
             0.6,
             "#e6f5d0"
            ],
            [
             0.7,
             "#b8e186"
            ],
            [
             0.8,
             "#7fbc41"
            ],
            [
             0.9,
             "#4d9221"
            ],
            [
             1,
             "#276419"
            ]
           ],
           "sequential": [
            [
             0,
             "#0d0887"
            ],
            [
             0.1111111111111111,
             "#46039f"
            ],
            [
             0.2222222222222222,
             "#7201a8"
            ],
            [
             0.3333333333333333,
             "#9c179e"
            ],
            [
             0.4444444444444444,
             "#bd3786"
            ],
            [
             0.5555555555555556,
             "#d8576b"
            ],
            [
             0.6666666666666666,
             "#ed7953"
            ],
            [
             0.7777777777777778,
             "#fb9f3a"
            ],
            [
             0.8888888888888888,
             "#fdca26"
            ],
            [
             1,
             "#f0f921"
            ]
           ],
           "sequentialminus": [
            [
             0,
             "#0d0887"
            ],
            [
             0.1111111111111111,
             "#46039f"
            ],
            [
             0.2222222222222222,
             "#7201a8"
            ],
            [
             0.3333333333333333,
             "#9c179e"
            ],
            [
             0.4444444444444444,
             "#bd3786"
            ],
            [
             0.5555555555555556,
             "#d8576b"
            ],
            [
             0.6666666666666666,
             "#ed7953"
            ],
            [
             0.7777777777777778,
             "#fb9f3a"
            ],
            [
             0.8888888888888888,
             "#fdca26"
            ],
            [
             1,
             "#f0f921"
            ]
           ]
          },
          "colorway": [
           "#636efa",
           "#EF553B",
           "#00cc96",
           "#ab63fa",
           "#FFA15A",
           "#19d3f3",
           "#FF6692",
           "#B6E880",
           "#FF97FF",
           "#FECB52"
          ],
          "font": {
           "color": "#2a3f5f"
          },
          "geo": {
           "bgcolor": "white",
           "lakecolor": "white",
           "landcolor": "#E5ECF6",
           "showlakes": true,
           "showland": true,
           "subunitcolor": "white"
          },
          "hoverlabel": {
           "align": "left"
          },
          "hovermode": "closest",
          "mapbox": {
           "style": "light"
          },
          "paper_bgcolor": "white",
          "plot_bgcolor": "#E5ECF6",
          "polar": {
           "angularaxis": {
            "gridcolor": "white",
            "linecolor": "white",
            "ticks": ""
           },
           "bgcolor": "#E5ECF6",
           "radialaxis": {
            "gridcolor": "white",
            "linecolor": "white",
            "ticks": ""
           }
          },
          "scene": {
           "xaxis": {
            "backgroundcolor": "#E5ECF6",
            "gridcolor": "white",
            "gridwidth": 2,
            "linecolor": "white",
            "showbackground": true,
            "ticks": "",
            "zerolinecolor": "white"
           },
           "yaxis": {
            "backgroundcolor": "#E5ECF6",
            "gridcolor": "white",
            "gridwidth": 2,
            "linecolor": "white",
            "showbackground": true,
            "ticks": "",
            "zerolinecolor": "white"
           },
           "zaxis": {
            "backgroundcolor": "#E5ECF6",
            "gridcolor": "white",
            "gridwidth": 2,
            "linecolor": "white",
            "showbackground": true,
            "ticks": "",
            "zerolinecolor": "white"
           }
          },
          "shapedefaults": {
           "line": {
            "color": "#2a3f5f"
           }
          },
          "ternary": {
           "aaxis": {
            "gridcolor": "white",
            "linecolor": "white",
            "ticks": ""
           },
           "baxis": {
            "gridcolor": "white",
            "linecolor": "white",
            "ticks": ""
           },
           "bgcolor": "#E5ECF6",
           "caxis": {
            "gridcolor": "white",
            "linecolor": "white",
            "ticks": ""
           }
          },
          "title": {
           "x": 0.05
          },
          "xaxis": {
           "automargin": true,
           "gridcolor": "white",
           "linecolor": "white",
           "ticks": "",
           "title": {
            "standoff": 15
           },
           "zerolinecolor": "white",
           "zerolinewidth": 2
          },
          "yaxis": {
           "automargin": true,
           "gridcolor": "white",
           "linecolor": "white",
           "ticks": "",
           "title": {
            "standoff": 15
           },
           "zerolinecolor": "white",
           "zerolinewidth": 2
          }
         }
        },
        "title": {
         "text": "Continents' Economy by Sector"
        },
        "xaxis": {
         "anchor": "y",
         "domain": [
          0,
          1
         ],
         "title": {
          "text": "Continent"
         }
        },
        "yaxis": {
         "anchor": "x",
         "domain": [
          0,
          1
         ],
         "title": {
          "text": "GDP"
         }
        }
       }
      }
     },
     "metadata": {},
     "output_type": "display_data"
    }
   ],
   "source": [
    "\n",
    "continent_economy = data.groupby('Continent').agg({\n",
    "    'GDP (millions of $)': 'sum',\n",
    "    'Agriculture GDP': 'sum',\n",
    "    'Industry GDP': 'sum',\n",
    "    'Services GDP': 'sum'\n",
    "}).reset_index()\n",
    "\n",
    "# Reshape the data for sector compositions\n",
    "continent_economy_melted = continent_economy.melt(id_vars='Continent', value_vars=['Agriculture GDP', 'Industry GDP', 'Services GDP'], \n",
    "                            var_name='Sector', value_name='GDP')\n",
    "\n",
    "# Create a bar chart for continent economies\n",
    "continent_chart = px.bar(continent_economy_melted, x='Continent', y='GDP', color='Sector', title=\"Continents' Economy by Sector\")\n",
    "continent_chart.show()"
   ]
  }
 ],
 "metadata": {
  "kernelspec": {
   "display_name": "Python 3",
   "language": "python",
   "name": "python3"
  },
  "language_info": {
   "codemirror_mode": {
    "name": "ipython",
    "version": 3
   },
   "file_extension": ".py",
   "mimetype": "text/x-python",
   "name": "python",
   "nbconvert_exporter": "python",
   "pygments_lexer": "ipython3",
   "version": "3.10.11"
  },
  "orig_nbformat": 4
 },
 "nbformat": 4,
 "nbformat_minor": 2
}
