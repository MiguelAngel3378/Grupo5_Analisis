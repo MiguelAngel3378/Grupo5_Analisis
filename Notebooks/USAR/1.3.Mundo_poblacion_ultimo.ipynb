{
 "cells": [
  {
   "cell_type": "code",
   "execution_count": 1,
   "metadata": {},
   "outputs": [],
   "source": [
    "import numpy as np \n",
    "import pandas as pd \n",
    "import matplotlib.pyplot as plt\n",
    "import seaborn as sns\n",
    "import plotly.graph_objects as go\n",
    "import plotly.express as px\n",
    "from plotly.subplots import make_subplots"
   ]
  },
  {
   "cell_type": "code",
   "execution_count": 2,
   "metadata": {},
   "outputs": [
    {
     "data": {
      "text/html": [
       "<div>\n",
       "<style scoped>\n",
       "    .dataframe tbody tr th:only-of-type {\n",
       "        vertical-align: middle;\n",
       "    }\n",
       "\n",
       "    .dataframe tbody tr th {\n",
       "        vertical-align: top;\n",
       "    }\n",
       "\n",
       "    .dataframe thead th {\n",
       "        text-align: right;\n",
       "    }\n",
       "</style>\n",
       "<table border=\"1\" class=\"dataframe\">\n",
       "  <thead>\n",
       "    <tr style=\"text-align: right;\">\n",
       "      <th></th>\n",
       "      <th>Rank</th>\n",
       "      <th>CCA3</th>\n",
       "      <th>Country/Territory</th>\n",
       "      <th>Capital</th>\n",
       "      <th>Continent</th>\n",
       "      <th>2022 Population</th>\n",
       "      <th>2020 Population</th>\n",
       "      <th>2015 Population</th>\n",
       "      <th>2010 Population</th>\n",
       "      <th>2000 Population</th>\n",
       "      <th>1990 Population</th>\n",
       "      <th>1980 Population</th>\n",
       "      <th>1970 Population</th>\n",
       "      <th>Area (km²)</th>\n",
       "      <th>Density (per km²)</th>\n",
       "      <th>Growth Rate</th>\n",
       "      <th>World Population Percentage</th>\n",
       "    </tr>\n",
       "  </thead>\n",
       "  <tbody>\n",
       "    <tr>\n",
       "      <th>0</th>\n",
       "      <td>36</td>\n",
       "      <td>AFG</td>\n",
       "      <td>Afghanistan</td>\n",
       "      <td>Kabul</td>\n",
       "      <td>Asia</td>\n",
       "      <td>41128771</td>\n",
       "      <td>38972230</td>\n",
       "      <td>33753499</td>\n",
       "      <td>28189672</td>\n",
       "      <td>19542982</td>\n",
       "      <td>10694796</td>\n",
       "      <td>12486631</td>\n",
       "      <td>10752971</td>\n",
       "      <td>652230</td>\n",
       "      <td>63.0587</td>\n",
       "      <td>1.0257</td>\n",
       "      <td>0.52</td>\n",
       "    </tr>\n",
       "    <tr>\n",
       "      <th>1</th>\n",
       "      <td>138</td>\n",
       "      <td>ALB</td>\n",
       "      <td>Albania</td>\n",
       "      <td>Tirana</td>\n",
       "      <td>Europe</td>\n",
       "      <td>2842321</td>\n",
       "      <td>2866849</td>\n",
       "      <td>2882481</td>\n",
       "      <td>2913399</td>\n",
       "      <td>3182021</td>\n",
       "      <td>3295066</td>\n",
       "      <td>2941651</td>\n",
       "      <td>2324731</td>\n",
       "      <td>28748</td>\n",
       "      <td>98.8702</td>\n",
       "      <td>0.9957</td>\n",
       "      <td>0.04</td>\n",
       "    </tr>\n",
       "    <tr>\n",
       "      <th>2</th>\n",
       "      <td>34</td>\n",
       "      <td>DZA</td>\n",
       "      <td>Algeria</td>\n",
       "      <td>Algiers</td>\n",
       "      <td>Africa</td>\n",
       "      <td>44903225</td>\n",
       "      <td>43451666</td>\n",
       "      <td>39543154</td>\n",
       "      <td>35856344</td>\n",
       "      <td>30774621</td>\n",
       "      <td>25518074</td>\n",
       "      <td>18739378</td>\n",
       "      <td>13795915</td>\n",
       "      <td>2381741</td>\n",
       "      <td>18.8531</td>\n",
       "      <td>1.0164</td>\n",
       "      <td>0.56</td>\n",
       "    </tr>\n",
       "    <tr>\n",
       "      <th>3</th>\n",
       "      <td>213</td>\n",
       "      <td>ASM</td>\n",
       "      <td>American Samoa</td>\n",
       "      <td>Pago Pago</td>\n",
       "      <td>Oceania</td>\n",
       "      <td>44273</td>\n",
       "      <td>46189</td>\n",
       "      <td>51368</td>\n",
       "      <td>54849</td>\n",
       "      <td>58230</td>\n",
       "      <td>47818</td>\n",
       "      <td>32886</td>\n",
       "      <td>27075</td>\n",
       "      <td>199</td>\n",
       "      <td>222.4774</td>\n",
       "      <td>0.9831</td>\n",
       "      <td>0.00</td>\n",
       "    </tr>\n",
       "    <tr>\n",
       "      <th>4</th>\n",
       "      <td>203</td>\n",
       "      <td>AND</td>\n",
       "      <td>Andorra</td>\n",
       "      <td>Andorra la Vella</td>\n",
       "      <td>Europe</td>\n",
       "      <td>79824</td>\n",
       "      <td>77700</td>\n",
       "      <td>71746</td>\n",
       "      <td>71519</td>\n",
       "      <td>66097</td>\n",
       "      <td>53569</td>\n",
       "      <td>35611</td>\n",
       "      <td>19860</td>\n",
       "      <td>468</td>\n",
       "      <td>170.5641</td>\n",
       "      <td>1.0100</td>\n",
       "      <td>0.00</td>\n",
       "    </tr>\n",
       "  </tbody>\n",
       "</table>\n",
       "</div>"
      ],
      "text/plain": [
       "   Rank CCA3 Country/Territory           Capital Continent  2022 Population   \n",
       "0    36  AFG       Afghanistan             Kabul      Asia         41128771  \\\n",
       "1   138  ALB           Albania            Tirana    Europe          2842321   \n",
       "2    34  DZA           Algeria           Algiers    Africa         44903225   \n",
       "3   213  ASM    American Samoa         Pago Pago   Oceania            44273   \n",
       "4   203  AND           Andorra  Andorra la Vella    Europe            79824   \n",
       "\n",
       "   2020 Population  2015 Population  2010 Population  2000 Population   \n",
       "0         38972230         33753499         28189672         19542982  \\\n",
       "1          2866849          2882481          2913399          3182021   \n",
       "2         43451666         39543154         35856344         30774621   \n",
       "3            46189            51368            54849            58230   \n",
       "4            77700            71746            71519            66097   \n",
       "\n",
       "   1990 Population  1980 Population  1970 Population  Area (km²)   \n",
       "0         10694796         12486631         10752971      652230  \\\n",
       "1          3295066          2941651          2324731       28748   \n",
       "2         25518074         18739378         13795915     2381741   \n",
       "3            47818            32886            27075         199   \n",
       "4            53569            35611            19860         468   \n",
       "\n",
       "   Density (per km²)  Growth Rate  World Population Percentage  \n",
       "0            63.0587       1.0257                         0.52  \n",
       "1            98.8702       0.9957                         0.04  \n",
       "2            18.8531       1.0164                         0.56  \n",
       "3           222.4774       0.9831                         0.00  \n",
       "4           170.5641       1.0100                         0.00  "
      ]
     },
     "execution_count": 2,
     "metadata": {},
     "output_type": "execute_result"
    }
   ],
   "source": [
    "df=pd.read_csv(\"../../Data/FuentesOriginales/USAR/world_population.csv\")\n",
    "df.head()"
   ]
  },
  {
   "cell_type": "code",
   "execution_count": 3,
   "metadata": {},
   "outputs": [
    {
     "data": {
      "text/html": [
       "<div>\n",
       "<style scoped>\n",
       "    .dataframe tbody tr th:only-of-type {\n",
       "        vertical-align: middle;\n",
       "    }\n",
       "\n",
       "    .dataframe tbody tr th {\n",
       "        vertical-align: top;\n",
       "    }\n",
       "\n",
       "    .dataframe thead th {\n",
       "        text-align: right;\n",
       "    }\n",
       "</style>\n",
       "<table border=\"1\" class=\"dataframe\">\n",
       "  <thead>\n",
       "    <tr style=\"text-align: right;\">\n",
       "      <th></th>\n",
       "      <th>Rank</th>\n",
       "      <th>CCA3</th>\n",
       "      <th>Country/Territory</th>\n",
       "      <th>Capital</th>\n",
       "      <th>Continent</th>\n",
       "      <th>2022 Population</th>\n",
       "      <th>2020 Population</th>\n",
       "      <th>2015 Population</th>\n",
       "      <th>2010 Population</th>\n",
       "      <th>2000 Population</th>\n",
       "      <th>1990 Population</th>\n",
       "      <th>1980 Population</th>\n",
       "      <th>1970 Population</th>\n",
       "      <th>Area (km²)</th>\n",
       "      <th>Density (per km²)</th>\n",
       "      <th>Growth Rate</th>\n",
       "      <th>World Population Percentage</th>\n",
       "    </tr>\n",
       "  </thead>\n",
       "  <tbody>\n",
       "    <tr>\n",
       "      <th>41</th>\n",
       "      <td>1</td>\n",
       "      <td>CHN</td>\n",
       "      <td>China</td>\n",
       "      <td>Beijing</td>\n",
       "      <td>Asia</td>\n",
       "      <td>1425887337</td>\n",
       "      <td>1424929781</td>\n",
       "      <td>1393715448</td>\n",
       "      <td>1348191368</td>\n",
       "      <td>1264099069</td>\n",
       "      <td>1153704252</td>\n",
       "      <td>982372466</td>\n",
       "      <td>822534450</td>\n",
       "      <td>9706961</td>\n",
       "      <td>146.8933</td>\n",
       "      <td>1.0000</td>\n",
       "      <td>17.88</td>\n",
       "    </tr>\n",
       "    <tr>\n",
       "      <th>92</th>\n",
       "      <td>2</td>\n",
       "      <td>IND</td>\n",
       "      <td>India</td>\n",
       "      <td>New Delhi</td>\n",
       "      <td>Asia</td>\n",
       "      <td>1417173173</td>\n",
       "      <td>1396387127</td>\n",
       "      <td>1322866505</td>\n",
       "      <td>1240613620</td>\n",
       "      <td>1059633675</td>\n",
       "      <td>870452165</td>\n",
       "      <td>696828385</td>\n",
       "      <td>557501301</td>\n",
       "      <td>3287590</td>\n",
       "      <td>431.0675</td>\n",
       "      <td>1.0068</td>\n",
       "      <td>17.77</td>\n",
       "    </tr>\n",
       "    <tr>\n",
       "      <th>221</th>\n",
       "      <td>3</td>\n",
       "      <td>USA</td>\n",
       "      <td>United States</td>\n",
       "      <td>Washington, D.C.</td>\n",
       "      <td>North America</td>\n",
       "      <td>338289857</td>\n",
       "      <td>335942003</td>\n",
       "      <td>324607776</td>\n",
       "      <td>311182845</td>\n",
       "      <td>282398554</td>\n",
       "      <td>248083732</td>\n",
       "      <td>223140018</td>\n",
       "      <td>200328340</td>\n",
       "      <td>9372610</td>\n",
       "      <td>36.0935</td>\n",
       "      <td>1.0038</td>\n",
       "      <td>4.24</td>\n",
       "    </tr>\n",
       "    <tr>\n",
       "      <th>93</th>\n",
       "      <td>4</td>\n",
       "      <td>IDN</td>\n",
       "      <td>Indonesia</td>\n",
       "      <td>Jakarta</td>\n",
       "      <td>Asia</td>\n",
       "      <td>275501339</td>\n",
       "      <td>271857970</td>\n",
       "      <td>259091970</td>\n",
       "      <td>244016173</td>\n",
       "      <td>214072421</td>\n",
       "      <td>182159874</td>\n",
       "      <td>148177096</td>\n",
       "      <td>115228394</td>\n",
       "      <td>1904569</td>\n",
       "      <td>144.6529</td>\n",
       "      <td>1.0064</td>\n",
       "      <td>3.45</td>\n",
       "    </tr>\n",
       "    <tr>\n",
       "      <th>156</th>\n",
       "      <td>5</td>\n",
       "      <td>PAK</td>\n",
       "      <td>Pakistan</td>\n",
       "      <td>Islamabad</td>\n",
       "      <td>Asia</td>\n",
       "      <td>235824862</td>\n",
       "      <td>227196741</td>\n",
       "      <td>210969298</td>\n",
       "      <td>194454498</td>\n",
       "      <td>154369924</td>\n",
       "      <td>115414069</td>\n",
       "      <td>80624057</td>\n",
       "      <td>59290872</td>\n",
       "      <td>881912</td>\n",
       "      <td>267.4018</td>\n",
       "      <td>1.0191</td>\n",
       "      <td>2.96</td>\n",
       "    </tr>\n",
       "  </tbody>\n",
       "</table>\n",
       "</div>"
      ],
      "text/plain": [
       "     Rank CCA3 Country/Territory           Capital      Continent   \n",
       "41      1  CHN             China           Beijing           Asia  \\\n",
       "92      2  IND             India         New Delhi           Asia   \n",
       "221     3  USA     United States  Washington, D.C.  North America   \n",
       "93      4  IDN         Indonesia           Jakarta           Asia   \n",
       "156     5  PAK          Pakistan         Islamabad           Asia   \n",
       "\n",
       "     2022 Population  2020 Population  2015 Population  2010 Population   \n",
       "41        1425887337       1424929781       1393715448       1348191368  \\\n",
       "92        1417173173       1396387127       1322866505       1240613620   \n",
       "221        338289857        335942003        324607776        311182845   \n",
       "93         275501339        271857970        259091970        244016173   \n",
       "156        235824862        227196741        210969298        194454498   \n",
       "\n",
       "     2000 Population  1990 Population  1980 Population  1970 Population   \n",
       "41        1264099069       1153704252        982372466        822534450  \\\n",
       "92        1059633675        870452165        696828385        557501301   \n",
       "221        282398554        248083732        223140018        200328340   \n",
       "93         214072421        182159874        148177096        115228394   \n",
       "156        154369924        115414069         80624057         59290872   \n",
       "\n",
       "     Area (km²)  Density (per km²)  Growth Rate  World Population Percentage  \n",
       "41      9706961           146.8933       1.0000                        17.88  \n",
       "92      3287590           431.0675       1.0068                        17.77  \n",
       "221     9372610            36.0935       1.0038                         4.24  \n",
       "93      1904569           144.6529       1.0064                         3.45  \n",
       "156      881912           267.4018       1.0191                         2.96  "
      ]
     },
     "execution_count": 3,
     "metadata": {},
     "output_type": "execute_result"
    }
   ],
   "source": [
    "df.sort_values([\"Rank\"], axis=0, ascending=True, inplace=True)\n",
    "df.head()"
   ]
  },
  {
   "cell_type": "code",
   "execution_count": 4,
   "metadata": {},
   "outputs": [],
   "source": [
    "dg = df.copy()"
   ]
  },
  {
   "cell_type": "code",
   "execution_count": 10,
   "metadata": {},
   "outputs": [
    {
     "data": {
      "application/vnd.plotly.v1+json": {
       "config": {
        "plotlyServerURL": "https://plot.ly"
       },
       "data": [
        {
         "alignmentgroup": "True",
         "hovertemplate": "x=%{x}<br>y=%{y}<br>text=%{text}<extra></extra>",
         "legendgroup": "",
         "marker": {
          "color": "green",
          "pattern": {
           "shape": ""
          }
         },
         "name": "",
         "offsetgroup": "",
         "orientation": "v",
         "showlegend": false,
         "text": [
          691,
          404,
          378,
          376,
          359,
          325,
          319,
          316,
          315,
          314,
          311,
          304,
          300,
          280,
          278,
          274,
          270,
          267,
          265,
          263,
          263,
          261,
          259,
          259,
          257,
          257,
          250,
          248,
          247,
          242,
          241,
          241,
          239,
          238,
          236,
          234,
          232,
          230,
          227,
          224,
          221,
          220,
          218,
          217,
          209,
          208,
          204,
          204,
          196,
          194,
          193,
          192,
          190,
          184,
          184,
          183,
          176,
          170,
          170,
          165,
          164,
          162,
          160,
          158,
          158,
          155,
          154,
          153,
          150,
          149,
          147,
          146,
          143,
          141,
          140,
          138,
          134,
          132,
          130,
          130,
          129,
          128,
          125,
          125,
          124,
          123,
          123,
          120,
          120,
          119,
          115,
          114,
          114,
          109,
          108,
          108,
          108,
          107,
          106,
          105,
          103,
          100,
          100,
          99,
          99,
          98,
          96,
          91,
          88,
          84,
          84,
          82,
          82,
          81,
          81,
          79,
          79,
          79,
          78,
          76,
          75,
          74,
          74,
          74,
          73,
          73,
          71,
          71,
          68,
          68,
          68,
          67,
          66,
          66,
          64,
          64,
          63,
          61,
          61,
          59,
          59,
          58,
          58,
          58,
          57,
          56,
          56,
          52,
          52,
          52,
          51,
          48,
          46,
          45,
          45,
          44,
          44,
          43,
          43,
          40,
          38,
          38,
          38,
          38,
          37,
          36,
          36,
          35,
          35,
          34,
          29,
          29,
          27,
          26,
          20,
          17,
          15,
          15,
          15,
          14,
          14,
          13,
          11,
          11,
          8,
          5,
          4,
          2,
          0,
          0,
          -1,
          -3,
          -5,
          -6,
          -8,
          -8,
          -9,
          -10,
          -11,
          -12,
          -15,
          -16,
          -19,
          -20,
          -20,
          -25,
          -27,
          -34,
          -35,
          -36,
          -36,
          -37,
          -38,
          -39,
          -43,
          -45,
          -46,
          -47,
          -49,
          -53,
          -58,
          -59,
          -61,
          -63,
          -73,
          -103,
          -114,
          -114,
          -124,
          -131,
          -151,
          -169,
          -184,
          -880
         ],
         "textposition": "auto",
         "type": "bar",
         "x": [
          "Moldova",
          "Poland",
          "Niger",
          "Syria",
          "Slovakia",
          "DR Congo",
          "Mayotte",
          "Chad",
          "Angola",
          "Mali",
          "Somalia",
          "Uganda",
          "Tanzania",
          "Zambia",
          "Mozambique",
          "Benin",
          "Burundi",
          "Sudan",
          "Hungary",
          "Cameroon",
          "Mauritania",
          "Senegal",
          "Burkina Faso",
          "Malawi",
          "Ethiopia",
          "Afghanistan",
          "Gambia",
          "Ivory Coast",
          "Equatorial Guinea",
          "Guinea",
          "Nigeria",
          "Madagascar",
          "French Guiana",
          "Vanuatu",
          "Togo",
          "Rwanda",
          "Solomon Islands",
          "Republic of the Congo",
          "Palestine",
          "Central African Republic",
          "Iraq",
          "Sierra Leone",
          "Guinea-Bissau",
          "Yemen",
          "Liberia",
          "Tajikistan",
          "Gabon",
          "Zimbabwe",
          "Ghana",
          "Papua New Guinea",
          "Kenya",
          "Sao Tome and Principe",
          "Pakistan",
          "Comoros",
          "Western Sahara",
          "Kiribati",
          "Eritrea",
          "Romania",
          "Nepal",
          "Samoa",
          "Algeria",
          "Botswana",
          "Uzbekistan",
          "Egypt",
          "Kyrgyzstan",
          "Israel",
          "Timor-Leste",
          "South Sudan",
          "Mongolia",
          "Honduras",
          "Philippines",
          "Namibia",
          "Nicaragua",
          "Laos",
          "Turkmenistan",
          "Djibouti",
          "Guatemala",
          "Panama",
          "Belize",
          "Turks and Caicos Islands",
          "Luxembourg",
          "Saudi Arabia",
          "Nauru",
          "Macau",
          "Malta",
          "Jordan",
          "Oman",
          "Bolivia",
          "Haiti",
          "Tokelau",
          "Paraguay",
          "Libya",
          "Ecuador",
          "Malaysia",
          "Cambodia",
          "New Zealand",
          "Bangladesh",
          "Lesotho",
          "Jersey",
          "Kazakhstan",
          "Morocco",
          "Andorra",
          "Dominican Republic",
          "Australia",
          "Peru",
          "Saint Barthelemy",
          "Tuvalu",
          "Micronesia",
          "Cape Verde",
          "South Africa",
          "Cayman Islands",
          "Suriname",
          "Reunion",
          "Brunei",
          "United Arab Emirates",
          "Tonga",
          "Sweden",
          "Eswatini",
          "Canada",
          "Tunisia",
          "New Caledonia",
          "Vietnam",
          "Liechtenstein",
          "French Polynesia",
          "Ireland",
          "Guam",
          "Myanmar",
          "Iran",
          "Iceland",
          "India",
          "Colombia",
          "Turkey",
          "Anguilla",
          "Grenada",
          "Bhutan",
          "Indonesia",
          "Mexico",
          "Seychelles",
          "Bahrain",
          "British Virgin Islands",
          "Cyprus",
          "Norway",
          "Antigua and Barbuda",
          "Singapore",
          "Chile",
          "Fiji",
          "Switzerland",
          "Argentina",
          "Guyana",
          "Costa Rica",
          "Bahamas",
          "Denmark",
          "Brazil",
          "Dominica",
          "Maldives",
          "Kuwait",
          "Azerbaijan",
          "Curacao",
          "Falkland Islands",
          "Greenland",
          "North Korea",
          "United States",
          "Belgium",
          "Faroe Islands",
          "Guernsey",
          "Venezuela",
          "Netherlands",
          "El Salvador",
          "Trinidad and Tobago",
          "United Kingdom",
          "Isle of Man",
          "Sint Maarten",
          "Sri Lanka",
          "Qatar",
          "Austria",
          "Palau",
          "France",
          "Spain",
          "Barbados",
          "Taiwan",
          "Northern Mariana Islands",
          "Thailand",
          "Saint Kitts and Nevis",
          "Saint Lucia",
          "Finland",
          "Cook Islands",
          "Mauritius",
          "Slovenia",
          "China",
          "Bermuda",
          "Jamaica",
          "South Korea",
          "Germany",
          "Gibraltar",
          "Hong Kong",
          "Guadeloupe",
          "Aruba",
          "Uruguay",
          "Puerto Rico",
          "Montenegro",
          "Niue",
          "Czech Republic",
          "Portugal",
          "Vatican City",
          "Estonia",
          "San Marino",
          "Russia",
          "Italy",
          "Martinique",
          "Georgia",
          "Saint Pierre and Miquelon",
          "Saint Vincent and the Grenadines",
          "Armenia",
          "Cuba",
          "Albania",
          "Belarus",
          "North Macedonia",
          "Wallis and Futuna",
          "Saint Martin",
          "Japan",
          "Greece",
          "Monaco",
          "Montserrat",
          "United States Virgin Islands",
          "Croatia",
          "Serbia",
          "Marshall Islands",
          "Bosnia and Herzegovina",
          "Latvia",
          "Lithuania",
          "Bulgaria",
          "American Samoa",
          "Lebanon",
          "Ukraine"
         ],
         "xaxis": "x",
         "y": [
          691,
          404,
          378,
          376,
          359,
          325,
          319,
          316,
          315,
          314,
          311,
          304,
          300,
          280,
          278,
          274,
          270,
          267,
          265,
          263,
          263,
          261,
          259,
          259,
          257,
          257,
          250,
          248,
          247,
          242,
          241,
          241,
          239,
          238,
          236,
          234,
          232,
          230,
          227,
          224,
          221,
          220,
          218,
          217,
          209,
          208,
          204,
          204,
          196,
          194,
          193,
          192,
          190,
          184,
          184,
          183,
          176,
          170,
          170,
          165,
          164,
          162,
          160,
          158,
          158,
          155,
          154,
          153,
          150,
          149,
          147,
          146,
          143,
          141,
          140,
          138,
          134,
          132,
          130,
          130,
          129,
          128,
          125,
          125,
          124,
          123,
          123,
          120,
          120,
          119,
          115,
          114,
          114,
          109,
          108,
          108,
          108,
          107,
          106,
          105,
          103,
          100,
          100,
          99,
          99,
          98,
          96,
          91,
          88,
          84,
          84,
          82,
          82,
          81,
          81,
          79,
          79,
          79,
          78,
          76,
          75,
          74,
          74,
          74,
          73,
          73,
          71,
          71,
          68,
          68,
          68,
          67,
          66,
          66,
          64,
          64,
          63,
          61,
          61,
          59,
          59,
          58,
          58,
          58,
          57,
          56,
          56,
          52,
          52,
          52,
          51,
          48,
          46,
          45,
          45,
          44,
          44,
          43,
          43,
          40,
          38,
          38,
          38,
          38,
          37,
          36,
          36,
          35,
          35,
          34,
          29,
          29,
          27,
          26,
          20,
          17,
          15,
          15,
          15,
          14,
          14,
          13,
          11,
          11,
          8,
          5,
          4,
          2,
          0,
          0,
          -1,
          -3,
          -5,
          -6,
          -8,
          -8,
          -9,
          -10,
          -11,
          -12,
          -15,
          -16,
          -19,
          -20,
          -20,
          -25,
          -27,
          -34,
          -35,
          -36,
          -36,
          -37,
          -38,
          -39,
          -43,
          -45,
          -46,
          -47,
          -49,
          -53,
          -58,
          -59,
          -61,
          -63,
          -73,
          -103,
          -114,
          -114,
          -124,
          -131,
          -151,
          -169,
          -184,
          -880
         ],
         "yaxis": "y"
        }
       ],
       "layout": {
        "barmode": "relative",
        "legend": {
         "tracegroupgap": 0
        },
        "template": {
         "data": {
          "bar": [
           {
            "error_x": {
             "color": "#2a3f5f"
            },
            "error_y": {
             "color": "#2a3f5f"
            },
            "marker": {
             "line": {
              "color": "#E5ECF6",
              "width": 0.5
             },
             "pattern": {
              "fillmode": "overlay",
              "size": 10,
              "solidity": 0.2
             }
            },
            "type": "bar"
           }
          ],
          "barpolar": [
           {
            "marker": {
             "line": {
              "color": "#E5ECF6",
              "width": 0.5
             },
             "pattern": {
              "fillmode": "overlay",
              "size": 10,
              "solidity": 0.2
             }
            },
            "type": "barpolar"
           }
          ],
          "carpet": [
           {
            "aaxis": {
             "endlinecolor": "#2a3f5f",
             "gridcolor": "white",
             "linecolor": "white",
             "minorgridcolor": "white",
             "startlinecolor": "#2a3f5f"
            },
            "baxis": {
             "endlinecolor": "#2a3f5f",
             "gridcolor": "white",
             "linecolor": "white",
             "minorgridcolor": "white",
             "startlinecolor": "#2a3f5f"
            },
            "type": "carpet"
           }
          ],
          "choropleth": [
           {
            "colorbar": {
             "outlinewidth": 0,
             "ticks": ""
            },
            "type": "choropleth"
           }
          ],
          "contour": [
           {
            "colorbar": {
             "outlinewidth": 0,
             "ticks": ""
            },
            "colorscale": [
             [
              0,
              "#0d0887"
             ],
             [
              0.1111111111111111,
              "#46039f"
             ],
             [
              0.2222222222222222,
              "#7201a8"
             ],
             [
              0.3333333333333333,
              "#9c179e"
             ],
             [
              0.4444444444444444,
              "#bd3786"
             ],
             [
              0.5555555555555556,
              "#d8576b"
             ],
             [
              0.6666666666666666,
              "#ed7953"
             ],
             [
              0.7777777777777778,
              "#fb9f3a"
             ],
             [
              0.8888888888888888,
              "#fdca26"
             ],
             [
              1,
              "#f0f921"
             ]
            ],
            "type": "contour"
           }
          ],
          "contourcarpet": [
           {
            "colorbar": {
             "outlinewidth": 0,
             "ticks": ""
            },
            "type": "contourcarpet"
           }
          ],
          "heatmap": [
           {
            "colorbar": {
             "outlinewidth": 0,
             "ticks": ""
            },
            "colorscale": [
             [
              0,
              "#0d0887"
             ],
             [
              0.1111111111111111,
              "#46039f"
             ],
             [
              0.2222222222222222,
              "#7201a8"
             ],
             [
              0.3333333333333333,
              "#9c179e"
             ],
             [
              0.4444444444444444,
              "#bd3786"
             ],
             [
              0.5555555555555556,
              "#d8576b"
             ],
             [
              0.6666666666666666,
              "#ed7953"
             ],
             [
              0.7777777777777778,
              "#fb9f3a"
             ],
             [
              0.8888888888888888,
              "#fdca26"
             ],
             [
              1,
              "#f0f921"
             ]
            ],
            "type": "heatmap"
           }
          ],
          "heatmapgl": [
           {
            "colorbar": {
             "outlinewidth": 0,
             "ticks": ""
            },
            "colorscale": [
             [
              0,
              "#0d0887"
             ],
             [
              0.1111111111111111,
              "#46039f"
             ],
             [
              0.2222222222222222,
              "#7201a8"
             ],
             [
              0.3333333333333333,
              "#9c179e"
             ],
             [
              0.4444444444444444,
              "#bd3786"
             ],
             [
              0.5555555555555556,
              "#d8576b"
             ],
             [
              0.6666666666666666,
              "#ed7953"
             ],
             [
              0.7777777777777778,
              "#fb9f3a"
             ],
             [
              0.8888888888888888,
              "#fdca26"
             ],
             [
              1,
              "#f0f921"
             ]
            ],
            "type": "heatmapgl"
           }
          ],
          "histogram": [
           {
            "marker": {
             "pattern": {
              "fillmode": "overlay",
              "size": 10,
              "solidity": 0.2
             }
            },
            "type": "histogram"
           }
          ],
          "histogram2d": [
           {
            "colorbar": {
             "outlinewidth": 0,
             "ticks": ""
            },
            "colorscale": [
             [
              0,
              "#0d0887"
             ],
             [
              0.1111111111111111,
              "#46039f"
             ],
             [
              0.2222222222222222,
              "#7201a8"
             ],
             [
              0.3333333333333333,
              "#9c179e"
             ],
             [
              0.4444444444444444,
              "#bd3786"
             ],
             [
              0.5555555555555556,
              "#d8576b"
             ],
             [
              0.6666666666666666,
              "#ed7953"
             ],
             [
              0.7777777777777778,
              "#fb9f3a"
             ],
             [
              0.8888888888888888,
              "#fdca26"
             ],
             [
              1,
              "#f0f921"
             ]
            ],
            "type": "histogram2d"
           }
          ],
          "histogram2dcontour": [
           {
            "colorbar": {
             "outlinewidth": 0,
             "ticks": ""
            },
            "colorscale": [
             [
              0,
              "#0d0887"
             ],
             [
              0.1111111111111111,
              "#46039f"
             ],
             [
              0.2222222222222222,
              "#7201a8"
             ],
             [
              0.3333333333333333,
              "#9c179e"
             ],
             [
              0.4444444444444444,
              "#bd3786"
             ],
             [
              0.5555555555555556,
              "#d8576b"
             ],
             [
              0.6666666666666666,
              "#ed7953"
             ],
             [
              0.7777777777777778,
              "#fb9f3a"
             ],
             [
              0.8888888888888888,
              "#fdca26"
             ],
             [
              1,
              "#f0f921"
             ]
            ],
            "type": "histogram2dcontour"
           }
          ],
          "mesh3d": [
           {
            "colorbar": {
             "outlinewidth": 0,
             "ticks": ""
            },
            "type": "mesh3d"
           }
          ],
          "parcoords": [
           {
            "line": {
             "colorbar": {
              "outlinewidth": 0,
              "ticks": ""
             }
            },
            "type": "parcoords"
           }
          ],
          "pie": [
           {
            "automargin": true,
            "type": "pie"
           }
          ],
          "scatter": [
           {
            "fillpattern": {
             "fillmode": "overlay",
             "size": 10,
             "solidity": 0.2
            },
            "type": "scatter"
           }
          ],
          "scatter3d": [
           {
            "line": {
             "colorbar": {
              "outlinewidth": 0,
              "ticks": ""
             }
            },
            "marker": {
             "colorbar": {
              "outlinewidth": 0,
              "ticks": ""
             }
            },
            "type": "scatter3d"
           }
          ],
          "scattercarpet": [
           {
            "marker": {
             "colorbar": {
              "outlinewidth": 0,
              "ticks": ""
             }
            },
            "type": "scattercarpet"
           }
          ],
          "scattergeo": [
           {
            "marker": {
             "colorbar": {
              "outlinewidth": 0,
              "ticks": ""
             }
            },
            "type": "scattergeo"
           }
          ],
          "scattergl": [
           {
            "marker": {
             "colorbar": {
              "outlinewidth": 0,
              "ticks": ""
             }
            },
            "type": "scattergl"
           }
          ],
          "scattermapbox": [
           {
            "marker": {
             "colorbar": {
              "outlinewidth": 0,
              "ticks": ""
             }
            },
            "type": "scattermapbox"
           }
          ],
          "scatterpolar": [
           {
            "marker": {
             "colorbar": {
              "outlinewidth": 0,
              "ticks": ""
             }
            },
            "type": "scatterpolar"
           }
          ],
          "scatterpolargl": [
           {
            "marker": {
             "colorbar": {
              "outlinewidth": 0,
              "ticks": ""
             }
            },
            "type": "scatterpolargl"
           }
          ],
          "scatterternary": [
           {
            "marker": {
             "colorbar": {
              "outlinewidth": 0,
              "ticks": ""
             }
            },
            "type": "scatterternary"
           }
          ],
          "surface": [
           {
            "colorbar": {
             "outlinewidth": 0,
             "ticks": ""
            },
            "colorscale": [
             [
              0,
              "#0d0887"
             ],
             [
              0.1111111111111111,
              "#46039f"
             ],
             [
              0.2222222222222222,
              "#7201a8"
             ],
             [
              0.3333333333333333,
              "#9c179e"
             ],
             [
              0.4444444444444444,
              "#bd3786"
             ],
             [
              0.5555555555555556,
              "#d8576b"
             ],
             [
              0.6666666666666666,
              "#ed7953"
             ],
             [
              0.7777777777777778,
              "#fb9f3a"
             ],
             [
              0.8888888888888888,
              "#fdca26"
             ],
             [
              1,
              "#f0f921"
             ]
            ],
            "type": "surface"
           }
          ],
          "table": [
           {
            "cells": {
             "fill": {
              "color": "#EBF0F8"
             },
             "line": {
              "color": "white"
             }
            },
            "header": {
             "fill": {
              "color": "#C8D4E3"
             },
             "line": {
              "color": "white"
             }
            },
            "type": "table"
           }
          ]
         },
         "layout": {
          "annotationdefaults": {
           "arrowcolor": "#2a3f5f",
           "arrowhead": 0,
           "arrowwidth": 1
          },
          "autotypenumbers": "strict",
          "coloraxis": {
           "colorbar": {
            "outlinewidth": 0,
            "ticks": ""
           }
          },
          "colorscale": {
           "diverging": [
            [
             0,
             "#8e0152"
            ],
            [
             0.1,
             "#c51b7d"
            ],
            [
             0.2,
             "#de77ae"
            ],
            [
             0.3,
             "#f1b6da"
            ],
            [
             0.4,
             "#fde0ef"
            ],
            [
             0.5,
             "#f7f7f7"
            ],
            [
             0.6,
             "#e6f5d0"
            ],
            [
             0.7,
             "#b8e186"
            ],
            [
             0.8,
             "#7fbc41"
            ],
            [
             0.9,
             "#4d9221"
            ],
            [
             1,
             "#276419"
            ]
           ],
           "sequential": [
            [
             0,
             "#0d0887"
            ],
            [
             0.1111111111111111,
             "#46039f"
            ],
            [
             0.2222222222222222,
             "#7201a8"
            ],
            [
             0.3333333333333333,
             "#9c179e"
            ],
            [
             0.4444444444444444,
             "#bd3786"
            ],
            [
             0.5555555555555556,
             "#d8576b"
            ],
            [
             0.6666666666666666,
             "#ed7953"
            ],
            [
             0.7777777777777778,
             "#fb9f3a"
            ],
            [
             0.8888888888888888,
             "#fdca26"
            ],
            [
             1,
             "#f0f921"
            ]
           ],
           "sequentialminus": [
            [
             0,
             "#0d0887"
            ],
            [
             0.1111111111111111,
             "#46039f"
            ],
            [
             0.2222222222222222,
             "#7201a8"
            ],
            [
             0.3333333333333333,
             "#9c179e"
            ],
            [
             0.4444444444444444,
             "#bd3786"
            ],
            [
             0.5555555555555556,
             "#d8576b"
            ],
            [
             0.6666666666666666,
             "#ed7953"
            ],
            [
             0.7777777777777778,
             "#fb9f3a"
            ],
            [
             0.8888888888888888,
             "#fdca26"
            ],
            [
             1,
             "#f0f921"
            ]
           ]
          },
          "colorway": [
           "#636efa",
           "#EF553B",
           "#00cc96",
           "#ab63fa",
           "#FFA15A",
           "#19d3f3",
           "#FF6692",
           "#B6E880",
           "#FF97FF",
           "#FECB52"
          ],
          "font": {
           "color": "#2a3f5f"
          },
          "geo": {
           "bgcolor": "white",
           "lakecolor": "white",
           "landcolor": "#E5ECF6",
           "showlakes": true,
           "showland": true,
           "subunitcolor": "white"
          },
          "hoverlabel": {
           "align": "left"
          },
          "hovermode": "closest",
          "mapbox": {
           "style": "light"
          },
          "paper_bgcolor": "white",
          "plot_bgcolor": "#E5ECF6",
          "polar": {
           "angularaxis": {
            "gridcolor": "white",
            "linecolor": "white",
            "ticks": ""
           },
           "bgcolor": "#E5ECF6",
           "radialaxis": {
            "gridcolor": "white",
            "linecolor": "white",
            "ticks": ""
           }
          },
          "scene": {
           "xaxis": {
            "backgroundcolor": "#E5ECF6",
            "gridcolor": "white",
            "gridwidth": 2,
            "linecolor": "white",
            "showbackground": true,
            "ticks": "",
            "zerolinecolor": "white"
           },
           "yaxis": {
            "backgroundcolor": "#E5ECF6",
            "gridcolor": "white",
            "gridwidth": 2,
            "linecolor": "white",
            "showbackground": true,
            "ticks": "",
            "zerolinecolor": "white"
           },
           "zaxis": {
            "backgroundcolor": "#E5ECF6",
            "gridcolor": "white",
            "gridwidth": 2,
            "linecolor": "white",
            "showbackground": true,
            "ticks": "",
            "zerolinecolor": "white"
           }
          },
          "shapedefaults": {
           "line": {
            "color": "#2a3f5f"
           }
          },
          "ternary": {
           "aaxis": {
            "gridcolor": "white",
            "linecolor": "white",
            "ticks": ""
           },
           "baxis": {
            "gridcolor": "white",
            "linecolor": "white",
            "ticks": ""
           },
           "bgcolor": "#E5ECF6",
           "caxis": {
            "gridcolor": "white",
            "linecolor": "white",
            "ticks": ""
           }
          },
          "title": {
           "x": 0.05
          },
          "xaxis": {
           "automargin": true,
           "gridcolor": "white",
           "linecolor": "white",
           "ticks": "",
           "title": {
            "standoff": 15
           },
           "zerolinecolor": "white",
           "zerolinewidth": 2
          },
          "yaxis": {
           "automargin": true,
           "gridcolor": "white",
           "linecolor": "white",
           "ticks": "",
           "title": {
            "standoff": 15
           },
           "zerolinecolor": "white",
           "zerolinewidth": 2
          }
         }
        },
        "title": {
         "text": "Tasa de crecimiento de la poblacion"
        },
        "xaxis": {
         "anchor": "y",
         "domain": [
          0,
          1
         ],
         "title": {
          "text": "Pais/Ciudad"
         }
        },
        "yaxis": {
         "anchor": "x",
         "domain": [
          0,
          1
         ],
         "title": {
          "text": "Tasa de Crecimiento"
         }
        }
       }
      }
     },
     "metadata": {},
     "output_type": "display_data"
    }
   ],
   "source": [
    "import plotly.express as px\n",
    "dg = df.copy()\n",
    "dg['Growth Rate'] = (dg['Growth Rate']*10000)-10000\n",
    "dg['Growth Rate'] = dg['Growth Rate'].astype(int)\n",
    "dg.dtypes\n",
    "gr = dg.groupby(['Country/Territory']).sum(numeric_only=True)['Growth Rate']\n",
    "gr = gr.sort_values(ascending = False)\n",
    "fig = px.bar(y = gr.values, x = gr.index, \n",
    "            text = gr.values, title = 'Tasa de crecimiento de la poblacion',\n",
    "            color_discrete_sequence=[\"green\"])\n",
    "fig.update_layout(xaxis_title = \"Pais/Ciudad\", yaxis_title = \"Tasa de Crecimiento\")\n",
    "fig.show()\n",
    "fig.write_html(\"growth_rate.html\")"
   ]
  },
  {
   "cell_type": "code",
   "execution_count": 7,
   "metadata": {},
   "outputs": [
    {
     "data": {
      "application/vnd.plotly.v1+json": {
       "config": {
        "plotlyServerURL": "https://plot.ly"
       },
       "data": [
        {
         "domain": {
          "x": [
           0,
           1
          ],
          "y": [
           0,
           1
          ]
         },
         "hovertemplate": "Country/Territory=%{label}<br>World Population Percentage=%{value}<extra></extra>",
         "labels": [
          "China",
          "India",
          "United States",
          "Indonesia",
          "Pakistan",
          "Nigeria",
          "Brazil",
          "Bangladesh",
          "Russia",
          "Mexico"
         ],
         "legendgroup": "",
         "name": "",
         "showlegend": true,
         "type": "pie",
         "values": [
          17.88,
          17.77,
          4.24,
          3.45,
          2.96,
          2.74,
          2.7,
          2.15,
          1.81,
          1.6
         ]
        }
       ],
       "layout": {
        "legend": {
         "tracegroupgap": 0
        },
        "template": {
         "data": {
          "bar": [
           {
            "error_x": {
             "color": "#2a3f5f"
            },
            "error_y": {
             "color": "#2a3f5f"
            },
            "marker": {
             "line": {
              "color": "#E5ECF6",
              "width": 0.5
             },
             "pattern": {
              "fillmode": "overlay",
              "size": 10,
              "solidity": 0.2
             }
            },
            "type": "bar"
           }
          ],
          "barpolar": [
           {
            "marker": {
             "line": {
              "color": "#E5ECF6",
              "width": 0.5
             },
             "pattern": {
              "fillmode": "overlay",
              "size": 10,
              "solidity": 0.2
             }
            },
            "type": "barpolar"
           }
          ],
          "carpet": [
           {
            "aaxis": {
             "endlinecolor": "#2a3f5f",
             "gridcolor": "white",
             "linecolor": "white",
             "minorgridcolor": "white",
             "startlinecolor": "#2a3f5f"
            },
            "baxis": {
             "endlinecolor": "#2a3f5f",
             "gridcolor": "white",
             "linecolor": "white",
             "minorgridcolor": "white",
             "startlinecolor": "#2a3f5f"
            },
            "type": "carpet"
           }
          ],
          "choropleth": [
           {
            "colorbar": {
             "outlinewidth": 0,
             "ticks": ""
            },
            "type": "choropleth"
           }
          ],
          "contour": [
           {
            "colorbar": {
             "outlinewidth": 0,
             "ticks": ""
            },
            "colorscale": [
             [
              0,
              "#0d0887"
             ],
             [
              0.1111111111111111,
              "#46039f"
             ],
             [
              0.2222222222222222,
              "#7201a8"
             ],
             [
              0.3333333333333333,
              "#9c179e"
             ],
             [
              0.4444444444444444,
              "#bd3786"
             ],
             [
              0.5555555555555556,
              "#d8576b"
             ],
             [
              0.6666666666666666,
              "#ed7953"
             ],
             [
              0.7777777777777778,
              "#fb9f3a"
             ],
             [
              0.8888888888888888,
              "#fdca26"
             ],
             [
              1,
              "#f0f921"
             ]
            ],
            "type": "contour"
           }
          ],
          "contourcarpet": [
           {
            "colorbar": {
             "outlinewidth": 0,
             "ticks": ""
            },
            "type": "contourcarpet"
           }
          ],
          "heatmap": [
           {
            "colorbar": {
             "outlinewidth": 0,
             "ticks": ""
            },
            "colorscale": [
             [
              0,
              "#0d0887"
             ],
             [
              0.1111111111111111,
              "#46039f"
             ],
             [
              0.2222222222222222,
              "#7201a8"
             ],
             [
              0.3333333333333333,
              "#9c179e"
             ],
             [
              0.4444444444444444,
              "#bd3786"
             ],
             [
              0.5555555555555556,
              "#d8576b"
             ],
             [
              0.6666666666666666,
              "#ed7953"
             ],
             [
              0.7777777777777778,
              "#fb9f3a"
             ],
             [
              0.8888888888888888,
              "#fdca26"
             ],
             [
              1,
              "#f0f921"
             ]
            ],
            "type": "heatmap"
           }
          ],
          "heatmapgl": [
           {
            "colorbar": {
             "outlinewidth": 0,
             "ticks": ""
            },
            "colorscale": [
             [
              0,
              "#0d0887"
             ],
             [
              0.1111111111111111,
              "#46039f"
             ],
             [
              0.2222222222222222,
              "#7201a8"
             ],
             [
              0.3333333333333333,
              "#9c179e"
             ],
             [
              0.4444444444444444,
              "#bd3786"
             ],
             [
              0.5555555555555556,
              "#d8576b"
             ],
             [
              0.6666666666666666,
              "#ed7953"
             ],
             [
              0.7777777777777778,
              "#fb9f3a"
             ],
             [
              0.8888888888888888,
              "#fdca26"
             ],
             [
              1,
              "#f0f921"
             ]
            ],
            "type": "heatmapgl"
           }
          ],
          "histogram": [
           {
            "marker": {
             "pattern": {
              "fillmode": "overlay",
              "size": 10,
              "solidity": 0.2
             }
            },
            "type": "histogram"
           }
          ],
          "histogram2d": [
           {
            "colorbar": {
             "outlinewidth": 0,
             "ticks": ""
            },
            "colorscale": [
             [
              0,
              "#0d0887"
             ],
             [
              0.1111111111111111,
              "#46039f"
             ],
             [
              0.2222222222222222,
              "#7201a8"
             ],
             [
              0.3333333333333333,
              "#9c179e"
             ],
             [
              0.4444444444444444,
              "#bd3786"
             ],
             [
              0.5555555555555556,
              "#d8576b"
             ],
             [
              0.6666666666666666,
              "#ed7953"
             ],
             [
              0.7777777777777778,
              "#fb9f3a"
             ],
             [
              0.8888888888888888,
              "#fdca26"
             ],
             [
              1,
              "#f0f921"
             ]
            ],
            "type": "histogram2d"
           }
          ],
          "histogram2dcontour": [
           {
            "colorbar": {
             "outlinewidth": 0,
             "ticks": ""
            },
            "colorscale": [
             [
              0,
              "#0d0887"
             ],
             [
              0.1111111111111111,
              "#46039f"
             ],
             [
              0.2222222222222222,
              "#7201a8"
             ],
             [
              0.3333333333333333,
              "#9c179e"
             ],
             [
              0.4444444444444444,
              "#bd3786"
             ],
             [
              0.5555555555555556,
              "#d8576b"
             ],
             [
              0.6666666666666666,
              "#ed7953"
             ],
             [
              0.7777777777777778,
              "#fb9f3a"
             ],
             [
              0.8888888888888888,
              "#fdca26"
             ],
             [
              1,
              "#f0f921"
             ]
            ],
            "type": "histogram2dcontour"
           }
          ],
          "mesh3d": [
           {
            "colorbar": {
             "outlinewidth": 0,
             "ticks": ""
            },
            "type": "mesh3d"
           }
          ],
          "parcoords": [
           {
            "line": {
             "colorbar": {
              "outlinewidth": 0,
              "ticks": ""
             }
            },
            "type": "parcoords"
           }
          ],
          "pie": [
           {
            "automargin": true,
            "type": "pie"
           }
          ],
          "scatter": [
           {
            "fillpattern": {
             "fillmode": "overlay",
             "size": 10,
             "solidity": 0.2
            },
            "type": "scatter"
           }
          ],
          "scatter3d": [
           {
            "line": {
             "colorbar": {
              "outlinewidth": 0,
              "ticks": ""
             }
            },
            "marker": {
             "colorbar": {
              "outlinewidth": 0,
              "ticks": ""
             }
            },
            "type": "scatter3d"
           }
          ],
          "scattercarpet": [
           {
            "marker": {
             "colorbar": {
              "outlinewidth": 0,
              "ticks": ""
             }
            },
            "type": "scattercarpet"
           }
          ],
          "scattergeo": [
           {
            "marker": {
             "colorbar": {
              "outlinewidth": 0,
              "ticks": ""
             }
            },
            "type": "scattergeo"
           }
          ],
          "scattergl": [
           {
            "marker": {
             "colorbar": {
              "outlinewidth": 0,
              "ticks": ""
             }
            },
            "type": "scattergl"
           }
          ],
          "scattermapbox": [
           {
            "marker": {
             "colorbar": {
              "outlinewidth": 0,
              "ticks": ""
             }
            },
            "type": "scattermapbox"
           }
          ],
          "scatterpolar": [
           {
            "marker": {
             "colorbar": {
              "outlinewidth": 0,
              "ticks": ""
             }
            },
            "type": "scatterpolar"
           }
          ],
          "scatterpolargl": [
           {
            "marker": {
             "colorbar": {
              "outlinewidth": 0,
              "ticks": ""
             }
            },
            "type": "scatterpolargl"
           }
          ],
          "scatterternary": [
           {
            "marker": {
             "colorbar": {
              "outlinewidth": 0,
              "ticks": ""
             }
            },
            "type": "scatterternary"
           }
          ],
          "surface": [
           {
            "colorbar": {
             "outlinewidth": 0,
             "ticks": ""
            },
            "colorscale": [
             [
              0,
              "#0d0887"
             ],
             [
              0.1111111111111111,
              "#46039f"
             ],
             [
              0.2222222222222222,
              "#7201a8"
             ],
             [
              0.3333333333333333,
              "#9c179e"
             ],
             [
              0.4444444444444444,
              "#bd3786"
             ],
             [
              0.5555555555555556,
              "#d8576b"
             ],
             [
              0.6666666666666666,
              "#ed7953"
             ],
             [
              0.7777777777777778,
              "#fb9f3a"
             ],
             [
              0.8888888888888888,
              "#fdca26"
             ],
             [
              1,
              "#f0f921"
             ]
            ],
            "type": "surface"
           }
          ],
          "table": [
           {
            "cells": {
             "fill": {
              "color": "#EBF0F8"
             },
             "line": {
              "color": "white"
             }
            },
            "header": {
             "fill": {
              "color": "#C8D4E3"
             },
             "line": {
              "color": "white"
             }
            },
            "type": "table"
           }
          ]
         },
         "layout": {
          "annotationdefaults": {
           "arrowcolor": "#2a3f5f",
           "arrowhead": 0,
           "arrowwidth": 1
          },
          "autotypenumbers": "strict",
          "coloraxis": {
           "colorbar": {
            "outlinewidth": 0,
            "ticks": ""
           }
          },
          "colorscale": {
           "diverging": [
            [
             0,
             "#8e0152"
            ],
            [
             0.1,
             "#c51b7d"
            ],
            [
             0.2,
             "#de77ae"
            ],
            [
             0.3,
             "#f1b6da"
            ],
            [
             0.4,
             "#fde0ef"
            ],
            [
             0.5,
             "#f7f7f7"
            ],
            [
             0.6,
             "#e6f5d0"
            ],
            [
             0.7,
             "#b8e186"
            ],
            [
             0.8,
             "#7fbc41"
            ],
            [
             0.9,
             "#4d9221"
            ],
            [
             1,
             "#276419"
            ]
           ],
           "sequential": [
            [
             0,
             "#0d0887"
            ],
            [
             0.1111111111111111,
             "#46039f"
            ],
            [
             0.2222222222222222,
             "#7201a8"
            ],
            [
             0.3333333333333333,
             "#9c179e"
            ],
            [
             0.4444444444444444,
             "#bd3786"
            ],
            [
             0.5555555555555556,
             "#d8576b"
            ],
            [
             0.6666666666666666,
             "#ed7953"
            ],
            [
             0.7777777777777778,
             "#fb9f3a"
            ],
            [
             0.8888888888888888,
             "#fdca26"
            ],
            [
             1,
             "#f0f921"
            ]
           ],
           "sequentialminus": [
            [
             0,
             "#0d0887"
            ],
            [
             0.1111111111111111,
             "#46039f"
            ],
            [
             0.2222222222222222,
             "#7201a8"
            ],
            [
             0.3333333333333333,
             "#9c179e"
            ],
            [
             0.4444444444444444,
             "#bd3786"
            ],
            [
             0.5555555555555556,
             "#d8576b"
            ],
            [
             0.6666666666666666,
             "#ed7953"
            ],
            [
             0.7777777777777778,
             "#fb9f3a"
            ],
            [
             0.8888888888888888,
             "#fdca26"
            ],
            [
             1,
             "#f0f921"
            ]
           ]
          },
          "colorway": [
           "#636efa",
           "#EF553B",
           "#00cc96",
           "#ab63fa",
           "#FFA15A",
           "#19d3f3",
           "#FF6692",
           "#B6E880",
           "#FF97FF",
           "#FECB52"
          ],
          "font": {
           "color": "#2a3f5f"
          },
          "geo": {
           "bgcolor": "white",
           "lakecolor": "white",
           "landcolor": "#E5ECF6",
           "showlakes": true,
           "showland": true,
           "subunitcolor": "white"
          },
          "hoverlabel": {
           "align": "left"
          },
          "hovermode": "closest",
          "mapbox": {
           "style": "light"
          },
          "paper_bgcolor": "white",
          "plot_bgcolor": "#E5ECF6",
          "polar": {
           "angularaxis": {
            "gridcolor": "white",
            "linecolor": "white",
            "ticks": ""
           },
           "bgcolor": "#E5ECF6",
           "radialaxis": {
            "gridcolor": "white",
            "linecolor": "white",
            "ticks": ""
           }
          },
          "scene": {
           "xaxis": {
            "backgroundcolor": "#E5ECF6",
            "gridcolor": "white",
            "gridwidth": 2,
            "linecolor": "white",
            "showbackground": true,
            "ticks": "",
            "zerolinecolor": "white"
           },
           "yaxis": {
            "backgroundcolor": "#E5ECF6",
            "gridcolor": "white",
            "gridwidth": 2,
            "linecolor": "white",
            "showbackground": true,
            "ticks": "",
            "zerolinecolor": "white"
           },
           "zaxis": {
            "backgroundcolor": "#E5ECF6",
            "gridcolor": "white",
            "gridwidth": 2,
            "linecolor": "white",
            "showbackground": true,
            "ticks": "",
            "zerolinecolor": "white"
           }
          },
          "shapedefaults": {
           "line": {
            "color": "#2a3f5f"
           }
          },
          "ternary": {
           "aaxis": {
            "gridcolor": "white",
            "linecolor": "white",
            "ticks": ""
           },
           "baxis": {
            "gridcolor": "white",
            "linecolor": "white",
            "ticks": ""
           },
           "bgcolor": "#E5ECF6",
           "caxis": {
            "gridcolor": "white",
            "linecolor": "white",
            "ticks": ""
           }
          },
          "title": {
           "x": 0.05
          },
          "xaxis": {
           "automargin": true,
           "gridcolor": "white",
           "linecolor": "white",
           "ticks": "",
           "title": {
            "standoff": 15
           },
           "zerolinecolor": "white",
           "zerolinewidth": 2
          },
          "yaxis": {
           "automargin": true,
           "gridcolor": "white",
           "linecolor": "white",
           "ticks": "",
           "title": {
            "standoff": 15
           },
           "zerolinecolor": "white",
           "zerolinewidth": 2
          }
         }
        },
        "title": {
         "text": "Top 10 Poblacion Mundial"
        }
       }
      }
     },
     "metadata": {},
     "output_type": "display_data"
    }
   ],
   "source": [
    "df1 = df.sort_values(by=['World Population Percentage'], ascending=False)[:10]\n",
    "fig = px.pie(df1, values='World Population Percentage', names='Country/Territory', \n",
    "    title='Top 10 Poblacion Mundial')\n",
    "fig.show();\n",
    "fig.write_html(\"top15_pop_dist.html\")"
   ]
  },
  {
   "cell_type": "markdown",
   "metadata": {},
   "source": [
    "TREEMAP"
   ]
  },
  {
   "cell_type": "code",
   "execution_count": 6,
   "metadata": {},
   "outputs": [
    {
     "data": {
      "application/vnd.plotly.v1+json": {
       "config": {
        "plotlyServerURL": "https://plot.ly"
       },
       "data": [
        {
         "branchvalues": "total",
         "customdata": [
          [
           10752971
          ],
          [
           12486631
          ],
          [
           10694796
          ],
          [
           19542982
          ],
          [
           28189672
          ],
          [
           33753499
          ],
          [
           38972230
          ],
          [
           41128771
          ],
          [
           2324731
          ],
          [
           2941651
          ],
          [
           3295066
          ],
          [
           3182021
          ],
          [
           2913399
          ],
          [
           2882481
          ],
          [
           2866849
          ],
          [
           2842321
          ],
          [
           13795915
          ],
          [
           18739378
          ],
          [
           25518074
          ],
          [
           30774621
          ],
          [
           35856344
          ],
          [
           39543154
          ],
          [
           43451666
          ],
          [
           44903225
          ],
          [
           27075
          ],
          [
           32886
          ],
          [
           47818
          ],
          [
           58230
          ],
          [
           54849
          ],
          [
           51368
          ],
          [
           46189
          ],
          [
           44273
          ],
          [
           19860
          ],
          [
           35611
          ],
          [
           53569
          ],
          [
           66097
          ],
          [
           71519
          ],
          [
           71746
          ],
          [
           77700
          ],
          [
           79824
          ],
          [
           6029700
          ],
          [
           8330047
          ],
          [
           11828638
          ],
          [
           16394062
          ],
          [
           23364185
          ],
          [
           28127721
          ],
          [
           33428485
          ],
          [
           35588987
          ],
          [
           6283
          ],
          [
           6560
          ],
          [
           8316
          ],
          [
           11047
          ],
          [
           13172
          ],
          [
           14525
          ],
          [
           15585
          ],
          [
           15857
          ],
          [
           64516
          ],
          [
           64888
          ],
          [
           63328
          ],
          [
           75055
          ],
          [
           85695
          ],
          [
           89941
          ],
          [
           92664
          ],
          [
           93763
          ],
          [
           23842803
          ],
          [
           28024803
          ],
          [
           32637657
          ],
          [
           37070774
          ],
          [
           41100123
          ],
          [
           43257065
          ],
          [
           45036032
          ],
          [
           45510318
          ],
          [
           2534377
          ],
          [
           3135123
          ],
          [
           3556539
          ],
          [
           3168523
          ],
          [
           2946293
          ],
          [
           2878595
          ],
          [
           2805608
          ],
          [
           2780469
          ],
          [
           59106
          ],
          [
           62267
          ],
          [
           65712
          ],
          [
           89101
          ],
          [
           100341
          ],
          [
           104257
          ],
          [
           106585
          ],
          [
           106445
          ],
          [
           12595034
          ],
          [
           14706322
          ],
          [
           17048003
          ],
          [
           19017963
          ],
          [
           22019168
          ],
          [
           23820236
          ],
          [
           25670051
          ],
          [
           26177413
          ],
          [
           7465301
          ],
          [
           7547561
          ],
          [
           7678729
          ],
          [
           8010428
          ],
          [
           8362829
          ],
          [
           8642421
          ],
          [
           8907777
          ],
          [
           8939617
          ],
          [
           5425317
          ],
          [
           6383060
          ],
          [
           7427836
          ],
          [
           8190337
          ],
          [
           9237202
          ],
          [
           9863480
          ],
          [
           10284951
          ],
          [
           10358074
          ],
          [
           179129
          ],
          [
           223752
          ],
          [
           270679
          ],
          [
           325014
          ],
          [
           373272
          ],
          [
           392697
          ],
          [
           406471
          ],
          [
           409984
          ],
          [
           222555
          ],
          [
           362595
          ],
          [
           517418
          ],
          [
           711442
          ],
          [
           1213645
          ],
          [
           1362142
          ],
          [
           1477469
          ],
          [
           1472233
          ],
          [
           67541860
          ],
          [
           83929765
          ],
          [
           107147650.99999999
          ],
          [
           129193326.99999999
          ],
          [
           148391139
          ],
          [
           157830000
          ],
          [
           167420951
          ],
          [
           171186372
          ],
          [
           241397
          ],
          [
           253575
          ],
          [
           258868
          ],
          [
           264657
          ],
          [
           274711
          ],
          [
           278083
          ],
          [
           280693
          ],
          [
           281635
          ],
          [
           9170786
          ],
          [
           9817257
          ],
          [
           10428525
          ],
          [
           10256483
          ],
          [
           9731427
          ],
          [
           9700609
          ],
          [
           9633740
          ],
          [
           9534954
          ],
          [
           9629376
          ],
          [
           9828986
          ],
          [
           9959560
          ],
          [
           10264343
          ],
          [
           10877947
          ],
          [
           11248303
          ],
          [
           11561717
          ],
          [
           11655930
          ],
          [
           120905
          ],
          [
           145133
          ],
          [
           182589
          ],
          [
           240406
          ],
          [
           322106
          ],
          [
           359871
          ],
          [
           394921
          ],
          [
           405272
          ],
          [
           3023443
          ],
          [
           3833939
          ],
          [
           5133419
          ],
          [
           6998023
          ],
          [
           9445710
          ],
          [
           10932783
          ],
          [
           12643123
          ],
          [
           13352864
          ],
          [
           52019
          ],
          [
           53565
          ],
          [
           57470
          ],
          [
           61371
          ],
          [
           63447
          ],
          [
           63144
          ],
          [
           64031
          ],
          [
           64184
          ],
          [
           298894
          ],
          [
           415257
          ],
          [
           558442
          ],
          [
           587207
          ],
          [
           705516
          ],
          [
           743274
          ],
          [
           772506
          ],
          [
           782455
          ],
          [
           4585693
          ],
          [
           5736088
          ],
          [
           7096194
          ],
          [
           8592656
          ],
          [
           10223270
          ],
          [
           11090085
          ],
          [
           11936162
          ],
          [
           12224110
          ],
          [
           3815561
          ],
          [
           4199820
          ],
          [
           4494310
          ],
          [
           4179350
          ],
          [
           3811088
          ],
          [
           3524324
          ],
          [
           3318407
          ],
          [
           3233526
          ],
          [
           592244
          ],
          [
           938578
          ],
          [
           1341474
          ],
          [
           1726985
          ],
          [
           2091664
          ],
          [
           2305171
          ],
          [
           2546402
          ],
          [
           2630296
          ],
          [
           96369874.99999999
          ],
          [
           122288382.99999999
          ],
          [
           150706446
          ],
          [
           175873720
          ],
          [
           196353492
          ],
          [
           205188205
          ],
          [
           213196304
          ],
          [
           215313497.99999997
          ],
          [
           9581
          ],
          [
           11109
          ],
          [
           15617
          ],
          [
           20104
          ],
          [
           27556
          ],
          [
           29366
          ],
          [
           30910
          ],
          [
           31305
          ],
          [
           133343
          ],
          [
           187921
          ],
          [
           261928
          ],
          [
           333926
          ],
          [
           396053
          ],
          [
           421437
          ],
          [
           441725
          ],
          [
           449002
          ],
          [
           8582950
          ],
          [
           8980606
          ],
          [
           8767778
          ],
          [
           8097691
          ],
          [
           7592273
          ],
          [
           7309253
          ],
          [
           6979175
          ],
          [
           6781953
          ],
          [
           5611666
          ],
          [
           6932967
          ],
          [
           9131361
          ],
          [
           11882888
          ],
          [
           16116845
          ],
          [
           18718019
          ],
          [
           21522626
          ],
          [
           22673762
          ],
          [
           3497834
          ],
          [
           4312834
          ],
          [
           5483793
          ],
          [
           6307659
          ],
          [
           9126605
          ],
          [
           10727148
          ],
          [
           12220227
          ],
          [
           12889576
          ],
          [
           6708525
          ],
          [
           6198959
          ],
          [
           8910808
          ],
          [
           12118841
          ],
          [
           14363532
          ],
          [
           15417523
          ],
          [
           16396860
          ],
          [
           16767842
          ],
          [
           6452787
          ],
          [
           8519891
          ],
          [
           11430520
          ],
          [
           15091594
          ],
          [
           19878036
          ],
          [
           23012646
          ],
          [
           26491087
          ],
          [
           27914536
          ],
          [
           21434577
          ],
          [
           24511510
          ],
          [
           27657204
          ],
          [
           30683313
          ],
          [
           33963412
          ],
          [
           35732126
          ],
          [
           37888705
          ],
          [
           38454327
          ],
          [
           287262
          ],
          [
           317234
          ],
          [
           364563
          ],
          [
           458251
          ],
          [
           521212
          ],
          [
           552166
          ],
          [
           582640
          ],
          [
           593149
          ],
          [
           10533
          ],
          [
           17100
          ],
          [
           26027
          ],
          [
           39658
          ],
          [
           54074
          ],
          [
           60911
          ],
          [
           67311
          ],
          [
           68706
          ],
          [
           2067356
          ],
          [
           2415276
          ],
          [
           2809221
          ],
          [
           3759170
          ],
          [
           4660067
          ],
          [
           4819333
          ],
          [
           5343020
          ],
          [
           5579144
          ],
          [
           3667394
          ],
          [
           4408230
          ],
          [
           5827069
          ],
          [
           8259137
          ],
          [
           11894727
          ],
          [
           14140274
          ],
          [
           16644701
          ],
          [
           17723315
          ],
          [
           9820481
          ],
          [
           11469828
          ],
          [
           13342868
          ],
          [
           15351799
          ],
          [
           17004162
          ],
          [
           17870124
          ],
          [
           19300315
          ],
          [
           19603733
          ],
          [
           822534450.0000001
          ],
          [
           982372466.0000001
          ],
          [
           1153704252
          ],
          [
           1264099069
          ],
          [
           1348191368
          ],
          [
           1393715448
          ],
          [
           1424929781
          ],
          [
           1425887337
          ],
          [
           20905254
          ],
          [
           26176195
          ],
          [
           32601393
          ],
          [
           39215135
          ],
          [
           44816108
          ],
          [
           47119728
          ],
          [
           50930662
          ],
          [
           51874024
          ],
          [
           242351
          ],
          [
           328328
          ],
          [
           431119
          ],
          [
           536758
          ],
          [
           656024
          ],
          [
           730216
          ],
          [
           806166
          ],
          [
           836774
          ],
          [
           20470
          ],
          [
           17651
          ],
          [
           17123
          ],
          [
           15897
          ],
          [
           17212
          ],
          [
           17695
          ],
          [
           17029
          ],
          [
           17011
          ],
          [
           1855697
          ],
          [
           2414303
          ],
          [
           3158253
          ],
          [
           3979193
          ],
          [
           4622252
          ],
          [
           4895242
          ],
          [
           5123105
          ],
          [
           5180829
          ],
          [
           4492638
          ],
          [
           4680144
          ],
          [
           4873707
          ],
          [
           4548434
          ],
          [
           4368682
          ],
          [
           4254815
          ],
          [
           4096868
          ],
          [
           4030358
          ],
          [
           8869636
          ],
          [
           9809107
          ],
          [
           10626680
          ],
          [
           11105791
          ],
          [
           11290417
          ],
          [
           11339894
          ],
          [
           11300698
          ],
          [
           11212191
          ],
          [
           150385
          ],
          [
           156851
          ],
          [
           155446
          ],
          [
           141424
          ],
          [
           159380
          ],
          [
           169572
          ],
          [
           189288
          ],
          [
           191163
          ],
          [
           640804
          ],
          [
           679327
          ],
          [
           788500
          ],
          [
           948237
          ],
          [
           1129686
          ],
          [
           1187280
          ],
          [
           1237537
          ],
          [
           1251488
          ],
          [
           9795744
          ],
          [
           10270060
          ],
          [
           10301192
          ],
          [
           10234710
          ],
          [
           10464749
          ],
          [
           10523798
          ],
          [
           10530953
          ],
          [
           10493986
          ],
          [
           20151733
          ],
          [
           26708686
          ],
          [
           35987541
          ],
          [
           48616317
          ],
          [
           66391257
          ],
          [
           78656904
          ],
          [
           92853164
          ],
          [
           99010212
          ],
          [
           4922963
          ],
          [
           5125392
          ],
          [
           5144623
          ],
          [
           5340655
          ],
          [
           5550849
          ],
          [
           5677796
          ],
          [
           5825641
          ],
          [
           5882261
          ],
          [
           144379
          ],
          [
           324121
          ],
          [
           577173
          ],
          [
           742033
          ],
          [
           919199
          ],
          [
           1006259
          ],
          [
           1090156
          ],
          [
           1120849
          ],
          [
           68895
          ],
          [
           72978
          ],
          [
           69481
          ],
          [
           68346
          ],
          [
           68755
          ],
          [
           70007
          ],
          [
           71995
          ],
          [
           72737
          ],
          [
           4475871
          ],
          [
           5755800
          ],
          [
           7129004
          ],
          [
           8540791
          ],
          [
           9775755
          ],
          [
           10405832
          ],
          [
           10999664
          ],
          [
           11228821
          ],
          [
           6172215
          ],
          [
           8135845
          ],
          [
           10449837
          ],
          [
           12626507
          ],
          [
           14989585
          ],
          [
           16195902
          ],
          [
           17588595
          ],
          [
           18001000
          ],
          [
           34781986
          ],
          [
           43748556
          ],
          [
           57214630
          ],
          [
           71371371
          ],
          [
           87252413
          ],
          [
           97723798.99999999
          ],
          [
           107465134
          ],
          [
           110990102.99999999
          ],
          [
           3619090
          ],
          [
           4508992
          ],
          [
           5367179
          ],
          [
           5958482
          ],
          [
           6114034
          ],
          [
           6231066
          ],
          [
           6292731
          ],
          [
           6336392
          ],
          [
           316955
          ],
          [
           282509
          ],
          [
           465549
          ],
          [
           684977
          ],
          [
           1094524
          ],
          [
           1346973
          ],
          [
           1596049
          ],
          [
           1674908
          ],
          [
           1272748
          ],
          [
           1657982
          ],
          [
           2149960
          ],
          [
           2392880
          ],
          [
           3147727
          ],
          [
           3340006
          ],
          [
           3555868
          ],
          [
           3684032
          ],
          [
           1361999
          ],
          [
           1476983
          ],
          [
           1570674
          ],
          [
           1396877
          ],
          [
           1331535
          ],
          [
           1314657
          ],
          [
           1329444
          ],
          [
           1326062
          ],
          [
           442865
          ],
          [
           598564
          ],
          [
           854011
          ],
          [
           1030496
          ],
          [
           1099920
          ],
          [
           1133936
          ],
          [
           1180655
          ],
          [
           1201670
          ],
          [
           28308246
          ],
          [
           34945469
          ],
          [
           47878073
          ],
          [
           67031867
          ],
          [
           89237791
          ],
          [
           102471894.99999999
          ],
          [
           117190910.99999999
          ],
          [
           123379924
          ],
          [
           2274
          ],
          [
           2240
          ],
          [
           2332
          ],
          [
           3080
          ],
          [
           3187
          ],
          [
           3408
          ],
          [
           3747
          ],
          [
           3780
          ],
          [
           38416
          ],
          [
           43054
          ],
          [
           47479
          ],
          [
           45660
          ],
          [
           48410
          ],
          [
           48816
          ],
          [
           52415
          ],
          [
           53090
          ],
          [
           527634
          ],
          [
           644582
          ],
          [
           780430
          ],
          [
           832509
          ],
          [
           905169
          ],
          [
           917200
          ],
          [
           920422
          ],
          [
           929766
          ],
          [
           4606621
          ],
          [
           4779418
          ],
          [
           4986545
          ],
          [
           5176209
          ],
          [
           5363271
          ],
          [
           5479461
          ],
          [
           5529468
          ],
          [
           5540745
          ],
          [
           50523586
          ],
          [
           53713830
          ],
          [
           56412897
          ],
          [
           58665453
          ],
          [
           62444567
          ],
          [
           63809769
          ],
          [
           64480053
          ],
          [
           64626628
          ],
          [
           46484
          ],
          [
           66825
          ],
          [
           113931
          ],
          [
           164351
          ],
          [
           228453
          ],
          [
           257026
          ],
          [
           290969
          ],
          [
           304557
          ],
          [
           117891
          ],
          [
           163591
          ],
          [
           211089
          ],
          [
           250927
          ],
          [
           283788
          ],
          [
           291787
          ],
          [
           301920
          ],
          [
           306279
          ],
          [
           597192
          ],
          [
           749078
          ],
          [
           983028
          ],
          [
           1272935
          ],
          [
           1711105
          ],
          [
           2028517
          ],
          [
           2292573
          ],
          [
           2388992
          ],
          [
           528731
          ],
          [
           718586
          ],
          [
           1040616
          ],
          [
           1437539
          ],
          [
           1937275
          ],
          [
           2253133
          ],
          [
           2573995
          ],
          [
           2705992
          ],
          [
           4800426
          ],
          [
           5145843
          ],
          [
           5391636
          ],
          [
           4265172
          ],
          [
           3836831
          ],
          [
           3771132
          ],
          [
           3765912
          ],
          [
           3744385
          ],
          [
           78294583
          ],
          [
           77786703
          ],
          [
           79370196
          ],
          [
           81551677
          ],
          [
           81325090
          ],
          [
           82073226
          ],
          [
           83328988
          ],
          [
           83369843
          ],
          [
           8861895
          ],
          [
           11865246
          ],
          [
           15446982
          ],
          [
           19665502
          ],
          [
           25574719
          ],
          [
           28870939
          ],
          [
           32180401
          ],
          [
           33475870
          ],
          [
           26685
          ],
          [
           28734
          ],
          [
           27317
          ],
          [
           27741
          ],
          [
           31262
          ],
          [
           32520
          ],
          [
           32709
          ],
          [
           32649
          ],
          [
           8544873
          ],
          [
           9307148
          ],
          [
           10302255
          ],
          [
           11038109
          ],
          [
           11033783
          ],
          [
           10806641
          ],
          [
           10512232
          ],
          [
           10384971
          ],
          [
           45434
          ],
          [
           50106
          ],
          [
           55599
          ],
          [
           56184
          ],
          [
           56351
          ],
          [
           55895
          ],
          [
           56026
          ],
          [
           56466
          ],
          [
           98794
          ],
          [
           94838
          ],
          [
           99047
          ],
          [
           107432
          ],
          [
           114039
          ],
          [
           118980
          ],
          [
           123663
          ],
          [
           125438
          ],
          [
           318310
          ],
          [
           334234
          ],
          [
           391951
          ],
          [
           424067
          ],
          [
           403072
          ],
          [
           399089
          ],
          [
           395642
          ],
          [
           395752
          ],
          [
           88300
          ],
          [
           110286
          ],
          [
           138263
          ],
          [
           160188
          ],
          [
           164905
          ],
          [
           167978
          ],
          [
           169231
          ],
          [
           171774
          ],
          [
           5453208
          ],
          [
           6987767
          ],
          [
           9084780
          ],
          [
           11735894
          ],
          [
           14543121
          ],
          [
           16001107
          ],
          [
           17362718
          ],
          [
           17843908
          ],
          [
           52656
          ],
          [
           52860
          ],
          [
           57727
          ],
          [
           59114
          ],
          [
           60782
          ],
          [
           61629
          ],
          [
           62794
          ],
          [
           63301
          ],
          [
           4222374
          ],
          [
           4972609
          ],
          [
           6354145
          ],
          [
           8336967
          ],
          [
           10270728
          ],
          [
           11625998
          ],
          [
           13205153
          ],
          [
           13859341
          ],
          [
           591663
          ],
          [
           831462
          ],
          [
           973551
          ],
          [
           1230849
          ],
          [
           1567220
          ],
          [
           1788919
          ],
          [
           2015828
          ],
          [
           2105566
          ],
          [
           705261
          ],
          [
           778176
          ],
          [
           747116
          ],
          [
           759051
          ],
          [
           747932
          ],
          [
           755031
          ],
          [
           797202
          ],
          [
           808726
          ],
          [
           4680812
          ],
          [
           5646676
          ],
          [
           6925331
          ],
          [
           8360225
          ],
          [
           9842880
          ],
          [
           10563757
          ],
          [
           11306801
          ],
          [
           11584996
          ],
          [
           2782753
          ],
          [
           3777990
          ],
          [
           5053234
          ],
          [
           6656725
          ],
          [
           8450933
          ],
          [
           9294505
          ],
          [
           10121763
          ],
          [
           10432860
          ],
          [
           3955072
          ],
          [
           4978544
          ],
          [
           5838574
          ],
          [
           6731195
          ],
          [
           7132438
          ],
          [
           7399838
          ],
          [
           7500958
          ],
          [
           7488865
          ],
          [
           10315366
          ],
          [
           10698679
          ],
          [
           10375989
          ],
          [
           10202055
          ],
          [
           9986825
          ],
          [
           9844246
          ],
          [
           9750573
          ],
          [
           9967308
          ],
          [
           204468
          ],
          [
           228263
          ],
          [
           255019
          ],
          [
           281462
          ],
          [
           318333
          ],
          [
           331060
          ],
          [
           366669
          ],
          [
           372899
          ],
          [
           557501301
          ],
          [
           696828385
          ],
          [
           870452165
          ],
          [
           1059633675
          ],
          [
           1240613620
          ],
          [
           1322866505
          ],
          [
           1396387127
          ],
          [
           1417173173
          ],
          [
           115228394
          ],
          [
           148177096
          ],
          [
           182159874
          ],
          [
           214072421
          ],
          [
           244016173
          ],
          [
           259091969.99999997
          ],
          [
           271857970
          ],
          [
           275501339
          ],
          [
           28449705
          ],
          [
           38520664
          ],
          [
           55793629
          ],
          [
           65544383
          ],
          [
           75373855
          ],
          [
           81790841
          ],
          [
           87290193
          ],
          [
           88550570
          ],
          [
           9811347
          ],
          [
           13653369
          ],
          [
           17658381
          ],
          [
           24628858
          ],
          [
           31264875
          ],
          [
           37757813
          ],
          [
           42556984
          ],
          [
           44496122
          ],
          [
           2937637
          ],
          [
           3391387
          ],
          [
           3485374
          ],
          [
           3768950
          ],
          [
           4524585
          ],
          [
           4665760
          ],
          [
           4946119
          ],
          [
           5023109
          ],
          [
           55298
          ],
          [
           64022
          ],
          [
           68865
          ],
          [
           75562
          ],
          [
           83828
          ],
          [
           83593
          ],
          [
           84046
          ],
          [
           84519
          ],
          [
           2907307
          ],
          [
           3744608
          ],
          [
           4803254
          ],
          [
           6116958
          ],
          [
           7328445
          ],
          [
           8007778
          ],
          [
           8757489
          ],
          [
           9038309
          ],
          [
           53324036
          ],
          [
           56329482
          ],
          [
           56756561
          ],
          [
           56966397
          ],
          [
           59822450
          ],
          [
           60232906
          ],
          [
           59500579
          ],
          [
           59037474
          ],
          [
           5477086
          ],
          [
           8303809
          ],
          [
           11910540
          ],
          [
           16799670
          ],
          [
           21120042
          ],
          [
           23596741
          ],
          [
           26811790
          ],
          [
           28160542
          ],
          [
           1859091
          ],
          [
           2135546
          ],
          [
           2392030
          ],
          [
           2612205
          ],
          [
           2733896
          ],
          [
           2794445
          ],
          [
           2820436
          ],
          [
           2827377
          ],
          [
           105416838.99999999
          ],
          [
           117624196
          ],
          [
           123686320.99999999
          ],
          [
           126803860.99999999
          ],
          [
           128105430.99999999
          ],
          [
           127250932.99999999
          ],
          [
           125244760.99999999
          ],
          [
           123951692
          ],
          [
           68347
          ],
          [
           75124
          ],
          [
           82874
          ],
          [
           86192
          ],
          [
           96151
          ],
          [
           100561
          ],
          [
           108319
          ],
          [
           110778
          ],
          [
           1557374
          ],
          [
           2216903
          ],
          [
           3480587
          ],
          [
           5056174
          ],
          [
           6931258
          ],
          [
           9494246
          ],
          [
           10928721
          ],
          [
           11285869
          ],
          [
           12265305
          ],
          [
           14172710
          ],
          [
           16866563
          ],
          [
           15236253
          ],
          [
           16627837
          ],
          [
           17835909
          ],
          [
           18979243
          ],
          [
           19397998
          ],
          [
           11473087
          ],
          [
           16187124
          ],
          [
           23162269
          ],
          [
           30851606
          ],
          [
           41517895
          ],
          [
           46851488
          ],
          [
           51985780
          ],
          [
           54027487
          ],
          [
           57437
          ],
          [
           60813
          ],
          [
           75124
          ],
          [
           88826
          ],
          [
           107995
          ],
          [
           116707
          ],
          [
           126463
          ],
          [
           131232
          ],
          [
           802786
          ],
          [
           1493870
          ],
          [
           1674938
          ],
          [
           1934901
          ],
          [
           2943356
          ],
          [
           3908743
          ],
          [
           4360444
          ],
          [
           4268873
          ],
          [
           3016384
          ],
          [
           3691209
          ],
          [
           4394734
          ],
          [
           4935182
          ],
          [
           5483774
          ],
          [
           5914980
          ],
          [
           6424874
          ],
          [
           6630623
          ],
          [
           2675283
          ],
          [
           3297519
          ],
          [
           4314443
          ],
          [
           5430853
          ],
          [
           6323418
          ],
          [
           6787419
          ],
          [
           7319399
          ],
          [
           7529475
          ],
          [
           2397414
          ],
          [
           2572037
          ],
          [
           2689391
          ],
          [
           2392530
          ],
          [
           2101530
          ],
          [
           1991955
          ],
          [
           1897052
          ],
          [
           1850651
          ],
          [
           2381791
          ],
          [
           2963702
          ],
          [
           3593700
          ],
          [
           4320642
          ],
          [
           4995800
          ],
          [
           6398940
          ],
          [
           5662923
          ],
          [
           5489739
          ],
          [
           1023481
          ],
          [
           1407672
          ],
          [
           1798997
          ],
          [
           1998630
          ],
          [
           2022747
          ],
          [
           2118521
          ],
          [
           2254100
          ],
          [
           2305825
          ],
          [
           1463563
          ],
          [
           1932169
          ],
          [
           2209731
          ],
          [
           2895224
          ],
          [
           4019956
          ],
          [
           4612329
          ],
          [
           5087584
          ],
          [
           5302681
          ],
          [
           1909177
          ],
          [
           2962720
          ],
          [
           4236983
          ],
          [
           5154790
          ],
          [
           6491988
          ],
          [
           6192235
          ],
          [
           6653942
          ],
          [
           6812341
          ],
          [
           21089
          ],
          [
           25003
          ],
          [
           28765
          ],
          [
           33026
          ],
          [
           35926
          ],
          [
           37355
          ],
          [
           38756
          ],
          [
           39327
          ],
          [
           3210147
          ],
          [
           3521206
          ],
          [
           3785847
          ],
          [
           3599637
          ],
          [
           3139019
          ],
          [
           2963765
          ],
          [
           2820267
          ],
          [
           2750055
          ],
          [
           339342
          ],
          [
           363741
          ],
          [
           381267
          ],
          [
           435628
          ],
          [
           507070
          ],
          [
           569408
          ],
          [
           630399
          ],
          [
           647599
          ],
          [
           247284
          ],
          [
           245332
          ],
          [
           350227
          ],
          [
           431896
          ],
          [
           557297
          ],
          [
           615239
          ],
          [
           676283
          ],
          [
           695168
          ],
          [
           6639751
          ],
          [
           8948162
          ],
          [
           11882762
          ],
          [
           16216431
          ],
          [
           21731053
          ],
          [
           24850912
          ],
          [
           28225177
          ],
          [
           29611714
          ],
          [
           4625141
          ],
          [
           6267369
          ],
          [
           9539665
          ],
          [
           11229387
          ],
          [
           14718422
          ],
          [
           16938942
          ],
          [
           19377061
          ],
          [
           20405317
          ],
          [
           10306508
          ],
          [
           13215707
          ],
          [
           17517054
          ],
          [
           22945150
          ],
          [
           28717731
          ],
          [
           31068833
          ],
          [
           33199993
          ],
          [
           33938221
          ],
          [
           123243
          ],
          [
           164887
          ],
          [
           224957
          ],
          [
           282507
          ],
          [
           361575
          ],
          [
           435582
          ],
          [
           514438
          ],
          [
           523787
          ],
          [
           6153587
          ],
          [
           7372581
          ],
          [
           8945026
          ],
          [
           11239101
          ],
          [
           15529181
          ],
          [
           18112907
          ],
          [
           21224040
          ],
          [
           22593590
          ],
          [
           315414
          ],
          [
           333587
          ],
          [
           365392
          ],
          [
           399212
          ],
          [
           418755
          ],
          [
           456579
          ],
          [
           515357
          ],
          [
           533286
          ],
          [
           23969
          ],
          [
           31988
          ],
          [
           46047
          ],
          [
           54224
          ],
          [
           53416
          ],
          [
           49410
          ],
          [
           43413
          ],
          [
           41569
          ],
          [
           326428
          ],
          [
           333786
          ],
          [
           374271
          ],
          [
           432543
          ],
          [
           392181
          ],
          [
           383515
          ],
          [
           370391
          ],
          [
           367507
          ],
          [
           1122198
          ],
          [
           1506694
          ],
          [
           2006027
          ],
          [
           2695003
          ],
          [
           3419461
          ],
          [
           3946220
          ],
          [
           4498604
          ],
          [
           4736139
          ],
          [
           830115
          ],
          [
           954865
          ],
          [
           1090290
          ],
          [
           1215930
          ],
          [
           1283330
          ],
          [
           1293153
          ],
          [
           1297828
          ],
          [
           1299469
          ],
          [
           35383
          ],
          [
           52233
          ],
          [
           92659
          ],
          [
           159215
          ],
          [
           211786
          ],
          [
           249545
          ],
          [
           305587
          ],
          [
           326101
          ],
          [
           50289306
          ],
          [
           67705186
          ],
          [
           81720428
          ],
          [
           97873442
          ],
          [
           112532400.99999999
          ],
          [
           120149896.99999999
          ],
          [
           125998302
          ],
          [
           127504124.99999999
          ],
          [
           58989
          ],
          [
           76299
          ],
          [
           98603
          ],
          [
           111709
          ],
          [
           107588
          ],
          [
           109462
          ],
          [
           112106
          ],
          [
           114164
          ],
          [
           3711140
          ],
          [
           4103240
          ],
          [
           4480199
          ],
          [
           4251573
          ],
          [
           3678186
          ],
          [
           3277388
          ],
          [
           3084847
          ],
          [
           3272996
          ],
          [
           24270
          ],
          [
           27076
          ],
          [
           30329
          ],
          [
           32465
          ],
          [
           33178
          ],
          [
           36760
          ],
          [
           36922
          ],
          [
           36469
          ],
          [
           1293880
          ],
          [
           1697780
          ],
          [
           2161433
          ],
          [
           2450979
          ],
          [
           2702520
          ],
          [
           2964749
          ],
          [
           3294335
          ],
          [
           3398366
          ],
          [
           530268
          ],
          [
           589324
          ],
          [
           621442
          ],
          [
           633324
          ],
          [
           631044
          ],
          [
           633966
          ],
          [
           629048
          ],
          [
           627082
          ],
          [
           11402
          ],
          [
           11452
          ],
          [
           10805
          ],
          [
           5138
          ],
          [
           4938
          ],
          [
           5059
          ],
          [
           4500
          ],
          [
           4390
          ],
          [
           15274351
          ],
          [
           19678444
          ],
          [
           24570814
          ],
          [
           28554415
          ],
          [
           32464865
          ],
          [
           34680458
          ],
          [
           36688772
          ],
          [
           37457971
          ],
          [
           8411676
          ],
          [
           11413587
          ],
          [
           13303459
          ],
          [
           17768505
          ],
          [
           23073723
          ],
          [
           26843246
          ],
          [
           31178239
          ],
          [
           32969517
          ],
          [
           27284112
          ],
          [
           33465781
          ],
          [
           40099553
          ],
          [
           45538332
          ],
          [
           49390988
          ],
          [
           51483949
          ],
          [
           53423198
          ],
          [
           54179306
          ],
          [
           754467
          ],
          [
           975994
          ],
          [
           1369011
          ],
          [
           1819141
          ],
          [
           2099271
          ],
          [
           2282704
          ],
          [
           2489098
          ],
          [
           2567012
          ],
          [
           6663
          ],
          [
           7635
          ],
          [
           9598
          ],
          [
           10377
          ],
          [
           10241
          ],
          [
           11185
          ],
          [
           12315
          ],
          [
           12668
          ],
          [
           12501285
          ],
          [
           15600442
          ],
          [
           19616530
          ],
          [
           24559500
          ],
          [
           27161567
          ],
          [
           27610325
          ],
          [
           29348627
          ],
          [
           30547580
          ],
          [
           13037686
          ],
          [
           14130387
          ],
          [
           14944548
          ],
          [
           15899135
          ],
          [
           16617116
          ],
          [
           17041107
          ],
          [
           17434557
          ],
          [
           17564014
          ],
          [
           110982
          ],
          [
           148599
          ],
          [
           177264
          ],
          [
           221537
          ],
          [
           261426
          ],
          [
           283032
          ],
          [
           286403
          ],
          [
           289950
          ],
          [
           2824061
          ],
          [
           3147168
          ],
          [
           3397389
          ],
          [
           3855266
          ],
          [
           4346338
          ],
          [
           4590590
          ],
          [
           5061133
          ],
          [
           5185288
          ],
          [
           2444767
          ],
          [
           3303309
          ],
          [
           4227820
          ],
          [
           5123222
          ],
          [
           5855734
          ],
          [
           6298598
          ],
          [
           6755895
          ],
          [
           6948392
          ],
          [
           4669708
          ],
          [
           6173177
          ],
          [
           8370647
          ],
          [
           11622665
          ],
          [
           16647543
          ],
          [
           20128124
          ],
          [
           24333639
          ],
          [
           26207977
          ],
          [
           55569264
          ],
          [
           72951439
          ],
          [
           95214256.99999999
          ],
          [
           122851984
          ],
          [
           160952853
          ],
          [
           183995785
          ],
          [
           208327405
          ],
          [
           218541212
          ],
          [
           5185
          ],
          [
           3637
          ],
          [
           2533
          ],
          [
           2074
          ],
          [
           1812
          ],
          [
           1847
          ],
          [
           1942
          ],
          [
           1934
          ],
          [
           14996879
          ],
          [
           17973650
          ],
          [
           20799523
          ],
          [
           23367059
          ],
          [
           24686435
          ],
          [
           25258015
          ],
          [
           25867467
          ],
          [
           26069416
          ],
          [
           1656783
          ],
          [
           1907023
          ],
          [
           2044174
          ],
          [
           2037936
          ],
          [
           2093828
          ],
          [
           2107962
          ],
          [
           2111072
          ],
          [
           2093599
          ],
          [
           10143
          ],
          [
           17613
          ],
          [
           48002
          ],
          [
           80338
          ],
          [
           54087
          ],
          [
           51514
          ],
          [
           49587
          ],
          [
           49551
          ],
          [
           3875546
          ],
          [
           4085776
          ],
          [
           4241636
          ],
          [
           4491202
          ],
          [
           4889741
          ],
          [
           5190356
          ],
          [
           5379839
          ],
          [
           5434319
          ],
          [
           670693
          ],
          [
           1017462
          ],
          [
           1804524
          ],
          [
           2344253
          ],
          [
           2881914
          ],
          [
           4191776
          ],
          [
           4543399
          ],
          [
           4576298
          ],
          [
           59290872
          ],
          [
           80624057
          ],
          [
           115414068.99999999
          ],
          [
           154369924
          ],
          [
           194454497.99999997
          ],
          [
           210969297.99999997
          ],
          [
           227196741
          ],
          [
           235824861.99999997
          ],
          [
           11366
          ],
          [
           12252
          ],
          [
           15293
          ],
          [
           19726
          ],
          [
           18540
          ],
          [
           17794
          ],
          [
           17972
          ],
          [
           18055
          ],
          [
           1118241
          ],
          [
           1453620
          ],
          [
           2124609
          ],
          [
           3139954
          ],
          [
           3992278
          ],
          [
           4484614
          ],
          [
           5019401
          ],
          [
           5250072
          ],
          [
           1516188
          ],
          [
           1956987
          ],
          [
           2449968
          ],
          [
           3001731
          ],
          [
           3623617
          ],
          [
           3957099
          ],
          [
           4294396
          ],
          [
           4408581
          ],
          [
           2489059
          ],
          [
           3104788
          ],
          [
           3864972
          ],
          [
           5508297
          ],
          [
           7583269
          ],
          [
           8682174
          ],
          [
           9749640
          ],
          [
           10142619
          ],
          [
           2408787
          ],
          [
           3078912
          ],
          [
           4059195
          ],
          [
           5123819
          ],
          [
           5768613
          ],
          [
           6177950
          ],
          [
           6618695
          ],
          [
           6780744
          ],
          [
           13562371
          ],
          [
           17492406
          ],
          [
           22109099
          ],
          [
           26654439
          ],
          [
           29229572
          ],
          [
           30711863
          ],
          [
           33304756
          ],
          [
           34049588
          ],
          [
           37435586
          ],
          [
           48419546
          ],
          [
           61558898
          ],
          [
           77958223
          ],
          [
           94636700
          ],
          [
           103031364.99999999
          ],
          [
           112190976.99999999
          ],
          [
           115559008.99999999
          ],
          [
           32482943
          ],
          [
           35521429
          ],
          [
           38064255
          ],
          [
           38504431
          ],
          [
           38597353
          ],
          [
           38553146
          ],
          [
           38428366
          ],
          [
           39857145
          ],
          [
           8683631
          ],
          [
           9785252
          ],
          [
           10007346
          ],
          [
           10300626
          ],
          [
           10588401
          ],
          [
           10365435
          ],
          [
           10298192
          ],
          [
           10270865
          ],
          [
           2737619
          ],
          [
           3214568
          ],
          [
           3543776
          ],
          [
           3827108
          ],
          [
           3717922
          ],
          [
           3497335
          ],
          [
           3271564
          ],
          [
           3252407
          ],
          [
           118007
          ],
          [
           277450
          ],
          [
           441675
          ],
          [
           645937
          ],
          [
           1713504
          ],
          [
           2414573
          ],
          [
           2760385
          ],
          [
           2695122
          ],
          [
           1396989
          ],
          [
           1829256
          ],
          [
           2385435
          ],
          [
           3134030
          ],
          [
           4437884
          ],
          [
           5064386
          ],
          [
           5702174
          ],
          [
           5970424
          ],
          [
           473925
          ],
          [
           551674
          ],
          [
           658992
          ],
          [
           785424
          ],
          [
           890130
          ],
          [
           922495
          ],
          [
           957822
          ],
          [
           974052
          ],
          [
           19922618
          ],
          [
           22125224
          ],
          [
           22836234
          ],
          [
           21919876
          ],
          [
           20335211
          ],
          [
           19906079
          ],
          [
           19442038
          ],
          [
           19659267
          ],
          [
           130093010
          ],
          [
           138257420
          ],
          [
           148005704
          ],
          [
           146844839
          ],
          [
           143242599
          ],
          [
           144668389
          ],
          [
           145617329
          ],
          [
           144713314
          ],
          [
           3896367
          ],
          [
           5247532
          ],
          [
           7319962
          ],
          [
           8109989
          ],
          [
           10309031
          ],
          [
           11642959
          ],
          [
           13146362
          ],
          [
           13776698
          ],
          [
           2417
          ],
          [
           2983
          ],
          [
           5168
          ],
          [
           7082
          ],
          [
           8988
          ],
          [
           9643
          ],
          [
           10681
          ],
          [
           10967
          ],
          [
           44968
          ],
          [
           43097
          ],
          [
           40636
          ],
          [
           45461
          ],
          [
           47403
          ],
          [
           47790
          ],
          [
           47642
          ],
          [
           47657
          ],
          [
           103090
          ],
          [
           121633
          ],
          [
           142301
          ],
          [
           159500
          ],
          [
           170935
          ],
          [
           175623
          ],
          [
           179237
          ],
          [
           179857
          ],
          [
           5802
          ],
          [
           7776
          ],
          [
           28127
          ],
          [
           29610
          ],
          [
           36458
          ],
          [
           35020
          ],
          [
           32552
          ],
          [
           31791
          ],
          [
           5537
          ],
          [
           6106
          ],
          [
           6324
          ],
          [
           6274
          ],
          [
           6052
          ],
          [
           5978
          ],
          [
           5906
          ],
          [
           5862
          ],
          [
           98459
          ],
          [
           107480
          ],
          [
           112487
          ],
          [
           113813
          ],
          [
           109308
          ],
          [
           106482
          ],
          [
           104632
          ],
          [
           103948
          ],
          [
           142771
          ],
          [
           164905
          ],
          [
           168186
          ],
          [
           184008
          ],
          [
           194672
          ],
          [
           203571
          ],
          [
           214929
          ],
          [
           222382
          ],
          [
           18169
          ],
          [
           21346
          ],
          [
           23132
          ],
          [
           26823
          ],
          [
           31608
          ],
          [
           33570
          ],
          [
           34007
          ],
          [
           33660
          ],
          [
           77583
          ],
          [
           97210
          ],
          [
           120343
          ],
          [
           143714
          ],
          [
           182138
          ],
          [
           201124
          ],
          [
           218641
          ],
          [
           227380
          ],
          [
           6106191
          ],
          [
           10171710
          ],
          [
           16004763
          ],
          [
           21547390
          ],
          [
           29411929
          ],
          [
           32749848
          ],
          [
           35997107
          ],
          [
           36408820
          ],
          [
           4367744
          ],
          [
           5703869
          ],
          [
           7536001
          ],
          [
           9704287
          ],
          [
           12530121
          ],
          [
           14356181
          ],
          [
           16436119
          ],
          [
           17316449
          ],
          [
           7193533
          ],
          [
           7777010
          ],
          [
           7987529
          ],
          [
           7935022
          ],
          [
           7653748
          ],
          [
           7519496
          ],
          [
           7358005
          ],
          [
           7221365
          ],
          [
           54379
          ],
          [
           65290
          ],
          [
           71057
          ],
          [
           80060
          ],
          [
           92409
          ],
          [
           99240
          ],
          [
           105530
          ],
          [
           107118
          ],
          [
           2778557
          ],
          [
           3367477
          ],
          [
           4325388
          ],
          [
           4584067
          ],
          [
           6436698
          ],
          [
           7314773
          ],
          [
           8233969
          ],
          [
           8605718
          ],
          [
           2061831
          ],
          [
           2400729
          ],
          [
           3022209
          ],
          [
           4053602
          ],
          [
           5163590
          ],
          [
           5650018
          ],
          [
           5909869
          ],
          [
           5975689
          ],
          [
           6260
          ],
          [
           12243
          ],
          [
           27845
          ],
          [
           30489
          ],
          [
           33034
          ],
          [
           40205
          ],
          [
           43621
          ],
          [
           44175
          ],
          [
           4522867
          ],
          [
           4973883
          ],
          [
           5261305
          ],
          [
           5376690
          ],
          [
           5396424
          ],
          [
           5424444
          ],
          [
           5456681
          ],
          [
           5643453
          ],
          [
           1741286
          ],
          [
           1901570
          ],
          [
           1986024
          ],
          [
           1984339
          ],
          [
           2057286
          ],
          [
           2080862
          ],
          [
           2117641
          ],
          [
           2119844
          ],
          [
           172833
          ],
          [
           233668
          ],
          [
           324171
          ],
          [
           429978
          ],
          [
           540394
          ],
          [
           612660
          ],
          [
           691191
          ],
          [
           724273
          ],
          [
           3720977
          ],
          [
           5892224
          ],
          [
           6999096
          ],
          [
           8721465
          ],
          [
           12026649
          ],
          [
           13763906
          ],
          [
           16537016
          ],
          [
           17597511
          ],
          [
           22368306
          ],
          [
           29463549
          ],
          [
           39877570
          ],
          [
           46813266
          ],
          [
           51784921
          ],
          [
           55876504
          ],
          [
           58801927
          ],
          [
           59893885
          ],
          [
           32601143
          ],
          [
           38170501
          ],
          [
           44120039
          ],
          [
           46788591
          ],
          [
           48813042
          ],
          [
           50994401
          ],
          [
           51844690
          ],
          [
           51815810
          ],
          [
           3342410
          ],
          [
           4192011
          ],
          [
           4750817
          ],
          [
           6114440
          ],
          [
           9714419
          ],
          [
           11194299
          ],
          [
           10606227
          ],
          [
           10913164
          ],
          [
           33792617
          ],
          [
           37491666
          ],
          [
           38889889
          ],
          [
           40741651
          ],
          [
           46572772
          ],
          [
           46431342
          ],
          [
           47363807
          ],
          [
           47558630
          ],
          [
           12388769
          ],
          [
           14943645
          ],
          [
           17204094
          ],
          [
           18776371
          ],
          [
           20668557
          ],
          [
           21336697
          ],
          [
           21715079
          ],
          [
           21832143
          ],
          [
           11305206
          ],
          [
           16673586
          ],
          [
           21090886
          ],
          [
           26298773
          ],
          [
           33739933
          ],
          [
           38171178
          ],
          [
           44440486
          ],
          [
           46874204
          ],
          [
           379918
          ],
          [
           375112
          ],
          [
           412756
          ],
          [
           478998
          ],
          [
           546080
          ],
          [
           575475
          ],
          [
           607065
          ],
          [
           618040
          ],
          [
           8027702
          ],
          [
           8311763
          ],
          [
           8548406
          ],
          [
           8871043
          ],
          [
           9381729
          ],
          [
           9849349
          ],
          [
           10368969
          ],
          [
           10549347
          ],
          [
           6181227
          ],
          [
           6319113
          ],
          [
           6711693
          ],
          [
           7182059
          ],
          [
           7822435
          ],
          [
           8281732
          ],
          [
           8638613
          ],
          [
           8740472
          ],
          [
           6319199
          ],
          [
           8898954
          ],
          [
           12408996
          ],
          [
           16307654
          ],
          [
           22337563
          ],
          [
           19205178
          ],
          [
           20772595
          ],
          [
           22125249
          ],
          [
           14957870
          ],
          [
           18100281
          ],
          [
           20586174
          ],
          [
           22194731
          ],
          [
           23083083
          ],
          [
           23512136
          ],
          [
           23821464
          ],
          [
           23893394
          ],
          [
           2993019
          ],
          [
           4045965
          ],
          [
           5417860
          ],
          [
           6272998
          ],
          [
           7621779
          ],
          [
           8524063
          ],
          [
           9543207
          ],
          [
           9952787
          ],
          [
           13618192
          ],
          [
           19297659
          ],
          [
           26206012
          ],
          [
           34463704
          ],
          [
           45110527
          ],
          [
           52542823
          ],
          [
           61704518
          ],
          [
           65497748
          ],
          [
           35791728
          ],
          [
           45737753
          ],
          [
           55228410
          ],
          [
           63066603
          ],
          [
           68270489
          ],
          [
           70294397
          ],
          [
           71475664
          ],
          [
           71697030
          ],
          [
           554021
          ],
          [
           642224
          ],
          [
           758106
          ],
          [
           878360
          ],
          [
           1088486
          ],
          [
           1205813
          ],
          [
           1299995
          ],
          [
           1341296
          ],
          [
           2197383
          ],
          [
           2838110
          ],
          [
           3875947
          ],
          [
           5008035
          ],
          [
           6571855
          ],
          [
           7473229
          ],
          [
           8442580
          ],
          [
           8848699
          ],
          [
           1714
          ],
          [
           1647
          ],
          [
           1669
          ],
          [
           1666
          ],
          [
           1367
          ],
          [
           1454
          ],
          [
           1827
          ],
          [
           1871
          ],
          [
           86484
          ],
          [
           96708
          ],
          [
           98727
          ],
          [
           102603
          ],
          [
           107383
          ],
          [
           106122
          ],
          [
           105254
          ],
          [
           106858
          ],
          [
           988890
          ],
          [
           1127852
          ],
          [
           1266518
          ],
          [
           1332203
          ],
          [
           1410296
          ],
          [
           1460177
          ],
          [
           1518147
          ],
          [
           1531044
          ],
          [
           5047404
          ],
          [
           6578156
          ],
          [
           8440023
          ],
          [
           9893316
          ],
          [
           10895063
          ],
          [
           11557779
          ],
          [
           12161723
          ],
          [
           12356117
          ],
          [
           35540990
          ],
          [
           44089069
          ],
          [
           54324142
          ],
          [
           64113547
          ],
          [
           73195345
          ],
          [
           79646178
          ],
          [
           84135428
          ],
          [
           85341241
          ],
          [
           2201432
          ],
          [
           2862903
          ],
          [
           3720278
          ],
          [
           4569132
          ],
          [
           5267970
          ],
          [
           5766431
          ],
          [
           6250438
          ],
          [
           6430770
          ],
          [
           5665
          ],
          [
           7598
          ],
          [
           11709
          ],
          [
           18744
          ],
          [
           29726
          ],
          [
           36538
          ],
          [
           44276
          ],
          [
           45703
          ],
          [
           5814
          ],
          [
           7731
          ],
          [
           9182
          ],
          [
           9638
          ],
          [
           10550
          ],
          [
           10877
          ],
          [
           11069
          ],
          [
           11312
          ],
          [
           10317212
          ],
          [
           13284026
          ],
          [
           17586630
          ],
          [
           24020697
          ],
          [
           32341728
          ],
          [
           37477356
          ],
          [
           44404611
          ],
          [
           47249585
          ],
          [
           47279086
          ],
          [
           49973920
          ],
          [
           51589817
          ],
          [
           48879755
          ],
          [
           45683020
          ],
          [
           44982564
          ],
          [
           43909666
          ],
          [
           39701739
          ],
          [
           298084
          ],
          [
           1014048
          ],
          [
           1900151
          ],
          [
           3275333
          ],
          [
           8481771
          ],
          [
           8916899
          ],
          [
           9287289
          ],
          [
           9441129
          ],
          [
           55650166
          ],
          [
           56326328
          ],
          [
           57210442
          ],
          [
           58850043
          ],
          [
           62760039
          ],
          [
           65224364
          ],
          [
           67059474
          ],
          [
           67508936
          ],
          [
           200328340
          ],
          [
           223140017.99999997
          ],
          [
           248083732
          ],
          [
           282398554
          ],
          [
           311182845
          ],
          [
           324607776
          ],
          [
           335942003
          ],
          [
           338289857
          ],
          [
           63446
          ],
          [
           96640
          ],
          [
           100685
          ],
          [
           108185
          ],
          [
           106142
          ],
          [
           102803
          ],
          [
           100442
          ],
          [
           99465
          ],
          [
           2790265
          ],
          [
           2953750
          ],
          [
           3117012
          ],
          [
           3292224
          ],
          [
           3352651
          ],
          [
           3402818
          ],
          [
           3429086
          ],
          [
           3422794
          ],
          [
           12011361
          ],
          [
           15947129
          ],
          [
           20579100
          ],
          [
           24925554
          ],
          [
           28614227
          ],
          [
           30949417
          ],
          [
           33526656
          ],
          [
           34627652
          ],
          [
           87019
          ],
          [
           118156
          ],
          [
           150882
          ],
          [
           192074
          ],
          [
           245453
          ],
          [
           276438
          ],
          [
           311685
          ],
          [
           326740
          ],
          [
           752
          ],
          [
           733
          ],
          [
           700
          ],
          [
           651
          ],
          [
           596
          ],
          [
           564
          ],
          [
           520
          ],
          [
           510
          ],
          [
           11355475
          ],
          [
           15210443
          ],
          [
           19750579
          ],
          [
           24427729
          ],
          [
           28715022
          ],
          [
           30529716
          ],
          [
           28490453
          ],
          [
           28301696
          ],
          [
           41928849
          ],
          [
           52968270
          ],
          [
           66912613
          ],
          [
           79001142
          ],
          [
           87411012
          ],
          [
           92191398
          ],
          [
           96648684.99999999
          ],
          [
           98186856
          ],
          [
           9377
          ],
          [
           11315
          ],
          [
           13454
          ],
          [
           14723
          ],
          [
           13142
          ],
          [
           12182
          ],
          [
           11655
          ],
          [
           11572
          ],
          [
           76371
          ],
          [
           116775
          ],
          [
           178529
          ],
          [
           270375
          ],
          [
           413296
          ],
          [
           491824
          ],
          [
           556048
          ],
          [
           575986
          ],
          [
           6843607
          ],
          [
           9204938
          ],
          [
           13375121
          ],
          [
           18628700
          ],
          [
           24743946
          ],
          [
           28516545
          ],
          [
           32284046
          ],
          [
           33696614
          ],
          [
           4281671
          ],
          [
           5720438
          ],
          [
           7686401
          ],
          [
           9891136
          ],
          [
           13792086
          ],
          [
           16248230
          ],
          [
           18927715
          ],
          [
           20017675
          ],
          [
           5202918
          ],
          [
           7049926
          ],
          [
           10113893
          ],
          [
           11834676
          ],
          [
           12839771
          ],
          [
           14154937
          ],
          [
           15669666
          ],
          [
           16320537
          ],
          [
           20821256.636642765
          ],
          [
           26948865.615939673
          ],
          [
           35540398.44000653
          ],
          [
           45976419.58885171
          ],
          [
           59252592.05499281
          ],
          [
           67705611.73571722
          ],
          [
           76700335.96964885
          ],
          [
           80439519.85849525
          ],
          [
           480127682.1747072
          ],
          [
           575182602.4197274
          ],
          [
           681149580.3598762
          ],
          [
           765213421.7759016
          ],
          [
           838479400.4723341
          ],
          [
           874321921.1444924
          ],
          [
           902666354.8704534
          ],
          [
           906465124.5799546
          ],
          [
           57211023.943350025
          ],
          [
           59708521.87656758
          ],
          [
           63045600.79035313
          ],
          [
           63097840.10441683
          ],
          [
           62793209.30887265
          ],
          [
           63637725.70266449
          ],
          [
           64233422.46986718
          ],
          [
           63877996.48503158
          ],
          [
           137318888.06992155
          ],
          [
           150038343.45133317
          ],
          [
           164721353.2924809
          ],
          [
           186862945.0521623
          ],
          [
           205234270.59146148
          ],
          [
           213741991.35912967
          ],
          [
           220619780.08778504
          ],
          [
           221800201.0102293
          ],
          [
           8890650.202834047
          ],
          [
           10314662.517324252
          ],
          [
           11890884.269566407
          ],
          [
           13067975.023522442
          ],
          [
           15165192.174579501
          ],
          [
           16469722.540710244
          ],
          [
           17784620.234848063
          ],
          [
           18135981.419931244
          ],
          [
           55846093.022909425
          ],
          [
           71185949.3643311
          ],
          [
           87781370.43263951
          ],
          [
           101985630.15657826
          ],
          [
           113450920.36960238
          ],
          [
           118180128.75109826
          ],
          [
           122533161.66075683
          ],
          [
           123619293.04913825
          ],
          [
           305681069.5649276
          ],
          [
           369807179.6127174
          ],
          [
           442355276.0706013
          ],
          [
           499182383.0611736
          ],
          [
           544644045.8652506
          ],
          [
           565383047.0165195
          ],
          [
           579932796.090377
          ],
          [
           580675698.412635
          ]
         ],
         "domain": {
          "x": [
           0,
           1
          ],
          "y": [
           0,
           1
          ]
         },
         "hovertemplate": "labels=%{label}<br>Population_sum=%{value}<br>parent=%{parent}<br>id=%{id}<br>Population=%{color}<extra></extra>",
         "ids": [
          "1970/Asia/Afghanistan",
          "1980/Asia/Afghanistan",
          "1990/Asia/Afghanistan",
          "2000/Asia/Afghanistan",
          "2010/Asia/Afghanistan",
          "2015/Asia/Afghanistan",
          "2020/Asia/Afghanistan",
          "2022/Asia/Afghanistan",
          "1970/Europe/Albania",
          "1980/Europe/Albania",
          "1990/Europe/Albania",
          "2000/Europe/Albania",
          "2010/Europe/Albania",
          "2015/Europe/Albania",
          "2020/Europe/Albania",
          "2022/Europe/Albania",
          "1970/Africa/Algeria",
          "1980/Africa/Algeria",
          "1990/Africa/Algeria",
          "2000/Africa/Algeria",
          "2010/Africa/Algeria",
          "2015/Africa/Algeria",
          "2020/Africa/Algeria",
          "2022/Africa/Algeria",
          "1970/Oceania/American Samoa",
          "1980/Oceania/American Samoa",
          "1990/Oceania/American Samoa",
          "2000/Oceania/American Samoa",
          "2010/Oceania/American Samoa",
          "2015/Oceania/American Samoa",
          "2020/Oceania/American Samoa",
          "2022/Oceania/American Samoa",
          "1970/Europe/Andorra",
          "1980/Europe/Andorra",
          "1990/Europe/Andorra",
          "2000/Europe/Andorra",
          "2010/Europe/Andorra",
          "2015/Europe/Andorra",
          "2020/Europe/Andorra",
          "2022/Europe/Andorra",
          "1970/Africa/Angola",
          "1980/Africa/Angola",
          "1990/Africa/Angola",
          "2000/Africa/Angola",
          "2010/Africa/Angola",
          "2015/Africa/Angola",
          "2020/Africa/Angola",
          "2022/Africa/Angola",
          "1970/North America/Anguilla",
          "1980/North America/Anguilla",
          "1990/North America/Anguilla",
          "2000/North America/Anguilla",
          "2010/North America/Anguilla",
          "2015/North America/Anguilla",
          "2020/North America/Anguilla",
          "2022/North America/Anguilla",
          "1970/North America/Antigua and Barbuda",
          "1980/North America/Antigua and Barbuda",
          "1990/North America/Antigua and Barbuda",
          "2000/North America/Antigua and Barbuda",
          "2010/North America/Antigua and Barbuda",
          "2015/North America/Antigua and Barbuda",
          "2020/North America/Antigua and Barbuda",
          "2022/North America/Antigua and Barbuda",
          "1970/South America/Argentina",
          "1980/South America/Argentina",
          "1990/South America/Argentina",
          "2000/South America/Argentina",
          "2010/South America/Argentina",
          "2015/South America/Argentina",
          "2020/South America/Argentina",
          "2022/South America/Argentina",
          "1970/Asia/Armenia",
          "1980/Asia/Armenia",
          "1990/Asia/Armenia",
          "2000/Asia/Armenia",
          "2010/Asia/Armenia",
          "2015/Asia/Armenia",
          "2020/Asia/Armenia",
          "2022/Asia/Armenia",
          "1970/North America/Aruba",
          "1980/North America/Aruba",
          "1990/North America/Aruba",
          "2000/North America/Aruba",
          "2010/North America/Aruba",
          "2015/North America/Aruba",
          "2020/North America/Aruba",
          "2022/North America/Aruba",
          "1970/Oceania/Australia",
          "1980/Oceania/Australia",
          "1990/Oceania/Australia",
          "2000/Oceania/Australia",
          "2010/Oceania/Australia",
          "2015/Oceania/Australia",
          "2020/Oceania/Australia",
          "2022/Oceania/Australia",
          "1970/Europe/Austria",
          "1980/Europe/Austria",
          "1990/Europe/Austria",
          "2000/Europe/Austria",
          "2010/Europe/Austria",
          "2015/Europe/Austria",
          "2020/Europe/Austria",
          "2022/Europe/Austria",
          "1970/Asia/Azerbaijan",
          "1980/Asia/Azerbaijan",
          "1990/Asia/Azerbaijan",
          "2000/Asia/Azerbaijan",
          "2010/Asia/Azerbaijan",
          "2015/Asia/Azerbaijan",
          "2020/Asia/Azerbaijan",
          "2022/Asia/Azerbaijan",
          "1970/North America/Bahamas",
          "1980/North America/Bahamas",
          "1990/North America/Bahamas",
          "2000/North America/Bahamas",
          "2010/North America/Bahamas",
          "2015/North America/Bahamas",
          "2020/North America/Bahamas",
          "2022/North America/Bahamas",
          "1970/Asia/Bahrain",
          "1980/Asia/Bahrain",
          "1990/Asia/Bahrain",
          "2000/Asia/Bahrain",
          "2010/Asia/Bahrain",
          "2015/Asia/Bahrain",
          "2020/Asia/Bahrain",
          "2022/Asia/Bahrain",
          "1970/Asia/Bangladesh",
          "1980/Asia/Bangladesh",
          "1990/Asia/Bangladesh",
          "2000/Asia/Bangladesh",
          "2010/Asia/Bangladesh",
          "2015/Asia/Bangladesh",
          "2020/Asia/Bangladesh",
          "2022/Asia/Bangladesh",
          "1970/North America/Barbados",
          "1980/North America/Barbados",
          "1990/North America/Barbados",
          "2000/North America/Barbados",
          "2010/North America/Barbados",
          "2015/North America/Barbados",
          "2020/North America/Barbados",
          "2022/North America/Barbados",
          "1970/Europe/Belarus",
          "1980/Europe/Belarus",
          "1990/Europe/Belarus",
          "2000/Europe/Belarus",
          "2010/Europe/Belarus",
          "2015/Europe/Belarus",
          "2020/Europe/Belarus",
          "2022/Europe/Belarus",
          "1970/Europe/Belgium",
          "1980/Europe/Belgium",
          "1990/Europe/Belgium",
          "2000/Europe/Belgium",
          "2010/Europe/Belgium",
          "2015/Europe/Belgium",
          "2020/Europe/Belgium",
          "2022/Europe/Belgium",
          "1970/North America/Belize",
          "1980/North America/Belize",
          "1990/North America/Belize",
          "2000/North America/Belize",
          "2010/North America/Belize",
          "2015/North America/Belize",
          "2020/North America/Belize",
          "2022/North America/Belize",
          "1970/Africa/Benin",
          "1980/Africa/Benin",
          "1990/Africa/Benin",
          "2000/Africa/Benin",
          "2010/Africa/Benin",
          "2015/Africa/Benin",
          "2020/Africa/Benin",
          "2022/Africa/Benin",
          "1970/North America/Bermuda",
          "1980/North America/Bermuda",
          "1990/North America/Bermuda",
          "2000/North America/Bermuda",
          "2010/North America/Bermuda",
          "2015/North America/Bermuda",
          "2020/North America/Bermuda",
          "2022/North America/Bermuda",
          "1970/Asia/Bhutan",
          "1980/Asia/Bhutan",
          "1990/Asia/Bhutan",
          "2000/Asia/Bhutan",
          "2010/Asia/Bhutan",
          "2015/Asia/Bhutan",
          "2020/Asia/Bhutan",
          "2022/Asia/Bhutan",
          "1970/South America/Bolivia",
          "1980/South America/Bolivia",
          "1990/South America/Bolivia",
          "2000/South America/Bolivia",
          "2010/South America/Bolivia",
          "2015/South America/Bolivia",
          "2020/South America/Bolivia",
          "2022/South America/Bolivia",
          "1970/Europe/Bosnia and Herzegovina",
          "1980/Europe/Bosnia and Herzegovina",
          "1990/Europe/Bosnia and Herzegovina",
          "2000/Europe/Bosnia and Herzegovina",
          "2010/Europe/Bosnia and Herzegovina",
          "2015/Europe/Bosnia and Herzegovina",
          "2020/Europe/Bosnia and Herzegovina",
          "2022/Europe/Bosnia and Herzegovina",
          "1970/Africa/Botswana",
          "1980/Africa/Botswana",
          "1990/Africa/Botswana",
          "2000/Africa/Botswana",
          "2010/Africa/Botswana",
          "2015/Africa/Botswana",
          "2020/Africa/Botswana",
          "2022/Africa/Botswana",
          "1970/South America/Brazil",
          "1980/South America/Brazil",
          "1990/South America/Brazil",
          "2000/South America/Brazil",
          "2010/South America/Brazil",
          "2015/South America/Brazil",
          "2020/South America/Brazil",
          "2022/South America/Brazil",
          "1970/North America/British Virgin Islands",
          "1980/North America/British Virgin Islands",
          "1990/North America/British Virgin Islands",
          "2000/North America/British Virgin Islands",
          "2010/North America/British Virgin Islands",
          "2015/North America/British Virgin Islands",
          "2020/North America/British Virgin Islands",
          "2022/North America/British Virgin Islands",
          "1970/Asia/Brunei",
          "1980/Asia/Brunei",
          "1990/Asia/Brunei",
          "2000/Asia/Brunei",
          "2010/Asia/Brunei",
          "2015/Asia/Brunei",
          "2020/Asia/Brunei",
          "2022/Asia/Brunei",
          "1970/Europe/Bulgaria",
          "1980/Europe/Bulgaria",
          "1990/Europe/Bulgaria",
          "2000/Europe/Bulgaria",
          "2010/Europe/Bulgaria",
          "2015/Europe/Bulgaria",
          "2020/Europe/Bulgaria",
          "2022/Europe/Bulgaria",
          "1970/Africa/Burkina Faso",
          "1980/Africa/Burkina Faso",
          "1990/Africa/Burkina Faso",
          "2000/Africa/Burkina Faso",
          "2010/Africa/Burkina Faso",
          "2015/Africa/Burkina Faso",
          "2020/Africa/Burkina Faso",
          "2022/Africa/Burkina Faso",
          "1970/Africa/Burundi",
          "1980/Africa/Burundi",
          "1990/Africa/Burundi",
          "2000/Africa/Burundi",
          "2010/Africa/Burundi",
          "2015/Africa/Burundi",
          "2020/Africa/Burundi",
          "2022/Africa/Burundi",
          "1970/Asia/Cambodia",
          "1980/Asia/Cambodia",
          "1990/Asia/Cambodia",
          "2000/Asia/Cambodia",
          "2010/Asia/Cambodia",
          "2015/Asia/Cambodia",
          "2020/Asia/Cambodia",
          "2022/Asia/Cambodia",
          "1970/Africa/Cameroon",
          "1980/Africa/Cameroon",
          "1990/Africa/Cameroon",
          "2000/Africa/Cameroon",
          "2010/Africa/Cameroon",
          "2015/Africa/Cameroon",
          "2020/Africa/Cameroon",
          "2022/Africa/Cameroon",
          "1970/North America/Canada",
          "1980/North America/Canada",
          "1990/North America/Canada",
          "2000/North America/Canada",
          "2010/North America/Canada",
          "2015/North America/Canada",
          "2020/North America/Canada",
          "2022/North America/Canada",
          "1970/Africa/Cape Verde",
          "1980/Africa/Cape Verde",
          "1990/Africa/Cape Verde",
          "2000/Africa/Cape Verde",
          "2010/Africa/Cape Verde",
          "2015/Africa/Cape Verde",
          "2020/Africa/Cape Verde",
          "2022/Africa/Cape Verde",
          "1970/North America/Cayman Islands",
          "1980/North America/Cayman Islands",
          "1990/North America/Cayman Islands",
          "2000/North America/Cayman Islands",
          "2010/North America/Cayman Islands",
          "2015/North America/Cayman Islands",
          "2020/North America/Cayman Islands",
          "2022/North America/Cayman Islands",
          "1970/Africa/Central African Republic",
          "1980/Africa/Central African Republic",
          "1990/Africa/Central African Republic",
          "2000/Africa/Central African Republic",
          "2010/Africa/Central African Republic",
          "2015/Africa/Central African Republic",
          "2020/Africa/Central African Republic",
          "2022/Africa/Central African Republic",
          "1970/Africa/Chad",
          "1980/Africa/Chad",
          "1990/Africa/Chad",
          "2000/Africa/Chad",
          "2010/Africa/Chad",
          "2015/Africa/Chad",
          "2020/Africa/Chad",
          "2022/Africa/Chad",
          "1970/South America/Chile",
          "1980/South America/Chile",
          "1990/South America/Chile",
          "2000/South America/Chile",
          "2010/South America/Chile",
          "2015/South America/Chile",
          "2020/South America/Chile",
          "2022/South America/Chile",
          "1970/Asia/China",
          "1980/Asia/China",
          "1990/Asia/China",
          "2000/Asia/China",
          "2010/Asia/China",
          "2015/Asia/China",
          "2020/Asia/China",
          "2022/Asia/China",
          "1970/South America/Colombia",
          "1980/South America/Colombia",
          "1990/South America/Colombia",
          "2000/South America/Colombia",
          "2010/South America/Colombia",
          "2015/South America/Colombia",
          "2020/South America/Colombia",
          "2022/South America/Colombia",
          "1970/Africa/Comoros",
          "1980/Africa/Comoros",
          "1990/Africa/Comoros",
          "2000/Africa/Comoros",
          "2010/Africa/Comoros",
          "2015/Africa/Comoros",
          "2020/Africa/Comoros",
          "2022/Africa/Comoros",
          "1970/Oceania/Cook Islands",
          "1980/Oceania/Cook Islands",
          "1990/Oceania/Cook Islands",
          "2000/Oceania/Cook Islands",
          "2010/Oceania/Cook Islands",
          "2015/Oceania/Cook Islands",
          "2020/Oceania/Cook Islands",
          "2022/Oceania/Cook Islands",
          "1970/North America/Costa Rica",
          "1980/North America/Costa Rica",
          "1990/North America/Costa Rica",
          "2000/North America/Costa Rica",
          "2010/North America/Costa Rica",
          "2015/North America/Costa Rica",
          "2020/North America/Costa Rica",
          "2022/North America/Costa Rica",
          "1970/Europe/Croatia",
          "1980/Europe/Croatia",
          "1990/Europe/Croatia",
          "2000/Europe/Croatia",
          "2010/Europe/Croatia",
          "2015/Europe/Croatia",
          "2020/Europe/Croatia",
          "2022/Europe/Croatia",
          "1970/North America/Cuba",
          "1980/North America/Cuba",
          "1990/North America/Cuba",
          "2000/North America/Cuba",
          "2010/North America/Cuba",
          "2015/North America/Cuba",
          "2020/North America/Cuba",
          "2022/North America/Cuba",
          "1970/North America/Curacao",
          "1980/North America/Curacao",
          "1990/North America/Curacao",
          "2000/North America/Curacao",
          "2010/North America/Curacao",
          "2015/North America/Curacao",
          "2020/North America/Curacao",
          "2022/North America/Curacao",
          "1970/Europe/Cyprus",
          "1980/Europe/Cyprus",
          "1990/Europe/Cyprus",
          "2000/Europe/Cyprus",
          "2010/Europe/Cyprus",
          "2015/Europe/Cyprus",
          "2020/Europe/Cyprus",
          "2022/Europe/Cyprus",
          "1970/Europe/Czech Republic",
          "1980/Europe/Czech Republic",
          "1990/Europe/Czech Republic",
          "2000/Europe/Czech Republic",
          "2010/Europe/Czech Republic",
          "2015/Europe/Czech Republic",
          "2020/Europe/Czech Republic",
          "2022/Europe/Czech Republic",
          "1970/Africa/DR Congo",
          "1980/Africa/DR Congo",
          "1990/Africa/DR Congo",
          "2000/Africa/DR Congo",
          "2010/Africa/DR Congo",
          "2015/Africa/DR Congo",
          "2020/Africa/DR Congo",
          "2022/Africa/DR Congo",
          "1970/Europe/Denmark",
          "1980/Europe/Denmark",
          "1990/Europe/Denmark",
          "2000/Europe/Denmark",
          "2010/Europe/Denmark",
          "2015/Europe/Denmark",
          "2020/Europe/Denmark",
          "2022/Europe/Denmark",
          "1970/Africa/Djibouti",
          "1980/Africa/Djibouti",
          "1990/Africa/Djibouti",
          "2000/Africa/Djibouti",
          "2010/Africa/Djibouti",
          "2015/Africa/Djibouti",
          "2020/Africa/Djibouti",
          "2022/Africa/Djibouti",
          "1970/North America/Dominica",
          "1980/North America/Dominica",
          "1990/North America/Dominica",
          "2000/North America/Dominica",
          "2010/North America/Dominica",
          "2015/North America/Dominica",
          "2020/North America/Dominica",
          "2022/North America/Dominica",
          "1970/North America/Dominican Republic",
          "1980/North America/Dominican Republic",
          "1990/North America/Dominican Republic",
          "2000/North America/Dominican Republic",
          "2010/North America/Dominican Republic",
          "2015/North America/Dominican Republic",
          "2020/North America/Dominican Republic",
          "2022/North America/Dominican Republic",
          "1970/South America/Ecuador",
          "1980/South America/Ecuador",
          "1990/South America/Ecuador",
          "2000/South America/Ecuador",
          "2010/South America/Ecuador",
          "2015/South America/Ecuador",
          "2020/South America/Ecuador",
          "2022/South America/Ecuador",
          "1970/Africa/Egypt",
          "1980/Africa/Egypt",
          "1990/Africa/Egypt",
          "2000/Africa/Egypt",
          "2010/Africa/Egypt",
          "2015/Africa/Egypt",
          "2020/Africa/Egypt",
          "2022/Africa/Egypt",
          "1970/North America/El Salvador",
          "1980/North America/El Salvador",
          "1990/North America/El Salvador",
          "2000/North America/El Salvador",
          "2010/North America/El Salvador",
          "2015/North America/El Salvador",
          "2020/North America/El Salvador",
          "2022/North America/El Salvador",
          "1970/Africa/Equatorial Guinea",
          "1980/Africa/Equatorial Guinea",
          "1990/Africa/Equatorial Guinea",
          "2000/Africa/Equatorial Guinea",
          "2010/Africa/Equatorial Guinea",
          "2015/Africa/Equatorial Guinea",
          "2020/Africa/Equatorial Guinea",
          "2022/Africa/Equatorial Guinea",
          "1970/Africa/Eritrea",
          "1980/Africa/Eritrea",
          "1990/Africa/Eritrea",
          "2000/Africa/Eritrea",
          "2010/Africa/Eritrea",
          "2015/Africa/Eritrea",
          "2020/Africa/Eritrea",
          "2022/Africa/Eritrea",
          "1970/Europe/Estonia",
          "1980/Europe/Estonia",
          "1990/Europe/Estonia",
          "2000/Europe/Estonia",
          "2010/Europe/Estonia",
          "2015/Europe/Estonia",
          "2020/Europe/Estonia",
          "2022/Europe/Estonia",
          "1970/Africa/Eswatini",
          "1980/Africa/Eswatini",
          "1990/Africa/Eswatini",
          "2000/Africa/Eswatini",
          "2010/Africa/Eswatini",
          "2015/Africa/Eswatini",
          "2020/Africa/Eswatini",
          "2022/Africa/Eswatini",
          "1970/Africa/Ethiopia",
          "1980/Africa/Ethiopia",
          "1990/Africa/Ethiopia",
          "2000/Africa/Ethiopia",
          "2010/Africa/Ethiopia",
          "2015/Africa/Ethiopia",
          "2020/Africa/Ethiopia",
          "2022/Africa/Ethiopia",
          "1970/South America/Falkland Islands",
          "1980/South America/Falkland Islands",
          "1990/South America/Falkland Islands",
          "2000/South America/Falkland Islands",
          "2010/South America/Falkland Islands",
          "2015/South America/Falkland Islands",
          "2020/South America/Falkland Islands",
          "2022/South America/Falkland Islands",
          "1970/Europe/Faroe Islands",
          "1980/Europe/Faroe Islands",
          "1990/Europe/Faroe Islands",
          "2000/Europe/Faroe Islands",
          "2010/Europe/Faroe Islands",
          "2015/Europe/Faroe Islands",
          "2020/Europe/Faroe Islands",
          "2022/Europe/Faroe Islands",
          "1970/Oceania/Fiji",
          "1980/Oceania/Fiji",
          "1990/Oceania/Fiji",
          "2000/Oceania/Fiji",
          "2010/Oceania/Fiji",
          "2015/Oceania/Fiji",
          "2020/Oceania/Fiji",
          "2022/Oceania/Fiji",
          "1970/Europe/Finland",
          "1980/Europe/Finland",
          "1990/Europe/Finland",
          "2000/Europe/Finland",
          "2010/Europe/Finland",
          "2015/Europe/Finland",
          "2020/Europe/Finland",
          "2022/Europe/Finland",
          "1970/Europe/France",
          "1980/Europe/France",
          "1990/Europe/France",
          "2000/Europe/France",
          "2010/Europe/France",
          "2015/Europe/France",
          "2020/Europe/France",
          "2022/Europe/France",
          "1970/South America/French Guiana",
          "1980/South America/French Guiana",
          "1990/South America/French Guiana",
          "2000/South America/French Guiana",
          "2010/South America/French Guiana",
          "2015/South America/French Guiana",
          "2020/South America/French Guiana",
          "2022/South America/French Guiana",
          "1970/Oceania/French Polynesia",
          "1980/Oceania/French Polynesia",
          "1990/Oceania/French Polynesia",
          "2000/Oceania/French Polynesia",
          "2010/Oceania/French Polynesia",
          "2015/Oceania/French Polynesia",
          "2020/Oceania/French Polynesia",
          "2022/Oceania/French Polynesia",
          "1970/Africa/Gabon",
          "1980/Africa/Gabon",
          "1990/Africa/Gabon",
          "2000/Africa/Gabon",
          "2010/Africa/Gabon",
          "2015/Africa/Gabon",
          "2020/Africa/Gabon",
          "2022/Africa/Gabon",
          "1970/Africa/Gambia",
          "1980/Africa/Gambia",
          "1990/Africa/Gambia",
          "2000/Africa/Gambia",
          "2010/Africa/Gambia",
          "2015/Africa/Gambia",
          "2020/Africa/Gambia",
          "2022/Africa/Gambia",
          "1970/Asia/Georgia",
          "1980/Asia/Georgia",
          "1990/Asia/Georgia",
          "2000/Asia/Georgia",
          "2010/Asia/Georgia",
          "2015/Asia/Georgia",
          "2020/Asia/Georgia",
          "2022/Asia/Georgia",
          "1970/Europe/Germany",
          "1980/Europe/Germany",
          "1990/Europe/Germany",
          "2000/Europe/Germany",
          "2010/Europe/Germany",
          "2015/Europe/Germany",
          "2020/Europe/Germany",
          "2022/Europe/Germany",
          "1970/Africa/Ghana",
          "1980/Africa/Ghana",
          "1990/Africa/Ghana",
          "2000/Africa/Ghana",
          "2010/Africa/Ghana",
          "2015/Africa/Ghana",
          "2020/Africa/Ghana",
          "2022/Africa/Ghana",
          "1970/Europe/Gibraltar",
          "1980/Europe/Gibraltar",
          "1990/Europe/Gibraltar",
          "2000/Europe/Gibraltar",
          "2010/Europe/Gibraltar",
          "2015/Europe/Gibraltar",
          "2020/Europe/Gibraltar",
          "2022/Europe/Gibraltar",
          "1970/Europe/Greece",
          "1980/Europe/Greece",
          "1990/Europe/Greece",
          "2000/Europe/Greece",
          "2010/Europe/Greece",
          "2015/Europe/Greece",
          "2020/Europe/Greece",
          "2022/Europe/Greece",
          "1970/North America/Greenland",
          "1980/North America/Greenland",
          "1990/North America/Greenland",
          "2000/North America/Greenland",
          "2010/North America/Greenland",
          "2015/North America/Greenland",
          "2020/North America/Greenland",
          "2022/North America/Greenland",
          "1970/North America/Grenada",
          "1980/North America/Grenada",
          "1990/North America/Grenada",
          "2000/North America/Grenada",
          "2010/North America/Grenada",
          "2015/North America/Grenada",
          "2020/North America/Grenada",
          "2022/North America/Grenada",
          "1970/North America/Guadeloupe",
          "1980/North America/Guadeloupe",
          "1990/North America/Guadeloupe",
          "2000/North America/Guadeloupe",
          "2010/North America/Guadeloupe",
          "2015/North America/Guadeloupe",
          "2020/North America/Guadeloupe",
          "2022/North America/Guadeloupe",
          "1970/Oceania/Guam",
          "1980/Oceania/Guam",
          "1990/Oceania/Guam",
          "2000/Oceania/Guam",
          "2010/Oceania/Guam",
          "2015/Oceania/Guam",
          "2020/Oceania/Guam",
          "2022/Oceania/Guam",
          "1970/North America/Guatemala",
          "1980/North America/Guatemala",
          "1990/North America/Guatemala",
          "2000/North America/Guatemala",
          "2010/North America/Guatemala",
          "2015/North America/Guatemala",
          "2020/North America/Guatemala",
          "2022/North America/Guatemala",
          "1970/Europe/Guernsey",
          "1980/Europe/Guernsey",
          "1990/Europe/Guernsey",
          "2000/Europe/Guernsey",
          "2010/Europe/Guernsey",
          "2015/Europe/Guernsey",
          "2020/Europe/Guernsey",
          "2022/Europe/Guernsey",
          "1970/Africa/Guinea",
          "1980/Africa/Guinea",
          "1990/Africa/Guinea",
          "2000/Africa/Guinea",
          "2010/Africa/Guinea",
          "2015/Africa/Guinea",
          "2020/Africa/Guinea",
          "2022/Africa/Guinea",
          "1970/Africa/Guinea-Bissau",
          "1980/Africa/Guinea-Bissau",
          "1990/Africa/Guinea-Bissau",
          "2000/Africa/Guinea-Bissau",
          "2010/Africa/Guinea-Bissau",
          "2015/Africa/Guinea-Bissau",
          "2020/Africa/Guinea-Bissau",
          "2022/Africa/Guinea-Bissau",
          "1970/South America/Guyana",
          "1980/South America/Guyana",
          "1990/South America/Guyana",
          "2000/South America/Guyana",
          "2010/South America/Guyana",
          "2015/South America/Guyana",
          "2020/South America/Guyana",
          "2022/South America/Guyana",
          "1970/North America/Haiti",
          "1980/North America/Haiti",
          "1990/North America/Haiti",
          "2000/North America/Haiti",
          "2010/North America/Haiti",
          "2015/North America/Haiti",
          "2020/North America/Haiti",
          "2022/North America/Haiti",
          "1970/North America/Honduras",
          "1980/North America/Honduras",
          "1990/North America/Honduras",
          "2000/North America/Honduras",
          "2010/North America/Honduras",
          "2015/North America/Honduras",
          "2020/North America/Honduras",
          "2022/North America/Honduras",
          "1970/Asia/Hong Kong",
          "1980/Asia/Hong Kong",
          "1990/Asia/Hong Kong",
          "2000/Asia/Hong Kong",
          "2010/Asia/Hong Kong",
          "2015/Asia/Hong Kong",
          "2020/Asia/Hong Kong",
          "2022/Asia/Hong Kong",
          "1970/Europe/Hungary",
          "1980/Europe/Hungary",
          "1990/Europe/Hungary",
          "2000/Europe/Hungary",
          "2010/Europe/Hungary",
          "2015/Europe/Hungary",
          "2020/Europe/Hungary",
          "2022/Europe/Hungary",
          "1970/Europe/Iceland",
          "1980/Europe/Iceland",
          "1990/Europe/Iceland",
          "2000/Europe/Iceland",
          "2010/Europe/Iceland",
          "2015/Europe/Iceland",
          "2020/Europe/Iceland",
          "2022/Europe/Iceland",
          "1970/Asia/India",
          "1980/Asia/India",
          "1990/Asia/India",
          "2000/Asia/India",
          "2010/Asia/India",
          "2015/Asia/India",
          "2020/Asia/India",
          "2022/Asia/India",
          "1970/Asia/Indonesia",
          "1980/Asia/Indonesia",
          "1990/Asia/Indonesia",
          "2000/Asia/Indonesia",
          "2010/Asia/Indonesia",
          "2015/Asia/Indonesia",
          "2020/Asia/Indonesia",
          "2022/Asia/Indonesia",
          "1970/Asia/Iran",
          "1980/Asia/Iran",
          "1990/Asia/Iran",
          "2000/Asia/Iran",
          "2010/Asia/Iran",
          "2015/Asia/Iran",
          "2020/Asia/Iran",
          "2022/Asia/Iran",
          "1970/Asia/Iraq",
          "1980/Asia/Iraq",
          "1990/Asia/Iraq",
          "2000/Asia/Iraq",
          "2010/Asia/Iraq",
          "2015/Asia/Iraq",
          "2020/Asia/Iraq",
          "2022/Asia/Iraq",
          "1970/Europe/Ireland",
          "1980/Europe/Ireland",
          "1990/Europe/Ireland",
          "2000/Europe/Ireland",
          "2010/Europe/Ireland",
          "2015/Europe/Ireland",
          "2020/Europe/Ireland",
          "2022/Europe/Ireland",
          "1970/Europe/Isle of Man",
          "1980/Europe/Isle of Man",
          "1990/Europe/Isle of Man",
          "2000/Europe/Isle of Man",
          "2010/Europe/Isle of Man",
          "2015/Europe/Isle of Man",
          "2020/Europe/Isle of Man",
          "2022/Europe/Isle of Man",
          "1970/Asia/Israel",
          "1980/Asia/Israel",
          "1990/Asia/Israel",
          "2000/Asia/Israel",
          "2010/Asia/Israel",
          "2015/Asia/Israel",
          "2020/Asia/Israel",
          "2022/Asia/Israel",
          "1970/Europe/Italy",
          "1980/Europe/Italy",
          "1990/Europe/Italy",
          "2000/Europe/Italy",
          "2010/Europe/Italy",
          "2015/Europe/Italy",
          "2020/Europe/Italy",
          "2022/Europe/Italy",
          "1970/Africa/Ivory Coast",
          "1980/Africa/Ivory Coast",
          "1990/Africa/Ivory Coast",
          "2000/Africa/Ivory Coast",
          "2010/Africa/Ivory Coast",
          "2015/Africa/Ivory Coast",
          "2020/Africa/Ivory Coast",
          "2022/Africa/Ivory Coast",
          "1970/North America/Jamaica",
          "1980/North America/Jamaica",
          "1990/North America/Jamaica",
          "2000/North America/Jamaica",
          "2010/North America/Jamaica",
          "2015/North America/Jamaica",
          "2020/North America/Jamaica",
          "2022/North America/Jamaica",
          "1970/Asia/Japan",
          "1980/Asia/Japan",
          "1990/Asia/Japan",
          "2000/Asia/Japan",
          "2010/Asia/Japan",
          "2015/Asia/Japan",
          "2020/Asia/Japan",
          "2022/Asia/Japan",
          "1970/Europe/Jersey",
          "1980/Europe/Jersey",
          "1990/Europe/Jersey",
          "2000/Europe/Jersey",
          "2010/Europe/Jersey",
          "2015/Europe/Jersey",
          "2020/Europe/Jersey",
          "2022/Europe/Jersey",
          "1970/Asia/Jordan",
          "1980/Asia/Jordan",
          "1990/Asia/Jordan",
          "2000/Asia/Jordan",
          "2010/Asia/Jordan",
          "2015/Asia/Jordan",
          "2020/Asia/Jordan",
          "2022/Asia/Jordan",
          "1970/Asia/Kazakhstan",
          "1980/Asia/Kazakhstan",
          "1990/Asia/Kazakhstan",
          "2000/Asia/Kazakhstan",
          "2010/Asia/Kazakhstan",
          "2015/Asia/Kazakhstan",
          "2020/Asia/Kazakhstan",
          "2022/Asia/Kazakhstan",
          "1970/Africa/Kenya",
          "1980/Africa/Kenya",
          "1990/Africa/Kenya",
          "2000/Africa/Kenya",
          "2010/Africa/Kenya",
          "2015/Africa/Kenya",
          "2020/Africa/Kenya",
          "2022/Africa/Kenya",
          "1970/Oceania/Kiribati",
          "1980/Oceania/Kiribati",
          "1990/Oceania/Kiribati",
          "2000/Oceania/Kiribati",
          "2010/Oceania/Kiribati",
          "2015/Oceania/Kiribati",
          "2020/Oceania/Kiribati",
          "2022/Oceania/Kiribati",
          "1970/Asia/Kuwait",
          "1980/Asia/Kuwait",
          "1990/Asia/Kuwait",
          "2000/Asia/Kuwait",
          "2010/Asia/Kuwait",
          "2015/Asia/Kuwait",
          "2020/Asia/Kuwait",
          "2022/Asia/Kuwait",
          "1970/Asia/Kyrgyzstan",
          "1980/Asia/Kyrgyzstan",
          "1990/Asia/Kyrgyzstan",
          "2000/Asia/Kyrgyzstan",
          "2010/Asia/Kyrgyzstan",
          "2015/Asia/Kyrgyzstan",
          "2020/Asia/Kyrgyzstan",
          "2022/Asia/Kyrgyzstan",
          "1970/Asia/Laos",
          "1980/Asia/Laos",
          "1990/Asia/Laos",
          "2000/Asia/Laos",
          "2010/Asia/Laos",
          "2015/Asia/Laos",
          "2020/Asia/Laos",
          "2022/Asia/Laos",
          "1970/Europe/Latvia",
          "1980/Europe/Latvia",
          "1990/Europe/Latvia",
          "2000/Europe/Latvia",
          "2010/Europe/Latvia",
          "2015/Europe/Latvia",
          "2020/Europe/Latvia",
          "2022/Europe/Latvia",
          "1970/Asia/Lebanon",
          "1980/Asia/Lebanon",
          "1990/Asia/Lebanon",
          "2000/Asia/Lebanon",
          "2010/Asia/Lebanon",
          "2015/Asia/Lebanon",
          "2020/Asia/Lebanon",
          "2022/Asia/Lebanon",
          "1970/Africa/Lesotho",
          "1980/Africa/Lesotho",
          "1990/Africa/Lesotho",
          "2000/Africa/Lesotho",
          "2010/Africa/Lesotho",
          "2015/Africa/Lesotho",
          "2020/Africa/Lesotho",
          "2022/Africa/Lesotho",
          "1970/Africa/Liberia",
          "1980/Africa/Liberia",
          "1990/Africa/Liberia",
          "2000/Africa/Liberia",
          "2010/Africa/Liberia",
          "2015/Africa/Liberia",
          "2020/Africa/Liberia",
          "2022/Africa/Liberia",
          "1970/Africa/Libya",
          "1980/Africa/Libya",
          "1990/Africa/Libya",
          "2000/Africa/Libya",
          "2010/Africa/Libya",
          "2015/Africa/Libya",
          "2020/Africa/Libya",
          "2022/Africa/Libya",
          "1970/Europe/Liechtenstein",
          "1980/Europe/Liechtenstein",
          "1990/Europe/Liechtenstein",
          "2000/Europe/Liechtenstein",
          "2010/Europe/Liechtenstein",
          "2015/Europe/Liechtenstein",
          "2020/Europe/Liechtenstein",
          "2022/Europe/Liechtenstein",
          "1970/Europe/Lithuania",
          "1980/Europe/Lithuania",
          "1990/Europe/Lithuania",
          "2000/Europe/Lithuania",
          "2010/Europe/Lithuania",
          "2015/Europe/Lithuania",
          "2020/Europe/Lithuania",
          "2022/Europe/Lithuania",
          "1970/Europe/Luxembourg",
          "1980/Europe/Luxembourg",
          "1990/Europe/Luxembourg",
          "2000/Europe/Luxembourg",
          "2010/Europe/Luxembourg",
          "2015/Europe/Luxembourg",
          "2020/Europe/Luxembourg",
          "2022/Europe/Luxembourg",
          "1970/Asia/Macau",
          "1980/Asia/Macau",
          "1990/Asia/Macau",
          "2000/Asia/Macau",
          "2010/Asia/Macau",
          "2015/Asia/Macau",
          "2020/Asia/Macau",
          "2022/Asia/Macau",
          "1970/Africa/Madagascar",
          "1980/Africa/Madagascar",
          "1990/Africa/Madagascar",
          "2000/Africa/Madagascar",
          "2010/Africa/Madagascar",
          "2015/Africa/Madagascar",
          "2020/Africa/Madagascar",
          "2022/Africa/Madagascar",
          "1970/Africa/Malawi",
          "1980/Africa/Malawi",
          "1990/Africa/Malawi",
          "2000/Africa/Malawi",
          "2010/Africa/Malawi",
          "2015/Africa/Malawi",
          "2020/Africa/Malawi",
          "2022/Africa/Malawi",
          "1970/Asia/Malaysia",
          "1980/Asia/Malaysia",
          "1990/Asia/Malaysia",
          "2000/Asia/Malaysia",
          "2010/Asia/Malaysia",
          "2015/Asia/Malaysia",
          "2020/Asia/Malaysia",
          "2022/Asia/Malaysia",
          "1970/Asia/Maldives",
          "1980/Asia/Maldives",
          "1990/Asia/Maldives",
          "2000/Asia/Maldives",
          "2010/Asia/Maldives",
          "2015/Asia/Maldives",
          "2020/Asia/Maldives",
          "2022/Asia/Maldives",
          "1970/Africa/Mali",
          "1980/Africa/Mali",
          "1990/Africa/Mali",
          "2000/Africa/Mali",
          "2010/Africa/Mali",
          "2015/Africa/Mali",
          "2020/Africa/Mali",
          "2022/Africa/Mali",
          "1970/Europe/Malta",
          "1980/Europe/Malta",
          "1990/Europe/Malta",
          "2000/Europe/Malta",
          "2010/Europe/Malta",
          "2015/Europe/Malta",
          "2020/Europe/Malta",
          "2022/Europe/Malta",
          "1970/Oceania/Marshall Islands",
          "1980/Oceania/Marshall Islands",
          "1990/Oceania/Marshall Islands",
          "2000/Oceania/Marshall Islands",
          "2010/Oceania/Marshall Islands",
          "2015/Oceania/Marshall Islands",
          "2020/Oceania/Marshall Islands",
          "2022/Oceania/Marshall Islands",
          "1970/North America/Martinique",
          "1980/North America/Martinique",
          "1990/North America/Martinique",
          "2000/North America/Martinique",
          "2010/North America/Martinique",
          "2015/North America/Martinique",
          "2020/North America/Martinique",
          "2022/North America/Martinique",
          "1970/Africa/Mauritania",
          "1980/Africa/Mauritania",
          "1990/Africa/Mauritania",
          "2000/Africa/Mauritania",
          "2010/Africa/Mauritania",
          "2015/Africa/Mauritania",
          "2020/Africa/Mauritania",
          "2022/Africa/Mauritania",
          "1970/Africa/Mauritius",
          "1980/Africa/Mauritius",
          "1990/Africa/Mauritius",
          "2000/Africa/Mauritius",
          "2010/Africa/Mauritius",
          "2015/Africa/Mauritius",
          "2020/Africa/Mauritius",
          "2022/Africa/Mauritius",
          "1970/Africa/Mayotte",
          "1980/Africa/Mayotte",
          "1990/Africa/Mayotte",
          "2000/Africa/Mayotte",
          "2010/Africa/Mayotte",
          "2015/Africa/Mayotte",
          "2020/Africa/Mayotte",
          "2022/Africa/Mayotte",
          "1970/North America/Mexico",
          "1980/North America/Mexico",
          "1990/North America/Mexico",
          "2000/North America/Mexico",
          "2010/North America/Mexico",
          "2015/North America/Mexico",
          "2020/North America/Mexico",
          "2022/North America/Mexico",
          "1970/Oceania/Micronesia",
          "1980/Oceania/Micronesia",
          "1990/Oceania/Micronesia",
          "2000/Oceania/Micronesia",
          "2010/Oceania/Micronesia",
          "2015/Oceania/Micronesia",
          "2020/Oceania/Micronesia",
          "2022/Oceania/Micronesia",
          "1970/Europe/Moldova",
          "1980/Europe/Moldova",
          "1990/Europe/Moldova",
          "2000/Europe/Moldova",
          "2010/Europe/Moldova",
          "2015/Europe/Moldova",
          "2020/Europe/Moldova",
          "2022/Europe/Moldova",
          "1970/Europe/Monaco",
          "1980/Europe/Monaco",
          "1990/Europe/Monaco",
          "2000/Europe/Monaco",
          "2010/Europe/Monaco",
          "2015/Europe/Monaco",
          "2020/Europe/Monaco",
          "2022/Europe/Monaco",
          "1970/Asia/Mongolia",
          "1980/Asia/Mongolia",
          "1990/Asia/Mongolia",
          "2000/Asia/Mongolia",
          "2010/Asia/Mongolia",
          "2015/Asia/Mongolia",
          "2020/Asia/Mongolia",
          "2022/Asia/Mongolia",
          "1970/Europe/Montenegro",
          "1980/Europe/Montenegro",
          "1990/Europe/Montenegro",
          "2000/Europe/Montenegro",
          "2010/Europe/Montenegro",
          "2015/Europe/Montenegro",
          "2020/Europe/Montenegro",
          "2022/Europe/Montenegro",
          "1970/North America/Montserrat",
          "1980/North America/Montserrat",
          "1990/North America/Montserrat",
          "2000/North America/Montserrat",
          "2010/North America/Montserrat",
          "2015/North America/Montserrat",
          "2020/North America/Montserrat",
          "2022/North America/Montserrat",
          "1970/Africa/Morocco",
          "1980/Africa/Morocco",
          "1990/Africa/Morocco",
          "2000/Africa/Morocco",
          "2010/Africa/Morocco",
          "2015/Africa/Morocco",
          "2020/Africa/Morocco",
          "2022/Africa/Morocco",
          "1970/Africa/Mozambique",
          "1980/Africa/Mozambique",
          "1990/Africa/Mozambique",
          "2000/Africa/Mozambique",
          "2010/Africa/Mozambique",
          "2015/Africa/Mozambique",
          "2020/Africa/Mozambique",
          "2022/Africa/Mozambique",
          "1970/Asia/Myanmar",
          "1980/Asia/Myanmar",
          "1990/Asia/Myanmar",
          "2000/Asia/Myanmar",
          "2010/Asia/Myanmar",
          "2015/Asia/Myanmar",
          "2020/Asia/Myanmar",
          "2022/Asia/Myanmar",
          "1970/Africa/Namibia",
          "1980/Africa/Namibia",
          "1990/Africa/Namibia",
          "2000/Africa/Namibia",
          "2010/Africa/Namibia",
          "2015/Africa/Namibia",
          "2020/Africa/Namibia",
          "2022/Africa/Namibia",
          "1970/Oceania/Nauru",
          "1980/Oceania/Nauru",
          "1990/Oceania/Nauru",
          "2000/Oceania/Nauru",
          "2010/Oceania/Nauru",
          "2015/Oceania/Nauru",
          "2020/Oceania/Nauru",
          "2022/Oceania/Nauru",
          "1970/Asia/Nepal",
          "1980/Asia/Nepal",
          "1990/Asia/Nepal",
          "2000/Asia/Nepal",
          "2010/Asia/Nepal",
          "2015/Asia/Nepal",
          "2020/Asia/Nepal",
          "2022/Asia/Nepal",
          "1970/Europe/Netherlands",
          "1980/Europe/Netherlands",
          "1990/Europe/Netherlands",
          "2000/Europe/Netherlands",
          "2010/Europe/Netherlands",
          "2015/Europe/Netherlands",
          "2020/Europe/Netherlands",
          "2022/Europe/Netherlands",
          "1970/Oceania/New Caledonia",
          "1980/Oceania/New Caledonia",
          "1990/Oceania/New Caledonia",
          "2000/Oceania/New Caledonia",
          "2010/Oceania/New Caledonia",
          "2015/Oceania/New Caledonia",
          "2020/Oceania/New Caledonia",
          "2022/Oceania/New Caledonia",
          "1970/Oceania/New Zealand",
          "1980/Oceania/New Zealand",
          "1990/Oceania/New Zealand",
          "2000/Oceania/New Zealand",
          "2010/Oceania/New Zealand",
          "2015/Oceania/New Zealand",
          "2020/Oceania/New Zealand",
          "2022/Oceania/New Zealand",
          "1970/North America/Nicaragua",
          "1980/North America/Nicaragua",
          "1990/North America/Nicaragua",
          "2000/North America/Nicaragua",
          "2010/North America/Nicaragua",
          "2015/North America/Nicaragua",
          "2020/North America/Nicaragua",
          "2022/North America/Nicaragua",
          "1970/Africa/Niger",
          "1980/Africa/Niger",
          "1990/Africa/Niger",
          "2000/Africa/Niger",
          "2010/Africa/Niger",
          "2015/Africa/Niger",
          "2020/Africa/Niger",
          "2022/Africa/Niger",
          "1970/Africa/Nigeria",
          "1980/Africa/Nigeria",
          "1990/Africa/Nigeria",
          "2000/Africa/Nigeria",
          "2010/Africa/Nigeria",
          "2015/Africa/Nigeria",
          "2020/Africa/Nigeria",
          "2022/Africa/Nigeria",
          "1970/Oceania/Niue",
          "1980/Oceania/Niue",
          "1990/Oceania/Niue",
          "2000/Oceania/Niue",
          "2010/Oceania/Niue",
          "2015/Oceania/Niue",
          "2020/Oceania/Niue",
          "2022/Oceania/Niue",
          "1970/Asia/North Korea",
          "1980/Asia/North Korea",
          "1990/Asia/North Korea",
          "2000/Asia/North Korea",
          "2010/Asia/North Korea",
          "2015/Asia/North Korea",
          "2020/Asia/North Korea",
          "2022/Asia/North Korea",
          "1970/Europe/North Macedonia",
          "1980/Europe/North Macedonia",
          "1990/Europe/North Macedonia",
          "2000/Europe/North Macedonia",
          "2010/Europe/North Macedonia",
          "2015/Europe/North Macedonia",
          "2020/Europe/North Macedonia",
          "2022/Europe/North Macedonia",
          "1970/Oceania/Northern Mariana Islands",
          "1980/Oceania/Northern Mariana Islands",
          "1990/Oceania/Northern Mariana Islands",
          "2000/Oceania/Northern Mariana Islands",
          "2010/Oceania/Northern Mariana Islands",
          "2015/Oceania/Northern Mariana Islands",
          "2020/Oceania/Northern Mariana Islands",
          "2022/Oceania/Northern Mariana Islands",
          "1970/Europe/Norway",
          "1980/Europe/Norway",
          "1990/Europe/Norway",
          "2000/Europe/Norway",
          "2010/Europe/Norway",
          "2015/Europe/Norway",
          "2020/Europe/Norway",
          "2022/Europe/Norway",
          "1970/Asia/Oman",
          "1980/Asia/Oman",
          "1990/Asia/Oman",
          "2000/Asia/Oman",
          "2010/Asia/Oman",
          "2015/Asia/Oman",
          "2020/Asia/Oman",
          "2022/Asia/Oman",
          "1970/Asia/Pakistan",
          "1980/Asia/Pakistan",
          "1990/Asia/Pakistan",
          "2000/Asia/Pakistan",
          "2010/Asia/Pakistan",
          "2015/Asia/Pakistan",
          "2020/Asia/Pakistan",
          "2022/Asia/Pakistan",
          "1970/Oceania/Palau",
          "1980/Oceania/Palau",
          "1990/Oceania/Palau",
          "2000/Oceania/Palau",
          "2010/Oceania/Palau",
          "2015/Oceania/Palau",
          "2020/Oceania/Palau",
          "2022/Oceania/Palau",
          "1970/Asia/Palestine",
          "1980/Asia/Palestine",
          "1990/Asia/Palestine",
          "2000/Asia/Palestine",
          "2010/Asia/Palestine",
          "2015/Asia/Palestine",
          "2020/Asia/Palestine",
          "2022/Asia/Palestine",
          "1970/North America/Panama",
          "1980/North America/Panama",
          "1990/North America/Panama",
          "2000/North America/Panama",
          "2010/North America/Panama",
          "2015/North America/Panama",
          "2020/North America/Panama",
          "2022/North America/Panama",
          "1970/Oceania/Papua New Guinea",
          "1980/Oceania/Papua New Guinea",
          "1990/Oceania/Papua New Guinea",
          "2000/Oceania/Papua New Guinea",
          "2010/Oceania/Papua New Guinea",
          "2015/Oceania/Papua New Guinea",
          "2020/Oceania/Papua New Guinea",
          "2022/Oceania/Papua New Guinea",
          "1970/South America/Paraguay",
          "1980/South America/Paraguay",
          "1990/South America/Paraguay",
          "2000/South America/Paraguay",
          "2010/South America/Paraguay",
          "2015/South America/Paraguay",
          "2020/South America/Paraguay",
          "2022/South America/Paraguay",
          "1970/South America/Peru",
          "1980/South America/Peru",
          "1990/South America/Peru",
          "2000/South America/Peru",
          "2010/South America/Peru",
          "2015/South America/Peru",
          "2020/South America/Peru",
          "2022/South America/Peru",
          "1970/Asia/Philippines",
          "1980/Asia/Philippines",
          "1990/Asia/Philippines",
          "2000/Asia/Philippines",
          "2010/Asia/Philippines",
          "2015/Asia/Philippines",
          "2020/Asia/Philippines",
          "2022/Asia/Philippines",
          "1970/Europe/Poland",
          "1980/Europe/Poland",
          "1990/Europe/Poland",
          "2000/Europe/Poland",
          "2010/Europe/Poland",
          "2015/Europe/Poland",
          "2020/Europe/Poland",
          "2022/Europe/Poland",
          "1970/Europe/Portugal",
          "1980/Europe/Portugal",
          "1990/Europe/Portugal",
          "2000/Europe/Portugal",
          "2010/Europe/Portugal",
          "2015/Europe/Portugal",
          "2020/Europe/Portugal",
          "2022/Europe/Portugal",
          "1970/North America/Puerto Rico",
          "1980/North America/Puerto Rico",
          "1990/North America/Puerto Rico",
          "2000/North America/Puerto Rico",
          "2010/North America/Puerto Rico",
          "2015/North America/Puerto Rico",
          "2020/North America/Puerto Rico",
          "2022/North America/Puerto Rico",
          "1970/Asia/Qatar",
          "1980/Asia/Qatar",
          "1990/Asia/Qatar",
          "2000/Asia/Qatar",
          "2010/Asia/Qatar",
          "2015/Asia/Qatar",
          "2020/Asia/Qatar",
          "2022/Asia/Qatar",
          "1970/Africa/Republic of the Congo",
          "1980/Africa/Republic of the Congo",
          "1990/Africa/Republic of the Congo",
          "2000/Africa/Republic of the Congo",
          "2010/Africa/Republic of the Congo",
          "2015/Africa/Republic of the Congo",
          "2020/Africa/Republic of the Congo",
          "2022/Africa/Republic of the Congo",
          "1970/Africa/Reunion",
          "1980/Africa/Reunion",
          "1990/Africa/Reunion",
          "2000/Africa/Reunion",
          "2010/Africa/Reunion",
          "2015/Africa/Reunion",
          "2020/Africa/Reunion",
          "2022/Africa/Reunion",
          "1970/Europe/Romania",
          "1980/Europe/Romania",
          "1990/Europe/Romania",
          "2000/Europe/Romania",
          "2010/Europe/Romania",
          "2015/Europe/Romania",
          "2020/Europe/Romania",
          "2022/Europe/Romania",
          "1970/Europe/Russia",
          "1980/Europe/Russia",
          "1990/Europe/Russia",
          "2000/Europe/Russia",
          "2010/Europe/Russia",
          "2015/Europe/Russia",
          "2020/Europe/Russia",
          "2022/Europe/Russia",
          "1970/Africa/Rwanda",
          "1980/Africa/Rwanda",
          "1990/Africa/Rwanda",
          "2000/Africa/Rwanda",
          "2010/Africa/Rwanda",
          "2015/Africa/Rwanda",
          "2020/Africa/Rwanda",
          "2022/Africa/Rwanda",
          "1970/North America/Saint Barthelemy",
          "1980/North America/Saint Barthelemy",
          "1990/North America/Saint Barthelemy",
          "2000/North America/Saint Barthelemy",
          "2010/North America/Saint Barthelemy",
          "2015/North America/Saint Barthelemy",
          "2020/North America/Saint Barthelemy",
          "2022/North America/Saint Barthelemy",
          "1970/North America/Saint Kitts and Nevis",
          "1980/North America/Saint Kitts and Nevis",
          "1990/North America/Saint Kitts and Nevis",
          "2000/North America/Saint Kitts and Nevis",
          "2010/North America/Saint Kitts and Nevis",
          "2015/North America/Saint Kitts and Nevis",
          "2020/North America/Saint Kitts and Nevis",
          "2022/North America/Saint Kitts and Nevis",
          "1970/North America/Saint Lucia",
          "1980/North America/Saint Lucia",
          "1990/North America/Saint Lucia",
          "2000/North America/Saint Lucia",
          "2010/North America/Saint Lucia",
          "2015/North America/Saint Lucia",
          "2020/North America/Saint Lucia",
          "2022/North America/Saint Lucia",
          "1970/North America/Saint Martin",
          "1980/North America/Saint Martin",
          "1990/North America/Saint Martin",
          "2000/North America/Saint Martin",
          "2010/North America/Saint Martin",
          "2015/North America/Saint Martin",
          "2020/North America/Saint Martin",
          "2022/North America/Saint Martin",
          "1970/North America/Saint Pierre and Miquelon",
          "1980/North America/Saint Pierre and Miquelon",
          "1990/North America/Saint Pierre and Miquelon",
          "2000/North America/Saint Pierre and Miquelon",
          "2010/North America/Saint Pierre and Miquelon",
          "2015/North America/Saint Pierre and Miquelon",
          "2020/North America/Saint Pierre and Miquelon",
          "2022/North America/Saint Pierre and Miquelon",
          "1970/North America/Saint Vincent and the Grenadines",
          "1980/North America/Saint Vincent and the Grenadines",
          "1990/North America/Saint Vincent and the Grenadines",
          "2000/North America/Saint Vincent and the Grenadines",
          "2010/North America/Saint Vincent and the Grenadines",
          "2015/North America/Saint Vincent and the Grenadines",
          "2020/North America/Saint Vincent and the Grenadines",
          "2022/North America/Saint Vincent and the Grenadines",
          "1970/Oceania/Samoa",
          "1980/Oceania/Samoa",
          "1990/Oceania/Samoa",
          "2000/Oceania/Samoa",
          "2010/Oceania/Samoa",
          "2015/Oceania/Samoa",
          "2020/Oceania/Samoa",
          "2022/Oceania/Samoa",
          "1970/Europe/San Marino",
          "1980/Europe/San Marino",
          "1990/Europe/San Marino",
          "2000/Europe/San Marino",
          "2010/Europe/San Marino",
          "2015/Europe/San Marino",
          "2020/Europe/San Marino",
          "2022/Europe/San Marino",
          "1970/Africa/Sao Tome and Principe",
          "1980/Africa/Sao Tome and Principe",
          "1990/Africa/Sao Tome and Principe",
          "2000/Africa/Sao Tome and Principe",
          "2010/Africa/Sao Tome and Principe",
          "2015/Africa/Sao Tome and Principe",
          "2020/Africa/Sao Tome and Principe",
          "2022/Africa/Sao Tome and Principe",
          "1970/Asia/Saudi Arabia",
          "1980/Asia/Saudi Arabia",
          "1990/Asia/Saudi Arabia",
          "2000/Asia/Saudi Arabia",
          "2010/Asia/Saudi Arabia",
          "2015/Asia/Saudi Arabia",
          "2020/Asia/Saudi Arabia",
          "2022/Asia/Saudi Arabia",
          "1970/Africa/Senegal",
          "1980/Africa/Senegal",
          "1990/Africa/Senegal",
          "2000/Africa/Senegal",
          "2010/Africa/Senegal",
          "2015/Africa/Senegal",
          "2020/Africa/Senegal",
          "2022/Africa/Senegal",
          "1970/Europe/Serbia",
          "1980/Europe/Serbia",
          "1990/Europe/Serbia",
          "2000/Europe/Serbia",
          "2010/Europe/Serbia",
          "2015/Europe/Serbia",
          "2020/Europe/Serbia",
          "2022/Europe/Serbia",
          "1970/Africa/Seychelles",
          "1980/Africa/Seychelles",
          "1990/Africa/Seychelles",
          "2000/Africa/Seychelles",
          "2010/Africa/Seychelles",
          "2015/Africa/Seychelles",
          "2020/Africa/Seychelles",
          "2022/Africa/Seychelles",
          "1970/Africa/Sierra Leone",
          "1980/Africa/Sierra Leone",
          "1990/Africa/Sierra Leone",
          "2000/Africa/Sierra Leone",
          "2010/Africa/Sierra Leone",
          "2015/Africa/Sierra Leone",
          "2020/Africa/Sierra Leone",
          "2022/Africa/Sierra Leone",
          "1970/Asia/Singapore",
          "1980/Asia/Singapore",
          "1990/Asia/Singapore",
          "2000/Asia/Singapore",
          "2010/Asia/Singapore",
          "2015/Asia/Singapore",
          "2020/Asia/Singapore",
          "2022/Asia/Singapore",
          "1970/North America/Sint Maarten",
          "1980/North America/Sint Maarten",
          "1990/North America/Sint Maarten",
          "2000/North America/Sint Maarten",
          "2010/North America/Sint Maarten",
          "2015/North America/Sint Maarten",
          "2020/North America/Sint Maarten",
          "2022/North America/Sint Maarten",
          "1970/Europe/Slovakia",
          "1980/Europe/Slovakia",
          "1990/Europe/Slovakia",
          "2000/Europe/Slovakia",
          "2010/Europe/Slovakia",
          "2015/Europe/Slovakia",
          "2020/Europe/Slovakia",
          "2022/Europe/Slovakia",
          "1970/Europe/Slovenia",
          "1980/Europe/Slovenia",
          "1990/Europe/Slovenia",
          "2000/Europe/Slovenia",
          "2010/Europe/Slovenia",
          "2015/Europe/Slovenia",
          "2020/Europe/Slovenia",
          "2022/Europe/Slovenia",
          "1970/Oceania/Solomon Islands",
          "1980/Oceania/Solomon Islands",
          "1990/Oceania/Solomon Islands",
          "2000/Oceania/Solomon Islands",
          "2010/Oceania/Solomon Islands",
          "2015/Oceania/Solomon Islands",
          "2020/Oceania/Solomon Islands",
          "2022/Oceania/Solomon Islands",
          "1970/Africa/Somalia",
          "1980/Africa/Somalia",
          "1990/Africa/Somalia",
          "2000/Africa/Somalia",
          "2010/Africa/Somalia",
          "2015/Africa/Somalia",
          "2020/Africa/Somalia",
          "2022/Africa/Somalia",
          "1970/Africa/South Africa",
          "1980/Africa/South Africa",
          "1990/Africa/South Africa",
          "2000/Africa/South Africa",
          "2010/Africa/South Africa",
          "2015/Africa/South Africa",
          "2020/Africa/South Africa",
          "2022/Africa/South Africa",
          "1970/Asia/South Korea",
          "1980/Asia/South Korea",
          "1990/Asia/South Korea",
          "2000/Asia/South Korea",
          "2010/Asia/South Korea",
          "2015/Asia/South Korea",
          "2020/Asia/South Korea",
          "2022/Asia/South Korea",
          "1970/Africa/South Sudan",
          "1980/Africa/South Sudan",
          "1990/Africa/South Sudan",
          "2000/Africa/South Sudan",
          "2010/Africa/South Sudan",
          "2015/Africa/South Sudan",
          "2020/Africa/South Sudan",
          "2022/Africa/South Sudan",
          "1970/Europe/Spain",
          "1980/Europe/Spain",
          "1990/Europe/Spain",
          "2000/Europe/Spain",
          "2010/Europe/Spain",
          "2015/Europe/Spain",
          "2020/Europe/Spain",
          "2022/Europe/Spain",
          "1970/Asia/Sri Lanka",
          "1980/Asia/Sri Lanka",
          "1990/Asia/Sri Lanka",
          "2000/Asia/Sri Lanka",
          "2010/Asia/Sri Lanka",
          "2015/Asia/Sri Lanka",
          "2020/Asia/Sri Lanka",
          "2022/Asia/Sri Lanka",
          "1970/Africa/Sudan",
          "1980/Africa/Sudan",
          "1990/Africa/Sudan",
          "2000/Africa/Sudan",
          "2010/Africa/Sudan",
          "2015/Africa/Sudan",
          "2020/Africa/Sudan",
          "2022/Africa/Sudan",
          "1970/South America/Suriname",
          "1980/South America/Suriname",
          "1990/South America/Suriname",
          "2000/South America/Suriname",
          "2010/South America/Suriname",
          "2015/South America/Suriname",
          "2020/South America/Suriname",
          "2022/South America/Suriname",
          "1970/Europe/Sweden",
          "1980/Europe/Sweden",
          "1990/Europe/Sweden",
          "2000/Europe/Sweden",
          "2010/Europe/Sweden",
          "2015/Europe/Sweden",
          "2020/Europe/Sweden",
          "2022/Europe/Sweden",
          "1970/Europe/Switzerland",
          "1980/Europe/Switzerland",
          "1990/Europe/Switzerland",
          "2000/Europe/Switzerland",
          "2010/Europe/Switzerland",
          "2015/Europe/Switzerland",
          "2020/Europe/Switzerland",
          "2022/Europe/Switzerland",
          "1970/Asia/Syria",
          "1980/Asia/Syria",
          "1990/Asia/Syria",
          "2000/Asia/Syria",
          "2010/Asia/Syria",
          "2015/Asia/Syria",
          "2020/Asia/Syria",
          "2022/Asia/Syria",
          "1970/Asia/Taiwan",
          "1980/Asia/Taiwan",
          "1990/Asia/Taiwan",
          "2000/Asia/Taiwan",
          "2010/Asia/Taiwan",
          "2015/Asia/Taiwan",
          "2020/Asia/Taiwan",
          "2022/Asia/Taiwan",
          "1970/Asia/Tajikistan",
          "1980/Asia/Tajikistan",
          "1990/Asia/Tajikistan",
          "2000/Asia/Tajikistan",
          "2010/Asia/Tajikistan",
          "2015/Asia/Tajikistan",
          "2020/Asia/Tajikistan",
          "2022/Asia/Tajikistan",
          "1970/Africa/Tanzania",
          "1980/Africa/Tanzania",
          "1990/Africa/Tanzania",
          "2000/Africa/Tanzania",
          "2010/Africa/Tanzania",
          "2015/Africa/Tanzania",
          "2020/Africa/Tanzania",
          "2022/Africa/Tanzania",
          "1970/Asia/Thailand",
          "1980/Asia/Thailand",
          "1990/Asia/Thailand",
          "2000/Asia/Thailand",
          "2010/Asia/Thailand",
          "2015/Asia/Thailand",
          "2020/Asia/Thailand",
          "2022/Asia/Thailand",
          "1970/Asia/Timor-Leste",
          "1980/Asia/Timor-Leste",
          "1990/Asia/Timor-Leste",
          "2000/Asia/Timor-Leste",
          "2010/Asia/Timor-Leste",
          "2015/Asia/Timor-Leste",
          "2020/Asia/Timor-Leste",
          "2022/Asia/Timor-Leste",
          "1970/Africa/Togo",
          "1980/Africa/Togo",
          "1990/Africa/Togo",
          "2000/Africa/Togo",
          "2010/Africa/Togo",
          "2015/Africa/Togo",
          "2020/Africa/Togo",
          "2022/Africa/Togo",
          "1970/Oceania/Tokelau",
          "1980/Oceania/Tokelau",
          "1990/Oceania/Tokelau",
          "2000/Oceania/Tokelau",
          "2010/Oceania/Tokelau",
          "2015/Oceania/Tokelau",
          "2020/Oceania/Tokelau",
          "2022/Oceania/Tokelau",
          "1970/Oceania/Tonga",
          "1980/Oceania/Tonga",
          "1990/Oceania/Tonga",
          "2000/Oceania/Tonga",
          "2010/Oceania/Tonga",
          "2015/Oceania/Tonga",
          "2020/Oceania/Tonga",
          "2022/Oceania/Tonga",
          "1970/North America/Trinidad and Tobago",
          "1980/North America/Trinidad and Tobago",
          "1990/North America/Trinidad and Tobago",
          "2000/North America/Trinidad and Tobago",
          "2010/North America/Trinidad and Tobago",
          "2015/North America/Trinidad and Tobago",
          "2020/North America/Trinidad and Tobago",
          "2022/North America/Trinidad and Tobago",
          "1970/Africa/Tunisia",
          "1980/Africa/Tunisia",
          "1990/Africa/Tunisia",
          "2000/Africa/Tunisia",
          "2010/Africa/Tunisia",
          "2015/Africa/Tunisia",
          "2020/Africa/Tunisia",
          "2022/Africa/Tunisia",
          "1970/Asia/Turkey",
          "1980/Asia/Turkey",
          "1990/Asia/Turkey",
          "2000/Asia/Turkey",
          "2010/Asia/Turkey",
          "2015/Asia/Turkey",
          "2020/Asia/Turkey",
          "2022/Asia/Turkey",
          "1970/Asia/Turkmenistan",
          "1980/Asia/Turkmenistan",
          "1990/Asia/Turkmenistan",
          "2000/Asia/Turkmenistan",
          "2010/Asia/Turkmenistan",
          "2015/Asia/Turkmenistan",
          "2020/Asia/Turkmenistan",
          "2022/Asia/Turkmenistan",
          "1970/North America/Turks and Caicos Islands",
          "1980/North America/Turks and Caicos Islands",
          "1990/North America/Turks and Caicos Islands",
          "2000/North America/Turks and Caicos Islands",
          "2010/North America/Turks and Caicos Islands",
          "2015/North America/Turks and Caicos Islands",
          "2020/North America/Turks and Caicos Islands",
          "2022/North America/Turks and Caicos Islands",
          "1970/Oceania/Tuvalu",
          "1980/Oceania/Tuvalu",
          "1990/Oceania/Tuvalu",
          "2000/Oceania/Tuvalu",
          "2010/Oceania/Tuvalu",
          "2015/Oceania/Tuvalu",
          "2020/Oceania/Tuvalu",
          "2022/Oceania/Tuvalu",
          "1970/Africa/Uganda",
          "1980/Africa/Uganda",
          "1990/Africa/Uganda",
          "2000/Africa/Uganda",
          "2010/Africa/Uganda",
          "2015/Africa/Uganda",
          "2020/Africa/Uganda",
          "2022/Africa/Uganda",
          "1970/Europe/Ukraine",
          "1980/Europe/Ukraine",
          "1990/Europe/Ukraine",
          "2000/Europe/Ukraine",
          "2010/Europe/Ukraine",
          "2015/Europe/Ukraine",
          "2020/Europe/Ukraine",
          "2022/Europe/Ukraine",
          "1970/Asia/United Arab Emirates",
          "1980/Asia/United Arab Emirates",
          "1990/Asia/United Arab Emirates",
          "2000/Asia/United Arab Emirates",
          "2010/Asia/United Arab Emirates",
          "2015/Asia/United Arab Emirates",
          "2020/Asia/United Arab Emirates",
          "2022/Asia/United Arab Emirates",
          "1970/Europe/United Kingdom",
          "1980/Europe/United Kingdom",
          "1990/Europe/United Kingdom",
          "2000/Europe/United Kingdom",
          "2010/Europe/United Kingdom",
          "2015/Europe/United Kingdom",
          "2020/Europe/United Kingdom",
          "2022/Europe/United Kingdom",
          "1970/North America/United States",
          "1980/North America/United States",
          "1990/North America/United States",
          "2000/North America/United States",
          "2010/North America/United States",
          "2015/North America/United States",
          "2020/North America/United States",
          "2022/North America/United States",
          "1970/North America/United States Virgin Islands",
          "1980/North America/United States Virgin Islands",
          "1990/North America/United States Virgin Islands",
          "2000/North America/United States Virgin Islands",
          "2010/North America/United States Virgin Islands",
          "2015/North America/United States Virgin Islands",
          "2020/North America/United States Virgin Islands",
          "2022/North America/United States Virgin Islands",
          "1970/South America/Uruguay",
          "1980/South America/Uruguay",
          "1990/South America/Uruguay",
          "2000/South America/Uruguay",
          "2010/South America/Uruguay",
          "2015/South America/Uruguay",
          "2020/South America/Uruguay",
          "2022/South America/Uruguay",
          "1970/Asia/Uzbekistan",
          "1980/Asia/Uzbekistan",
          "1990/Asia/Uzbekistan",
          "2000/Asia/Uzbekistan",
          "2010/Asia/Uzbekistan",
          "2015/Asia/Uzbekistan",
          "2020/Asia/Uzbekistan",
          "2022/Asia/Uzbekistan",
          "1970/Oceania/Vanuatu",
          "1980/Oceania/Vanuatu",
          "1990/Oceania/Vanuatu",
          "2000/Oceania/Vanuatu",
          "2010/Oceania/Vanuatu",
          "2015/Oceania/Vanuatu",
          "2020/Oceania/Vanuatu",
          "2022/Oceania/Vanuatu",
          "1970/Europe/Vatican City",
          "1980/Europe/Vatican City",
          "1990/Europe/Vatican City",
          "2000/Europe/Vatican City",
          "2010/Europe/Vatican City",
          "2015/Europe/Vatican City",
          "2020/Europe/Vatican City",
          "2022/Europe/Vatican City",
          "1970/South America/Venezuela",
          "1980/South America/Venezuela",
          "1990/South America/Venezuela",
          "2000/South America/Venezuela",
          "2010/South America/Venezuela",
          "2015/South America/Venezuela",
          "2020/South America/Venezuela",
          "2022/South America/Venezuela",
          "1970/Asia/Vietnam",
          "1980/Asia/Vietnam",
          "1990/Asia/Vietnam",
          "2000/Asia/Vietnam",
          "2010/Asia/Vietnam",
          "2015/Asia/Vietnam",
          "2020/Asia/Vietnam",
          "2022/Asia/Vietnam",
          "1970/Oceania/Wallis and Futuna",
          "1980/Oceania/Wallis and Futuna",
          "1990/Oceania/Wallis and Futuna",
          "2000/Oceania/Wallis and Futuna",
          "2010/Oceania/Wallis and Futuna",
          "2015/Oceania/Wallis and Futuna",
          "2020/Oceania/Wallis and Futuna",
          "2022/Oceania/Wallis and Futuna",
          "1970/Africa/Western Sahara",
          "1980/Africa/Western Sahara",
          "1990/Africa/Western Sahara",
          "2000/Africa/Western Sahara",
          "2010/Africa/Western Sahara",
          "2015/Africa/Western Sahara",
          "2020/Africa/Western Sahara",
          "2022/Africa/Western Sahara",
          "1970/Asia/Yemen",
          "1980/Asia/Yemen",
          "1990/Asia/Yemen",
          "2000/Asia/Yemen",
          "2010/Asia/Yemen",
          "2015/Asia/Yemen",
          "2020/Asia/Yemen",
          "2022/Asia/Yemen",
          "1970/Africa/Zambia",
          "1980/Africa/Zambia",
          "1990/Africa/Zambia",
          "2000/Africa/Zambia",
          "2010/Africa/Zambia",
          "2015/Africa/Zambia",
          "2020/Africa/Zambia",
          "2022/Africa/Zambia",
          "1970/Africa/Zimbabwe",
          "1980/Africa/Zimbabwe",
          "1990/Africa/Zimbabwe",
          "2000/Africa/Zimbabwe",
          "2010/Africa/Zimbabwe",
          "2015/Africa/Zimbabwe",
          "2020/Africa/Zimbabwe",
          "2022/Africa/Zimbabwe",
          "1970/Africa",
          "1980/Africa",
          "1990/Africa",
          "2000/Africa",
          "2010/Africa",
          "2015/Africa",
          "2020/Africa",
          "2022/Africa",
          "1970/Asia",
          "1980/Asia",
          "1990/Asia",
          "2000/Asia",
          "2010/Asia",
          "2015/Asia",
          "2020/Asia",
          "2022/Asia",
          "1970/Europe",
          "1980/Europe",
          "1990/Europe",
          "2000/Europe",
          "2010/Europe",
          "2015/Europe",
          "2020/Europe",
          "2022/Europe",
          "1970/North America",
          "1980/North America",
          "1990/North America",
          "2000/North America",
          "2010/North America",
          "2015/North America",
          "2020/North America",
          "2022/North America",
          "1970/Oceania",
          "1980/Oceania",
          "1990/Oceania",
          "2000/Oceania",
          "2010/Oceania",
          "2015/Oceania",
          "2020/Oceania",
          "2022/Oceania",
          "1970/South America",
          "1980/South America",
          "1990/South America",
          "2000/South America",
          "2010/South America",
          "2015/South America",
          "2020/South America",
          "2022/South America",
          "1970",
          "1980",
          "1990",
          "2000",
          "2010",
          "2015",
          "2020",
          "2022"
         ],
         "labels": [
          "Afghanistan",
          "Afghanistan",
          "Afghanistan",
          "Afghanistan",
          "Afghanistan",
          "Afghanistan",
          "Afghanistan",
          "Afghanistan",
          "Albania",
          "Albania",
          "Albania",
          "Albania",
          "Albania",
          "Albania",
          "Albania",
          "Albania",
          "Algeria",
          "Algeria",
          "Algeria",
          "Algeria",
          "Algeria",
          "Algeria",
          "Algeria",
          "Algeria",
          "American Samoa",
          "American Samoa",
          "American Samoa",
          "American Samoa",
          "American Samoa",
          "American Samoa",
          "American Samoa",
          "American Samoa",
          "Andorra",
          "Andorra",
          "Andorra",
          "Andorra",
          "Andorra",
          "Andorra",
          "Andorra",
          "Andorra",
          "Angola",
          "Angola",
          "Angola",
          "Angola",
          "Angola",
          "Angola",
          "Angola",
          "Angola",
          "Anguilla",
          "Anguilla",
          "Anguilla",
          "Anguilla",
          "Anguilla",
          "Anguilla",
          "Anguilla",
          "Anguilla",
          "Antigua and Barbuda",
          "Antigua and Barbuda",
          "Antigua and Barbuda",
          "Antigua and Barbuda",
          "Antigua and Barbuda",
          "Antigua and Barbuda",
          "Antigua and Barbuda",
          "Antigua and Barbuda",
          "Argentina",
          "Argentina",
          "Argentina",
          "Argentina",
          "Argentina",
          "Argentina",
          "Argentina",
          "Argentina",
          "Armenia",
          "Armenia",
          "Armenia",
          "Armenia",
          "Armenia",
          "Armenia",
          "Armenia",
          "Armenia",
          "Aruba",
          "Aruba",
          "Aruba",
          "Aruba",
          "Aruba",
          "Aruba",
          "Aruba",
          "Aruba",
          "Australia",
          "Australia",
          "Australia",
          "Australia",
          "Australia",
          "Australia",
          "Australia",
          "Australia",
          "Austria",
          "Austria",
          "Austria",
          "Austria",
          "Austria",
          "Austria",
          "Austria",
          "Austria",
          "Azerbaijan",
          "Azerbaijan",
          "Azerbaijan",
          "Azerbaijan",
          "Azerbaijan",
          "Azerbaijan",
          "Azerbaijan",
          "Azerbaijan",
          "Bahamas",
          "Bahamas",
          "Bahamas",
          "Bahamas",
          "Bahamas",
          "Bahamas",
          "Bahamas",
          "Bahamas",
          "Bahrain",
          "Bahrain",
          "Bahrain",
          "Bahrain",
          "Bahrain",
          "Bahrain",
          "Bahrain",
          "Bahrain",
          "Bangladesh",
          "Bangladesh",
          "Bangladesh",
          "Bangladesh",
          "Bangladesh",
          "Bangladesh",
          "Bangladesh",
          "Bangladesh",
          "Barbados",
          "Barbados",
          "Barbados",
          "Barbados",
          "Barbados",
          "Barbados",
          "Barbados",
          "Barbados",
          "Belarus",
          "Belarus",
          "Belarus",
          "Belarus",
          "Belarus",
          "Belarus",
          "Belarus",
          "Belarus",
          "Belgium",
          "Belgium",
          "Belgium",
          "Belgium",
          "Belgium",
          "Belgium",
          "Belgium",
          "Belgium",
          "Belize",
          "Belize",
          "Belize",
          "Belize",
          "Belize",
          "Belize",
          "Belize",
          "Belize",
          "Benin",
          "Benin",
          "Benin",
          "Benin",
          "Benin",
          "Benin",
          "Benin",
          "Benin",
          "Bermuda",
          "Bermuda",
          "Bermuda",
          "Bermuda",
          "Bermuda",
          "Bermuda",
          "Bermuda",
          "Bermuda",
          "Bhutan",
          "Bhutan",
          "Bhutan",
          "Bhutan",
          "Bhutan",
          "Bhutan",
          "Bhutan",
          "Bhutan",
          "Bolivia",
          "Bolivia",
          "Bolivia",
          "Bolivia",
          "Bolivia",
          "Bolivia",
          "Bolivia",
          "Bolivia",
          "Bosnia and Herzegovina",
          "Bosnia and Herzegovina",
          "Bosnia and Herzegovina",
          "Bosnia and Herzegovina",
          "Bosnia and Herzegovina",
          "Bosnia and Herzegovina",
          "Bosnia and Herzegovina",
          "Bosnia and Herzegovina",
          "Botswana",
          "Botswana",
          "Botswana",
          "Botswana",
          "Botswana",
          "Botswana",
          "Botswana",
          "Botswana",
          "Brazil",
          "Brazil",
          "Brazil",
          "Brazil",
          "Brazil",
          "Brazil",
          "Brazil",
          "Brazil",
          "British Virgin Islands",
          "British Virgin Islands",
          "British Virgin Islands",
          "British Virgin Islands",
          "British Virgin Islands",
          "British Virgin Islands",
          "British Virgin Islands",
          "British Virgin Islands",
          "Brunei",
          "Brunei",
          "Brunei",
          "Brunei",
          "Brunei",
          "Brunei",
          "Brunei",
          "Brunei",
          "Bulgaria",
          "Bulgaria",
          "Bulgaria",
          "Bulgaria",
          "Bulgaria",
          "Bulgaria",
          "Bulgaria",
          "Bulgaria",
          "Burkina Faso",
          "Burkina Faso",
          "Burkina Faso",
          "Burkina Faso",
          "Burkina Faso",
          "Burkina Faso",
          "Burkina Faso",
          "Burkina Faso",
          "Burundi",
          "Burundi",
          "Burundi",
          "Burundi",
          "Burundi",
          "Burundi",
          "Burundi",
          "Burundi",
          "Cambodia",
          "Cambodia",
          "Cambodia",
          "Cambodia",
          "Cambodia",
          "Cambodia",
          "Cambodia",
          "Cambodia",
          "Cameroon",
          "Cameroon",
          "Cameroon",
          "Cameroon",
          "Cameroon",
          "Cameroon",
          "Cameroon",
          "Cameroon",
          "Canada",
          "Canada",
          "Canada",
          "Canada",
          "Canada",
          "Canada",
          "Canada",
          "Canada",
          "Cape Verde",
          "Cape Verde",
          "Cape Verde",
          "Cape Verde",
          "Cape Verde",
          "Cape Verde",
          "Cape Verde",
          "Cape Verde",
          "Cayman Islands",
          "Cayman Islands",
          "Cayman Islands",
          "Cayman Islands",
          "Cayman Islands",
          "Cayman Islands",
          "Cayman Islands",
          "Cayman Islands",
          "Central African Republic",
          "Central African Republic",
          "Central African Republic",
          "Central African Republic",
          "Central African Republic",
          "Central African Republic",
          "Central African Republic",
          "Central African Republic",
          "Chad",
          "Chad",
          "Chad",
          "Chad",
          "Chad",
          "Chad",
          "Chad",
          "Chad",
          "Chile",
          "Chile",
          "Chile",
          "Chile",
          "Chile",
          "Chile",
          "Chile",
          "Chile",
          "China",
          "China",
          "China",
          "China",
          "China",
          "China",
          "China",
          "China",
          "Colombia",
          "Colombia",
          "Colombia",
          "Colombia",
          "Colombia",
          "Colombia",
          "Colombia",
          "Colombia",
          "Comoros",
          "Comoros",
          "Comoros",
          "Comoros",
          "Comoros",
          "Comoros",
          "Comoros",
          "Comoros",
          "Cook Islands",
          "Cook Islands",
          "Cook Islands",
          "Cook Islands",
          "Cook Islands",
          "Cook Islands",
          "Cook Islands",
          "Cook Islands",
          "Costa Rica",
          "Costa Rica",
          "Costa Rica",
          "Costa Rica",
          "Costa Rica",
          "Costa Rica",
          "Costa Rica",
          "Costa Rica",
          "Croatia",
          "Croatia",
          "Croatia",
          "Croatia",
          "Croatia",
          "Croatia",
          "Croatia",
          "Croatia",
          "Cuba",
          "Cuba",
          "Cuba",
          "Cuba",
          "Cuba",
          "Cuba",
          "Cuba",
          "Cuba",
          "Curacao",
          "Curacao",
          "Curacao",
          "Curacao",
          "Curacao",
          "Curacao",
          "Curacao",
          "Curacao",
          "Cyprus",
          "Cyprus",
          "Cyprus",
          "Cyprus",
          "Cyprus",
          "Cyprus",
          "Cyprus",
          "Cyprus",
          "Czech Republic",
          "Czech Republic",
          "Czech Republic",
          "Czech Republic",
          "Czech Republic",
          "Czech Republic",
          "Czech Republic",
          "Czech Republic",
          "DR Congo",
          "DR Congo",
          "DR Congo",
          "DR Congo",
          "DR Congo",
          "DR Congo",
          "DR Congo",
          "DR Congo",
          "Denmark",
          "Denmark",
          "Denmark",
          "Denmark",
          "Denmark",
          "Denmark",
          "Denmark",
          "Denmark",
          "Djibouti",
          "Djibouti",
          "Djibouti",
          "Djibouti",
          "Djibouti",
          "Djibouti",
          "Djibouti",
          "Djibouti",
          "Dominica",
          "Dominica",
          "Dominica",
          "Dominica",
          "Dominica",
          "Dominica",
          "Dominica",
          "Dominica",
          "Dominican Republic",
          "Dominican Republic",
          "Dominican Republic",
          "Dominican Republic",
          "Dominican Republic",
          "Dominican Republic",
          "Dominican Republic",
          "Dominican Republic",
          "Ecuador",
          "Ecuador",
          "Ecuador",
          "Ecuador",
          "Ecuador",
          "Ecuador",
          "Ecuador",
          "Ecuador",
          "Egypt",
          "Egypt",
          "Egypt",
          "Egypt",
          "Egypt",
          "Egypt",
          "Egypt",
          "Egypt",
          "El Salvador",
          "El Salvador",
          "El Salvador",
          "El Salvador",
          "El Salvador",
          "El Salvador",
          "El Salvador",
          "El Salvador",
          "Equatorial Guinea",
          "Equatorial Guinea",
          "Equatorial Guinea",
          "Equatorial Guinea",
          "Equatorial Guinea",
          "Equatorial Guinea",
          "Equatorial Guinea",
          "Equatorial Guinea",
          "Eritrea",
          "Eritrea",
          "Eritrea",
          "Eritrea",
          "Eritrea",
          "Eritrea",
          "Eritrea",
          "Eritrea",
          "Estonia",
          "Estonia",
          "Estonia",
          "Estonia",
          "Estonia",
          "Estonia",
          "Estonia",
          "Estonia",
          "Eswatini",
          "Eswatini",
          "Eswatini",
          "Eswatini",
          "Eswatini",
          "Eswatini",
          "Eswatini",
          "Eswatini",
          "Ethiopia",
          "Ethiopia",
          "Ethiopia",
          "Ethiopia",
          "Ethiopia",
          "Ethiopia",
          "Ethiopia",
          "Ethiopia",
          "Falkland Islands",
          "Falkland Islands",
          "Falkland Islands",
          "Falkland Islands",
          "Falkland Islands",
          "Falkland Islands",
          "Falkland Islands",
          "Falkland Islands",
          "Faroe Islands",
          "Faroe Islands",
          "Faroe Islands",
          "Faroe Islands",
          "Faroe Islands",
          "Faroe Islands",
          "Faroe Islands",
          "Faroe Islands",
          "Fiji",
          "Fiji",
          "Fiji",
          "Fiji",
          "Fiji",
          "Fiji",
          "Fiji",
          "Fiji",
          "Finland",
          "Finland",
          "Finland",
          "Finland",
          "Finland",
          "Finland",
          "Finland",
          "Finland",
          "France",
          "France",
          "France",
          "France",
          "France",
          "France",
          "France",
          "France",
          "French Guiana",
          "French Guiana",
          "French Guiana",
          "French Guiana",
          "French Guiana",
          "French Guiana",
          "French Guiana",
          "French Guiana",
          "French Polynesia",
          "French Polynesia",
          "French Polynesia",
          "French Polynesia",
          "French Polynesia",
          "French Polynesia",
          "French Polynesia",
          "French Polynesia",
          "Gabon",
          "Gabon",
          "Gabon",
          "Gabon",
          "Gabon",
          "Gabon",
          "Gabon",
          "Gabon",
          "Gambia",
          "Gambia",
          "Gambia",
          "Gambia",
          "Gambia",
          "Gambia",
          "Gambia",
          "Gambia",
          "Georgia",
          "Georgia",
          "Georgia",
          "Georgia",
          "Georgia",
          "Georgia",
          "Georgia",
          "Georgia",
          "Germany",
          "Germany",
          "Germany",
          "Germany",
          "Germany",
          "Germany",
          "Germany",
          "Germany",
          "Ghana",
          "Ghana",
          "Ghana",
          "Ghana",
          "Ghana",
          "Ghana",
          "Ghana",
          "Ghana",
          "Gibraltar",
          "Gibraltar",
          "Gibraltar",
          "Gibraltar",
          "Gibraltar",
          "Gibraltar",
          "Gibraltar",
          "Gibraltar",
          "Greece",
          "Greece",
          "Greece",
          "Greece",
          "Greece",
          "Greece",
          "Greece",
          "Greece",
          "Greenland",
          "Greenland",
          "Greenland",
          "Greenland",
          "Greenland",
          "Greenland",
          "Greenland",
          "Greenland",
          "Grenada",
          "Grenada",
          "Grenada",
          "Grenada",
          "Grenada",
          "Grenada",
          "Grenada",
          "Grenada",
          "Guadeloupe",
          "Guadeloupe",
          "Guadeloupe",
          "Guadeloupe",
          "Guadeloupe",
          "Guadeloupe",
          "Guadeloupe",
          "Guadeloupe",
          "Guam",
          "Guam",
          "Guam",
          "Guam",
          "Guam",
          "Guam",
          "Guam",
          "Guam",
          "Guatemala",
          "Guatemala",
          "Guatemala",
          "Guatemala",
          "Guatemala",
          "Guatemala",
          "Guatemala",
          "Guatemala",
          "Guernsey",
          "Guernsey",
          "Guernsey",
          "Guernsey",
          "Guernsey",
          "Guernsey",
          "Guernsey",
          "Guernsey",
          "Guinea",
          "Guinea",
          "Guinea",
          "Guinea",
          "Guinea",
          "Guinea",
          "Guinea",
          "Guinea",
          "Guinea-Bissau",
          "Guinea-Bissau",
          "Guinea-Bissau",
          "Guinea-Bissau",
          "Guinea-Bissau",
          "Guinea-Bissau",
          "Guinea-Bissau",
          "Guinea-Bissau",
          "Guyana",
          "Guyana",
          "Guyana",
          "Guyana",
          "Guyana",
          "Guyana",
          "Guyana",
          "Guyana",
          "Haiti",
          "Haiti",
          "Haiti",
          "Haiti",
          "Haiti",
          "Haiti",
          "Haiti",
          "Haiti",
          "Honduras",
          "Honduras",
          "Honduras",
          "Honduras",
          "Honduras",
          "Honduras",
          "Honduras",
          "Honduras",
          "Hong Kong",
          "Hong Kong",
          "Hong Kong",
          "Hong Kong",
          "Hong Kong",
          "Hong Kong",
          "Hong Kong",
          "Hong Kong",
          "Hungary",
          "Hungary",
          "Hungary",
          "Hungary",
          "Hungary",
          "Hungary",
          "Hungary",
          "Hungary",
          "Iceland",
          "Iceland",
          "Iceland",
          "Iceland",
          "Iceland",
          "Iceland",
          "Iceland",
          "Iceland",
          "India",
          "India",
          "India",
          "India",
          "India",
          "India",
          "India",
          "India",
          "Indonesia",
          "Indonesia",
          "Indonesia",
          "Indonesia",
          "Indonesia",
          "Indonesia",
          "Indonesia",
          "Indonesia",
          "Iran",
          "Iran",
          "Iran",
          "Iran",
          "Iran",
          "Iran",
          "Iran",
          "Iran",
          "Iraq",
          "Iraq",
          "Iraq",
          "Iraq",
          "Iraq",
          "Iraq",
          "Iraq",
          "Iraq",
          "Ireland",
          "Ireland",
          "Ireland",
          "Ireland",
          "Ireland",
          "Ireland",
          "Ireland",
          "Ireland",
          "Isle of Man",
          "Isle of Man",
          "Isle of Man",
          "Isle of Man",
          "Isle of Man",
          "Isle of Man",
          "Isle of Man",
          "Isle of Man",
          "Israel",
          "Israel",
          "Israel",
          "Israel",
          "Israel",
          "Israel",
          "Israel",
          "Israel",
          "Italy",
          "Italy",
          "Italy",
          "Italy",
          "Italy",
          "Italy",
          "Italy",
          "Italy",
          "Ivory Coast",
          "Ivory Coast",
          "Ivory Coast",
          "Ivory Coast",
          "Ivory Coast",
          "Ivory Coast",
          "Ivory Coast",
          "Ivory Coast",
          "Jamaica",
          "Jamaica",
          "Jamaica",
          "Jamaica",
          "Jamaica",
          "Jamaica",
          "Jamaica",
          "Jamaica",
          "Japan",
          "Japan",
          "Japan",
          "Japan",
          "Japan",
          "Japan",
          "Japan",
          "Japan",
          "Jersey",
          "Jersey",
          "Jersey",
          "Jersey",
          "Jersey",
          "Jersey",
          "Jersey",
          "Jersey",
          "Jordan",
          "Jordan",
          "Jordan",
          "Jordan",
          "Jordan",
          "Jordan",
          "Jordan",
          "Jordan",
          "Kazakhstan",
          "Kazakhstan",
          "Kazakhstan",
          "Kazakhstan",
          "Kazakhstan",
          "Kazakhstan",
          "Kazakhstan",
          "Kazakhstan",
          "Kenya",
          "Kenya",
          "Kenya",
          "Kenya",
          "Kenya",
          "Kenya",
          "Kenya",
          "Kenya",
          "Kiribati",
          "Kiribati",
          "Kiribati",
          "Kiribati",
          "Kiribati",
          "Kiribati",
          "Kiribati",
          "Kiribati",
          "Kuwait",
          "Kuwait",
          "Kuwait",
          "Kuwait",
          "Kuwait",
          "Kuwait",
          "Kuwait",
          "Kuwait",
          "Kyrgyzstan",
          "Kyrgyzstan",
          "Kyrgyzstan",
          "Kyrgyzstan",
          "Kyrgyzstan",
          "Kyrgyzstan",
          "Kyrgyzstan",
          "Kyrgyzstan",
          "Laos",
          "Laos",
          "Laos",
          "Laos",
          "Laos",
          "Laos",
          "Laos",
          "Laos",
          "Latvia",
          "Latvia",
          "Latvia",
          "Latvia",
          "Latvia",
          "Latvia",
          "Latvia",
          "Latvia",
          "Lebanon",
          "Lebanon",
          "Lebanon",
          "Lebanon",
          "Lebanon",
          "Lebanon",
          "Lebanon",
          "Lebanon",
          "Lesotho",
          "Lesotho",
          "Lesotho",
          "Lesotho",
          "Lesotho",
          "Lesotho",
          "Lesotho",
          "Lesotho",
          "Liberia",
          "Liberia",
          "Liberia",
          "Liberia",
          "Liberia",
          "Liberia",
          "Liberia",
          "Liberia",
          "Libya",
          "Libya",
          "Libya",
          "Libya",
          "Libya",
          "Libya",
          "Libya",
          "Libya",
          "Liechtenstein",
          "Liechtenstein",
          "Liechtenstein",
          "Liechtenstein",
          "Liechtenstein",
          "Liechtenstein",
          "Liechtenstein",
          "Liechtenstein",
          "Lithuania",
          "Lithuania",
          "Lithuania",
          "Lithuania",
          "Lithuania",
          "Lithuania",
          "Lithuania",
          "Lithuania",
          "Luxembourg",
          "Luxembourg",
          "Luxembourg",
          "Luxembourg",
          "Luxembourg",
          "Luxembourg",
          "Luxembourg",
          "Luxembourg",
          "Macau",
          "Macau",
          "Macau",
          "Macau",
          "Macau",
          "Macau",
          "Macau",
          "Macau",
          "Madagascar",
          "Madagascar",
          "Madagascar",
          "Madagascar",
          "Madagascar",
          "Madagascar",
          "Madagascar",
          "Madagascar",
          "Malawi",
          "Malawi",
          "Malawi",
          "Malawi",
          "Malawi",
          "Malawi",
          "Malawi",
          "Malawi",
          "Malaysia",
          "Malaysia",
          "Malaysia",
          "Malaysia",
          "Malaysia",
          "Malaysia",
          "Malaysia",
          "Malaysia",
          "Maldives",
          "Maldives",
          "Maldives",
          "Maldives",
          "Maldives",
          "Maldives",
          "Maldives",
          "Maldives",
          "Mali",
          "Mali",
          "Mali",
          "Mali",
          "Mali",
          "Mali",
          "Mali",
          "Mali",
          "Malta",
          "Malta",
          "Malta",
          "Malta",
          "Malta",
          "Malta",
          "Malta",
          "Malta",
          "Marshall Islands",
          "Marshall Islands",
          "Marshall Islands",
          "Marshall Islands",
          "Marshall Islands",
          "Marshall Islands",
          "Marshall Islands",
          "Marshall Islands",
          "Martinique",
          "Martinique",
          "Martinique",
          "Martinique",
          "Martinique",
          "Martinique",
          "Martinique",
          "Martinique",
          "Mauritania",
          "Mauritania",
          "Mauritania",
          "Mauritania",
          "Mauritania",
          "Mauritania",
          "Mauritania",
          "Mauritania",
          "Mauritius",
          "Mauritius",
          "Mauritius",
          "Mauritius",
          "Mauritius",
          "Mauritius",
          "Mauritius",
          "Mauritius",
          "Mayotte",
          "Mayotte",
          "Mayotte",
          "Mayotte",
          "Mayotte",
          "Mayotte",
          "Mayotte",
          "Mayotte",
          "Mexico",
          "Mexico",
          "Mexico",
          "Mexico",
          "Mexico",
          "Mexico",
          "Mexico",
          "Mexico",
          "Micronesia",
          "Micronesia",
          "Micronesia",
          "Micronesia",
          "Micronesia",
          "Micronesia",
          "Micronesia",
          "Micronesia",
          "Moldova",
          "Moldova",
          "Moldova",
          "Moldova",
          "Moldova",
          "Moldova",
          "Moldova",
          "Moldova",
          "Monaco",
          "Monaco",
          "Monaco",
          "Monaco",
          "Monaco",
          "Monaco",
          "Monaco",
          "Monaco",
          "Mongolia",
          "Mongolia",
          "Mongolia",
          "Mongolia",
          "Mongolia",
          "Mongolia",
          "Mongolia",
          "Mongolia",
          "Montenegro",
          "Montenegro",
          "Montenegro",
          "Montenegro",
          "Montenegro",
          "Montenegro",
          "Montenegro",
          "Montenegro",
          "Montserrat",
          "Montserrat",
          "Montserrat",
          "Montserrat",
          "Montserrat",
          "Montserrat",
          "Montserrat",
          "Montserrat",
          "Morocco",
          "Morocco",
          "Morocco",
          "Morocco",
          "Morocco",
          "Morocco",
          "Morocco",
          "Morocco",
          "Mozambique",
          "Mozambique",
          "Mozambique",
          "Mozambique",
          "Mozambique",
          "Mozambique",
          "Mozambique",
          "Mozambique",
          "Myanmar",
          "Myanmar",
          "Myanmar",
          "Myanmar",
          "Myanmar",
          "Myanmar",
          "Myanmar",
          "Myanmar",
          "Namibia",
          "Namibia",
          "Namibia",
          "Namibia",
          "Namibia",
          "Namibia",
          "Namibia",
          "Namibia",
          "Nauru",
          "Nauru",
          "Nauru",
          "Nauru",
          "Nauru",
          "Nauru",
          "Nauru",
          "Nauru",
          "Nepal",
          "Nepal",
          "Nepal",
          "Nepal",
          "Nepal",
          "Nepal",
          "Nepal",
          "Nepal",
          "Netherlands",
          "Netherlands",
          "Netherlands",
          "Netherlands",
          "Netherlands",
          "Netherlands",
          "Netherlands",
          "Netherlands",
          "New Caledonia",
          "New Caledonia",
          "New Caledonia",
          "New Caledonia",
          "New Caledonia",
          "New Caledonia",
          "New Caledonia",
          "New Caledonia",
          "New Zealand",
          "New Zealand",
          "New Zealand",
          "New Zealand",
          "New Zealand",
          "New Zealand",
          "New Zealand",
          "New Zealand",
          "Nicaragua",
          "Nicaragua",
          "Nicaragua",
          "Nicaragua",
          "Nicaragua",
          "Nicaragua",
          "Nicaragua",
          "Nicaragua",
          "Niger",
          "Niger",
          "Niger",
          "Niger",
          "Niger",
          "Niger",
          "Niger",
          "Niger",
          "Nigeria",
          "Nigeria",
          "Nigeria",
          "Nigeria",
          "Nigeria",
          "Nigeria",
          "Nigeria",
          "Nigeria",
          "Niue",
          "Niue",
          "Niue",
          "Niue",
          "Niue",
          "Niue",
          "Niue",
          "Niue",
          "North Korea",
          "North Korea",
          "North Korea",
          "North Korea",
          "North Korea",
          "North Korea",
          "North Korea",
          "North Korea",
          "North Macedonia",
          "North Macedonia",
          "North Macedonia",
          "North Macedonia",
          "North Macedonia",
          "North Macedonia",
          "North Macedonia",
          "North Macedonia",
          "Northern Mariana Islands",
          "Northern Mariana Islands",
          "Northern Mariana Islands",
          "Northern Mariana Islands",
          "Northern Mariana Islands",
          "Northern Mariana Islands",
          "Northern Mariana Islands",
          "Northern Mariana Islands",
          "Norway",
          "Norway",
          "Norway",
          "Norway",
          "Norway",
          "Norway",
          "Norway",
          "Norway",
          "Oman",
          "Oman",
          "Oman",
          "Oman",
          "Oman",
          "Oman",
          "Oman",
          "Oman",
          "Pakistan",
          "Pakistan",
          "Pakistan",
          "Pakistan",
          "Pakistan",
          "Pakistan",
          "Pakistan",
          "Pakistan",
          "Palau",
          "Palau",
          "Palau",
          "Palau",
          "Palau",
          "Palau",
          "Palau",
          "Palau",
          "Palestine",
          "Palestine",
          "Palestine",
          "Palestine",
          "Palestine",
          "Palestine",
          "Palestine",
          "Palestine",
          "Panama",
          "Panama",
          "Panama",
          "Panama",
          "Panama",
          "Panama",
          "Panama",
          "Panama",
          "Papua New Guinea",
          "Papua New Guinea",
          "Papua New Guinea",
          "Papua New Guinea",
          "Papua New Guinea",
          "Papua New Guinea",
          "Papua New Guinea",
          "Papua New Guinea",
          "Paraguay",
          "Paraguay",
          "Paraguay",
          "Paraguay",
          "Paraguay",
          "Paraguay",
          "Paraguay",
          "Paraguay",
          "Peru",
          "Peru",
          "Peru",
          "Peru",
          "Peru",
          "Peru",
          "Peru",
          "Peru",
          "Philippines",
          "Philippines",
          "Philippines",
          "Philippines",
          "Philippines",
          "Philippines",
          "Philippines",
          "Philippines",
          "Poland",
          "Poland",
          "Poland",
          "Poland",
          "Poland",
          "Poland",
          "Poland",
          "Poland",
          "Portugal",
          "Portugal",
          "Portugal",
          "Portugal",
          "Portugal",
          "Portugal",
          "Portugal",
          "Portugal",
          "Puerto Rico",
          "Puerto Rico",
          "Puerto Rico",
          "Puerto Rico",
          "Puerto Rico",
          "Puerto Rico",
          "Puerto Rico",
          "Puerto Rico",
          "Qatar",
          "Qatar",
          "Qatar",
          "Qatar",
          "Qatar",
          "Qatar",
          "Qatar",
          "Qatar",
          "Republic of the Congo",
          "Republic of the Congo",
          "Republic of the Congo",
          "Republic of the Congo",
          "Republic of the Congo",
          "Republic of the Congo",
          "Republic of the Congo",
          "Republic of the Congo",
          "Reunion",
          "Reunion",
          "Reunion",
          "Reunion",
          "Reunion",
          "Reunion",
          "Reunion",
          "Reunion",
          "Romania",
          "Romania",
          "Romania",
          "Romania",
          "Romania",
          "Romania",
          "Romania",
          "Romania",
          "Russia",
          "Russia",
          "Russia",
          "Russia",
          "Russia",
          "Russia",
          "Russia",
          "Russia",
          "Rwanda",
          "Rwanda",
          "Rwanda",
          "Rwanda",
          "Rwanda",
          "Rwanda",
          "Rwanda",
          "Rwanda",
          "Saint Barthelemy",
          "Saint Barthelemy",
          "Saint Barthelemy",
          "Saint Barthelemy",
          "Saint Barthelemy",
          "Saint Barthelemy",
          "Saint Barthelemy",
          "Saint Barthelemy",
          "Saint Kitts and Nevis",
          "Saint Kitts and Nevis",
          "Saint Kitts and Nevis",
          "Saint Kitts and Nevis",
          "Saint Kitts and Nevis",
          "Saint Kitts and Nevis",
          "Saint Kitts and Nevis",
          "Saint Kitts and Nevis",
          "Saint Lucia",
          "Saint Lucia",
          "Saint Lucia",
          "Saint Lucia",
          "Saint Lucia",
          "Saint Lucia",
          "Saint Lucia",
          "Saint Lucia",
          "Saint Martin",
          "Saint Martin",
          "Saint Martin",
          "Saint Martin",
          "Saint Martin",
          "Saint Martin",
          "Saint Martin",
          "Saint Martin",
          "Saint Pierre and Miquelon",
          "Saint Pierre and Miquelon",
          "Saint Pierre and Miquelon",
          "Saint Pierre and Miquelon",
          "Saint Pierre and Miquelon",
          "Saint Pierre and Miquelon",
          "Saint Pierre and Miquelon",
          "Saint Pierre and Miquelon",
          "Saint Vincent and the Grenadines",
          "Saint Vincent and the Grenadines",
          "Saint Vincent and the Grenadines",
          "Saint Vincent and the Grenadines",
          "Saint Vincent and the Grenadines",
          "Saint Vincent and the Grenadines",
          "Saint Vincent and the Grenadines",
          "Saint Vincent and the Grenadines",
          "Samoa",
          "Samoa",
          "Samoa",
          "Samoa",
          "Samoa",
          "Samoa",
          "Samoa",
          "Samoa",
          "San Marino",
          "San Marino",
          "San Marino",
          "San Marino",
          "San Marino",
          "San Marino",
          "San Marino",
          "San Marino",
          "Sao Tome and Principe",
          "Sao Tome and Principe",
          "Sao Tome and Principe",
          "Sao Tome and Principe",
          "Sao Tome and Principe",
          "Sao Tome and Principe",
          "Sao Tome and Principe",
          "Sao Tome and Principe",
          "Saudi Arabia",
          "Saudi Arabia",
          "Saudi Arabia",
          "Saudi Arabia",
          "Saudi Arabia",
          "Saudi Arabia",
          "Saudi Arabia",
          "Saudi Arabia",
          "Senegal",
          "Senegal",
          "Senegal",
          "Senegal",
          "Senegal",
          "Senegal",
          "Senegal",
          "Senegal",
          "Serbia",
          "Serbia",
          "Serbia",
          "Serbia",
          "Serbia",
          "Serbia",
          "Serbia",
          "Serbia",
          "Seychelles",
          "Seychelles",
          "Seychelles",
          "Seychelles",
          "Seychelles",
          "Seychelles",
          "Seychelles",
          "Seychelles",
          "Sierra Leone",
          "Sierra Leone",
          "Sierra Leone",
          "Sierra Leone",
          "Sierra Leone",
          "Sierra Leone",
          "Sierra Leone",
          "Sierra Leone",
          "Singapore",
          "Singapore",
          "Singapore",
          "Singapore",
          "Singapore",
          "Singapore",
          "Singapore",
          "Singapore",
          "Sint Maarten",
          "Sint Maarten",
          "Sint Maarten",
          "Sint Maarten",
          "Sint Maarten",
          "Sint Maarten",
          "Sint Maarten",
          "Sint Maarten",
          "Slovakia",
          "Slovakia",
          "Slovakia",
          "Slovakia",
          "Slovakia",
          "Slovakia",
          "Slovakia",
          "Slovakia",
          "Slovenia",
          "Slovenia",
          "Slovenia",
          "Slovenia",
          "Slovenia",
          "Slovenia",
          "Slovenia",
          "Slovenia",
          "Solomon Islands",
          "Solomon Islands",
          "Solomon Islands",
          "Solomon Islands",
          "Solomon Islands",
          "Solomon Islands",
          "Solomon Islands",
          "Solomon Islands",
          "Somalia",
          "Somalia",
          "Somalia",
          "Somalia",
          "Somalia",
          "Somalia",
          "Somalia",
          "Somalia",
          "South Africa",
          "South Africa",
          "South Africa",
          "South Africa",
          "South Africa",
          "South Africa",
          "South Africa",
          "South Africa",
          "South Korea",
          "South Korea",
          "South Korea",
          "South Korea",
          "South Korea",
          "South Korea",
          "South Korea",
          "South Korea",
          "South Sudan",
          "South Sudan",
          "South Sudan",
          "South Sudan",
          "South Sudan",
          "South Sudan",
          "South Sudan",
          "South Sudan",
          "Spain",
          "Spain",
          "Spain",
          "Spain",
          "Spain",
          "Spain",
          "Spain",
          "Spain",
          "Sri Lanka",
          "Sri Lanka",
          "Sri Lanka",
          "Sri Lanka",
          "Sri Lanka",
          "Sri Lanka",
          "Sri Lanka",
          "Sri Lanka",
          "Sudan",
          "Sudan",
          "Sudan",
          "Sudan",
          "Sudan",
          "Sudan",
          "Sudan",
          "Sudan",
          "Suriname",
          "Suriname",
          "Suriname",
          "Suriname",
          "Suriname",
          "Suriname",
          "Suriname",
          "Suriname",
          "Sweden",
          "Sweden",
          "Sweden",
          "Sweden",
          "Sweden",
          "Sweden",
          "Sweden",
          "Sweden",
          "Switzerland",
          "Switzerland",
          "Switzerland",
          "Switzerland",
          "Switzerland",
          "Switzerland",
          "Switzerland",
          "Switzerland",
          "Syria",
          "Syria",
          "Syria",
          "Syria",
          "Syria",
          "Syria",
          "Syria",
          "Syria",
          "Taiwan",
          "Taiwan",
          "Taiwan",
          "Taiwan",
          "Taiwan",
          "Taiwan",
          "Taiwan",
          "Taiwan",
          "Tajikistan",
          "Tajikistan",
          "Tajikistan",
          "Tajikistan",
          "Tajikistan",
          "Tajikistan",
          "Tajikistan",
          "Tajikistan",
          "Tanzania",
          "Tanzania",
          "Tanzania",
          "Tanzania",
          "Tanzania",
          "Tanzania",
          "Tanzania",
          "Tanzania",
          "Thailand",
          "Thailand",
          "Thailand",
          "Thailand",
          "Thailand",
          "Thailand",
          "Thailand",
          "Thailand",
          "Timor-Leste",
          "Timor-Leste",
          "Timor-Leste",
          "Timor-Leste",
          "Timor-Leste",
          "Timor-Leste",
          "Timor-Leste",
          "Timor-Leste",
          "Togo",
          "Togo",
          "Togo",
          "Togo",
          "Togo",
          "Togo",
          "Togo",
          "Togo",
          "Tokelau",
          "Tokelau",
          "Tokelau",
          "Tokelau",
          "Tokelau",
          "Tokelau",
          "Tokelau",
          "Tokelau",
          "Tonga",
          "Tonga",
          "Tonga",
          "Tonga",
          "Tonga",
          "Tonga",
          "Tonga",
          "Tonga",
          "Trinidad and Tobago",
          "Trinidad and Tobago",
          "Trinidad and Tobago",
          "Trinidad and Tobago",
          "Trinidad and Tobago",
          "Trinidad and Tobago",
          "Trinidad and Tobago",
          "Trinidad and Tobago",
          "Tunisia",
          "Tunisia",
          "Tunisia",
          "Tunisia",
          "Tunisia",
          "Tunisia",
          "Tunisia",
          "Tunisia",
          "Turkey",
          "Turkey",
          "Turkey",
          "Turkey",
          "Turkey",
          "Turkey",
          "Turkey",
          "Turkey",
          "Turkmenistan",
          "Turkmenistan",
          "Turkmenistan",
          "Turkmenistan",
          "Turkmenistan",
          "Turkmenistan",
          "Turkmenistan",
          "Turkmenistan",
          "Turks and Caicos Islands",
          "Turks and Caicos Islands",
          "Turks and Caicos Islands",
          "Turks and Caicos Islands",
          "Turks and Caicos Islands",
          "Turks and Caicos Islands",
          "Turks and Caicos Islands",
          "Turks and Caicos Islands",
          "Tuvalu",
          "Tuvalu",
          "Tuvalu",
          "Tuvalu",
          "Tuvalu",
          "Tuvalu",
          "Tuvalu",
          "Tuvalu",
          "Uganda",
          "Uganda",
          "Uganda",
          "Uganda",
          "Uganda",
          "Uganda",
          "Uganda",
          "Uganda",
          "Ukraine",
          "Ukraine",
          "Ukraine",
          "Ukraine",
          "Ukraine",
          "Ukraine",
          "Ukraine",
          "Ukraine",
          "United Arab Emirates",
          "United Arab Emirates",
          "United Arab Emirates",
          "United Arab Emirates",
          "United Arab Emirates",
          "United Arab Emirates",
          "United Arab Emirates",
          "United Arab Emirates",
          "United Kingdom",
          "United Kingdom",
          "United Kingdom",
          "United Kingdom",
          "United Kingdom",
          "United Kingdom",
          "United Kingdom",
          "United Kingdom",
          "United States",
          "United States",
          "United States",
          "United States",
          "United States",
          "United States",
          "United States",
          "United States",
          "United States Virgin Islands",
          "United States Virgin Islands",
          "United States Virgin Islands",
          "United States Virgin Islands",
          "United States Virgin Islands",
          "United States Virgin Islands",
          "United States Virgin Islands",
          "United States Virgin Islands",
          "Uruguay",
          "Uruguay",
          "Uruguay",
          "Uruguay",
          "Uruguay",
          "Uruguay",
          "Uruguay",
          "Uruguay",
          "Uzbekistan",
          "Uzbekistan",
          "Uzbekistan",
          "Uzbekistan",
          "Uzbekistan",
          "Uzbekistan",
          "Uzbekistan",
          "Uzbekistan",
          "Vanuatu",
          "Vanuatu",
          "Vanuatu",
          "Vanuatu",
          "Vanuatu",
          "Vanuatu",
          "Vanuatu",
          "Vanuatu",
          "Vatican City",
          "Vatican City",
          "Vatican City",
          "Vatican City",
          "Vatican City",
          "Vatican City",
          "Vatican City",
          "Vatican City",
          "Venezuela",
          "Venezuela",
          "Venezuela",
          "Venezuela",
          "Venezuela",
          "Venezuela",
          "Venezuela",
          "Venezuela",
          "Vietnam",
          "Vietnam",
          "Vietnam",
          "Vietnam",
          "Vietnam",
          "Vietnam",
          "Vietnam",
          "Vietnam",
          "Wallis and Futuna",
          "Wallis and Futuna",
          "Wallis and Futuna",
          "Wallis and Futuna",
          "Wallis and Futuna",
          "Wallis and Futuna",
          "Wallis and Futuna",
          "Wallis and Futuna",
          "Western Sahara",
          "Western Sahara",
          "Western Sahara",
          "Western Sahara",
          "Western Sahara",
          "Western Sahara",
          "Western Sahara",
          "Western Sahara",
          "Yemen",
          "Yemen",
          "Yemen",
          "Yemen",
          "Yemen",
          "Yemen",
          "Yemen",
          "Yemen",
          "Zambia",
          "Zambia",
          "Zambia",
          "Zambia",
          "Zambia",
          "Zambia",
          "Zambia",
          "Zambia",
          "Zimbabwe",
          "Zimbabwe",
          "Zimbabwe",
          "Zimbabwe",
          "Zimbabwe",
          "Zimbabwe",
          "Zimbabwe",
          "Zimbabwe",
          "Africa",
          "Africa",
          "Africa",
          "Africa",
          "Africa",
          "Africa",
          "Africa",
          "Africa",
          "Asia",
          "Asia",
          "Asia",
          "Asia",
          "Asia",
          "Asia",
          "Asia",
          "Asia",
          "Europe",
          "Europe",
          "Europe",
          "Europe",
          "Europe",
          "Europe",
          "Europe",
          "Europe",
          "North America",
          "North America",
          "North America",
          "North America",
          "North America",
          "North America",
          "North America",
          "North America",
          "Oceania",
          "Oceania",
          "Oceania",
          "Oceania",
          "Oceania",
          "Oceania",
          "Oceania",
          "Oceania",
          "South America",
          "South America",
          "South America",
          "South America",
          "South America",
          "South America",
          "South America",
          "South America",
          "1970",
          "1980",
          "1990",
          "2000",
          "2010",
          "2015",
          "2020",
          "2022"
         ],
         "marker": {
          "coloraxis": "coloraxis",
          "colors": [
           10752971,
           12486631,
           10694796,
           19542982,
           28189672,
           33753499,
           38972230,
           41128771,
           2324731,
           2941651,
           3295066,
           3182021,
           2913399,
           2882481,
           2866849,
           2842321,
           13795915,
           18739378,
           25518074,
           30774621,
           35856344,
           39543154,
           43451666,
           44903225,
           27075,
           32886,
           47818,
           58230,
           54849,
           51368,
           46189,
           44273,
           19860,
           35611,
           53569,
           66097,
           71519,
           71746,
           77700,
           79824,
           6029700,
           8330047,
           11828638,
           16394062,
           23364185,
           28127721,
           33428485,
           35588987,
           6283,
           6560,
           8316,
           11047,
           13172,
           14525,
           15585,
           15857,
           64516,
           64888,
           63328,
           75055,
           85695,
           89941,
           92664,
           93763,
           23842803,
           28024803,
           32637657,
           37070774,
           41100123,
           43257065,
           45036032,
           45510318,
           2534377,
           3135123,
           3556539,
           3168523,
           2946293,
           2878595,
           2805608,
           2780469,
           59106,
           62267,
           65712,
           89101,
           100341,
           104257,
           106585,
           106445,
           12595034,
           14706322,
           17048003,
           19017963,
           22019168,
           23820236,
           25670051,
           26177413,
           7465301,
           7547561,
           7678729,
           8010428,
           8362829,
           8642421,
           8907777,
           8939617,
           5425317,
           6383060,
           7427836,
           8190337,
           9237202,
           9863480,
           10284951,
           10358074,
           179129,
           223752,
           270679,
           325014,
           373272,
           392697,
           406471,
           409984,
           222555,
           362595,
           517418,
           711442,
           1213645,
           1362142,
           1477469,
           1472233,
           67541860,
           83929765,
           107147650.99999999,
           129193326.99999999,
           148391139,
           157830000,
           167420951,
           171186372,
           241397,
           253575,
           258868,
           264657,
           274711,
           278083,
           280693,
           281635,
           9170786,
           9817257,
           10428525,
           10256483,
           9731427,
           9700609,
           9633740,
           9534954,
           9629376,
           9828986,
           9959560,
           10264343,
           10877947,
           11248303,
           11561717,
           11655930,
           120905,
           145133,
           182589,
           240406,
           322106,
           359871,
           394921,
           405272,
           3023443,
           3833939,
           5133419,
           6998023,
           9445710,
           10932783,
           12643123,
           13352864,
           52019,
           53565,
           57470,
           61371,
           63447,
           63144,
           64031,
           64184,
           298894,
           415257,
           558442,
           587207,
           705516,
           743274,
           772506,
           782455,
           4585693,
           5736088,
           7096194,
           8592656,
           10223270,
           11090085,
           11936162,
           12224110,
           3815561,
           4199820,
           4494310,
           4179350,
           3811088,
           3524324,
           3318407,
           3233526,
           592244,
           938578,
           1341474,
           1726985,
           2091664,
           2305171,
           2546402,
           2630296,
           96369874.99999999,
           122288382.99999999,
           150706446,
           175873720,
           196353492,
           205188205,
           213196304,
           215313497.99999997,
           9581,
           11109,
           15617,
           20104,
           27556,
           29366,
           30910,
           31305,
           133343,
           187921,
           261928,
           333926,
           396053,
           421437,
           441725,
           449002,
           8582950,
           8980606,
           8767778,
           8097691,
           7592273,
           7309253,
           6979175,
           6781953,
           5611666,
           6932967,
           9131361,
           11882888,
           16116845,
           18718019,
           21522626,
           22673762,
           3497834,
           4312834,
           5483793,
           6307659,
           9126605,
           10727148,
           12220227,
           12889576,
           6708525,
           6198959,
           8910808,
           12118841,
           14363532,
           15417523,
           16396860,
           16767842,
           6452787,
           8519891,
           11430520,
           15091594,
           19878036,
           23012646,
           26491087,
           27914536,
           21434577,
           24511510,
           27657204,
           30683313,
           33963412,
           35732126,
           37888705,
           38454327,
           287262,
           317234,
           364563,
           458251,
           521212,
           552166,
           582640,
           593149,
           10533,
           17100,
           26027,
           39658,
           54074,
           60911,
           67311,
           68706,
           2067356,
           2415276,
           2809221,
           3759170,
           4660067,
           4819333,
           5343020,
           5579144,
           3667394,
           4408230,
           5827069,
           8259137,
           11894727,
           14140274,
           16644701,
           17723315,
           9820481,
           11469828,
           13342868,
           15351799,
           17004162,
           17870124,
           19300315,
           19603733,
           822534450.0000001,
           982372466.0000001,
           1153704252,
           1264099069,
           1348191368,
           1393715448,
           1424929781,
           1425887337,
           20905254,
           26176195,
           32601393,
           39215135,
           44816108,
           47119728,
           50930662,
           51874024,
           242351,
           328328,
           431119,
           536758,
           656024,
           730216,
           806166,
           836774,
           20470,
           17651,
           17123,
           15897,
           17212,
           17695,
           17029,
           17011,
           1855697,
           2414303,
           3158253,
           3979193,
           4622252,
           4895242,
           5123105,
           5180829,
           4492638,
           4680144,
           4873707,
           4548434,
           4368682,
           4254815,
           4096868,
           4030358,
           8869636,
           9809107,
           10626680,
           11105791,
           11290417,
           11339894,
           11300698,
           11212191,
           150385,
           156851,
           155446,
           141424,
           159380,
           169572,
           189288,
           191163,
           640804,
           679327,
           788500,
           948237,
           1129686,
           1187280,
           1237537,
           1251488,
           9795744,
           10270060,
           10301192,
           10234710,
           10464749,
           10523798,
           10530953,
           10493986,
           20151733,
           26708686,
           35987541,
           48616317,
           66391257,
           78656904,
           92853164,
           99010212,
           4922963,
           5125392,
           5144623,
           5340655,
           5550849,
           5677796,
           5825641,
           5882261,
           144379,
           324121,
           577173,
           742033,
           919199,
           1006259,
           1090156,
           1120849,
           68895,
           72978,
           69481,
           68346,
           68755,
           70007,
           71995,
           72737,
           4475871,
           5755800,
           7129004,
           8540791,
           9775755,
           10405832,
           10999664,
           11228821,
           6172215,
           8135845,
           10449837,
           12626507,
           14989585,
           16195902,
           17588595,
           18001000,
           34781986,
           43748556,
           57214630,
           71371371,
           87252413,
           97723798.99999999,
           107465134,
           110990102.99999999,
           3619090,
           4508992,
           5367179,
           5958482,
           6114034,
           6231066,
           6292731,
           6336392,
           316955,
           282509,
           465549,
           684977,
           1094524,
           1346973,
           1596049,
           1674908,
           1272748,
           1657982,
           2149960,
           2392880,
           3147727,
           3340006,
           3555868,
           3684032,
           1361999,
           1476983,
           1570674,
           1396877,
           1331535,
           1314657,
           1329444,
           1326062,
           442865,
           598564,
           854011,
           1030496,
           1099920,
           1133936,
           1180655,
           1201670,
           28308246,
           34945469,
           47878073,
           67031867,
           89237791,
           102471894.99999999,
           117190910.99999999,
           123379924,
           2274,
           2240,
           2332,
           3080,
           3187,
           3408,
           3747,
           3780,
           38416,
           43054,
           47479,
           45660,
           48410,
           48816,
           52415,
           53090,
           527634,
           644582,
           780430,
           832509,
           905169,
           917200,
           920422,
           929766,
           4606621,
           4779418,
           4986545,
           5176209,
           5363271,
           5479461,
           5529468,
           5540745,
           50523586,
           53713830,
           56412897,
           58665453,
           62444567,
           63809769,
           64480053,
           64626628,
           46484,
           66825,
           113931,
           164351,
           228453,
           257026,
           290969,
           304557,
           117891,
           163591,
           211089,
           250927,
           283788,
           291787,
           301920,
           306279,
           597192,
           749078,
           983028,
           1272935,
           1711105,
           2028517,
           2292573,
           2388992,
           528731,
           718586,
           1040616,
           1437539,
           1937275,
           2253133,
           2573995,
           2705992,
           4800426,
           5145843,
           5391636,
           4265172,
           3836831,
           3771132,
           3765912,
           3744385,
           78294583,
           77786703,
           79370196,
           81551677,
           81325090,
           82073226,
           83328988,
           83369843,
           8861895,
           11865246,
           15446982,
           19665502,
           25574719,
           28870939,
           32180401,
           33475870,
           26685,
           28734,
           27317,
           27741,
           31262,
           32520,
           32709,
           32649,
           8544873,
           9307148,
           10302255,
           11038109,
           11033783,
           10806641,
           10512232,
           10384971,
           45434,
           50106,
           55599,
           56184,
           56351,
           55895,
           56026,
           56466,
           98794,
           94838,
           99047,
           107432,
           114039,
           118980,
           123663,
           125438,
           318310,
           334234,
           391951,
           424067,
           403072,
           399089,
           395642,
           395752,
           88300,
           110286,
           138263,
           160188,
           164905,
           167978,
           169231,
           171774,
           5453208,
           6987767,
           9084780,
           11735894,
           14543121,
           16001107,
           17362718,
           17843908,
           52656,
           52860,
           57727,
           59114,
           60782,
           61629,
           62794,
           63301,
           4222374,
           4972609,
           6354145,
           8336967,
           10270728,
           11625998,
           13205153,
           13859341,
           591663,
           831462,
           973551,
           1230849,
           1567220,
           1788919,
           2015828,
           2105566,
           705261,
           778176,
           747116,
           759051,
           747932,
           755031,
           797202,
           808726,
           4680812,
           5646676,
           6925331,
           8360225,
           9842880,
           10563757,
           11306801,
           11584996,
           2782753,
           3777990,
           5053234,
           6656725,
           8450933,
           9294505,
           10121763,
           10432860,
           3955072,
           4978544,
           5838574,
           6731195,
           7132438,
           7399838,
           7500958,
           7488865,
           10315366,
           10698679,
           10375989,
           10202055,
           9986825,
           9844246,
           9750573,
           9967308,
           204468,
           228263,
           255019,
           281462,
           318333,
           331060,
           366669,
           372899,
           557501301,
           696828385,
           870452165,
           1059633675,
           1240613620,
           1322866505,
           1396387127,
           1417173173,
           115228394,
           148177096,
           182159874,
           214072421,
           244016173,
           259091969.99999997,
           271857970,
           275501339,
           28449705,
           38520664,
           55793629,
           65544383,
           75373855,
           81790841,
           87290193,
           88550570,
           9811347,
           13653369,
           17658381,
           24628858,
           31264875,
           37757813,
           42556984,
           44496122,
           2937637,
           3391387,
           3485374,
           3768950,
           4524585,
           4665760,
           4946119,
           5023109,
           55298,
           64022,
           68865,
           75562,
           83828,
           83593,
           84046,
           84519,
           2907307,
           3744608,
           4803254,
           6116958,
           7328445,
           8007778,
           8757489,
           9038309,
           53324036,
           56329482,
           56756561,
           56966397,
           59822450,
           60232906,
           59500579,
           59037474,
           5477086,
           8303809,
           11910540,
           16799670,
           21120042,
           23596741,
           26811790,
           28160542,
           1859091,
           2135546,
           2392030,
           2612205,
           2733896,
           2794445,
           2820436,
           2827377,
           105416838.99999999,
           117624196,
           123686320.99999999,
           126803860.99999999,
           128105430.99999999,
           127250932.99999999,
           125244760.99999999,
           123951692,
           68347,
           75124,
           82874,
           86192,
           96151,
           100561,
           108319,
           110778,
           1557374,
           2216903,
           3480587,
           5056174,
           6931258,
           9494246,
           10928721,
           11285869,
           12265305,
           14172710,
           16866563,
           15236253,
           16627837,
           17835909,
           18979243,
           19397998,
           11473087,
           16187124,
           23162269,
           30851606,
           41517895,
           46851488,
           51985780,
           54027487,
           57437,
           60813,
           75124,
           88826,
           107995,
           116707,
           126463,
           131232,
           802786,
           1493870,
           1674938,
           1934901,
           2943356,
           3908743,
           4360444,
           4268873,
           3016384,
           3691209,
           4394734,
           4935182,
           5483774,
           5914980,
           6424874,
           6630623,
           2675283,
           3297519,
           4314443,
           5430853,
           6323418,
           6787419,
           7319399,
           7529475,
           2397414,
           2572037,
           2689391,
           2392530,
           2101530,
           1991955,
           1897052,
           1850651,
           2381791,
           2963702,
           3593700,
           4320642,
           4995800,
           6398940,
           5662923,
           5489739,
           1023481,
           1407672,
           1798997,
           1998630,
           2022747,
           2118521,
           2254100,
           2305825,
           1463563,
           1932169,
           2209731,
           2895224,
           4019956,
           4612329,
           5087584,
           5302681,
           1909177,
           2962720,
           4236983,
           5154790,
           6491988,
           6192235,
           6653942,
           6812341,
           21089,
           25003,
           28765,
           33026,
           35926,
           37355,
           38756,
           39327,
           3210147,
           3521206,
           3785847,
           3599637,
           3139019,
           2963765,
           2820267,
           2750055,
           339342,
           363741,
           381267,
           435628,
           507070,
           569408,
           630399,
           647599,
           247284,
           245332,
           350227,
           431896,
           557297,
           615239,
           676283,
           695168,
           6639751,
           8948162,
           11882762,
           16216431,
           21731053,
           24850912,
           28225177,
           29611714,
           4625141,
           6267369,
           9539665,
           11229387,
           14718422,
           16938942,
           19377061,
           20405317,
           10306508,
           13215707,
           17517054,
           22945150,
           28717731,
           31068833,
           33199993,
           33938221,
           123243,
           164887,
           224957,
           282507,
           361575,
           435582,
           514438,
           523787,
           6153587,
           7372581,
           8945026,
           11239101,
           15529181,
           18112907,
           21224040,
           22593590,
           315414,
           333587,
           365392,
           399212,
           418755,
           456579,
           515357,
           533286,
           23969,
           31988,
           46047,
           54224,
           53416,
           49410,
           43413,
           41569,
           326428,
           333786,
           374271,
           432543,
           392181,
           383515,
           370391,
           367507,
           1122198,
           1506694,
           2006027,
           2695003,
           3419461,
           3946220,
           4498604,
           4736139,
           830115,
           954865,
           1090290,
           1215930,
           1283330,
           1293153,
           1297828,
           1299469,
           35383,
           52233,
           92659,
           159215,
           211786,
           249545,
           305587,
           326101,
           50289306,
           67705186,
           81720428,
           97873442,
           112532400.99999999,
           120149896.99999999,
           125998302,
           127504124.99999999,
           58989,
           76299,
           98603,
           111709,
           107588,
           109462,
           112106,
           114164,
           3711140,
           4103240,
           4480199,
           4251573,
           3678186,
           3277388,
           3084847,
           3272996,
           24270,
           27076,
           30329,
           32465,
           33178,
           36760,
           36922,
           36469,
           1293880,
           1697780,
           2161433,
           2450979,
           2702520,
           2964749,
           3294335,
           3398366,
           530268,
           589324,
           621442,
           633324,
           631044,
           633966,
           629048,
           627082,
           11402,
           11452,
           10805,
           5138,
           4938,
           5059,
           4500,
           4390,
           15274351,
           19678444,
           24570814,
           28554415,
           32464865,
           34680458,
           36688772,
           37457971,
           8411676,
           11413587,
           13303459,
           17768505,
           23073723,
           26843246,
           31178239,
           32969517,
           27284112,
           33465781,
           40099553,
           45538332,
           49390988,
           51483949,
           53423198,
           54179306,
           754467,
           975994,
           1369011,
           1819141,
           2099271,
           2282704,
           2489098,
           2567012,
           6663,
           7635,
           9598,
           10377,
           10241,
           11185,
           12315,
           12668,
           12501285,
           15600442,
           19616530,
           24559500,
           27161567,
           27610325,
           29348627,
           30547580,
           13037686,
           14130387,
           14944548,
           15899135,
           16617116,
           17041107,
           17434557,
           17564014,
           110982,
           148599,
           177264,
           221537,
           261426,
           283032,
           286403,
           289950,
           2824061,
           3147168,
           3397389,
           3855266,
           4346338,
           4590590,
           5061133,
           5185288,
           2444767,
           3303309,
           4227820,
           5123222,
           5855734,
           6298598,
           6755895,
           6948392,
           4669708,
           6173177,
           8370647,
           11622665,
           16647543,
           20128124,
           24333639,
           26207977,
           55569264,
           72951439,
           95214256.99999999,
           122851984,
           160952853,
           183995785,
           208327405,
           218541212,
           5185,
           3637,
           2533,
           2074,
           1812,
           1847,
           1942,
           1934,
           14996879,
           17973650,
           20799523,
           23367059,
           24686435,
           25258015,
           25867467,
           26069416,
           1656783,
           1907023,
           2044174,
           2037936,
           2093828,
           2107962,
           2111072,
           2093599,
           10143,
           17613,
           48002,
           80338,
           54087,
           51514,
           49587,
           49551,
           3875546,
           4085776,
           4241636,
           4491202,
           4889741,
           5190356,
           5379839,
           5434319,
           670693,
           1017462,
           1804524,
           2344253,
           2881914,
           4191776,
           4543399,
           4576298,
           59290872,
           80624057,
           115414068.99999999,
           154369924,
           194454497.99999997,
           210969297.99999997,
           227196741,
           235824861.99999997,
           11366,
           12252,
           15293,
           19726,
           18540,
           17794,
           17972,
           18055,
           1118241,
           1453620,
           2124609,
           3139954,
           3992278,
           4484614,
           5019401,
           5250072,
           1516188,
           1956987,
           2449968,
           3001731,
           3623617,
           3957099,
           4294396,
           4408581,
           2489059,
           3104788,
           3864972,
           5508297,
           7583269,
           8682174,
           9749640,
           10142619,
           2408787,
           3078912,
           4059195,
           5123819,
           5768613,
           6177950,
           6618695,
           6780744,
           13562371,
           17492406,
           22109099,
           26654439,
           29229572,
           30711863,
           33304756,
           34049588,
           37435586,
           48419546,
           61558898,
           77958223,
           94636700,
           103031364.99999999,
           112190976.99999999,
           115559008.99999999,
           32482943,
           35521429,
           38064255,
           38504431,
           38597353,
           38553146,
           38428366,
           39857145,
           8683631,
           9785252,
           10007346,
           10300626,
           10588401,
           10365435,
           10298192,
           10270865,
           2737619,
           3214568,
           3543776,
           3827108,
           3717922,
           3497335,
           3271564,
           3252407,
           118007,
           277450,
           441675,
           645937,
           1713504,
           2414573,
           2760385,
           2695122,
           1396989,
           1829256,
           2385435,
           3134030,
           4437884,
           5064386,
           5702174,
           5970424,
           473925,
           551674,
           658992,
           785424,
           890130,
           922495,
           957822,
           974052,
           19922618,
           22125224,
           22836234,
           21919876,
           20335211,
           19906079,
           19442038,
           19659267,
           130093010,
           138257420,
           148005704,
           146844839,
           143242599,
           144668389,
           145617329,
           144713314,
           3896367,
           5247532,
           7319962,
           8109989,
           10309031,
           11642959,
           13146362,
           13776698,
           2417,
           2983,
           5168,
           7082,
           8988,
           9643,
           10681,
           10967,
           44968,
           43097,
           40636,
           45461,
           47403,
           47790,
           47642,
           47657,
           103090,
           121633,
           142301,
           159500,
           170935,
           175623,
           179237,
           179857,
           5802,
           7776,
           28127,
           29610,
           36458,
           35020,
           32552,
           31791,
           5537,
           6106,
           6324,
           6274,
           6052,
           5978,
           5906,
           5862,
           98459,
           107480,
           112487,
           113813,
           109308,
           106482,
           104632,
           103948,
           142771,
           164905,
           168186,
           184008,
           194672,
           203571,
           214929,
           222382,
           18169,
           21346,
           23132,
           26823,
           31608,
           33570,
           34007,
           33660,
           77583,
           97210,
           120343,
           143714,
           182138,
           201124,
           218641,
           227380,
           6106191,
           10171710,
           16004763,
           21547390,
           29411929,
           32749848,
           35997107,
           36408820,
           4367744,
           5703869,
           7536001,
           9704287,
           12530121,
           14356181,
           16436119,
           17316449,
           7193533,
           7777010,
           7987529,
           7935022,
           7653748,
           7519496,
           7358005,
           7221365,
           54379,
           65290,
           71057,
           80060,
           92409,
           99240,
           105530,
           107118,
           2778557,
           3367477,
           4325388,
           4584067,
           6436698,
           7314773,
           8233969,
           8605718,
           2061831,
           2400729,
           3022209,
           4053602,
           5163590,
           5650018,
           5909869,
           5975689,
           6260,
           12243,
           27845,
           30489,
           33034,
           40205,
           43621,
           44175,
           4522867,
           4973883,
           5261305,
           5376690,
           5396424,
           5424444,
           5456681,
           5643453,
           1741286,
           1901570,
           1986024,
           1984339,
           2057286,
           2080862,
           2117641,
           2119844,
           172833,
           233668,
           324171,
           429978,
           540394,
           612660,
           691191,
           724273,
           3720977,
           5892224,
           6999096,
           8721465,
           12026649,
           13763906,
           16537016,
           17597511,
           22368306,
           29463549,
           39877570,
           46813266,
           51784921,
           55876504,
           58801927,
           59893885,
           32601143,
           38170501,
           44120039,
           46788591,
           48813042,
           50994401,
           51844690,
           51815810,
           3342410,
           4192011,
           4750817,
           6114440,
           9714419,
           11194299,
           10606227,
           10913164,
           33792617,
           37491666,
           38889889,
           40741651,
           46572772,
           46431342,
           47363807,
           47558630,
           12388769,
           14943645,
           17204094,
           18776371,
           20668557,
           21336697,
           21715079,
           21832143,
           11305206,
           16673586,
           21090886,
           26298773,
           33739933,
           38171178,
           44440486,
           46874204,
           379918,
           375112,
           412756,
           478998,
           546080,
           575475,
           607065,
           618040,
           8027702,
           8311763,
           8548406,
           8871043,
           9381729,
           9849349,
           10368969,
           10549347,
           6181227,
           6319113,
           6711693,
           7182059,
           7822435,
           8281732,
           8638613,
           8740472,
           6319199,
           8898954,
           12408996,
           16307654,
           22337563,
           19205178,
           20772595,
           22125249,
           14957870,
           18100281,
           20586174,
           22194731,
           23083083,
           23512136,
           23821464,
           23893394,
           2993019,
           4045965,
           5417860,
           6272998,
           7621779,
           8524063,
           9543207,
           9952787,
           13618192,
           19297659,
           26206012,
           34463704,
           45110527,
           52542823,
           61704518,
           65497748,
           35791728,
           45737753,
           55228410,
           63066603,
           68270489,
           70294397,
           71475664,
           71697030,
           554021,
           642224,
           758106,
           878360,
           1088486,
           1205813,
           1299995,
           1341296,
           2197383,
           2838110,
           3875947,
           5008035,
           6571855,
           7473229,
           8442580,
           8848699,
           1714,
           1647,
           1669,
           1666,
           1367,
           1454,
           1827,
           1871,
           86484,
           96708,
           98727,
           102603,
           107383,
           106122,
           105254,
           106858,
           988890,
           1127852,
           1266518,
           1332203,
           1410296,
           1460177,
           1518147,
           1531044,
           5047404,
           6578156,
           8440023,
           9893316,
           10895063,
           11557779,
           12161723,
           12356117,
           35540990,
           44089069,
           54324142,
           64113547,
           73195345,
           79646178,
           84135428,
           85341241,
           2201432,
           2862903,
           3720278,
           4569132,
           5267970,
           5766431,
           6250438,
           6430770,
           5665,
           7598,
           11709,
           18744,
           29726,
           36538,
           44276,
           45703,
           5814,
           7731,
           9182,
           9638,
           10550,
           10877,
           11069,
           11312,
           10317212,
           13284026,
           17586630,
           24020697,
           32341728,
           37477356,
           44404611,
           47249585,
           47279086,
           49973920,
           51589817,
           48879755,
           45683020,
           44982564,
           43909666,
           39701739,
           298084,
           1014048,
           1900151,
           3275333,
           8481771,
           8916899,
           9287289,
           9441129,
           55650166,
           56326328,
           57210442,
           58850043,
           62760039,
           65224364,
           67059474,
           67508936,
           200328340,
           223140017.99999997,
           248083732,
           282398554,
           311182845,
           324607776,
           335942003,
           338289857,
           63446,
           96640,
           100685,
           108185,
           106142,
           102803,
           100442,
           99465,
           2790265,
           2953750,
           3117012,
           3292224,
           3352651,
           3402818,
           3429086,
           3422794,
           12011361,
           15947129,
           20579100,
           24925554,
           28614227,
           30949417,
           33526656,
           34627652,
           87019,
           118156,
           150882,
           192074,
           245453,
           276438,
           311685,
           326740,
           752,
           733,
           700,
           651,
           596,
           564,
           520,
           510,
           11355475,
           15210443,
           19750579,
           24427729,
           28715022,
           30529716,
           28490453,
           28301696,
           41928849,
           52968270,
           66912613,
           79001142,
           87411012,
           92191398,
           96648684.99999999,
           98186856,
           9377,
           11315,
           13454,
           14723,
           13142,
           12182,
           11655,
           11572,
           76371,
           116775,
           178529,
           270375,
           413296,
           491824,
           556048,
           575986,
           6843607,
           9204938,
           13375121,
           18628700,
           24743946,
           28516545,
           32284046,
           33696614,
           4281671,
           5720438,
           7686401,
           9891136,
           13792086,
           16248230,
           18927715,
           20017675,
           5202918,
           7049926,
           10113893,
           11834676,
           12839771,
           14154937,
           15669666,
           16320537,
           20821256.636642765,
           26948865.615939673,
           35540398.44000653,
           45976419.58885171,
           59252592.05499281,
           67705611.73571722,
           76700335.96964885,
           80439519.85849525,
           480127682.1747072,
           575182602.4197274,
           681149580.3598762,
           765213421.7759016,
           838479400.4723341,
           874321921.1444924,
           902666354.8704534,
           906465124.5799546,
           57211023.943350025,
           59708521.87656758,
           63045600.79035313,
           63097840.10441683,
           62793209.30887265,
           63637725.70266449,
           64233422.46986718,
           63877996.48503158,
           137318888.06992155,
           150038343.45133317,
           164721353.2924809,
           186862945.0521623,
           205234270.59146148,
           213741991.35912967,
           220619780.08778504,
           221800201.0102293,
           8890650.202834047,
           10314662.517324252,
           11890884.269566407,
           13067975.023522442,
           15165192.174579501,
           16469722.540710244,
           17784620.234848063,
           18135981.419931244,
           55846093.022909425,
           71185949.3643311,
           87781370.43263951,
           101985630.15657826,
           113450920.36960238,
           118180128.75109826,
           122533161.66075683,
           123619293.04913825,
           305681069.5649276,
           369807179.6127174,
           442355276.0706013,
           499182383.0611736,
           544644045.8652506,
           565383047.0165195,
           579932796.090377,
           580675698.412635
          ]
         },
         "name": "",
         "parents": [
          "1970/Asia",
          "1980/Asia",
          "1990/Asia",
          "2000/Asia",
          "2010/Asia",
          "2015/Asia",
          "2020/Asia",
          "2022/Asia",
          "1970/Europe",
          "1980/Europe",
          "1990/Europe",
          "2000/Europe",
          "2010/Europe",
          "2015/Europe",
          "2020/Europe",
          "2022/Europe",
          "1970/Africa",
          "1980/Africa",
          "1990/Africa",
          "2000/Africa",
          "2010/Africa",
          "2015/Africa",
          "2020/Africa",
          "2022/Africa",
          "1970/Oceania",
          "1980/Oceania",
          "1990/Oceania",
          "2000/Oceania",
          "2010/Oceania",
          "2015/Oceania",
          "2020/Oceania",
          "2022/Oceania",
          "1970/Europe",
          "1980/Europe",
          "1990/Europe",
          "2000/Europe",
          "2010/Europe",
          "2015/Europe",
          "2020/Europe",
          "2022/Europe",
          "1970/Africa",
          "1980/Africa",
          "1990/Africa",
          "2000/Africa",
          "2010/Africa",
          "2015/Africa",
          "2020/Africa",
          "2022/Africa",
          "1970/North America",
          "1980/North America",
          "1990/North America",
          "2000/North America",
          "2010/North America",
          "2015/North America",
          "2020/North America",
          "2022/North America",
          "1970/North America",
          "1980/North America",
          "1990/North America",
          "2000/North America",
          "2010/North America",
          "2015/North America",
          "2020/North America",
          "2022/North America",
          "1970/South America",
          "1980/South America",
          "1990/South America",
          "2000/South America",
          "2010/South America",
          "2015/South America",
          "2020/South America",
          "2022/South America",
          "1970/Asia",
          "1980/Asia",
          "1990/Asia",
          "2000/Asia",
          "2010/Asia",
          "2015/Asia",
          "2020/Asia",
          "2022/Asia",
          "1970/North America",
          "1980/North America",
          "1990/North America",
          "2000/North America",
          "2010/North America",
          "2015/North America",
          "2020/North America",
          "2022/North America",
          "1970/Oceania",
          "1980/Oceania",
          "1990/Oceania",
          "2000/Oceania",
          "2010/Oceania",
          "2015/Oceania",
          "2020/Oceania",
          "2022/Oceania",
          "1970/Europe",
          "1980/Europe",
          "1990/Europe",
          "2000/Europe",
          "2010/Europe",
          "2015/Europe",
          "2020/Europe",
          "2022/Europe",
          "1970/Asia",
          "1980/Asia",
          "1990/Asia",
          "2000/Asia",
          "2010/Asia",
          "2015/Asia",
          "2020/Asia",
          "2022/Asia",
          "1970/North America",
          "1980/North America",
          "1990/North America",
          "2000/North America",
          "2010/North America",
          "2015/North America",
          "2020/North America",
          "2022/North America",
          "1970/Asia",
          "1980/Asia",
          "1990/Asia",
          "2000/Asia",
          "2010/Asia",
          "2015/Asia",
          "2020/Asia",
          "2022/Asia",
          "1970/Asia",
          "1980/Asia",
          "1990/Asia",
          "2000/Asia",
          "2010/Asia",
          "2015/Asia",
          "2020/Asia",
          "2022/Asia",
          "1970/North America",
          "1980/North America",
          "1990/North America",
          "2000/North America",
          "2010/North America",
          "2015/North America",
          "2020/North America",
          "2022/North America",
          "1970/Europe",
          "1980/Europe",
          "1990/Europe",
          "2000/Europe",
          "2010/Europe",
          "2015/Europe",
          "2020/Europe",
          "2022/Europe",
          "1970/Europe",
          "1980/Europe",
          "1990/Europe",
          "2000/Europe",
          "2010/Europe",
          "2015/Europe",
          "2020/Europe",
          "2022/Europe",
          "1970/North America",
          "1980/North America",
          "1990/North America",
          "2000/North America",
          "2010/North America",
          "2015/North America",
          "2020/North America",
          "2022/North America",
          "1970/Africa",
          "1980/Africa",
          "1990/Africa",
          "2000/Africa",
          "2010/Africa",
          "2015/Africa",
          "2020/Africa",
          "2022/Africa",
          "1970/North America",
          "1980/North America",
          "1990/North America",
          "2000/North America",
          "2010/North America",
          "2015/North America",
          "2020/North America",
          "2022/North America",
          "1970/Asia",
          "1980/Asia",
          "1990/Asia",
          "2000/Asia",
          "2010/Asia",
          "2015/Asia",
          "2020/Asia",
          "2022/Asia",
          "1970/South America",
          "1980/South America",
          "1990/South America",
          "2000/South America",
          "2010/South America",
          "2015/South America",
          "2020/South America",
          "2022/South America",
          "1970/Europe",
          "1980/Europe",
          "1990/Europe",
          "2000/Europe",
          "2010/Europe",
          "2015/Europe",
          "2020/Europe",
          "2022/Europe",
          "1970/Africa",
          "1980/Africa",
          "1990/Africa",
          "2000/Africa",
          "2010/Africa",
          "2015/Africa",
          "2020/Africa",
          "2022/Africa",
          "1970/South America",
          "1980/South America",
          "1990/South America",
          "2000/South America",
          "2010/South America",
          "2015/South America",
          "2020/South America",
          "2022/South America",
          "1970/North America",
          "1980/North America",
          "1990/North America",
          "2000/North America",
          "2010/North America",
          "2015/North America",
          "2020/North America",
          "2022/North America",
          "1970/Asia",
          "1980/Asia",
          "1990/Asia",
          "2000/Asia",
          "2010/Asia",
          "2015/Asia",
          "2020/Asia",
          "2022/Asia",
          "1970/Europe",
          "1980/Europe",
          "1990/Europe",
          "2000/Europe",
          "2010/Europe",
          "2015/Europe",
          "2020/Europe",
          "2022/Europe",
          "1970/Africa",
          "1980/Africa",
          "1990/Africa",
          "2000/Africa",
          "2010/Africa",
          "2015/Africa",
          "2020/Africa",
          "2022/Africa",
          "1970/Africa",
          "1980/Africa",
          "1990/Africa",
          "2000/Africa",
          "2010/Africa",
          "2015/Africa",
          "2020/Africa",
          "2022/Africa",
          "1970/Asia",
          "1980/Asia",
          "1990/Asia",
          "2000/Asia",
          "2010/Asia",
          "2015/Asia",
          "2020/Asia",
          "2022/Asia",
          "1970/Africa",
          "1980/Africa",
          "1990/Africa",
          "2000/Africa",
          "2010/Africa",
          "2015/Africa",
          "2020/Africa",
          "2022/Africa",
          "1970/North America",
          "1980/North America",
          "1990/North America",
          "2000/North America",
          "2010/North America",
          "2015/North America",
          "2020/North America",
          "2022/North America",
          "1970/Africa",
          "1980/Africa",
          "1990/Africa",
          "2000/Africa",
          "2010/Africa",
          "2015/Africa",
          "2020/Africa",
          "2022/Africa",
          "1970/North America",
          "1980/North America",
          "1990/North America",
          "2000/North America",
          "2010/North America",
          "2015/North America",
          "2020/North America",
          "2022/North America",
          "1970/Africa",
          "1980/Africa",
          "1990/Africa",
          "2000/Africa",
          "2010/Africa",
          "2015/Africa",
          "2020/Africa",
          "2022/Africa",
          "1970/Africa",
          "1980/Africa",
          "1990/Africa",
          "2000/Africa",
          "2010/Africa",
          "2015/Africa",
          "2020/Africa",
          "2022/Africa",
          "1970/South America",
          "1980/South America",
          "1990/South America",
          "2000/South America",
          "2010/South America",
          "2015/South America",
          "2020/South America",
          "2022/South America",
          "1970/Asia",
          "1980/Asia",
          "1990/Asia",
          "2000/Asia",
          "2010/Asia",
          "2015/Asia",
          "2020/Asia",
          "2022/Asia",
          "1970/South America",
          "1980/South America",
          "1990/South America",
          "2000/South America",
          "2010/South America",
          "2015/South America",
          "2020/South America",
          "2022/South America",
          "1970/Africa",
          "1980/Africa",
          "1990/Africa",
          "2000/Africa",
          "2010/Africa",
          "2015/Africa",
          "2020/Africa",
          "2022/Africa",
          "1970/Oceania",
          "1980/Oceania",
          "1990/Oceania",
          "2000/Oceania",
          "2010/Oceania",
          "2015/Oceania",
          "2020/Oceania",
          "2022/Oceania",
          "1970/North America",
          "1980/North America",
          "1990/North America",
          "2000/North America",
          "2010/North America",
          "2015/North America",
          "2020/North America",
          "2022/North America",
          "1970/Europe",
          "1980/Europe",
          "1990/Europe",
          "2000/Europe",
          "2010/Europe",
          "2015/Europe",
          "2020/Europe",
          "2022/Europe",
          "1970/North America",
          "1980/North America",
          "1990/North America",
          "2000/North America",
          "2010/North America",
          "2015/North America",
          "2020/North America",
          "2022/North America",
          "1970/North America",
          "1980/North America",
          "1990/North America",
          "2000/North America",
          "2010/North America",
          "2015/North America",
          "2020/North America",
          "2022/North America",
          "1970/Europe",
          "1980/Europe",
          "1990/Europe",
          "2000/Europe",
          "2010/Europe",
          "2015/Europe",
          "2020/Europe",
          "2022/Europe",
          "1970/Europe",
          "1980/Europe",
          "1990/Europe",
          "2000/Europe",
          "2010/Europe",
          "2015/Europe",
          "2020/Europe",
          "2022/Europe",
          "1970/Africa",
          "1980/Africa",
          "1990/Africa",
          "2000/Africa",
          "2010/Africa",
          "2015/Africa",
          "2020/Africa",
          "2022/Africa",
          "1970/Europe",
          "1980/Europe",
          "1990/Europe",
          "2000/Europe",
          "2010/Europe",
          "2015/Europe",
          "2020/Europe",
          "2022/Europe",
          "1970/Africa",
          "1980/Africa",
          "1990/Africa",
          "2000/Africa",
          "2010/Africa",
          "2015/Africa",
          "2020/Africa",
          "2022/Africa",
          "1970/North America",
          "1980/North America",
          "1990/North America",
          "2000/North America",
          "2010/North America",
          "2015/North America",
          "2020/North America",
          "2022/North America",
          "1970/North America",
          "1980/North America",
          "1990/North America",
          "2000/North America",
          "2010/North America",
          "2015/North America",
          "2020/North America",
          "2022/North America",
          "1970/South America",
          "1980/South America",
          "1990/South America",
          "2000/South America",
          "2010/South America",
          "2015/South America",
          "2020/South America",
          "2022/South America",
          "1970/Africa",
          "1980/Africa",
          "1990/Africa",
          "2000/Africa",
          "2010/Africa",
          "2015/Africa",
          "2020/Africa",
          "2022/Africa",
          "1970/North America",
          "1980/North America",
          "1990/North America",
          "2000/North America",
          "2010/North America",
          "2015/North America",
          "2020/North America",
          "2022/North America",
          "1970/Africa",
          "1980/Africa",
          "1990/Africa",
          "2000/Africa",
          "2010/Africa",
          "2015/Africa",
          "2020/Africa",
          "2022/Africa",
          "1970/Africa",
          "1980/Africa",
          "1990/Africa",
          "2000/Africa",
          "2010/Africa",
          "2015/Africa",
          "2020/Africa",
          "2022/Africa",
          "1970/Europe",
          "1980/Europe",
          "1990/Europe",
          "2000/Europe",
          "2010/Europe",
          "2015/Europe",
          "2020/Europe",
          "2022/Europe",
          "1970/Africa",
          "1980/Africa",
          "1990/Africa",
          "2000/Africa",
          "2010/Africa",
          "2015/Africa",
          "2020/Africa",
          "2022/Africa",
          "1970/Africa",
          "1980/Africa",
          "1990/Africa",
          "2000/Africa",
          "2010/Africa",
          "2015/Africa",
          "2020/Africa",
          "2022/Africa",
          "1970/South America",
          "1980/South America",
          "1990/South America",
          "2000/South America",
          "2010/South America",
          "2015/South America",
          "2020/South America",
          "2022/South America",
          "1970/Europe",
          "1980/Europe",
          "1990/Europe",
          "2000/Europe",
          "2010/Europe",
          "2015/Europe",
          "2020/Europe",
          "2022/Europe",
          "1970/Oceania",
          "1980/Oceania",
          "1990/Oceania",
          "2000/Oceania",
          "2010/Oceania",
          "2015/Oceania",
          "2020/Oceania",
          "2022/Oceania",
          "1970/Europe",
          "1980/Europe",
          "1990/Europe",
          "2000/Europe",
          "2010/Europe",
          "2015/Europe",
          "2020/Europe",
          "2022/Europe",
          "1970/Europe",
          "1980/Europe",
          "1990/Europe",
          "2000/Europe",
          "2010/Europe",
          "2015/Europe",
          "2020/Europe",
          "2022/Europe",
          "1970/South America",
          "1980/South America",
          "1990/South America",
          "2000/South America",
          "2010/South America",
          "2015/South America",
          "2020/South America",
          "2022/South America",
          "1970/Oceania",
          "1980/Oceania",
          "1990/Oceania",
          "2000/Oceania",
          "2010/Oceania",
          "2015/Oceania",
          "2020/Oceania",
          "2022/Oceania",
          "1970/Africa",
          "1980/Africa",
          "1990/Africa",
          "2000/Africa",
          "2010/Africa",
          "2015/Africa",
          "2020/Africa",
          "2022/Africa",
          "1970/Africa",
          "1980/Africa",
          "1990/Africa",
          "2000/Africa",
          "2010/Africa",
          "2015/Africa",
          "2020/Africa",
          "2022/Africa",
          "1970/Asia",
          "1980/Asia",
          "1990/Asia",
          "2000/Asia",
          "2010/Asia",
          "2015/Asia",
          "2020/Asia",
          "2022/Asia",
          "1970/Europe",
          "1980/Europe",
          "1990/Europe",
          "2000/Europe",
          "2010/Europe",
          "2015/Europe",
          "2020/Europe",
          "2022/Europe",
          "1970/Africa",
          "1980/Africa",
          "1990/Africa",
          "2000/Africa",
          "2010/Africa",
          "2015/Africa",
          "2020/Africa",
          "2022/Africa",
          "1970/Europe",
          "1980/Europe",
          "1990/Europe",
          "2000/Europe",
          "2010/Europe",
          "2015/Europe",
          "2020/Europe",
          "2022/Europe",
          "1970/Europe",
          "1980/Europe",
          "1990/Europe",
          "2000/Europe",
          "2010/Europe",
          "2015/Europe",
          "2020/Europe",
          "2022/Europe",
          "1970/North America",
          "1980/North America",
          "1990/North America",
          "2000/North America",
          "2010/North America",
          "2015/North America",
          "2020/North America",
          "2022/North America",
          "1970/North America",
          "1980/North America",
          "1990/North America",
          "2000/North America",
          "2010/North America",
          "2015/North America",
          "2020/North America",
          "2022/North America",
          "1970/North America",
          "1980/North America",
          "1990/North America",
          "2000/North America",
          "2010/North America",
          "2015/North America",
          "2020/North America",
          "2022/North America",
          "1970/Oceania",
          "1980/Oceania",
          "1990/Oceania",
          "2000/Oceania",
          "2010/Oceania",
          "2015/Oceania",
          "2020/Oceania",
          "2022/Oceania",
          "1970/North America",
          "1980/North America",
          "1990/North America",
          "2000/North America",
          "2010/North America",
          "2015/North America",
          "2020/North America",
          "2022/North America",
          "1970/Europe",
          "1980/Europe",
          "1990/Europe",
          "2000/Europe",
          "2010/Europe",
          "2015/Europe",
          "2020/Europe",
          "2022/Europe",
          "1970/Africa",
          "1980/Africa",
          "1990/Africa",
          "2000/Africa",
          "2010/Africa",
          "2015/Africa",
          "2020/Africa",
          "2022/Africa",
          "1970/Africa",
          "1980/Africa",
          "1990/Africa",
          "2000/Africa",
          "2010/Africa",
          "2015/Africa",
          "2020/Africa",
          "2022/Africa",
          "1970/South America",
          "1980/South America",
          "1990/South America",
          "2000/South America",
          "2010/South America",
          "2015/South America",
          "2020/South America",
          "2022/South America",
          "1970/North America",
          "1980/North America",
          "1990/North America",
          "2000/North America",
          "2010/North America",
          "2015/North America",
          "2020/North America",
          "2022/North America",
          "1970/North America",
          "1980/North America",
          "1990/North America",
          "2000/North America",
          "2010/North America",
          "2015/North America",
          "2020/North America",
          "2022/North America",
          "1970/Asia",
          "1980/Asia",
          "1990/Asia",
          "2000/Asia",
          "2010/Asia",
          "2015/Asia",
          "2020/Asia",
          "2022/Asia",
          "1970/Europe",
          "1980/Europe",
          "1990/Europe",
          "2000/Europe",
          "2010/Europe",
          "2015/Europe",
          "2020/Europe",
          "2022/Europe",
          "1970/Europe",
          "1980/Europe",
          "1990/Europe",
          "2000/Europe",
          "2010/Europe",
          "2015/Europe",
          "2020/Europe",
          "2022/Europe",
          "1970/Asia",
          "1980/Asia",
          "1990/Asia",
          "2000/Asia",
          "2010/Asia",
          "2015/Asia",
          "2020/Asia",
          "2022/Asia",
          "1970/Asia",
          "1980/Asia",
          "1990/Asia",
          "2000/Asia",
          "2010/Asia",
          "2015/Asia",
          "2020/Asia",
          "2022/Asia",
          "1970/Asia",
          "1980/Asia",
          "1990/Asia",
          "2000/Asia",
          "2010/Asia",
          "2015/Asia",
          "2020/Asia",
          "2022/Asia",
          "1970/Asia",
          "1980/Asia",
          "1990/Asia",
          "2000/Asia",
          "2010/Asia",
          "2015/Asia",
          "2020/Asia",
          "2022/Asia",
          "1970/Europe",
          "1980/Europe",
          "1990/Europe",
          "2000/Europe",
          "2010/Europe",
          "2015/Europe",
          "2020/Europe",
          "2022/Europe",
          "1970/Europe",
          "1980/Europe",
          "1990/Europe",
          "2000/Europe",
          "2010/Europe",
          "2015/Europe",
          "2020/Europe",
          "2022/Europe",
          "1970/Asia",
          "1980/Asia",
          "1990/Asia",
          "2000/Asia",
          "2010/Asia",
          "2015/Asia",
          "2020/Asia",
          "2022/Asia",
          "1970/Europe",
          "1980/Europe",
          "1990/Europe",
          "2000/Europe",
          "2010/Europe",
          "2015/Europe",
          "2020/Europe",
          "2022/Europe",
          "1970/Africa",
          "1980/Africa",
          "1990/Africa",
          "2000/Africa",
          "2010/Africa",
          "2015/Africa",
          "2020/Africa",
          "2022/Africa",
          "1970/North America",
          "1980/North America",
          "1990/North America",
          "2000/North America",
          "2010/North America",
          "2015/North America",
          "2020/North America",
          "2022/North America",
          "1970/Asia",
          "1980/Asia",
          "1990/Asia",
          "2000/Asia",
          "2010/Asia",
          "2015/Asia",
          "2020/Asia",
          "2022/Asia",
          "1970/Europe",
          "1980/Europe",
          "1990/Europe",
          "2000/Europe",
          "2010/Europe",
          "2015/Europe",
          "2020/Europe",
          "2022/Europe",
          "1970/Asia",
          "1980/Asia",
          "1990/Asia",
          "2000/Asia",
          "2010/Asia",
          "2015/Asia",
          "2020/Asia",
          "2022/Asia",
          "1970/Asia",
          "1980/Asia",
          "1990/Asia",
          "2000/Asia",
          "2010/Asia",
          "2015/Asia",
          "2020/Asia",
          "2022/Asia",
          "1970/Africa",
          "1980/Africa",
          "1990/Africa",
          "2000/Africa",
          "2010/Africa",
          "2015/Africa",
          "2020/Africa",
          "2022/Africa",
          "1970/Oceania",
          "1980/Oceania",
          "1990/Oceania",
          "2000/Oceania",
          "2010/Oceania",
          "2015/Oceania",
          "2020/Oceania",
          "2022/Oceania",
          "1970/Asia",
          "1980/Asia",
          "1990/Asia",
          "2000/Asia",
          "2010/Asia",
          "2015/Asia",
          "2020/Asia",
          "2022/Asia",
          "1970/Asia",
          "1980/Asia",
          "1990/Asia",
          "2000/Asia",
          "2010/Asia",
          "2015/Asia",
          "2020/Asia",
          "2022/Asia",
          "1970/Asia",
          "1980/Asia",
          "1990/Asia",
          "2000/Asia",
          "2010/Asia",
          "2015/Asia",
          "2020/Asia",
          "2022/Asia",
          "1970/Europe",
          "1980/Europe",
          "1990/Europe",
          "2000/Europe",
          "2010/Europe",
          "2015/Europe",
          "2020/Europe",
          "2022/Europe",
          "1970/Asia",
          "1980/Asia",
          "1990/Asia",
          "2000/Asia",
          "2010/Asia",
          "2015/Asia",
          "2020/Asia",
          "2022/Asia",
          "1970/Africa",
          "1980/Africa",
          "1990/Africa",
          "2000/Africa",
          "2010/Africa",
          "2015/Africa",
          "2020/Africa",
          "2022/Africa",
          "1970/Africa",
          "1980/Africa",
          "1990/Africa",
          "2000/Africa",
          "2010/Africa",
          "2015/Africa",
          "2020/Africa",
          "2022/Africa",
          "1970/Africa",
          "1980/Africa",
          "1990/Africa",
          "2000/Africa",
          "2010/Africa",
          "2015/Africa",
          "2020/Africa",
          "2022/Africa",
          "1970/Europe",
          "1980/Europe",
          "1990/Europe",
          "2000/Europe",
          "2010/Europe",
          "2015/Europe",
          "2020/Europe",
          "2022/Europe",
          "1970/Europe",
          "1980/Europe",
          "1990/Europe",
          "2000/Europe",
          "2010/Europe",
          "2015/Europe",
          "2020/Europe",
          "2022/Europe",
          "1970/Europe",
          "1980/Europe",
          "1990/Europe",
          "2000/Europe",
          "2010/Europe",
          "2015/Europe",
          "2020/Europe",
          "2022/Europe",
          "1970/Asia",
          "1980/Asia",
          "1990/Asia",
          "2000/Asia",
          "2010/Asia",
          "2015/Asia",
          "2020/Asia",
          "2022/Asia",
          "1970/Africa",
          "1980/Africa",
          "1990/Africa",
          "2000/Africa",
          "2010/Africa",
          "2015/Africa",
          "2020/Africa",
          "2022/Africa",
          "1970/Africa",
          "1980/Africa",
          "1990/Africa",
          "2000/Africa",
          "2010/Africa",
          "2015/Africa",
          "2020/Africa",
          "2022/Africa",
          "1970/Asia",
          "1980/Asia",
          "1990/Asia",
          "2000/Asia",
          "2010/Asia",
          "2015/Asia",
          "2020/Asia",
          "2022/Asia",
          "1970/Asia",
          "1980/Asia",
          "1990/Asia",
          "2000/Asia",
          "2010/Asia",
          "2015/Asia",
          "2020/Asia",
          "2022/Asia",
          "1970/Africa",
          "1980/Africa",
          "1990/Africa",
          "2000/Africa",
          "2010/Africa",
          "2015/Africa",
          "2020/Africa",
          "2022/Africa",
          "1970/Europe",
          "1980/Europe",
          "1990/Europe",
          "2000/Europe",
          "2010/Europe",
          "2015/Europe",
          "2020/Europe",
          "2022/Europe",
          "1970/Oceania",
          "1980/Oceania",
          "1990/Oceania",
          "2000/Oceania",
          "2010/Oceania",
          "2015/Oceania",
          "2020/Oceania",
          "2022/Oceania",
          "1970/North America",
          "1980/North America",
          "1990/North America",
          "2000/North America",
          "2010/North America",
          "2015/North America",
          "2020/North America",
          "2022/North America",
          "1970/Africa",
          "1980/Africa",
          "1990/Africa",
          "2000/Africa",
          "2010/Africa",
          "2015/Africa",
          "2020/Africa",
          "2022/Africa",
          "1970/Africa",
          "1980/Africa",
          "1990/Africa",
          "2000/Africa",
          "2010/Africa",
          "2015/Africa",
          "2020/Africa",
          "2022/Africa",
          "1970/Africa",
          "1980/Africa",
          "1990/Africa",
          "2000/Africa",
          "2010/Africa",
          "2015/Africa",
          "2020/Africa",
          "2022/Africa",
          "1970/North America",
          "1980/North America",
          "1990/North America",
          "2000/North America",
          "2010/North America",
          "2015/North America",
          "2020/North America",
          "2022/North America",
          "1970/Oceania",
          "1980/Oceania",
          "1990/Oceania",
          "2000/Oceania",
          "2010/Oceania",
          "2015/Oceania",
          "2020/Oceania",
          "2022/Oceania",
          "1970/Europe",
          "1980/Europe",
          "1990/Europe",
          "2000/Europe",
          "2010/Europe",
          "2015/Europe",
          "2020/Europe",
          "2022/Europe",
          "1970/Europe",
          "1980/Europe",
          "1990/Europe",
          "2000/Europe",
          "2010/Europe",
          "2015/Europe",
          "2020/Europe",
          "2022/Europe",
          "1970/Asia",
          "1980/Asia",
          "1990/Asia",
          "2000/Asia",
          "2010/Asia",
          "2015/Asia",
          "2020/Asia",
          "2022/Asia",
          "1970/Europe",
          "1980/Europe",
          "1990/Europe",
          "2000/Europe",
          "2010/Europe",
          "2015/Europe",
          "2020/Europe",
          "2022/Europe",
          "1970/North America",
          "1980/North America",
          "1990/North America",
          "2000/North America",
          "2010/North America",
          "2015/North America",
          "2020/North America",
          "2022/North America",
          "1970/Africa",
          "1980/Africa",
          "1990/Africa",
          "2000/Africa",
          "2010/Africa",
          "2015/Africa",
          "2020/Africa",
          "2022/Africa",
          "1970/Africa",
          "1980/Africa",
          "1990/Africa",
          "2000/Africa",
          "2010/Africa",
          "2015/Africa",
          "2020/Africa",
          "2022/Africa",
          "1970/Asia",
          "1980/Asia",
          "1990/Asia",
          "2000/Asia",
          "2010/Asia",
          "2015/Asia",
          "2020/Asia",
          "2022/Asia",
          "1970/Africa",
          "1980/Africa",
          "1990/Africa",
          "2000/Africa",
          "2010/Africa",
          "2015/Africa",
          "2020/Africa",
          "2022/Africa",
          "1970/Oceania",
          "1980/Oceania",
          "1990/Oceania",
          "2000/Oceania",
          "2010/Oceania",
          "2015/Oceania",
          "2020/Oceania",
          "2022/Oceania",
          "1970/Asia",
          "1980/Asia",
          "1990/Asia",
          "2000/Asia",
          "2010/Asia",
          "2015/Asia",
          "2020/Asia",
          "2022/Asia",
          "1970/Europe",
          "1980/Europe",
          "1990/Europe",
          "2000/Europe",
          "2010/Europe",
          "2015/Europe",
          "2020/Europe",
          "2022/Europe",
          "1970/Oceania",
          "1980/Oceania",
          "1990/Oceania",
          "2000/Oceania",
          "2010/Oceania",
          "2015/Oceania",
          "2020/Oceania",
          "2022/Oceania",
          "1970/Oceania",
          "1980/Oceania",
          "1990/Oceania",
          "2000/Oceania",
          "2010/Oceania",
          "2015/Oceania",
          "2020/Oceania",
          "2022/Oceania",
          "1970/North America",
          "1980/North America",
          "1990/North America",
          "2000/North America",
          "2010/North America",
          "2015/North America",
          "2020/North America",
          "2022/North America",
          "1970/Africa",
          "1980/Africa",
          "1990/Africa",
          "2000/Africa",
          "2010/Africa",
          "2015/Africa",
          "2020/Africa",
          "2022/Africa",
          "1970/Africa",
          "1980/Africa",
          "1990/Africa",
          "2000/Africa",
          "2010/Africa",
          "2015/Africa",
          "2020/Africa",
          "2022/Africa",
          "1970/Oceania",
          "1980/Oceania",
          "1990/Oceania",
          "2000/Oceania",
          "2010/Oceania",
          "2015/Oceania",
          "2020/Oceania",
          "2022/Oceania",
          "1970/Asia",
          "1980/Asia",
          "1990/Asia",
          "2000/Asia",
          "2010/Asia",
          "2015/Asia",
          "2020/Asia",
          "2022/Asia",
          "1970/Europe",
          "1980/Europe",
          "1990/Europe",
          "2000/Europe",
          "2010/Europe",
          "2015/Europe",
          "2020/Europe",
          "2022/Europe",
          "1970/Oceania",
          "1980/Oceania",
          "1990/Oceania",
          "2000/Oceania",
          "2010/Oceania",
          "2015/Oceania",
          "2020/Oceania",
          "2022/Oceania",
          "1970/Europe",
          "1980/Europe",
          "1990/Europe",
          "2000/Europe",
          "2010/Europe",
          "2015/Europe",
          "2020/Europe",
          "2022/Europe",
          "1970/Asia",
          "1980/Asia",
          "1990/Asia",
          "2000/Asia",
          "2010/Asia",
          "2015/Asia",
          "2020/Asia",
          "2022/Asia",
          "1970/Asia",
          "1980/Asia",
          "1990/Asia",
          "2000/Asia",
          "2010/Asia",
          "2015/Asia",
          "2020/Asia",
          "2022/Asia",
          "1970/Oceania",
          "1980/Oceania",
          "1990/Oceania",
          "2000/Oceania",
          "2010/Oceania",
          "2015/Oceania",
          "2020/Oceania",
          "2022/Oceania",
          "1970/Asia",
          "1980/Asia",
          "1990/Asia",
          "2000/Asia",
          "2010/Asia",
          "2015/Asia",
          "2020/Asia",
          "2022/Asia",
          "1970/North America",
          "1980/North America",
          "1990/North America",
          "2000/North America",
          "2010/North America",
          "2015/North America",
          "2020/North America",
          "2022/North America",
          "1970/Oceania",
          "1980/Oceania",
          "1990/Oceania",
          "2000/Oceania",
          "2010/Oceania",
          "2015/Oceania",
          "2020/Oceania",
          "2022/Oceania",
          "1970/South America",
          "1980/South America",
          "1990/South America",
          "2000/South America",
          "2010/South America",
          "2015/South America",
          "2020/South America",
          "2022/South America",
          "1970/South America",
          "1980/South America",
          "1990/South America",
          "2000/South America",
          "2010/South America",
          "2015/South America",
          "2020/South America",
          "2022/South America",
          "1970/Asia",
          "1980/Asia",
          "1990/Asia",
          "2000/Asia",
          "2010/Asia",
          "2015/Asia",
          "2020/Asia",
          "2022/Asia",
          "1970/Europe",
          "1980/Europe",
          "1990/Europe",
          "2000/Europe",
          "2010/Europe",
          "2015/Europe",
          "2020/Europe",
          "2022/Europe",
          "1970/Europe",
          "1980/Europe",
          "1990/Europe",
          "2000/Europe",
          "2010/Europe",
          "2015/Europe",
          "2020/Europe",
          "2022/Europe",
          "1970/North America",
          "1980/North America",
          "1990/North America",
          "2000/North America",
          "2010/North America",
          "2015/North America",
          "2020/North America",
          "2022/North America",
          "1970/Asia",
          "1980/Asia",
          "1990/Asia",
          "2000/Asia",
          "2010/Asia",
          "2015/Asia",
          "2020/Asia",
          "2022/Asia",
          "1970/Africa",
          "1980/Africa",
          "1990/Africa",
          "2000/Africa",
          "2010/Africa",
          "2015/Africa",
          "2020/Africa",
          "2022/Africa",
          "1970/Africa",
          "1980/Africa",
          "1990/Africa",
          "2000/Africa",
          "2010/Africa",
          "2015/Africa",
          "2020/Africa",
          "2022/Africa",
          "1970/Europe",
          "1980/Europe",
          "1990/Europe",
          "2000/Europe",
          "2010/Europe",
          "2015/Europe",
          "2020/Europe",
          "2022/Europe",
          "1970/Europe",
          "1980/Europe",
          "1990/Europe",
          "2000/Europe",
          "2010/Europe",
          "2015/Europe",
          "2020/Europe",
          "2022/Europe",
          "1970/Africa",
          "1980/Africa",
          "1990/Africa",
          "2000/Africa",
          "2010/Africa",
          "2015/Africa",
          "2020/Africa",
          "2022/Africa",
          "1970/North America",
          "1980/North America",
          "1990/North America",
          "2000/North America",
          "2010/North America",
          "2015/North America",
          "2020/North America",
          "2022/North America",
          "1970/North America",
          "1980/North America",
          "1990/North America",
          "2000/North America",
          "2010/North America",
          "2015/North America",
          "2020/North America",
          "2022/North America",
          "1970/North America",
          "1980/North America",
          "1990/North America",
          "2000/North America",
          "2010/North America",
          "2015/North America",
          "2020/North America",
          "2022/North America",
          "1970/North America",
          "1980/North America",
          "1990/North America",
          "2000/North America",
          "2010/North America",
          "2015/North America",
          "2020/North America",
          "2022/North America",
          "1970/North America",
          "1980/North America",
          "1990/North America",
          "2000/North America",
          "2010/North America",
          "2015/North America",
          "2020/North America",
          "2022/North America",
          "1970/North America",
          "1980/North America",
          "1990/North America",
          "2000/North America",
          "2010/North America",
          "2015/North America",
          "2020/North America",
          "2022/North America",
          "1970/Oceania",
          "1980/Oceania",
          "1990/Oceania",
          "2000/Oceania",
          "2010/Oceania",
          "2015/Oceania",
          "2020/Oceania",
          "2022/Oceania",
          "1970/Europe",
          "1980/Europe",
          "1990/Europe",
          "2000/Europe",
          "2010/Europe",
          "2015/Europe",
          "2020/Europe",
          "2022/Europe",
          "1970/Africa",
          "1980/Africa",
          "1990/Africa",
          "2000/Africa",
          "2010/Africa",
          "2015/Africa",
          "2020/Africa",
          "2022/Africa",
          "1970/Asia",
          "1980/Asia",
          "1990/Asia",
          "2000/Asia",
          "2010/Asia",
          "2015/Asia",
          "2020/Asia",
          "2022/Asia",
          "1970/Africa",
          "1980/Africa",
          "1990/Africa",
          "2000/Africa",
          "2010/Africa",
          "2015/Africa",
          "2020/Africa",
          "2022/Africa",
          "1970/Europe",
          "1980/Europe",
          "1990/Europe",
          "2000/Europe",
          "2010/Europe",
          "2015/Europe",
          "2020/Europe",
          "2022/Europe",
          "1970/Africa",
          "1980/Africa",
          "1990/Africa",
          "2000/Africa",
          "2010/Africa",
          "2015/Africa",
          "2020/Africa",
          "2022/Africa",
          "1970/Africa",
          "1980/Africa",
          "1990/Africa",
          "2000/Africa",
          "2010/Africa",
          "2015/Africa",
          "2020/Africa",
          "2022/Africa",
          "1970/Asia",
          "1980/Asia",
          "1990/Asia",
          "2000/Asia",
          "2010/Asia",
          "2015/Asia",
          "2020/Asia",
          "2022/Asia",
          "1970/North America",
          "1980/North America",
          "1990/North America",
          "2000/North America",
          "2010/North America",
          "2015/North America",
          "2020/North America",
          "2022/North America",
          "1970/Europe",
          "1980/Europe",
          "1990/Europe",
          "2000/Europe",
          "2010/Europe",
          "2015/Europe",
          "2020/Europe",
          "2022/Europe",
          "1970/Europe",
          "1980/Europe",
          "1990/Europe",
          "2000/Europe",
          "2010/Europe",
          "2015/Europe",
          "2020/Europe",
          "2022/Europe",
          "1970/Oceania",
          "1980/Oceania",
          "1990/Oceania",
          "2000/Oceania",
          "2010/Oceania",
          "2015/Oceania",
          "2020/Oceania",
          "2022/Oceania",
          "1970/Africa",
          "1980/Africa",
          "1990/Africa",
          "2000/Africa",
          "2010/Africa",
          "2015/Africa",
          "2020/Africa",
          "2022/Africa",
          "1970/Africa",
          "1980/Africa",
          "1990/Africa",
          "2000/Africa",
          "2010/Africa",
          "2015/Africa",
          "2020/Africa",
          "2022/Africa",
          "1970/Asia",
          "1980/Asia",
          "1990/Asia",
          "2000/Asia",
          "2010/Asia",
          "2015/Asia",
          "2020/Asia",
          "2022/Asia",
          "1970/Africa",
          "1980/Africa",
          "1990/Africa",
          "2000/Africa",
          "2010/Africa",
          "2015/Africa",
          "2020/Africa",
          "2022/Africa",
          "1970/Europe",
          "1980/Europe",
          "1990/Europe",
          "2000/Europe",
          "2010/Europe",
          "2015/Europe",
          "2020/Europe",
          "2022/Europe",
          "1970/Asia",
          "1980/Asia",
          "1990/Asia",
          "2000/Asia",
          "2010/Asia",
          "2015/Asia",
          "2020/Asia",
          "2022/Asia",
          "1970/Africa",
          "1980/Africa",
          "1990/Africa",
          "2000/Africa",
          "2010/Africa",
          "2015/Africa",
          "2020/Africa",
          "2022/Africa",
          "1970/South America",
          "1980/South America",
          "1990/South America",
          "2000/South America",
          "2010/South America",
          "2015/South America",
          "2020/South America",
          "2022/South America",
          "1970/Europe",
          "1980/Europe",
          "1990/Europe",
          "2000/Europe",
          "2010/Europe",
          "2015/Europe",
          "2020/Europe",
          "2022/Europe",
          "1970/Europe",
          "1980/Europe",
          "1990/Europe",
          "2000/Europe",
          "2010/Europe",
          "2015/Europe",
          "2020/Europe",
          "2022/Europe",
          "1970/Asia",
          "1980/Asia",
          "1990/Asia",
          "2000/Asia",
          "2010/Asia",
          "2015/Asia",
          "2020/Asia",
          "2022/Asia",
          "1970/Asia",
          "1980/Asia",
          "1990/Asia",
          "2000/Asia",
          "2010/Asia",
          "2015/Asia",
          "2020/Asia",
          "2022/Asia",
          "1970/Asia",
          "1980/Asia",
          "1990/Asia",
          "2000/Asia",
          "2010/Asia",
          "2015/Asia",
          "2020/Asia",
          "2022/Asia",
          "1970/Africa",
          "1980/Africa",
          "1990/Africa",
          "2000/Africa",
          "2010/Africa",
          "2015/Africa",
          "2020/Africa",
          "2022/Africa",
          "1970/Asia",
          "1980/Asia",
          "1990/Asia",
          "2000/Asia",
          "2010/Asia",
          "2015/Asia",
          "2020/Asia",
          "2022/Asia",
          "1970/Asia",
          "1980/Asia",
          "1990/Asia",
          "2000/Asia",
          "2010/Asia",
          "2015/Asia",
          "2020/Asia",
          "2022/Asia",
          "1970/Africa",
          "1980/Africa",
          "1990/Africa",
          "2000/Africa",
          "2010/Africa",
          "2015/Africa",
          "2020/Africa",
          "2022/Africa",
          "1970/Oceania",
          "1980/Oceania",
          "1990/Oceania",
          "2000/Oceania",
          "2010/Oceania",
          "2015/Oceania",
          "2020/Oceania",
          "2022/Oceania",
          "1970/Oceania",
          "1980/Oceania",
          "1990/Oceania",
          "2000/Oceania",
          "2010/Oceania",
          "2015/Oceania",
          "2020/Oceania",
          "2022/Oceania",
          "1970/North America",
          "1980/North America",
          "1990/North America",
          "2000/North America",
          "2010/North America",
          "2015/North America",
          "2020/North America",
          "2022/North America",
          "1970/Africa",
          "1980/Africa",
          "1990/Africa",
          "2000/Africa",
          "2010/Africa",
          "2015/Africa",
          "2020/Africa",
          "2022/Africa",
          "1970/Asia",
          "1980/Asia",
          "1990/Asia",
          "2000/Asia",
          "2010/Asia",
          "2015/Asia",
          "2020/Asia",
          "2022/Asia",
          "1970/Asia",
          "1980/Asia",
          "1990/Asia",
          "2000/Asia",
          "2010/Asia",
          "2015/Asia",
          "2020/Asia",
          "2022/Asia",
          "1970/North America",
          "1980/North America",
          "1990/North America",
          "2000/North America",
          "2010/North America",
          "2015/North America",
          "2020/North America",
          "2022/North America",
          "1970/Oceania",
          "1980/Oceania",
          "1990/Oceania",
          "2000/Oceania",
          "2010/Oceania",
          "2015/Oceania",
          "2020/Oceania",
          "2022/Oceania",
          "1970/Africa",
          "1980/Africa",
          "1990/Africa",
          "2000/Africa",
          "2010/Africa",
          "2015/Africa",
          "2020/Africa",
          "2022/Africa",
          "1970/Europe",
          "1980/Europe",
          "1990/Europe",
          "2000/Europe",
          "2010/Europe",
          "2015/Europe",
          "2020/Europe",
          "2022/Europe",
          "1970/Asia",
          "1980/Asia",
          "1990/Asia",
          "2000/Asia",
          "2010/Asia",
          "2015/Asia",
          "2020/Asia",
          "2022/Asia",
          "1970/Europe",
          "1980/Europe",
          "1990/Europe",
          "2000/Europe",
          "2010/Europe",
          "2015/Europe",
          "2020/Europe",
          "2022/Europe",
          "1970/North America",
          "1980/North America",
          "1990/North America",
          "2000/North America",
          "2010/North America",
          "2015/North America",
          "2020/North America",
          "2022/North America",
          "1970/North America",
          "1980/North America",
          "1990/North America",
          "2000/North America",
          "2010/North America",
          "2015/North America",
          "2020/North America",
          "2022/North America",
          "1970/South America",
          "1980/South America",
          "1990/South America",
          "2000/South America",
          "2010/South America",
          "2015/South America",
          "2020/South America",
          "2022/South America",
          "1970/Asia",
          "1980/Asia",
          "1990/Asia",
          "2000/Asia",
          "2010/Asia",
          "2015/Asia",
          "2020/Asia",
          "2022/Asia",
          "1970/Oceania",
          "1980/Oceania",
          "1990/Oceania",
          "2000/Oceania",
          "2010/Oceania",
          "2015/Oceania",
          "2020/Oceania",
          "2022/Oceania",
          "1970/Europe",
          "1980/Europe",
          "1990/Europe",
          "2000/Europe",
          "2010/Europe",
          "2015/Europe",
          "2020/Europe",
          "2022/Europe",
          "1970/South America",
          "1980/South America",
          "1990/South America",
          "2000/South America",
          "2010/South America",
          "2015/South America",
          "2020/South America",
          "2022/South America",
          "1970/Asia",
          "1980/Asia",
          "1990/Asia",
          "2000/Asia",
          "2010/Asia",
          "2015/Asia",
          "2020/Asia",
          "2022/Asia",
          "1970/Oceania",
          "1980/Oceania",
          "1990/Oceania",
          "2000/Oceania",
          "2010/Oceania",
          "2015/Oceania",
          "2020/Oceania",
          "2022/Oceania",
          "1970/Africa",
          "1980/Africa",
          "1990/Africa",
          "2000/Africa",
          "2010/Africa",
          "2015/Africa",
          "2020/Africa",
          "2022/Africa",
          "1970/Asia",
          "1980/Asia",
          "1990/Asia",
          "2000/Asia",
          "2010/Asia",
          "2015/Asia",
          "2020/Asia",
          "2022/Asia",
          "1970/Africa",
          "1980/Africa",
          "1990/Africa",
          "2000/Africa",
          "2010/Africa",
          "2015/Africa",
          "2020/Africa",
          "2022/Africa",
          "1970/Africa",
          "1980/Africa",
          "1990/Africa",
          "2000/Africa",
          "2010/Africa",
          "2015/Africa",
          "2020/Africa",
          "2022/Africa",
          "1970",
          "1980",
          "1990",
          "2000",
          "2010",
          "2015",
          "2020",
          "2022",
          "1970",
          "1980",
          "1990",
          "2000",
          "2010",
          "2015",
          "2020",
          "2022",
          "1970",
          "1980",
          "1990",
          "2000",
          "2010",
          "2015",
          "2020",
          "2022",
          "1970",
          "1980",
          "1990",
          "2000",
          "2010",
          "2015",
          "2020",
          "2022",
          "1970",
          "1980",
          "1990",
          "2000",
          "2010",
          "2015",
          "2020",
          "2022",
          "1970",
          "1980",
          "1990",
          "2000",
          "2010",
          "2015",
          "2020",
          "2022",
          "",
          "",
          "",
          "",
          "",
          "",
          "",
          ""
         ],
         "type": "treemap",
         "values": [
          10752971,
          12486631,
          10694796,
          19542982,
          28189672,
          33753499,
          38972230,
          41128771,
          2324731,
          2941651,
          3295066,
          3182021,
          2913399,
          2882481,
          2866849,
          2842321,
          13795915,
          18739378,
          25518074,
          30774621,
          35856344,
          39543154,
          43451666,
          44903225,
          27075,
          32886,
          47818,
          58230,
          54849,
          51368,
          46189,
          44273,
          19860,
          35611,
          53569,
          66097,
          71519,
          71746,
          77700,
          79824,
          6029700,
          8330047,
          11828638,
          16394062,
          23364185,
          28127721,
          33428485,
          35588987,
          6283,
          6560,
          8316,
          11047,
          13172,
          14525,
          15585,
          15857,
          64516,
          64888,
          63328,
          75055,
          85695,
          89941,
          92664,
          93763,
          23842803,
          28024803,
          32637657,
          37070774,
          41100123,
          43257065,
          45036032,
          45510318,
          2534377,
          3135123,
          3556539,
          3168523,
          2946293,
          2878595,
          2805608,
          2780469,
          59106,
          62267,
          65712,
          89101,
          100341,
          104257,
          106585,
          106445,
          12595034,
          14706322,
          17048003,
          19017963,
          22019168,
          23820236,
          25670051,
          26177413,
          7465301,
          7547561,
          7678729,
          8010428,
          8362829,
          8642421,
          8907777,
          8939617,
          5425317,
          6383060,
          7427836,
          8190337,
          9237202,
          9863480,
          10284951,
          10358074,
          179129,
          223752,
          270679,
          325014,
          373272,
          392697,
          406471,
          409984,
          222555,
          362595,
          517418,
          711442,
          1213645,
          1362142,
          1477469,
          1472233,
          67541860,
          83929765,
          107147651,
          129193327,
          148391139,
          157830000,
          167420951,
          171186372,
          241397,
          253575,
          258868,
          264657,
          274711,
          278083,
          280693,
          281635,
          9170786,
          9817257,
          10428525,
          10256483,
          9731427,
          9700609,
          9633740,
          9534954,
          9629376,
          9828986,
          9959560,
          10264343,
          10877947,
          11248303,
          11561717,
          11655930,
          120905,
          145133,
          182589,
          240406,
          322106,
          359871,
          394921,
          405272,
          3023443,
          3833939,
          5133419,
          6998023,
          9445710,
          10932783,
          12643123,
          13352864,
          52019,
          53565,
          57470,
          61371,
          63447,
          63144,
          64031,
          64184,
          298894,
          415257,
          558442,
          587207,
          705516,
          743274,
          772506,
          782455,
          4585693,
          5736088,
          7096194,
          8592656,
          10223270,
          11090085,
          11936162,
          12224110,
          3815561,
          4199820,
          4494310,
          4179350,
          3811088,
          3524324,
          3318407,
          3233526,
          592244,
          938578,
          1341474,
          1726985,
          2091664,
          2305171,
          2546402,
          2630296,
          96369875,
          122288383,
          150706446,
          175873720,
          196353492,
          205188205,
          213196304,
          215313498,
          9581,
          11109,
          15617,
          20104,
          27556,
          29366,
          30910,
          31305,
          133343,
          187921,
          261928,
          333926,
          396053,
          421437,
          441725,
          449002,
          8582950,
          8980606,
          8767778,
          8097691,
          7592273,
          7309253,
          6979175,
          6781953,
          5611666,
          6932967,
          9131361,
          11882888,
          16116845,
          18718019,
          21522626,
          22673762,
          3497834,
          4312834,
          5483793,
          6307659,
          9126605,
          10727148,
          12220227,
          12889576,
          6708525,
          6198959,
          8910808,
          12118841,
          14363532,
          15417523,
          16396860,
          16767842,
          6452787,
          8519891,
          11430520,
          15091594,
          19878036,
          23012646,
          26491087,
          27914536,
          21434577,
          24511510,
          27657204,
          30683313,
          33963412,
          35732126,
          37888705,
          38454327,
          287262,
          317234,
          364563,
          458251,
          521212,
          552166,
          582640,
          593149,
          10533,
          17100,
          26027,
          39658,
          54074,
          60911,
          67311,
          68706,
          2067356,
          2415276,
          2809221,
          3759170,
          4660067,
          4819333,
          5343020,
          5579144,
          3667394,
          4408230,
          5827069,
          8259137,
          11894727,
          14140274,
          16644701,
          17723315,
          9820481,
          11469828,
          13342868,
          15351799,
          17004162,
          17870124,
          19300315,
          19603733,
          822534450,
          982372466,
          1153704252,
          1264099069,
          1348191368,
          1393715448,
          1424929781,
          1425887337,
          20905254,
          26176195,
          32601393,
          39215135,
          44816108,
          47119728,
          50930662,
          51874024,
          242351,
          328328,
          431119,
          536758,
          656024,
          730216,
          806166,
          836774,
          20470,
          17651,
          17123,
          15897,
          17212,
          17695,
          17029,
          17011,
          1855697,
          2414303,
          3158253,
          3979193,
          4622252,
          4895242,
          5123105,
          5180829,
          4492638,
          4680144,
          4873707,
          4548434,
          4368682,
          4254815,
          4096868,
          4030358,
          8869636,
          9809107,
          10626680,
          11105791,
          11290417,
          11339894,
          11300698,
          11212191,
          150385,
          156851,
          155446,
          141424,
          159380,
          169572,
          189288,
          191163,
          640804,
          679327,
          788500,
          948237,
          1129686,
          1187280,
          1237537,
          1251488,
          9795744,
          10270060,
          10301192,
          10234710,
          10464749,
          10523798,
          10530953,
          10493986,
          20151733,
          26708686,
          35987541,
          48616317,
          66391257,
          78656904,
          92853164,
          99010212,
          4922963,
          5125392,
          5144623,
          5340655,
          5550849,
          5677796,
          5825641,
          5882261,
          144379,
          324121,
          577173,
          742033,
          919199,
          1006259,
          1090156,
          1120849,
          68895,
          72978,
          69481,
          68346,
          68755,
          70007,
          71995,
          72737,
          4475871,
          5755800,
          7129004,
          8540791,
          9775755,
          10405832,
          10999664,
          11228821,
          6172215,
          8135845,
          10449837,
          12626507,
          14989585,
          16195902,
          17588595,
          18001000,
          34781986,
          43748556,
          57214630,
          71371371,
          87252413,
          97723799,
          107465134,
          110990103,
          3619090,
          4508992,
          5367179,
          5958482,
          6114034,
          6231066,
          6292731,
          6336392,
          316955,
          282509,
          465549,
          684977,
          1094524,
          1346973,
          1596049,
          1674908,
          1272748,
          1657982,
          2149960,
          2392880,
          3147727,
          3340006,
          3555868,
          3684032,
          1361999,
          1476983,
          1570674,
          1396877,
          1331535,
          1314657,
          1329444,
          1326062,
          442865,
          598564,
          854011,
          1030496,
          1099920,
          1133936,
          1180655,
          1201670,
          28308246,
          34945469,
          47878073,
          67031867,
          89237791,
          102471895,
          117190911,
          123379924,
          2274,
          2240,
          2332,
          3080,
          3187,
          3408,
          3747,
          3780,
          38416,
          43054,
          47479,
          45660,
          48410,
          48816,
          52415,
          53090,
          527634,
          644582,
          780430,
          832509,
          905169,
          917200,
          920422,
          929766,
          4606621,
          4779418,
          4986545,
          5176209,
          5363271,
          5479461,
          5529468,
          5540745,
          50523586,
          53713830,
          56412897,
          58665453,
          62444567,
          63809769,
          64480053,
          64626628,
          46484,
          66825,
          113931,
          164351,
          228453,
          257026,
          290969,
          304557,
          117891,
          163591,
          211089,
          250927,
          283788,
          291787,
          301920,
          306279,
          597192,
          749078,
          983028,
          1272935,
          1711105,
          2028517,
          2292573,
          2388992,
          528731,
          718586,
          1040616,
          1437539,
          1937275,
          2253133,
          2573995,
          2705992,
          4800426,
          5145843,
          5391636,
          4265172,
          3836831,
          3771132,
          3765912,
          3744385,
          78294583,
          77786703,
          79370196,
          81551677,
          81325090,
          82073226,
          83328988,
          83369843,
          8861895,
          11865246,
          15446982,
          19665502,
          25574719,
          28870939,
          32180401,
          33475870,
          26685,
          28734,
          27317,
          27741,
          31262,
          32520,
          32709,
          32649,
          8544873,
          9307148,
          10302255,
          11038109,
          11033783,
          10806641,
          10512232,
          10384971,
          45434,
          50106,
          55599,
          56184,
          56351,
          55895,
          56026,
          56466,
          98794,
          94838,
          99047,
          107432,
          114039,
          118980,
          123663,
          125438,
          318310,
          334234,
          391951,
          424067,
          403072,
          399089,
          395642,
          395752,
          88300,
          110286,
          138263,
          160188,
          164905,
          167978,
          169231,
          171774,
          5453208,
          6987767,
          9084780,
          11735894,
          14543121,
          16001107,
          17362718,
          17843908,
          52656,
          52860,
          57727,
          59114,
          60782,
          61629,
          62794,
          63301,
          4222374,
          4972609,
          6354145,
          8336967,
          10270728,
          11625998,
          13205153,
          13859341,
          591663,
          831462,
          973551,
          1230849,
          1567220,
          1788919,
          2015828,
          2105566,
          705261,
          778176,
          747116,
          759051,
          747932,
          755031,
          797202,
          808726,
          4680812,
          5646676,
          6925331,
          8360225,
          9842880,
          10563757,
          11306801,
          11584996,
          2782753,
          3777990,
          5053234,
          6656725,
          8450933,
          9294505,
          10121763,
          10432860,
          3955072,
          4978544,
          5838574,
          6731195,
          7132438,
          7399838,
          7500958,
          7488865,
          10315366,
          10698679,
          10375989,
          10202055,
          9986825,
          9844246,
          9750573,
          9967308,
          204468,
          228263,
          255019,
          281462,
          318333,
          331060,
          366669,
          372899,
          557501301,
          696828385,
          870452165,
          1059633675,
          1240613620,
          1322866505,
          1396387127,
          1417173173,
          115228394,
          148177096,
          182159874,
          214072421,
          244016173,
          259091970,
          271857970,
          275501339,
          28449705,
          38520664,
          55793629,
          65544383,
          75373855,
          81790841,
          87290193,
          88550570,
          9811347,
          13653369,
          17658381,
          24628858,
          31264875,
          37757813,
          42556984,
          44496122,
          2937637,
          3391387,
          3485374,
          3768950,
          4524585,
          4665760,
          4946119,
          5023109,
          55298,
          64022,
          68865,
          75562,
          83828,
          83593,
          84046,
          84519,
          2907307,
          3744608,
          4803254,
          6116958,
          7328445,
          8007778,
          8757489,
          9038309,
          53324036,
          56329482,
          56756561,
          56966397,
          59822450,
          60232906,
          59500579,
          59037474,
          5477086,
          8303809,
          11910540,
          16799670,
          21120042,
          23596741,
          26811790,
          28160542,
          1859091,
          2135546,
          2392030,
          2612205,
          2733896,
          2794445,
          2820436,
          2827377,
          105416839,
          117624196,
          123686321,
          126803861,
          128105431,
          127250933,
          125244761,
          123951692,
          68347,
          75124,
          82874,
          86192,
          96151,
          100561,
          108319,
          110778,
          1557374,
          2216903,
          3480587,
          5056174,
          6931258,
          9494246,
          10928721,
          11285869,
          12265305,
          14172710,
          16866563,
          15236253,
          16627837,
          17835909,
          18979243,
          19397998,
          11473087,
          16187124,
          23162269,
          30851606,
          41517895,
          46851488,
          51985780,
          54027487,
          57437,
          60813,
          75124,
          88826,
          107995,
          116707,
          126463,
          131232,
          802786,
          1493870,
          1674938,
          1934901,
          2943356,
          3908743,
          4360444,
          4268873,
          3016384,
          3691209,
          4394734,
          4935182,
          5483774,
          5914980,
          6424874,
          6630623,
          2675283,
          3297519,
          4314443,
          5430853,
          6323418,
          6787419,
          7319399,
          7529475,
          2397414,
          2572037,
          2689391,
          2392530,
          2101530,
          1991955,
          1897052,
          1850651,
          2381791,
          2963702,
          3593700,
          4320642,
          4995800,
          6398940,
          5662923,
          5489739,
          1023481,
          1407672,
          1798997,
          1998630,
          2022747,
          2118521,
          2254100,
          2305825,
          1463563,
          1932169,
          2209731,
          2895224,
          4019956,
          4612329,
          5087584,
          5302681,
          1909177,
          2962720,
          4236983,
          5154790,
          6491988,
          6192235,
          6653942,
          6812341,
          21089,
          25003,
          28765,
          33026,
          35926,
          37355,
          38756,
          39327,
          3210147,
          3521206,
          3785847,
          3599637,
          3139019,
          2963765,
          2820267,
          2750055,
          339342,
          363741,
          381267,
          435628,
          507070,
          569408,
          630399,
          647599,
          247284,
          245332,
          350227,
          431896,
          557297,
          615239,
          676283,
          695168,
          6639751,
          8948162,
          11882762,
          16216431,
          21731053,
          24850912,
          28225177,
          29611714,
          4625141,
          6267369,
          9539665,
          11229387,
          14718422,
          16938942,
          19377061,
          20405317,
          10306508,
          13215707,
          17517054,
          22945150,
          28717731,
          31068833,
          33199993,
          33938221,
          123243,
          164887,
          224957,
          282507,
          361575,
          435582,
          514438,
          523787,
          6153587,
          7372581,
          8945026,
          11239101,
          15529181,
          18112907,
          21224040,
          22593590,
          315414,
          333587,
          365392,
          399212,
          418755,
          456579,
          515357,
          533286,
          23969,
          31988,
          46047,
          54224,
          53416,
          49410,
          43413,
          41569,
          326428,
          333786,
          374271,
          432543,
          392181,
          383515,
          370391,
          367507,
          1122198,
          1506694,
          2006027,
          2695003,
          3419461,
          3946220,
          4498604,
          4736139,
          830115,
          954865,
          1090290,
          1215930,
          1283330,
          1293153,
          1297828,
          1299469,
          35383,
          52233,
          92659,
          159215,
          211786,
          249545,
          305587,
          326101,
          50289306,
          67705186,
          81720428,
          97873442,
          112532401,
          120149897,
          125998302,
          127504125,
          58989,
          76299,
          98603,
          111709,
          107588,
          109462,
          112106,
          114164,
          3711140,
          4103240,
          4480199,
          4251573,
          3678186,
          3277388,
          3084847,
          3272996,
          24270,
          27076,
          30329,
          32465,
          33178,
          36760,
          36922,
          36469,
          1293880,
          1697780,
          2161433,
          2450979,
          2702520,
          2964749,
          3294335,
          3398366,
          530268,
          589324,
          621442,
          633324,
          631044,
          633966,
          629048,
          627082,
          11402,
          11452,
          10805,
          5138,
          4938,
          5059,
          4500,
          4390,
          15274351,
          19678444,
          24570814,
          28554415,
          32464865,
          34680458,
          36688772,
          37457971,
          8411676,
          11413587,
          13303459,
          17768505,
          23073723,
          26843246,
          31178239,
          32969517,
          27284112,
          33465781,
          40099553,
          45538332,
          49390988,
          51483949,
          53423198,
          54179306,
          754467,
          975994,
          1369011,
          1819141,
          2099271,
          2282704,
          2489098,
          2567012,
          6663,
          7635,
          9598,
          10377,
          10241,
          11185,
          12315,
          12668,
          12501285,
          15600442,
          19616530,
          24559500,
          27161567,
          27610325,
          29348627,
          30547580,
          13037686,
          14130387,
          14944548,
          15899135,
          16617116,
          17041107,
          17434557,
          17564014,
          110982,
          148599,
          177264,
          221537,
          261426,
          283032,
          286403,
          289950,
          2824061,
          3147168,
          3397389,
          3855266,
          4346338,
          4590590,
          5061133,
          5185288,
          2444767,
          3303309,
          4227820,
          5123222,
          5855734,
          6298598,
          6755895,
          6948392,
          4669708,
          6173177,
          8370647,
          11622665,
          16647543,
          20128124,
          24333639,
          26207977,
          55569264,
          72951439,
          95214257,
          122851984,
          160952853,
          183995785,
          208327405,
          218541212,
          5185,
          3637,
          2533,
          2074,
          1812,
          1847,
          1942,
          1934,
          14996879,
          17973650,
          20799523,
          23367059,
          24686435,
          25258015,
          25867467,
          26069416,
          1656783,
          1907023,
          2044174,
          2037936,
          2093828,
          2107962,
          2111072,
          2093599,
          10143,
          17613,
          48002,
          80338,
          54087,
          51514,
          49587,
          49551,
          3875546,
          4085776,
          4241636,
          4491202,
          4889741,
          5190356,
          5379839,
          5434319,
          670693,
          1017462,
          1804524,
          2344253,
          2881914,
          4191776,
          4543399,
          4576298,
          59290872,
          80624057,
          115414069,
          154369924,
          194454498,
          210969298,
          227196741,
          235824862,
          11366,
          12252,
          15293,
          19726,
          18540,
          17794,
          17972,
          18055,
          1118241,
          1453620,
          2124609,
          3139954,
          3992278,
          4484614,
          5019401,
          5250072,
          1516188,
          1956987,
          2449968,
          3001731,
          3623617,
          3957099,
          4294396,
          4408581,
          2489059,
          3104788,
          3864972,
          5508297,
          7583269,
          8682174,
          9749640,
          10142619,
          2408787,
          3078912,
          4059195,
          5123819,
          5768613,
          6177950,
          6618695,
          6780744,
          13562371,
          17492406,
          22109099,
          26654439,
          29229572,
          30711863,
          33304756,
          34049588,
          37435586,
          48419546,
          61558898,
          77958223,
          94636700,
          103031365,
          112190977,
          115559009,
          32482943,
          35521429,
          38064255,
          38504431,
          38597353,
          38553146,
          38428366,
          39857145,
          8683631,
          9785252,
          10007346,
          10300626,
          10588401,
          10365435,
          10298192,
          10270865,
          2737619,
          3214568,
          3543776,
          3827108,
          3717922,
          3497335,
          3271564,
          3252407,
          118007,
          277450,
          441675,
          645937,
          1713504,
          2414573,
          2760385,
          2695122,
          1396989,
          1829256,
          2385435,
          3134030,
          4437884,
          5064386,
          5702174,
          5970424,
          473925,
          551674,
          658992,
          785424,
          890130,
          922495,
          957822,
          974052,
          19922618,
          22125224,
          22836234,
          21919876,
          20335211,
          19906079,
          19442038,
          19659267,
          130093010,
          138257420,
          148005704,
          146844839,
          143242599,
          144668389,
          145617329,
          144713314,
          3896367,
          5247532,
          7319962,
          8109989,
          10309031,
          11642959,
          13146362,
          13776698,
          2417,
          2983,
          5168,
          7082,
          8988,
          9643,
          10681,
          10967,
          44968,
          43097,
          40636,
          45461,
          47403,
          47790,
          47642,
          47657,
          103090,
          121633,
          142301,
          159500,
          170935,
          175623,
          179237,
          179857,
          5802,
          7776,
          28127,
          29610,
          36458,
          35020,
          32552,
          31791,
          5537,
          6106,
          6324,
          6274,
          6052,
          5978,
          5906,
          5862,
          98459,
          107480,
          112487,
          113813,
          109308,
          106482,
          104632,
          103948,
          142771,
          164905,
          168186,
          184008,
          194672,
          203571,
          214929,
          222382,
          18169,
          21346,
          23132,
          26823,
          31608,
          33570,
          34007,
          33660,
          77583,
          97210,
          120343,
          143714,
          182138,
          201124,
          218641,
          227380,
          6106191,
          10171710,
          16004763,
          21547390,
          29411929,
          32749848,
          35997107,
          36408820,
          4367744,
          5703869,
          7536001,
          9704287,
          12530121,
          14356181,
          16436119,
          17316449,
          7193533,
          7777010,
          7987529,
          7935022,
          7653748,
          7519496,
          7358005,
          7221365,
          54379,
          65290,
          71057,
          80060,
          92409,
          99240,
          105530,
          107118,
          2778557,
          3367477,
          4325388,
          4584067,
          6436698,
          7314773,
          8233969,
          8605718,
          2061831,
          2400729,
          3022209,
          4053602,
          5163590,
          5650018,
          5909869,
          5975689,
          6260,
          12243,
          27845,
          30489,
          33034,
          40205,
          43621,
          44175,
          4522867,
          4973883,
          5261305,
          5376690,
          5396424,
          5424444,
          5456681,
          5643453,
          1741286,
          1901570,
          1986024,
          1984339,
          2057286,
          2080862,
          2117641,
          2119844,
          172833,
          233668,
          324171,
          429978,
          540394,
          612660,
          691191,
          724273,
          3720977,
          5892224,
          6999096,
          8721465,
          12026649,
          13763906,
          16537016,
          17597511,
          22368306,
          29463549,
          39877570,
          46813266,
          51784921,
          55876504,
          58801927,
          59893885,
          32601143,
          38170501,
          44120039,
          46788591,
          48813042,
          50994401,
          51844690,
          51815810,
          3342410,
          4192011,
          4750817,
          6114440,
          9714419,
          11194299,
          10606227,
          10913164,
          33792617,
          37491666,
          38889889,
          40741651,
          46572772,
          46431342,
          47363807,
          47558630,
          12388769,
          14943645,
          17204094,
          18776371,
          20668557,
          21336697,
          21715079,
          21832143,
          11305206,
          16673586,
          21090886,
          26298773,
          33739933,
          38171178,
          44440486,
          46874204,
          379918,
          375112,
          412756,
          478998,
          546080,
          575475,
          607065,
          618040,
          8027702,
          8311763,
          8548406,
          8871043,
          9381729,
          9849349,
          10368969,
          10549347,
          6181227,
          6319113,
          6711693,
          7182059,
          7822435,
          8281732,
          8638613,
          8740472,
          6319199,
          8898954,
          12408996,
          16307654,
          22337563,
          19205178,
          20772595,
          22125249,
          14957870,
          18100281,
          20586174,
          22194731,
          23083083,
          23512136,
          23821464,
          23893394,
          2993019,
          4045965,
          5417860,
          6272998,
          7621779,
          8524063,
          9543207,
          9952787,
          13618192,
          19297659,
          26206012,
          34463704,
          45110527,
          52542823,
          61704518,
          65497748,
          35791728,
          45737753,
          55228410,
          63066603,
          68270489,
          70294397,
          71475664,
          71697030,
          554021,
          642224,
          758106,
          878360,
          1088486,
          1205813,
          1299995,
          1341296,
          2197383,
          2838110,
          3875947,
          5008035,
          6571855,
          7473229,
          8442580,
          8848699,
          1714,
          1647,
          1669,
          1666,
          1367,
          1454,
          1827,
          1871,
          86484,
          96708,
          98727,
          102603,
          107383,
          106122,
          105254,
          106858,
          988890,
          1127852,
          1266518,
          1332203,
          1410296,
          1460177,
          1518147,
          1531044,
          5047404,
          6578156,
          8440023,
          9893316,
          10895063,
          11557779,
          12161723,
          12356117,
          35540990,
          44089069,
          54324142,
          64113547,
          73195345,
          79646178,
          84135428,
          85341241,
          2201432,
          2862903,
          3720278,
          4569132,
          5267970,
          5766431,
          6250438,
          6430770,
          5665,
          7598,
          11709,
          18744,
          29726,
          36538,
          44276,
          45703,
          5814,
          7731,
          9182,
          9638,
          10550,
          10877,
          11069,
          11312,
          10317212,
          13284026,
          17586630,
          24020697,
          32341728,
          37477356,
          44404611,
          47249585,
          47279086,
          49973920,
          51589817,
          48879755,
          45683020,
          44982564,
          43909666,
          39701739,
          298084,
          1014048,
          1900151,
          3275333,
          8481771,
          8916899,
          9287289,
          9441129,
          55650166,
          56326328,
          57210442,
          58850043,
          62760039,
          65224364,
          67059474,
          67508936,
          200328340,
          223140018,
          248083732,
          282398554,
          311182845,
          324607776,
          335942003,
          338289857,
          63446,
          96640,
          100685,
          108185,
          106142,
          102803,
          100442,
          99465,
          2790265,
          2953750,
          3117012,
          3292224,
          3352651,
          3402818,
          3429086,
          3422794,
          12011361,
          15947129,
          20579100,
          24925554,
          28614227,
          30949417,
          33526656,
          34627652,
          87019,
          118156,
          150882,
          192074,
          245453,
          276438,
          311685,
          326740,
          752,
          733,
          700,
          651,
          596,
          564,
          520,
          510,
          11355475,
          15210443,
          19750579,
          24427729,
          28715022,
          30529716,
          28490453,
          28301696,
          41928849,
          52968270,
          66912613,
          79001142,
          87411012,
          92191398,
          96648685,
          98186856,
          9377,
          11315,
          13454,
          14723,
          13142,
          12182,
          11655,
          11572,
          76371,
          116775,
          178529,
          270375,
          413296,
          491824,
          556048,
          575986,
          6843607,
          9204938,
          13375121,
          18628700,
          24743946,
          28516545,
          32284046,
          33696614,
          4281671,
          5720438,
          7686401,
          9891136,
          13792086,
          16248230,
          18927715,
          20017675,
          5202918,
          7049926,
          10113893,
          11834676,
          12839771,
          14154937,
          15669666,
          16320537,
          365444348,
          481536377,
          638150629,
          818946032,
          1055228072,
          1201102442,
          1360671810,
          1426730932,
          2144906290,
          2635334228,
          3210563577,
          3735089604,
          4220041327,
          4458250182,
          4663086535,
          4721383274,
          655923991,
          692527159,
          720320797,
          726093423,
          735613934,
          741535608,
          745792196,
          743147538,
          315434606,
          368293361,
          421266425,
          486069584,
          542720651,
          570383850,
          594236593,
          600296136,
          19480270,
          22920240,
          26743822,
          31222778,
          37102764,
          40403283,
          43933426,
          45038554,
          192947156,
          241789006,
          297146415,
          349634282,
          393078250,
          413134396,
          431530043,
          436816608,
          3694136661,
          4442400371,
          5314191665,
          6147055703,
          6983784998,
          7424809761,
          7839250603,
          7973413042
         ]
        }
       ],
       "layout": {
        "coloraxis": {
         "colorbar": {
          "title": {
           "text": "Population"
          }
         },
         "colorscale": [
          [
           0,
           "#fde725"
          ],
          [
           0.1111111111111111,
           "#b5de2b"
          ],
          [
           0.2222222222222222,
           "#6ece58"
          ],
          [
           0.3333333333333333,
           "#35b779"
          ],
          [
           0.4444444444444444,
           "#1f9e89"
          ],
          [
           0.5555555555555556,
           "#26828e"
          ],
          [
           0.6666666666666666,
           "#31688e"
          ],
          [
           0.7777777777777778,
           "#3e4989"
          ],
          [
           0.8888888888888888,
           "#482878"
          ],
          [
           1,
           "#440154"
          ]
         ]
        },
        "legend": {
         "tracegroupgap": 0
        },
        "margin": {
         "t": 60
        },
        "template": {
         "data": {
          "bar": [
           {
            "error_x": {
             "color": "#2a3f5f"
            },
            "error_y": {
             "color": "#2a3f5f"
            },
            "marker": {
             "line": {
              "color": "#E5ECF6",
              "width": 0.5
             },
             "pattern": {
              "fillmode": "overlay",
              "size": 10,
              "solidity": 0.2
             }
            },
            "type": "bar"
           }
          ],
          "barpolar": [
           {
            "marker": {
             "line": {
              "color": "#E5ECF6",
              "width": 0.5
             },
             "pattern": {
              "fillmode": "overlay",
              "size": 10,
              "solidity": 0.2
             }
            },
            "type": "barpolar"
           }
          ],
          "carpet": [
           {
            "aaxis": {
             "endlinecolor": "#2a3f5f",
             "gridcolor": "white",
             "linecolor": "white",
             "minorgridcolor": "white",
             "startlinecolor": "#2a3f5f"
            },
            "baxis": {
             "endlinecolor": "#2a3f5f",
             "gridcolor": "white",
             "linecolor": "white",
             "minorgridcolor": "white",
             "startlinecolor": "#2a3f5f"
            },
            "type": "carpet"
           }
          ],
          "choropleth": [
           {
            "colorbar": {
             "outlinewidth": 0,
             "ticks": ""
            },
            "type": "choropleth"
           }
          ],
          "contour": [
           {
            "colorbar": {
             "outlinewidth": 0,
             "ticks": ""
            },
            "colorscale": [
             [
              0,
              "#0d0887"
             ],
             [
              0.1111111111111111,
              "#46039f"
             ],
             [
              0.2222222222222222,
              "#7201a8"
             ],
             [
              0.3333333333333333,
              "#9c179e"
             ],
             [
              0.4444444444444444,
              "#bd3786"
             ],
             [
              0.5555555555555556,
              "#d8576b"
             ],
             [
              0.6666666666666666,
              "#ed7953"
             ],
             [
              0.7777777777777778,
              "#fb9f3a"
             ],
             [
              0.8888888888888888,
              "#fdca26"
             ],
             [
              1,
              "#f0f921"
             ]
            ],
            "type": "contour"
           }
          ],
          "contourcarpet": [
           {
            "colorbar": {
             "outlinewidth": 0,
             "ticks": ""
            },
            "type": "contourcarpet"
           }
          ],
          "heatmap": [
           {
            "colorbar": {
             "outlinewidth": 0,
             "ticks": ""
            },
            "colorscale": [
             [
              0,
              "#0d0887"
             ],
             [
              0.1111111111111111,
              "#46039f"
             ],
             [
              0.2222222222222222,
              "#7201a8"
             ],
             [
              0.3333333333333333,
              "#9c179e"
             ],
             [
              0.4444444444444444,
              "#bd3786"
             ],
             [
              0.5555555555555556,
              "#d8576b"
             ],
             [
              0.6666666666666666,
              "#ed7953"
             ],
             [
              0.7777777777777778,
              "#fb9f3a"
             ],
             [
              0.8888888888888888,
              "#fdca26"
             ],
             [
              1,
              "#f0f921"
             ]
            ],
            "type": "heatmap"
           }
          ],
          "heatmapgl": [
           {
            "colorbar": {
             "outlinewidth": 0,
             "ticks": ""
            },
            "colorscale": [
             [
              0,
              "#0d0887"
             ],
             [
              0.1111111111111111,
              "#46039f"
             ],
             [
              0.2222222222222222,
              "#7201a8"
             ],
             [
              0.3333333333333333,
              "#9c179e"
             ],
             [
              0.4444444444444444,
              "#bd3786"
             ],
             [
              0.5555555555555556,
              "#d8576b"
             ],
             [
              0.6666666666666666,
              "#ed7953"
             ],
             [
              0.7777777777777778,
              "#fb9f3a"
             ],
             [
              0.8888888888888888,
              "#fdca26"
             ],
             [
              1,
              "#f0f921"
             ]
            ],
            "type": "heatmapgl"
           }
          ],
          "histogram": [
           {
            "marker": {
             "pattern": {
              "fillmode": "overlay",
              "size": 10,
              "solidity": 0.2
             }
            },
            "type": "histogram"
           }
          ],
          "histogram2d": [
           {
            "colorbar": {
             "outlinewidth": 0,
             "ticks": ""
            },
            "colorscale": [
             [
              0,
              "#0d0887"
             ],
             [
              0.1111111111111111,
              "#46039f"
             ],
             [
              0.2222222222222222,
              "#7201a8"
             ],
             [
              0.3333333333333333,
              "#9c179e"
             ],
             [
              0.4444444444444444,
              "#bd3786"
             ],
             [
              0.5555555555555556,
              "#d8576b"
             ],
             [
              0.6666666666666666,
              "#ed7953"
             ],
             [
              0.7777777777777778,
              "#fb9f3a"
             ],
             [
              0.8888888888888888,
              "#fdca26"
             ],
             [
              1,
              "#f0f921"
             ]
            ],
            "type": "histogram2d"
           }
          ],
          "histogram2dcontour": [
           {
            "colorbar": {
             "outlinewidth": 0,
             "ticks": ""
            },
            "colorscale": [
             [
              0,
              "#0d0887"
             ],
             [
              0.1111111111111111,
              "#46039f"
             ],
             [
              0.2222222222222222,
              "#7201a8"
             ],
             [
              0.3333333333333333,
              "#9c179e"
             ],
             [
              0.4444444444444444,
              "#bd3786"
             ],
             [
              0.5555555555555556,
              "#d8576b"
             ],
             [
              0.6666666666666666,
              "#ed7953"
             ],
             [
              0.7777777777777778,
              "#fb9f3a"
             ],
             [
              0.8888888888888888,
              "#fdca26"
             ],
             [
              1,
              "#f0f921"
             ]
            ],
            "type": "histogram2dcontour"
           }
          ],
          "mesh3d": [
           {
            "colorbar": {
             "outlinewidth": 0,
             "ticks": ""
            },
            "type": "mesh3d"
           }
          ],
          "parcoords": [
           {
            "line": {
             "colorbar": {
              "outlinewidth": 0,
              "ticks": ""
             }
            },
            "type": "parcoords"
           }
          ],
          "pie": [
           {
            "automargin": true,
            "type": "pie"
           }
          ],
          "scatter": [
           {
            "fillpattern": {
             "fillmode": "overlay",
             "size": 10,
             "solidity": 0.2
            },
            "type": "scatter"
           }
          ],
          "scatter3d": [
           {
            "line": {
             "colorbar": {
              "outlinewidth": 0,
              "ticks": ""
             }
            },
            "marker": {
             "colorbar": {
              "outlinewidth": 0,
              "ticks": ""
             }
            },
            "type": "scatter3d"
           }
          ],
          "scattercarpet": [
           {
            "marker": {
             "colorbar": {
              "outlinewidth": 0,
              "ticks": ""
             }
            },
            "type": "scattercarpet"
           }
          ],
          "scattergeo": [
           {
            "marker": {
             "colorbar": {
              "outlinewidth": 0,
              "ticks": ""
             }
            },
            "type": "scattergeo"
           }
          ],
          "scattergl": [
           {
            "marker": {
             "colorbar": {
              "outlinewidth": 0,
              "ticks": ""
             }
            },
            "type": "scattergl"
           }
          ],
          "scattermapbox": [
           {
            "marker": {
             "colorbar": {
              "outlinewidth": 0,
              "ticks": ""
             }
            },
            "type": "scattermapbox"
           }
          ],
          "scatterpolar": [
           {
            "marker": {
             "colorbar": {
              "outlinewidth": 0,
              "ticks": ""
             }
            },
            "type": "scatterpolar"
           }
          ],
          "scatterpolargl": [
           {
            "marker": {
             "colorbar": {
              "outlinewidth": 0,
              "ticks": ""
             }
            },
            "type": "scatterpolargl"
           }
          ],
          "scatterternary": [
           {
            "marker": {
             "colorbar": {
              "outlinewidth": 0,
              "ticks": ""
             }
            },
            "type": "scatterternary"
           }
          ],
          "surface": [
           {
            "colorbar": {
             "outlinewidth": 0,
             "ticks": ""
            },
            "colorscale": [
             [
              0,
              "#0d0887"
             ],
             [
              0.1111111111111111,
              "#46039f"
             ],
             [
              0.2222222222222222,
              "#7201a8"
             ],
             [
              0.3333333333333333,
              "#9c179e"
             ],
             [
              0.4444444444444444,
              "#bd3786"
             ],
             [
              0.5555555555555556,
              "#d8576b"
             ],
             [
              0.6666666666666666,
              "#ed7953"
             ],
             [
              0.7777777777777778,
              "#fb9f3a"
             ],
             [
              0.8888888888888888,
              "#fdca26"
             ],
             [
              1,
              "#f0f921"
             ]
            ],
            "type": "surface"
           }
          ],
          "table": [
           {
            "cells": {
             "fill": {
              "color": "#EBF0F8"
             },
             "line": {
              "color": "white"
             }
            },
            "header": {
             "fill": {
              "color": "#C8D4E3"
             },
             "line": {
              "color": "white"
             }
            },
            "type": "table"
           }
          ]
         },
         "layout": {
          "annotationdefaults": {
           "arrowcolor": "#2a3f5f",
           "arrowhead": 0,
           "arrowwidth": 1
          },
          "autotypenumbers": "strict",
          "coloraxis": {
           "colorbar": {
            "outlinewidth": 0,
            "ticks": ""
           }
          },
          "colorscale": {
           "diverging": [
            [
             0,
             "#8e0152"
            ],
            [
             0.1,
             "#c51b7d"
            ],
            [
             0.2,
             "#de77ae"
            ],
            [
             0.3,
             "#f1b6da"
            ],
            [
             0.4,
             "#fde0ef"
            ],
            [
             0.5,
             "#f7f7f7"
            ],
            [
             0.6,
             "#e6f5d0"
            ],
            [
             0.7,
             "#b8e186"
            ],
            [
             0.8,
             "#7fbc41"
            ],
            [
             0.9,
             "#4d9221"
            ],
            [
             1,
             "#276419"
            ]
           ],
           "sequential": [
            [
             0,
             "#0d0887"
            ],
            [
             0.1111111111111111,
             "#46039f"
            ],
            [
             0.2222222222222222,
             "#7201a8"
            ],
            [
             0.3333333333333333,
             "#9c179e"
            ],
            [
             0.4444444444444444,
             "#bd3786"
            ],
            [
             0.5555555555555556,
             "#d8576b"
            ],
            [
             0.6666666666666666,
             "#ed7953"
            ],
            [
             0.7777777777777778,
             "#fb9f3a"
            ],
            [
             0.8888888888888888,
             "#fdca26"
            ],
            [
             1,
             "#f0f921"
            ]
           ],
           "sequentialminus": [
            [
             0,
             "#0d0887"
            ],
            [
             0.1111111111111111,
             "#46039f"
            ],
            [
             0.2222222222222222,
             "#7201a8"
            ],
            [
             0.3333333333333333,
             "#9c179e"
            ],
            [
             0.4444444444444444,
             "#bd3786"
            ],
            [
             0.5555555555555556,
             "#d8576b"
            ],
            [
             0.6666666666666666,
             "#ed7953"
            ],
            [
             0.7777777777777778,
             "#fb9f3a"
            ],
            [
             0.8888888888888888,
             "#fdca26"
            ],
            [
             1,
             "#f0f921"
            ]
           ]
          },
          "colorway": [
           "#636efa",
           "#EF553B",
           "#00cc96",
           "#ab63fa",
           "#FFA15A",
           "#19d3f3",
           "#FF6692",
           "#B6E880",
           "#FF97FF",
           "#FECB52"
          ],
          "font": {
           "color": "#2a3f5f"
          },
          "geo": {
           "bgcolor": "white",
           "lakecolor": "white",
           "landcolor": "#E5ECF6",
           "showlakes": true,
           "showland": true,
           "subunitcolor": "white"
          },
          "hoverlabel": {
           "align": "left"
          },
          "hovermode": "closest",
          "mapbox": {
           "style": "light"
          },
          "paper_bgcolor": "white",
          "plot_bgcolor": "#E5ECF6",
          "polar": {
           "angularaxis": {
            "gridcolor": "white",
            "linecolor": "white",
            "ticks": ""
           },
           "bgcolor": "#E5ECF6",
           "radialaxis": {
            "gridcolor": "white",
            "linecolor": "white",
            "ticks": ""
           }
          },
          "scene": {
           "xaxis": {
            "backgroundcolor": "#E5ECF6",
            "gridcolor": "white",
            "gridwidth": 2,
            "linecolor": "white",
            "showbackground": true,
            "ticks": "",
            "zerolinecolor": "white"
           },
           "yaxis": {
            "backgroundcolor": "#E5ECF6",
            "gridcolor": "white",
            "gridwidth": 2,
            "linecolor": "white",
            "showbackground": true,
            "ticks": "",
            "zerolinecolor": "white"
           },
           "zaxis": {
            "backgroundcolor": "#E5ECF6",
            "gridcolor": "white",
            "gridwidth": 2,
            "linecolor": "white",
            "showbackground": true,
            "ticks": "",
            "zerolinecolor": "white"
           }
          },
          "shapedefaults": {
           "line": {
            "color": "#2a3f5f"
           }
          },
          "ternary": {
           "aaxis": {
            "gridcolor": "white",
            "linecolor": "white",
            "ticks": ""
           },
           "baxis": {
            "gridcolor": "white",
            "linecolor": "white",
            "ticks": ""
           },
           "bgcolor": "#E5ECF6",
           "caxis": {
            "gridcolor": "white",
            "linecolor": "white",
            "ticks": ""
           }
          },
          "title": {
           "x": 0.05
          },
          "xaxis": {
           "automargin": true,
           "gridcolor": "white",
           "linecolor": "white",
           "ticks": "",
           "title": {
            "standoff": 15
           },
           "zerolinecolor": "white",
           "zerolinewidth": 2
          },
          "yaxis": {
           "automargin": true,
           "gridcolor": "white",
           "linecolor": "white",
           "ticks": "",
           "title": {
            "standoff": 15
           },
           "zerolinecolor": "white",
           "zerolinewidth": 2
          }
         }
        }
       }
      }
     },
     "metadata": {},
     "output_type": "display_data"
    }
   ],
   "source": [
    "df22 = df[['Continent','Country/Territory','2022 Population']].copy()\n",
    "df22['Year'] = 2022\n",
    "df22['Population'] = df22['2022 Population']\n",
    "df22.drop('2022 Population', axis=1, inplace=True)\n",
    "df20 = df[['Continent','Country/Territory','2020 Population']].copy()\n",
    "df20['Year'] = 2020\n",
    "df20['Population'] = df20['2020 Population']\n",
    "df20.drop('2020 Population', axis=1, inplace=True)\n",
    "df15 = df[['Continent','Country/Territory','2015 Population']].copy()\n",
    "df15['Year'] = 2015\n",
    "df15['Population'] = df15['2015 Population']\n",
    "df15.drop('2015 Population', axis=1, inplace=True)\n",
    "df10 = df[['Continent','Country/Territory','2010 Population']].copy()\n",
    "df10['Year'] = 2010\n",
    "df10['Population'] = df10['2010 Population']\n",
    "df10.drop('2010 Population', axis=1, inplace=True)\n",
    "df00 = df[['Continent','Country/Territory','2000 Population']].copy()\n",
    "df00['Year'] = 2000\n",
    "df00['Population'] = df00['2000 Population']\n",
    "df00.drop('2000 Population', axis=1, inplace=True)\n",
    "df90 = df[['Continent','Country/Territory','1990 Population']].copy()\n",
    "df90['Year'] = 1990\n",
    "df90['Population'] = df90['1990 Population']\n",
    "df90.drop('1990 Population', axis=1, inplace=True)\n",
    "df80 = df[['Continent','Country/Territory','1980 Population']].copy()\n",
    "df80['Year'] = 1980\n",
    "df80['Population'] = df80['1980 Population']\n",
    "df80.drop('1980 Population', axis=1, inplace=True)\n",
    "df70 = df[['Continent','Country/Territory','1970 Population']].copy()\n",
    "df70['Year'] = 1970\n",
    "df70['Population'] = df70['1970 Population']\n",
    "df70.drop('1970 Population', axis=1, inplace=True)\n",
    "\n",
    "dfx = pd.concat([df22, df20, df15, df10, df00, df90, df80, df70])\n",
    "\n",
    "dfpop = dfx.groupby(['Year','Continent','Country/Territory']).sum(numeric_only=True)['Population']\n",
    "dfpop = dfpop.reset_index()\n",
    "fig = px.treemap(dfpop, path=['Year','Continent','Country/Territory'], values='Population', color = 'Population', color_continuous_scale='Viridis_r')\n",
    "fig.show()\n",
    "fig.write_html(\"worlp_population.html\")"
   ]
  },
  {
   "cell_type": "markdown",
   "metadata": {},
   "source": [
    "EVOLUCION DE LA POBLACION"
   ]
  },
  {
   "cell_type": "code",
   "execution_count": 11,
   "metadata": {},
   "outputs": [
    {
     "data": {
      "image/png": "[encoded data removed]",
      "text/plain": [
       "<Figure size 1500x800 with 1 Axes>"
      ]
     },
     "metadata": {},
     "output_type": "display_data"
    }
   ],
   "source": [
    "dfx = pd.concat([df22, df20, df15, df10, df00, df90, df80, df70])\n",
    "dfx.drop('Continent',axis=1,inplace=True)\n",
    "dfy = df[['Country/Territory', '1970 Population', '1980 Population', '1990 Population', '2000 Population', '2010 Population', '2015 Population', '2020 Population', '2022 Population']]\n",
    "dfy = dfy.transpose()\n",
    "cols = dfy.iloc[0].to_list()\n",
    "dfy.columns = cols\n",
    "dfy = dfy.iloc[1:, :]\n",
    "for i in dfy.columns:\n",
    "    dfy[i] = dfy[i].astype(int)\n",
    "dfy = dfy.iloc[:,:10]\n",
    "dfy.plot(figsize=(15, 8));"
   ]
  },
  {
   "cell_type": "code",
   "execution_count": 12,
   "metadata": {},
   "outputs": [],
   "source": [
    "cols = ['2022 Population','2020 Population', '2015 Population', '2010 Population','2000 Population', '1990 Population', '1980 Population',\n",
    "'1970 Population', 'Area (km²)', 'Density (per km²)', 'Growth Rate','World Population Percentage']\n",
    "xols = ['2022 Population','Area (km²)', 'Density (per km²)']"
   ]
  },
  {
   "cell_type": "code",
   "execution_count": 13,
   "metadata": {},
   "outputs": [
    {
     "data": {
      "application/vnd.plotly.v1+json": {
       "config": {
        "plotlyServerURL": "https://plot.ly"
       },
       "data": [
        {
         "branchvalues": "total",
         "customdata": [
          [
           41128771
          ],
          [
           2842321
          ],
          [
           44903225
          ],
          [
           44273
          ],
          [
           79824
          ],
          [
           35588987
          ],
          [
           15857
          ],
          [
           93763
          ],
          [
           45510318
          ],
          [
           2780469
          ],
          [
           106445
          ],
          [
           26177413
          ],
          [
           8939617
          ],
          [
           10358074
          ],
          [
           409984
          ],
          [
           1472233
          ],
          [
           171186372
          ],
          [
           281635
          ],
          [
           9534954
          ],
          [
           11655930
          ],
          [
           405272
          ],
          [
           13352864
          ],
          [
           64184
          ],
          [
           782455
          ],
          [
           12224110
          ],
          [
           3233526
          ],
          [
           2630296
          ],
          [
           215313497.99999997
          ],
          [
           31305
          ],
          [
           449002
          ],
          [
           6781953
          ],
          [
           22673762
          ],
          [
           12889576
          ],
          [
           16767842
          ],
          [
           27914536
          ],
          [
           38454327
          ],
          [
           593149
          ],
          [
           68706
          ],
          [
           5579144
          ],
          [
           17723315
          ],
          [
           19603733
          ],
          [
           1425887337
          ],
          [
           51874024
          ],
          [
           836774
          ],
          [
           17011
          ],
          [
           5180829
          ],
          [
           4030358
          ],
          [
           11212191
          ],
          [
           191163
          ],
          [
           1251488
          ],
          [
           10493986
          ],
          [
           99010212
          ],
          [
           5882261
          ],
          [
           1120849
          ],
          [
           72737
          ],
          [
           11228821
          ],
          [
           18001000
          ],
          [
           110990102.99999999
          ],
          [
           6336392
          ],
          [
           1674908
          ],
          [
           3684032
          ],
          [
           1326062
          ],
          [
           1201670
          ],
          [
           123379924
          ],
          [
           3780
          ],
          [
           53090
          ],
          [
           929766
          ],
          [
           5540745
          ],
          [
           64626628
          ],
          [
           304557
          ],
          [
           306279
          ],
          [
           2388992
          ],
          [
           2705992
          ],
          [
           3744385
          ],
          [
           83369843
          ],
          [
           33475870
          ],
          [
           32649
          ],
          [
           10384971
          ],
          [
           56466
          ],
          [
           125438
          ],
          [
           395752
          ],
          [
           171774
          ],
          [
           17843908
          ],
          [
           63301
          ],
          [
           13859341
          ],
          [
           2105566
          ],
          [
           808726
          ],
          [
           11584996
          ],
          [
           10432860
          ],
          [
           7488865
          ],
          [
           9967308
          ],
          [
           372899
          ],
          [
           1417173173
          ],
          [
           275501339
          ],
          [
           88550570
          ],
          [
           44496122
          ],
          [
           5023109
          ],
          [
           84519
          ],
          [
           9038309
          ],
          [
           59037474
          ],
          [
           28160542
          ],
          [
           2827377
          ],
          [
           123951692
          ],
          [
           110778
          ],
          [
           11285869
          ],
          [
           19397998
          ],
          [
           54027487
          ],
          [
           131232
          ],
          [
           4268873
          ],
          [
           6630623
          ],
          [
           7529475
          ],
          [
           1850651
          ],
          [
           5489739
          ],
          [
           2305825
          ],
          [
           5302681
          ],
          [
           6812341
          ],
          [
           39327
          ],
          [
           2750055
          ],
          [
           647599
          ],
          [
           695168
          ],
          [
           29611714
          ],
          [
           20405317
          ],
          [
           33938221
          ],
          [
           523787
          ],
          [
           22593590
          ],
          [
           533286
          ],
          [
           41569
          ],
          [
           367507
          ],
          [
           4736139
          ],
          [
           1299469
          ],
          [
           326101
          ],
          [
           127504124.99999999
          ],
          [
           114164
          ],
          [
           3272996
          ],
          [
           36469
          ],
          [
           3398366
          ],
          [
           627082
          ],
          [
           4390
          ],
          [
           37457971
          ],
          [
           32969517
          ],
          [
           54179306
          ],
          [
           2567012
          ],
          [
           12668
          ],
          [
           30547580
          ],
          [
           17564014
          ],
          [
           289950
          ],
          [
           5185288
          ],
          [
           6948392
          ],
          [
           26207977
          ],
          [
           218541212
          ],
          [
           1934
          ],
          [
           26069416
          ],
          [
           2093599
          ],
          [
           49551
          ],
          [
           5434319
          ],
          [
           4576298
          ],
          [
           235824861.99999997
          ],
          [
           18055
          ],
          [
           5250072
          ],
          [
           4408581
          ],
          [
           10142619
          ],
          [
           6780744
          ],
          [
           34049588
          ],
          [
           115559008.99999999
          ],
          [
           39857145
          ],
          [
           10270865
          ],
          [
           3252407
          ],
          [
           2695122
          ],
          [
           5970424
          ],
          [
           974052
          ],
          [
           19659267
          ],
          [
           144713314
          ],
          [
           13776698
          ],
          [
           10967
          ],
          [
           47657
          ],
          [
           179857
          ],
          [
           31791
          ],
          [
           5862
          ],
          [
           103948
          ],
          [
           222382
          ],
          [
           33660
          ],
          [
           227380
          ],
          [
           36408820
          ],
          [
           17316449
          ],
          [
           7221365
          ],
          [
           107118
          ],
          [
           8605718
          ],
          [
           5975689
          ],
          [
           44175
          ],
          [
           5643453
          ],
          [
           2119844
          ],
          [
           724273
          ],
          [
           17597511
          ],
          [
           59893885
          ],
          [
           51815810
          ],
          [
           10913164
          ],
          [
           47558630
          ],
          [
           21832143
          ],
          [
           46874204
          ],
          [
           618040
          ],
          [
           10549347
          ],
          [
           8740472
          ],
          [
           22125249
          ],
          [
           23893394
          ],
          [
           9952787
          ],
          [
           65497748
          ],
          [
           71697030
          ],
          [
           1341296
          ],
          [
           8848699
          ],
          [
           1871
          ],
          [
           106858
          ],
          [
           1531044
          ],
          [
           12356117
          ],
          [
           85341241
          ],
          [
           6430770
          ],
          [
           45703
          ],
          [
           11312
          ],
          [
           47249585
          ],
          [
           39701739
          ],
          [
           9441129
          ],
          [
           67508936
          ],
          [
           338289857
          ],
          [
           99465
          ],
          [
           3422794
          ],
          [
           34627652
          ],
          [
           326740
          ],
          [
           510
          ],
          [
           28301696
          ],
          [
           98186856
          ],
          [
           11572
          ],
          [
           575986
          ],
          [
           33696614
          ],
          [
           20017675
          ],
          [
           16320537
          ],
          [
           80439519.85849525
          ],
          [
           906465124.5799546
          ],
          [
           63877996.48503158
          ],
          [
           221800201.0102293
          ],
          [
           18135981.419931244
          ],
          [
           123619293.04913825
          ]
         ],
         "domain": {
          "x": [
           0,
           1
          ],
          "y": [
           0,
           1
          ]
         },
         "hovertemplate": "labels=%{label}<br>2022 Population_sum=%{value}<br>parent=%{parent}<br>id=%{id}<br>2022 Population=%{color}<extra></extra>",
         "ids": [
          "Asia/Afghanistan",
          "Europe/Albania",
          "Africa/Algeria",
          "Oceania/American Samoa",
          "Europe/Andorra",
          "Africa/Angola",
          "North America/Anguilla",
          "North America/Antigua and Barbuda",
          "South America/Argentina",
          "Asia/Armenia",
          "North America/Aruba",
          "Oceania/Australia",
          "Europe/Austria",
          "Asia/Azerbaijan",
          "North America/Bahamas",
          "Asia/Bahrain",
          "Asia/Bangladesh",
          "North America/Barbados",
          "Europe/Belarus",
          "Europe/Belgium",
          "North America/Belize",
          "Africa/Benin",
          "North America/Bermuda",
          "Asia/Bhutan",
          "South America/Bolivia",
          "Europe/Bosnia and Herzegovina",
          "Africa/Botswana",
          "South America/Brazil",
          "North America/British Virgin Islands",
          "Asia/Brunei",
          "Europe/Bulgaria",
          "Africa/Burkina Faso",
          "Africa/Burundi",
          "Asia/Cambodia",
          "Africa/Cameroon",
          "North America/Canada",
          "Africa/Cape Verde",
          "North America/Cayman Islands",
          "Africa/Central African Republic",
          "Africa/Chad",
          "South America/Chile",
          "Asia/China",
          "South America/Colombia",
          "Africa/Comoros",
          "Oceania/Cook Islands",
          "North America/Costa Rica",
          "Europe/Croatia",
          "North America/Cuba",
          "North America/Curacao",
          "Europe/Cyprus",
          "Europe/Czech Republic",
          "Africa/DR Congo",
          "Europe/Denmark",
          "Africa/Djibouti",
          "North America/Dominica",
          "North America/Dominican Republic",
          "South America/Ecuador",
          "Africa/Egypt",
          "North America/El Salvador",
          "Africa/Equatorial Guinea",
          "Africa/Eritrea",
          "Europe/Estonia",
          "Africa/Eswatini",
          "Africa/Ethiopia",
          "South America/Falkland Islands",
          "Europe/Faroe Islands",
          "Oceania/Fiji",
          "Europe/Finland",
          "Europe/France",
          "South America/French Guiana",
          "Oceania/French Polynesia",
          "Africa/Gabon",
          "Africa/Gambia",
          "Asia/Georgia",
          "Europe/Germany",
          "Africa/Ghana",
          "Europe/Gibraltar",
          "Europe/Greece",
          "North America/Greenland",
          "North America/Grenada",
          "North America/Guadeloupe",
          "Oceania/Guam",
          "North America/Guatemala",
          "Europe/Guernsey",
          "Africa/Guinea",
          "Africa/Guinea-Bissau",
          "South America/Guyana",
          "North America/Haiti",
          "North America/Honduras",
          "Asia/Hong Kong",
          "Europe/Hungary",
          "Europe/Iceland",
          "Asia/India",
          "Asia/Indonesia",
          "Asia/Iran",
          "Asia/Iraq",
          "Europe/Ireland",
          "Europe/Isle of Man",
          "Asia/Israel",
          "Europe/Italy",
          "Africa/Ivory Coast",
          "North America/Jamaica",
          "Asia/Japan",
          "Europe/Jersey",
          "Asia/Jordan",
          "Asia/Kazakhstan",
          "Africa/Kenya",
          "Oceania/Kiribati",
          "Asia/Kuwait",
          "Asia/Kyrgyzstan",
          "Asia/Laos",
          "Europe/Latvia",
          "Asia/Lebanon",
          "Africa/Lesotho",
          "Africa/Liberia",
          "Africa/Libya",
          "Europe/Liechtenstein",
          "Europe/Lithuania",
          "Europe/Luxembourg",
          "Asia/Macau",
          "Africa/Madagascar",
          "Africa/Malawi",
          "Asia/Malaysia",
          "Asia/Maldives",
          "Africa/Mali",
          "Europe/Malta",
          "Oceania/Marshall Islands",
          "North America/Martinique",
          "Africa/Mauritania",
          "Africa/Mauritius",
          "Africa/Mayotte",
          "North America/Mexico",
          "Oceania/Micronesia",
          "Europe/Moldova",
          "Europe/Monaco",
          "Asia/Mongolia",
          "Europe/Montenegro",
          "North America/Montserrat",
          "Africa/Morocco",
          "Africa/Mozambique",
          "Asia/Myanmar",
          "Africa/Namibia",
          "Oceania/Nauru",
          "Asia/Nepal",
          "Europe/Netherlands",
          "Oceania/New Caledonia",
          "Oceania/New Zealand",
          "North America/Nicaragua",
          "Africa/Niger",
          "Africa/Nigeria",
          "Oceania/Niue",
          "Asia/North Korea",
          "Europe/North Macedonia",
          "Oceania/Northern Mariana Islands",
          "Europe/Norway",
          "Asia/Oman",
          "Asia/Pakistan",
          "Oceania/Palau",
          "Asia/Palestine",
          "North America/Panama",
          "Oceania/Papua New Guinea",
          "South America/Paraguay",
          "South America/Peru",
          "Asia/Philippines",
          "Europe/Poland",
          "Europe/Portugal",
          "North America/Puerto Rico",
          "Asia/Qatar",
          "Africa/Republic of the Congo",
          "Africa/Reunion",
          "Europe/Romania",
          "Europe/Russia",
          "Africa/Rwanda",
          "North America/Saint Barthelemy",
          "North America/Saint Kitts and Nevis",
          "North America/Saint Lucia",
          "North America/Saint Martin",
          "North America/Saint Pierre and Miquelon",
          "North America/Saint Vincent and the Grenadines",
          "Oceania/Samoa",
          "Europe/San Marino",
          "Africa/Sao Tome and Principe",
          "Asia/Saudi Arabia",
          "Africa/Senegal",
          "Europe/Serbia",
          "Africa/Seychelles",
          "Africa/Sierra Leone",
          "Asia/Singapore",
          "North America/Sint Maarten",
          "Europe/Slovakia",
          "Europe/Slovenia",
          "Oceania/Solomon Islands",
          "Africa/Somalia",
          "Africa/South Africa",
          "Asia/South Korea",
          "Africa/South Sudan",
          "Europe/Spain",
          "Asia/Sri Lanka",
          "Africa/Sudan",
          "South America/Suriname",
          "Europe/Sweden",
          "Europe/Switzerland",
          "Asia/Syria",
          "Asia/Taiwan",
          "Asia/Tajikistan",
          "Africa/Tanzania",
          "Asia/Thailand",
          "Asia/Timor-Leste",
          "Africa/Togo",
          "Oceania/Tokelau",
          "Oceania/Tonga",
          "North America/Trinidad and Tobago",
          "Africa/Tunisia",
          "Asia/Turkey",
          "Asia/Turkmenistan",
          "North America/Turks and Caicos Islands",
          "Oceania/Tuvalu",
          "Africa/Uganda",
          "Europe/Ukraine",
          "Asia/United Arab Emirates",
          "Europe/United Kingdom",
          "North America/United States",
          "North America/United States Virgin Islands",
          "South America/Uruguay",
          "Asia/Uzbekistan",
          "Oceania/Vanuatu",
          "Europe/Vatican City",
          "South America/Venezuela",
          "Asia/Vietnam",
          "Oceania/Wallis and Futuna",
          "Africa/Western Sahara",
          "Asia/Yemen",
          "Africa/Zambia",
          "Africa/Zimbabwe",
          "Africa",
          "Asia",
          "Europe",
          "North America",
          "Oceania",
          "South America"
         ],
         "labels": [
          "Afghanistan",
          "Albania",
          "Algeria",
          "American Samoa",
          "Andorra",
          "Angola",
          "Anguilla",
          "Antigua and Barbuda",
          "Argentina",
          "Armenia",
          "Aruba",
          "Australia",
          "Austria",
          "Azerbaijan",
          "Bahamas",
          "Bahrain",
          "Bangladesh",
          "Barbados",
          "Belarus",
          "Belgium",
          "Belize",
          "Benin",
          "Bermuda",
          "Bhutan",
          "Bolivia",
          "Bosnia and Herzegovina",
          "Botswana",
          "Brazil",
          "British Virgin Islands",
          "Brunei",
          "Bulgaria",
          "Burkina Faso",
          "Burundi",
          "Cambodia",
          "Cameroon",
          "Canada",
          "Cape Verde",
          "Cayman Islands",
          "Central African Republic",
          "Chad",
          "Chile",
          "China",
          "Colombia",
          "Comoros",
          "Cook Islands",
          "Costa Rica",
          "Croatia",
          "Cuba",
          "Curacao",
          "Cyprus",
          "Czech Republic",
          "DR Congo",
          "Denmark",
          "Djibouti",
          "Dominica",
          "Dominican Republic",
          "Ecuador",
          "Egypt",
          "El Salvador",
          "Equatorial Guinea",
          "Eritrea",
          "Estonia",
          "Eswatini",
          "Ethiopia",
          "Falkland Islands",
          "Faroe Islands",
          "Fiji",
          "Finland",
          "France",
          "French Guiana",
          "French Polynesia",
          "Gabon",
          "Gambia",
          "Georgia",
          "Germany",
          "Ghana",
          "Gibraltar",
          "Greece",
          "Greenland",
          "Grenada",
          "Guadeloupe",
          "Guam",
          "Guatemala",
          "Guernsey",
          "Guinea",
          "Guinea-Bissau",
          "Guyana",
          "Haiti",
          "Honduras",
          "Hong Kong",
          "Hungary",
          "Iceland",
          "India",
          "Indonesia",
          "Iran",
          "Iraq",
          "Ireland",
          "Isle of Man",
          "Israel",
          "Italy",
          "Ivory Coast",
          "Jamaica",
          "Japan",
          "Jersey",
          "Jordan",
          "Kazakhstan",
          "Kenya",
          "Kiribati",
          "Kuwait",
          "Kyrgyzstan",
          "Laos",
          "Latvia",
          "Lebanon",
          "Lesotho",
          "Liberia",
          "Libya",
          "Liechtenstein",
          "Lithuania",
          "Luxembourg",
          "Macau",
          "Madagascar",
          "Malawi",
          "Malaysia",
          "Maldives",
          "Mali",
          "Malta",
          "Marshall Islands",
          "Martinique",
          "Mauritania",
          "Mauritius",
          "Mayotte",
          "Mexico",
          "Micronesia",
          "Moldova",
          "Monaco",
          "Mongolia",
          "Montenegro",
          "Montserrat",
          "Morocco",
          "Mozambique",
          "Myanmar",
          "Namibia",
          "Nauru",
          "Nepal",
          "Netherlands",
          "New Caledonia",
          "New Zealand",
          "Nicaragua",
          "Niger",
          "Nigeria",
          "Niue",
          "North Korea",
          "North Macedonia",
          "Northern Mariana Islands",
          "Norway",
          "Oman",
          "Pakistan",
          "Palau",
          "Palestine",
          "Panama",
          "Papua New Guinea",
          "Paraguay",
          "Peru",
          "Philippines",
          "Poland",
          "Portugal",
          "Puerto Rico",
          "Qatar",
          "Republic of the Congo",
          "Reunion",
          "Romania",
          "Russia",
          "Rwanda",
          "Saint Barthelemy",
          "Saint Kitts and Nevis",
          "Saint Lucia",
          "Saint Martin",
          "Saint Pierre and Miquelon",
          "Saint Vincent and the Grenadines",
          "Samoa",
          "San Marino",
          "Sao Tome and Principe",
          "Saudi Arabia",
          "Senegal",
          "Serbia",
          "Seychelles",
          "Sierra Leone",
          "Singapore",
          "Sint Maarten",
          "Slovakia",
          "Slovenia",
          "Solomon Islands",
          "Somalia",
          "South Africa",
          "South Korea",
          "South Sudan",
          "Spain",
          "Sri Lanka",
          "Sudan",
          "Suriname",
          "Sweden",
          "Switzerland",
          "Syria",
          "Taiwan",
          "Tajikistan",
          "Tanzania",
          "Thailand",
          "Timor-Leste",
          "Togo",
          "Tokelau",
          "Tonga",
          "Trinidad and Tobago",
          "Tunisia",
          "Turkey",
          "Turkmenistan",
          "Turks and Caicos Islands",
          "Tuvalu",
          "Uganda",
          "Ukraine",
          "United Arab Emirates",
          "United Kingdom",
          "United States",
          "United States Virgin Islands",
          "Uruguay",
          "Uzbekistan",
          "Vanuatu",
          "Vatican City",
          "Venezuela",
          "Vietnam",
          "Wallis and Futuna",
          "Western Sahara",
          "Yemen",
          "Zambia",
          "Zimbabwe",
          "Africa",
          "Asia",
          "Europe",
          "North America",
          "Oceania",
          "South America"
         ],
         "marker": {
          "coloraxis": "coloraxis",
          "colors": [
           41128771,
           2842321,
           44903225,
           44273,
           79824,
           35588987,
           15857,
           93763,
           45510318,
           2780469,
           106445,
           26177413,
           8939617,
           10358074,
           409984,
           1472233,
           171186372,
           281635,
           9534954,
           11655930,
           405272,
           13352864,
           64184,
           782455,
           12224110,
           3233526,
           2630296,
           215313497.99999997,
           31305,
           449002,
           6781953,
           22673762,
           12889576,
           16767842,
           27914536,
           38454327,
           593149,
           68706,
           5579144,
           17723315,
           19603733,
           1425887337,
           51874024,
           836774,
           17011,
           5180829,
           4030358,
           11212191,
           191163,
           1251488,
           10493986,
           99010212,
           5882261,
           1120849,
           72737,
           11228821,
           18001000,
           110990102.99999999,
           6336392,
           1674908,
           3684032,
           1326062,
           1201670,
           123379924,
           3780,
           53090,
           929766,
           5540745,
           64626628,
           304557,
           306279,
           2388992,
           2705992,
           3744385,
           83369843,
           33475870,
           32649,
           10384971,
           56466,
           125438,
           395752,
           171774,
           17843908,
           63301,
           13859341,
           2105566,
           808726,
           11584996,
           10432860,
           7488865,
           9967308,
           372899,
           1417173173,
           275501339,
           88550570,
           44496122,
           5023109,
           84519,
           9038309,
           59037474,
           28160542,
           2827377,
           123951692,
           110778,
           11285869,
           19397998,
           54027487,
           131232,
           4268873,
           6630623,
           7529475,
           1850651,
           5489739,
           2305825,
           5302681,
           6812341,
           39327,
           2750055,
           647599,
           695168,
           29611714,
           20405317,
           33938221,
           523787,
           22593590,
           533286,
           41569,
           367507,
           4736139,
           1299469,
           326101,
           127504124.99999999,
           114164,
           3272996,
           36469,
           3398366,
           627082,
           4390,
           37457971,
           32969517,
           54179306,
           2567012,
           12668,
           30547580,
           17564014,
           289950,
           5185288,
           6948392,
           26207977,
           218541212,
           1934,
           26069416,
           2093599,
           49551,
           5434319,
           4576298,
           235824861.99999997,
           18055,
           5250072,
           4408581,
           10142619,
           6780744,
           34049588,
           115559008.99999999,
           39857145,
           10270865,
           3252407,
           2695122,
           5970424,
           974052,
           19659267,
           144713314,
           13776698,
           10967,
           47657,
           179857,
           31791,
           5862,
           103948,
           222382,
           33660,
           227380,
           36408820,
           17316449,
           7221365,
           107118,
           8605718,
           5975689,
           44175,
           5643453,
           2119844,
           724273,
           17597511,
           59893885,
           51815810,
           10913164,
           47558630,
           21832143,
           46874204,
           618040,
           10549347,
           8740472,
           22125249,
           23893394,
           9952787,
           65497748,
           71697030,
           1341296,
           8848699,
           1871,
           106858,
           1531044,
           12356117,
           85341241,
           6430770,
           45703,
           11312,
           47249585,
           39701739,
           9441129,
           67508936,
           338289857,
           99465,
           3422794,
           34627652,
           326740,
           510,
           28301696,
           98186856,
           11572,
           575986,
           33696614,
           20017675,
           16320537,
           80439519.85849525,
           906465124.5799546,
           63877996.48503158,
           221800201.0102293,
           18135981.419931244,
           123619293.04913825
          ]
         },
         "name": "",
         "parents": [
          "Asia",
          "Europe",
          "Africa",
          "Oceania",
          "Europe",
          "Africa",
          "North America",
          "North America",
          "South America",
          "Asia",
          "North America",
          "Oceania",
          "Europe",
          "Asia",
          "North America",
          "Asia",
          "Asia",
          "North America",
          "Europe",
          "Europe",
          "North America",
          "Africa",
          "North America",
          "Asia",
          "South America",
          "Europe",
          "Africa",
          "South America",
          "North America",
          "Asia",
          "Europe",
          "Africa",
          "Africa",
          "Asia",
          "Africa",
          "North America",
          "Africa",
          "North America",
          "Africa",
          "Africa",
          "South America",
          "Asia",
          "South America",
          "Africa",
          "Oceania",
          "North America",
          "Europe",
          "North America",
          "North America",
          "Europe",
          "Europe",
          "Africa",
          "Europe",
          "Africa",
          "North America",
          "North America",
          "South America",
          "Africa",
          "North America",
          "Africa",
          "Africa",
          "Europe",
          "Africa",
          "Africa",
          "South America",
          "Europe",
          "Oceania",
          "Europe",
          "Europe",
          "South America",
          "Oceania",
          "Africa",
          "Africa",
          "Asia",
          "Europe",
          "Africa",
          "Europe",
          "Europe",
          "North America",
          "North America",
          "North America",
          "Oceania",
          "North America",
          "Europe",
          "Africa",
          "Africa",
          "South America",
          "North America",
          "North America",
          "Asia",
          "Europe",
          "Europe",
          "Asia",
          "Asia",
          "Asia",
          "Asia",
          "Europe",
          "Europe",
          "Asia",
          "Europe",
          "Africa",
          "North America",
          "Asia",
          "Europe",
          "Asia",
          "Asia",
          "Africa",
          "Oceania",
          "Asia",
          "Asia",
          "Asia",
          "Europe",
          "Asia",
          "Africa",
          "Africa",
          "Africa",
          "Europe",
          "Europe",
          "Europe",
          "Asia",
          "Africa",
          "Africa",
          "Asia",
          "Asia",
          "Africa",
          "Europe",
          "Oceania",
          "North America",
          "Africa",
          "Africa",
          "Africa",
          "North America",
          "Oceania",
          "Europe",
          "Europe",
          "Asia",
          "Europe",
          "North America",
          "Africa",
          "Africa",
          "Asia",
          "Africa",
          "Oceania",
          "Asia",
          "Europe",
          "Oceania",
          "Oceania",
          "North America",
          "Africa",
          "Africa",
          "Oceania",
          "Asia",
          "Europe",
          "Oceania",
          "Europe",
          "Asia",
          "Asia",
          "Oceania",
          "Asia",
          "North America",
          "Oceania",
          "South America",
          "South America",
          "Asia",
          "Europe",
          "Europe",
          "North America",
          "Asia",
          "Africa",
          "Africa",
          "Europe",
          "Europe",
          "Africa",
          "North America",
          "North America",
          "North America",
          "North America",
          "North America",
          "North America",
          "Oceania",
          "Europe",
          "Africa",
          "Asia",
          "Africa",
          "Europe",
          "Africa",
          "Africa",
          "Asia",
          "North America",
          "Europe",
          "Europe",
          "Oceania",
          "Africa",
          "Africa",
          "Asia",
          "Africa",
          "Europe",
          "Asia",
          "Africa",
          "South America",
          "Europe",
          "Europe",
          "Asia",
          "Asia",
          "Asia",
          "Africa",
          "Asia",
          "Asia",
          "Africa",
          "Oceania",
          "Oceania",
          "North America",
          "Africa",
          "Asia",
          "Asia",
          "North America",
          "Oceania",
          "Africa",
          "Europe",
          "Asia",
          "Europe",
          "North America",
          "North America",
          "South America",
          "Asia",
          "Oceania",
          "Europe",
          "South America",
          "Asia",
          "Oceania",
          "Africa",
          "Asia",
          "Africa",
          "Africa",
          "",
          "",
          "",
          "",
          "",
          ""
         ],
         "type": "treemap",
         "values": [
          41128771,
          2842321,
          44903225,
          44273,
          79824,
          35588987,
          15857,
          93763,
          45510318,
          2780469,
          106445,
          26177413,
          8939617,
          10358074,
          409984,
          1472233,
          171186372,
          281635,
          9534954,
          11655930,
          405272,
          13352864,
          64184,
          782455,
          12224110,
          3233526,
          2630296,
          215313498,
          31305,
          449002,
          6781953,
          22673762,
          12889576,
          16767842,
          27914536,
          38454327,
          593149,
          68706,
          5579144,
          17723315,
          19603733,
          1425887337,
          51874024,
          836774,
          17011,
          5180829,
          4030358,
          11212191,
          191163,
          1251488,
          10493986,
          99010212,
          5882261,
          1120849,
          72737,
          11228821,
          18001000,
          110990103,
          6336392,
          1674908,
          3684032,
          1326062,
          1201670,
          123379924,
          3780,
          53090,
          929766,
          5540745,
          64626628,
          304557,
          306279,
          2388992,
          2705992,
          3744385,
          83369843,
          33475870,
          32649,
          10384971,
          56466,
          125438,
          395752,
          171774,
          17843908,
          63301,
          13859341,
          2105566,
          808726,
          11584996,
          10432860,
          7488865,
          9967308,
          372899,
          1417173173,
          275501339,
          88550570,
          44496122,
          5023109,
          84519,
          9038309,
          59037474,
          28160542,
          2827377,
          123951692,
          110778,
          11285869,
          19397998,
          54027487,
          131232,
          4268873,
          6630623,
          7529475,
          1850651,
          5489739,
          2305825,
          5302681,
          6812341,
          39327,
          2750055,
          647599,
          695168,
          29611714,
          20405317,
          33938221,
          523787,
          22593590,
          533286,
          41569,
          367507,
          4736139,
          1299469,
          326101,
          127504125,
          114164,
          3272996,
          36469,
          3398366,
          627082,
          4390,
          37457971,
          32969517,
          54179306,
          2567012,
          12668,
          30547580,
          17564014,
          289950,
          5185288,
          6948392,
          26207977,
          218541212,
          1934,
          26069416,
          2093599,
          49551,
          5434319,
          4576298,
          235824862,
          18055,
          5250072,
          4408581,
          10142619,
          6780744,
          34049588,
          115559009,
          39857145,
          10270865,
          3252407,
          2695122,
          5970424,
          974052,
          19659267,
          144713314,
          13776698,
          10967,
          47657,
          179857,
          31791,
          5862,
          103948,
          222382,
          33660,
          227380,
          36408820,
          17316449,
          7221365,
          107118,
          8605718,
          5975689,
          44175,
          5643453,
          2119844,
          724273,
          17597511,
          59893885,
          51815810,
          10913164,
          47558630,
          21832143,
          46874204,
          618040,
          10549347,
          8740472,
          22125249,
          23893394,
          9952787,
          65497748,
          71697030,
          1341296,
          8848699,
          1871,
          106858,
          1531044,
          12356117,
          85341241,
          6430770,
          45703,
          11312,
          47249585,
          39701739,
          9441129,
          67508936,
          338289857,
          99465,
          3422794,
          34627652,
          326740,
          510,
          28301696,
          98186856,
          11572,
          575986,
          33696614,
          20017675,
          16320537,
          1426730932,
          4721383274,
          743147538,
          600296136,
          45038554,
          436816608
         ]
        }
       ],
       "layout": {
        "coloraxis": {
         "colorbar": {
          "title": {
           "text": "2022 Population"
          }
         },
         "colorscale": [
          [
           0,
           "#fde725"
          ],
          [
           0.1111111111111111,
           "#b5de2b"
          ],
          [
           0.2222222222222222,
           "#6ece58"
          ],
          [
           0.3333333333333333,
           "#35b779"
          ],
          [
           0.4444444444444444,
           "#1f9e89"
          ],
          [
           0.5555555555555556,
           "#26828e"
          ],
          [
           0.6666666666666666,
           "#31688e"
          ],
          [
           0.7777777777777778,
           "#3e4989"
          ],
          [
           0.8888888888888888,
           "#482878"
          ],
          [
           1,
           "#440154"
          ]
         ]
        },
        "legend": {
         "tracegroupgap": 0
        },
        "template": {
         "data": {
          "bar": [
           {
            "error_x": {
             "color": "#2a3f5f"
            },
            "error_y": {
             "color": "#2a3f5f"
            },
            "marker": {
             "line": {
              "color": "#E5ECF6",
              "width": 0.5
             },
             "pattern": {
              "fillmode": "overlay",
              "size": 10,
              "solidity": 0.2
             }
            },
            "type": "bar"
           }
          ],
          "barpolar": [
           {
            "marker": {
             "line": {
              "color": "#E5ECF6",
              "width": 0.5
             },
             "pattern": {
              "fillmode": "overlay",
              "size": 10,
              "solidity": 0.2
             }
            },
            "type": "barpolar"
           }
          ],
          "carpet": [
           {
            "aaxis": {
             "endlinecolor": "#2a3f5f",
             "gridcolor": "white",
             "linecolor": "white",
             "minorgridcolor": "white",
             "startlinecolor": "#2a3f5f"
            },
            "baxis": {
             "endlinecolor": "#2a3f5f",
             "gridcolor": "white",
             "linecolor": "white",
             "minorgridcolor": "white",
             "startlinecolor": "#2a3f5f"
            },
            "type": "carpet"
           }
          ],
          "choropleth": [
           {
            "colorbar": {
             "outlinewidth": 0,
             "ticks": ""
            },
            "type": "choropleth"
           }
          ],
          "contour": [
           {
            "colorbar": {
             "outlinewidth": 0,
             "ticks": ""
            },
            "colorscale": [
             [
              0,
              "#0d0887"
             ],
             [
              0.1111111111111111,
              "#46039f"
             ],
             [
              0.2222222222222222,
              "#7201a8"
             ],
             [
              0.3333333333333333,
              "#9c179e"
             ],
             [
              0.4444444444444444,
              "#bd3786"
             ],
             [
              0.5555555555555556,
              "#d8576b"
             ],
             [
              0.6666666666666666,
              "#ed7953"
             ],
             [
              0.7777777777777778,
              "#fb9f3a"
             ],
             [
              0.8888888888888888,
              "#fdca26"
             ],
             [
              1,
              "#f0f921"
             ]
            ],
            "type": "contour"
           }
          ],
          "contourcarpet": [
           {
            "colorbar": {
             "outlinewidth": 0,
             "ticks": ""
            },
            "type": "contourcarpet"
           }
          ],
          "heatmap": [
           {
            "colorbar": {
             "outlinewidth": 0,
             "ticks": ""
            },
            "colorscale": [
             [
              0,
              "#0d0887"
             ],
             [
              0.1111111111111111,
              "#46039f"
             ],
             [
              0.2222222222222222,
              "#7201a8"
             ],
             [
              0.3333333333333333,
              "#9c179e"
             ],
             [
              0.4444444444444444,
              "#bd3786"
             ],
             [
              0.5555555555555556,
              "#d8576b"
             ],
             [
              0.6666666666666666,
              "#ed7953"
             ],
             [
              0.7777777777777778,
              "#fb9f3a"
             ],
             [
              0.8888888888888888,
              "#fdca26"
             ],
             [
              1,
              "#f0f921"
             ]
            ],
            "type": "heatmap"
           }
          ],
          "heatmapgl": [
           {
            "colorbar": {
             "outlinewidth": 0,
             "ticks": ""
            },
            "colorscale": [
             [
              0,
              "#0d0887"
             ],
             [
              0.1111111111111111,
              "#46039f"
             ],
             [
              0.2222222222222222,
              "#7201a8"
             ],
             [
              0.3333333333333333,
              "#9c179e"
             ],
             [
              0.4444444444444444,
              "#bd3786"
             ],
             [
              0.5555555555555556,
              "#d8576b"
             ],
             [
              0.6666666666666666,
              "#ed7953"
             ],
             [
              0.7777777777777778,
              "#fb9f3a"
             ],
             [
              0.8888888888888888,
              "#fdca26"
             ],
             [
              1,
              "#f0f921"
             ]
            ],
            "type": "heatmapgl"
           }
          ],
          "histogram": [
           {
            "marker": {
             "pattern": {
              "fillmode": "overlay",
              "size": 10,
              "solidity": 0.2
             }
            },
            "type": "histogram"
           }
          ],
          "histogram2d": [
           {
            "colorbar": {
             "outlinewidth": 0,
             "ticks": ""
            },
            "colorscale": [
             [
              0,
              "#0d0887"
             ],
             [
              0.1111111111111111,
              "#46039f"
             ],
             [
              0.2222222222222222,
              "#7201a8"
             ],
             [
              0.3333333333333333,
              "#9c179e"
             ],
             [
              0.4444444444444444,
              "#bd3786"
             ],
             [
              0.5555555555555556,
              "#d8576b"
             ],
             [
              0.6666666666666666,
              "#ed7953"
             ],
             [
              0.7777777777777778,
              "#fb9f3a"
             ],
             [
              0.8888888888888888,
              "#fdca26"
             ],
             [
              1,
              "#f0f921"
             ]
            ],
            "type": "histogram2d"
           }
          ],
          "histogram2dcontour": [
           {
            "colorbar": {
             "outlinewidth": 0,
             "ticks": ""
            },
            "colorscale": [
             [
              0,
              "#0d0887"
             ],
             [
              0.1111111111111111,
              "#46039f"
             ],
             [
              0.2222222222222222,
              "#7201a8"
             ],
             [
              0.3333333333333333,
              "#9c179e"
             ],
             [
              0.4444444444444444,
              "#bd3786"
             ],
             [
              0.5555555555555556,
              "#d8576b"
             ],
             [
              0.6666666666666666,
              "#ed7953"
             ],
             [
              0.7777777777777778,
              "#fb9f3a"
             ],
             [
              0.8888888888888888,
              "#fdca26"
             ],
             [
              1,
              "#f0f921"
             ]
            ],
            "type": "histogram2dcontour"
           }
          ],
          "mesh3d": [
           {
            "colorbar": {
             "outlinewidth": 0,
             "ticks": ""
            },
            "type": "mesh3d"
           }
          ],
          "parcoords": [
           {
            "line": {
             "colorbar": {
              "outlinewidth": 0,
              "ticks": ""
             }
            },
            "type": "parcoords"
           }
          ],
          "pie": [
           {
            "automargin": true,
            "type": "pie"
           }
          ],
          "scatter": [
           {
            "fillpattern": {
             "fillmode": "overlay",
             "size": 10,
             "solidity": 0.2
            },
            "type": "scatter"
           }
          ],
          "scatter3d": [
           {
            "line": {
             "colorbar": {
              "outlinewidth": 0,
              "ticks": ""
             }
            },
            "marker": {
             "colorbar": {
              "outlinewidth": 0,
              "ticks": ""
             }
            },
            "type": "scatter3d"
           }
          ],
          "scattercarpet": [
           {
            "marker": {
             "colorbar": {
              "outlinewidth": 0,
              "ticks": ""
             }
            },
            "type": "scattercarpet"
           }
          ],
          "scattergeo": [
           {
            "marker": {
             "colorbar": {
              "outlinewidth": 0,
              "ticks": ""
             }
            },
            "type": "scattergeo"
           }
          ],
          "scattergl": [
           {
            "marker": {
             "colorbar": {
              "outlinewidth": 0,
              "ticks": ""
             }
            },
            "type": "scattergl"
           }
          ],
          "scattermapbox": [
           {
            "marker": {
             "colorbar": {
              "outlinewidth": 0,
              "ticks": ""
             }
            },
            "type": "scattermapbox"
           }
          ],
          "scatterpolar": [
           {
            "marker": {
             "colorbar": {
              "outlinewidth": 0,
              "ticks": ""
             }
            },
            "type": "scatterpolar"
           }
          ],
          "scatterpolargl": [
           {
            "marker": {
             "colorbar": {
              "outlinewidth": 0,
              "ticks": ""
             }
            },
            "type": "scatterpolargl"
           }
          ],
          "scatterternary": [
           {
            "marker": {
             "colorbar": {
              "outlinewidth": 0,
              "ticks": ""
             }
            },
            "type": "scatterternary"
           }
          ],
          "surface": [
           {
            "colorbar": {
             "outlinewidth": 0,
             "ticks": ""
            },
            "colorscale": [
             [
              0,
              "#0d0887"
             ],
             [
              0.1111111111111111,
              "#46039f"
             ],
             [
              0.2222222222222222,
              "#7201a8"
             ],
             [
              0.3333333333333333,
              "#9c179e"
             ],
             [
              0.4444444444444444,
              "#bd3786"
             ],
             [
              0.5555555555555556,
              "#d8576b"
             ],
             [
              0.6666666666666666,
              "#ed7953"
             ],
             [
              0.7777777777777778,
              "#fb9f3a"
             ],
             [
              0.8888888888888888,
              "#fdca26"
             ],
             [
              1,
              "#f0f921"
             ]
            ],
            "type": "surface"
           }
          ],
          "table": [
           {
            "cells": {
             "fill": {
              "color": "#EBF0F8"
             },
             "line": {
              "color": "white"
             }
            },
            "header": {
             "fill": {
              "color": "#C8D4E3"
             },
             "line": {
              "color": "white"
             }
            },
            "type": "table"
           }
          ]
         },
         "layout": {
          "annotationdefaults": {
           "arrowcolor": "#2a3f5f",
           "arrowhead": 0,
           "arrowwidth": 1
          },
          "autotypenumbers": "strict",
          "coloraxis": {
           "colorbar": {
            "outlinewidth": 0,
            "ticks": ""
           }
          },
          "colorscale": {
           "diverging": [
            [
             0,
             "#8e0152"
            ],
            [
             0.1,
             "#c51b7d"
            ],
            [
             0.2,
             "#de77ae"
            ],
            [
             0.3,
             "#f1b6da"
            ],
            [
             0.4,
             "#fde0ef"
            ],
            [
             0.5,
             "#f7f7f7"
            ],
            [
             0.6,
             "#e6f5d0"
            ],
            [
             0.7,
             "#b8e186"
            ],
            [
             0.8,
             "#7fbc41"
            ],
            [
             0.9,
             "#4d9221"
            ],
            [
             1,
             "#276419"
            ]
           ],
           "sequential": [
            [
             0,
             "#0d0887"
            ],
            [
             0.1111111111111111,
             "#46039f"
            ],
            [
             0.2222222222222222,
             "#7201a8"
            ],
            [
             0.3333333333333333,
             "#9c179e"
            ],
            [
             0.4444444444444444,
             "#bd3786"
            ],
            [
             0.5555555555555556,
             "#d8576b"
            ],
            [
             0.6666666666666666,
             "#ed7953"
            ],
            [
             0.7777777777777778,
             "#fb9f3a"
            ],
            [
             0.8888888888888888,
             "#fdca26"
            ],
            [
             1,
             "#f0f921"
            ]
           ],
           "sequentialminus": [
            [
             0,
             "#0d0887"
            ],
            [
             0.1111111111111111,
             "#46039f"
            ],
            [
             0.2222222222222222,
             "#7201a8"
            ],
            [
             0.3333333333333333,
             "#9c179e"
            ],
            [
             0.4444444444444444,
             "#bd3786"
            ],
            [
             0.5555555555555556,
             "#d8576b"
            ],
            [
             0.6666666666666666,
             "#ed7953"
            ],
            [
             0.7777777777777778,
             "#fb9f3a"
            ],
            [
             0.8888888888888888,
             "#fdca26"
            ],
            [
             1,
             "#f0f921"
            ]
           ]
          },
          "colorway": [
           "#636efa",
           "#EF553B",
           "#00cc96",
           "#ab63fa",
           "#FFA15A",
           "#19d3f3",
           "#FF6692",
           "#B6E880",
           "#FF97FF",
           "#FECB52"
          ],
          "font": {
           "color": "#2a3f5f"
          },
          "geo": {
           "bgcolor": "white",
           "lakecolor": "white",
           "landcolor": "#E5ECF6",
           "showlakes": true,
           "showland": true,
           "subunitcolor": "white"
          },
          "hoverlabel": {
           "align": "left"
          },
          "hovermode": "closest",
          "mapbox": {
           "style": "light"
          },
          "paper_bgcolor": "white",
          "plot_bgcolor": "#E5ECF6",
          "polar": {
           "angularaxis": {
            "gridcolor": "white",
            "linecolor": "white",
            "ticks": ""
           },
           "bgcolor": "#E5ECF6",
           "radialaxis": {
            "gridcolor": "white",
            "linecolor": "white",
            "ticks": ""
           }
          },
          "scene": {
           "xaxis": {
            "backgroundcolor": "#E5ECF6",
            "gridcolor": "white",
            "gridwidth": 2,
            "linecolor": "white",
            "showbackground": true,
            "ticks": "",
            "zerolinecolor": "white"
           },
           "yaxis": {
            "backgroundcolor": "#E5ECF6",
            "gridcolor": "white",
            "gridwidth": 2,
            "linecolor": "white",
            "showbackground": true,
            "ticks": "",
            "zerolinecolor": "white"
           },
           "zaxis": {
            "backgroundcolor": "#E5ECF6",
            "gridcolor": "white",
            "gridwidth": 2,
            "linecolor": "white",
            "showbackground": true,
            "ticks": "",
            "zerolinecolor": "white"
           }
          },
          "shapedefaults": {
           "line": {
            "color": "#2a3f5f"
           }
          },
          "ternary": {
           "aaxis": {
            "gridcolor": "white",
            "linecolor": "white",
            "ticks": ""
           },
           "baxis": {
            "gridcolor": "white",
            "linecolor": "white",
            "ticks": ""
           },
           "bgcolor": "#E5ECF6",
           "caxis": {
            "gridcolor": "white",
            "linecolor": "white",
            "ticks": ""
           }
          },
          "title": {
           "x": 0.05
          },
          "xaxis": {
           "automargin": true,
           "gridcolor": "white",
           "linecolor": "white",
           "ticks": "",
           "title": {
            "standoff": 15
           },
           "zerolinecolor": "white",
           "zerolinewidth": 2
          },
          "yaxis": {
           "automargin": true,
           "gridcolor": "white",
           "linecolor": "white",
           "ticks": "",
           "title": {
            "standoff": 15
           },
           "zerolinecolor": "white",
           "zerolinewidth": 2
          }
         }
        },
        "title": {
         "text": "2022 Population Treemap"
        }
       }
      }
     },
     "metadata": {},
     "output_type": "display_data"
    },
    {
     "data": {
      "application/vnd.plotly.v1+json": {
       "config": {
        "plotlyServerURL": "https://plot.ly"
       },
       "data": [
        {
         "branchvalues": "total",
         "customdata": [
          [
           652230
          ],
          [
           28748
          ],
          [
           2381741
          ],
          [
           199
          ],
          [
           468
          ],
          [
           1246700
          ],
          [
           91
          ],
          [
           442
          ],
          [
           2780400
          ],
          [
           29743
          ],
          [
           180
          ],
          [
           7692024
          ],
          [
           83871
          ],
          [
           86600
          ],
          [
           13943
          ],
          [
           765
          ],
          [
           147570
          ],
          [
           430
          ],
          [
           207600
          ],
          [
           30528
          ],
          [
           22966
          ],
          [
           112622
          ],
          [
           54
          ],
          [
           38394
          ],
          [
           1098581
          ],
          [
           51209
          ],
          [
           582000
          ],
          [
           8515767
          ],
          [
           151
          ],
          [
           5765
          ],
          [
           110879
          ],
          [
           272967
          ],
          [
           27834
          ],
          [
           181035
          ],
          [
           475442
          ],
          [
           9984670
          ],
          [
           4033
          ],
          [
           264
          ],
          [
           622984
          ],
          [
           1284000
          ],
          [
           756102
          ],
          [
           9706961
          ],
          [
           1141748
          ],
          [
           1862
          ],
          [
           236
          ],
          [
           51100
          ],
          [
           56594
          ],
          [
           109884
          ],
          [
           444
          ],
          [
           9251
          ],
          [
           78865
          ],
          [
           2344858
          ],
          [
           43094
          ],
          [
           23200
          ],
          [
           751
          ],
          [
           48671
          ],
          [
           276841
          ],
          [
           1002450
          ],
          [
           21041
          ],
          [
           28051
          ],
          [
           117600
          ],
          [
           45227
          ],
          [
           17364
          ],
          [
           1104300
          ],
          [
           12173
          ],
          [
           1393
          ],
          [
           18272
          ],
          [
           338424
          ],
          [
           551695
          ],
          [
           83534
          ],
          [
           4167
          ],
          [
           267668
          ],
          [
           10689
          ],
          [
           69700
          ],
          [
           357114
          ],
          [
           238533
          ],
          [
           6
          ],
          [
           131990
          ],
          [
           2166086
          ],
          [
           344
          ],
          [
           1628
          ],
          [
           549
          ],
          [
           108889
          ],
          [
           78
          ],
          [
           245857
          ],
          [
           36125
          ],
          [
           214969
          ],
          [
           27750
          ],
          [
           112492
          ],
          [
           1104
          ],
          [
           93028
          ],
          [
           103000
          ],
          [
           3287590
          ],
          [
           1904569
          ],
          [
           1648195
          ],
          [
           438317
          ],
          [
           70273
          ],
          [
           572
          ],
          [
           20770
          ],
          [
           301336
          ],
          [
           322463
          ],
          [
           10991
          ],
          [
           377930
          ],
          [
           116
          ],
          [
           89342
          ],
          [
           2724900
          ],
          [
           580367
          ],
          [
           811
          ],
          [
           17818
          ],
          [
           199951
          ],
          [
           236800
          ],
          [
           64559
          ],
          [
           10452
          ],
          [
           30355
          ],
          [
           111369
          ],
          [
           1759540
          ],
          [
           160
          ],
          [
           65300
          ],
          [
           2586
          ],
          [
           30
          ],
          [
           587041
          ],
          [
           118484
          ],
          [
           330803
          ],
          [
           300
          ],
          [
           1240192
          ],
          [
           316
          ],
          [
           181
          ],
          [
           1128
          ],
          [
           1030700
          ],
          [
           2040
          ],
          [
           374
          ],
          [
           1964375
          ],
          [
           702
          ],
          [
           33846
          ],
          [
           2
          ],
          [
           1564110
          ],
          [
           13812
          ],
          [
           102
          ],
          [
           446550
          ],
          [
           801590
          ],
          [
           676578
          ],
          [
           825615
          ],
          [
           21
          ],
          [
           147181
          ],
          [
           41850
          ],
          [
           18575
          ],
          [
           270467
          ],
          [
           130373
          ],
          [
           1267000
          ],
          [
           923768
          ],
          [
           260
          ],
          [
           120538
          ],
          [
           25713
          ],
          [
           464
          ],
          [
           323802
          ],
          [
           309500
          ],
          [
           881912
          ],
          [
           459
          ],
          [
           6220
          ],
          [
           75417
          ],
          [
           462840
          ],
          [
           406752
          ],
          [
           1285216
          ],
          [
           342353
          ],
          [
           312679
          ],
          [
           92090
          ],
          [
           8870
          ],
          [
           11586
          ],
          [
           342000
          ],
          [
           2511
          ],
          [
           238391
          ],
          [
           17098242
          ],
          [
           26338
          ],
          [
           21
          ],
          [
           261
          ],
          [
           616
          ],
          [
           53
          ],
          [
           242
          ],
          [
           389
          ],
          [
           2842
          ],
          [
           61
          ],
          [
           964
          ],
          [
           2149690
          ],
          [
           196722
          ],
          [
           88361
          ],
          [
           452
          ],
          [
           71740
          ],
          [
           710
          ],
          [
           34
          ],
          [
           49037
          ],
          [
           20273
          ],
          [
           28896
          ],
          [
           637657
          ],
          [
           1221037
          ],
          [
           100210
          ],
          [
           619745
          ],
          [
           505992
          ],
          [
           65610
          ],
          [
           1886068
          ],
          [
           163820
          ],
          [
           450295
          ],
          [
           41284
          ],
          [
           185180
          ],
          [
           36193
          ],
          [
           143100
          ],
          [
           945087
          ],
          [
           513120
          ],
          [
           14874
          ],
          [
           56785
          ],
          [
           12
          ],
          [
           747
          ],
          [
           5130
          ],
          [
           163610
          ],
          [
           783562
          ],
          [
           488100
          ],
          [
           948
          ],
          [
           26
          ],
          [
           241550
          ],
          [
           603500
          ],
          [
           83600
          ],
          [
           242900
          ],
          [
           9372610
          ],
          [
           347
          ],
          [
           181034
          ],
          [
           447400
          ],
          [
           12189
          ],
          [
           1
          ],
          [
           916445
          ],
          [
           331212
          ],
          [
           142
          ],
          [
           266000
          ],
          [
           527968
          ],
          [
           752612
          ],
          [
           390757
          ],
          [
           1190986.7267634373
          ],
          [
           4050657.015303063
          ],
          [
           12789141.523493823
          ],
          [
           8090873.158684613
          ],
          [
           6982469.928502031
          ],
          [
           4832384.486511083
          ]
         ],
         "domain": {
          "x": [
           0,
           1
          ],
          "y": [
           0,
           1
          ]
         },
         "hovertemplate": "labels=%{label}<br>Area (km²)_sum=%{value}<br>parent=%{parent}<br>id=%{id}<br>Area (km²)=%{color}<extra></extra>",
         "ids": [
          "Asia/Afghanistan",
          "Europe/Albania",
          "Africa/Algeria",
          "Oceania/American Samoa",
          "Europe/Andorra",
          "Africa/Angola",
          "North America/Anguilla",
          "North America/Antigua and Barbuda",
          "South America/Argentina",
          "Asia/Armenia",
          "North America/Aruba",
          "Oceania/Australia",
          "Europe/Austria",
          "Asia/Azerbaijan",
          "North America/Bahamas",
          "Asia/Bahrain",
          "Asia/Bangladesh",
          "North America/Barbados",
          "Europe/Belarus",
          "Europe/Belgium",
          "North America/Belize",
          "Africa/Benin",
          "North America/Bermuda",
          "Asia/Bhutan",
          "South America/Bolivia",
          "Europe/Bosnia and Herzegovina",
          "Africa/Botswana",
          "South America/Brazil",
          "North America/British Virgin Islands",
          "Asia/Brunei",
          "Europe/Bulgaria",
          "Africa/Burkina Faso",
          "Africa/Burundi",
          "Asia/Cambodia",
          "Africa/Cameroon",
          "North America/Canada",
          "Africa/Cape Verde",
          "North America/Cayman Islands",
          "Africa/Central African Republic",
          "Africa/Chad",
          "South America/Chile",
          "Asia/China",
          "South America/Colombia",
          "Africa/Comoros",
          "Oceania/Cook Islands",
          "North America/Costa Rica",
          "Europe/Croatia",
          "North America/Cuba",
          "North America/Curacao",
          "Europe/Cyprus",
          "Europe/Czech Republic",
          "Africa/DR Congo",
          "Europe/Denmark",
          "Africa/Djibouti",
          "North America/Dominica",
          "North America/Dominican Republic",
          "South America/Ecuador",
          "Africa/Egypt",
          "North America/El Salvador",
          "Africa/Equatorial Guinea",
          "Africa/Eritrea",
          "Europe/Estonia",
          "Africa/Eswatini",
          "Africa/Ethiopia",
          "South America/Falkland Islands",
          "Europe/Faroe Islands",
          "Oceania/Fiji",
          "Europe/Finland",
          "Europe/France",
          "South America/French Guiana",
          "Oceania/French Polynesia",
          "Africa/Gabon",
          "Africa/Gambia",
          "Asia/Georgia",
          "Europe/Germany",
          "Africa/Ghana",
          "Europe/Gibraltar",
          "Europe/Greece",
          "North America/Greenland",
          "North America/Grenada",
          "North America/Guadeloupe",
          "Oceania/Guam",
          "North America/Guatemala",
          "Europe/Guernsey",
          "Africa/Guinea",
          "Africa/Guinea-Bissau",
          "South America/Guyana",
          "North America/Haiti",
          "North America/Honduras",
          "Asia/Hong Kong",
          "Europe/Hungary",
          "Europe/Iceland",
          "Asia/India",
          "Asia/Indonesia",
          "Asia/Iran",
          "Asia/Iraq",
          "Europe/Ireland",
          "Europe/Isle of Man",
          "Asia/Israel",
          "Europe/Italy",
          "Africa/Ivory Coast",
          "North America/Jamaica",
          "Asia/Japan",
          "Europe/Jersey",
          "Asia/Jordan",
          "Asia/Kazakhstan",
          "Africa/Kenya",
          "Oceania/Kiribati",
          "Asia/Kuwait",
          "Asia/Kyrgyzstan",
          "Asia/Laos",
          "Europe/Latvia",
          "Asia/Lebanon",
          "Africa/Lesotho",
          "Africa/Liberia",
          "Africa/Libya",
          "Europe/Liechtenstein",
          "Europe/Lithuania",
          "Europe/Luxembourg",
          "Asia/Macau",
          "Africa/Madagascar",
          "Africa/Malawi",
          "Asia/Malaysia",
          "Asia/Maldives",
          "Africa/Mali",
          "Europe/Malta",
          "Oceania/Marshall Islands",
          "North America/Martinique",
          "Africa/Mauritania",
          "Africa/Mauritius",
          "Africa/Mayotte",
          "North America/Mexico",
          "Oceania/Micronesia",
          "Europe/Moldova",
          "Europe/Monaco",
          "Asia/Mongolia",
          "Europe/Montenegro",
          "North America/Montserrat",
          "Africa/Morocco",
          "Africa/Mozambique",
          "Asia/Myanmar",
          "Africa/Namibia",
          "Oceania/Nauru",
          "Asia/Nepal",
          "Europe/Netherlands",
          "Oceania/New Caledonia",
          "Oceania/New Zealand",
          "North America/Nicaragua",
          "Africa/Niger",
          "Africa/Nigeria",
          "Oceania/Niue",
          "Asia/North Korea",
          "Europe/North Macedonia",
          "Oceania/Northern Mariana Islands",
          "Europe/Norway",
          "Asia/Oman",
          "Asia/Pakistan",
          "Oceania/Palau",
          "Asia/Palestine",
          "North America/Panama",
          "Oceania/Papua New Guinea",
          "South America/Paraguay",
          "South America/Peru",
          "Asia/Philippines",
          "Europe/Poland",
          "Europe/Portugal",
          "North America/Puerto Rico",
          "Asia/Qatar",
          "Africa/Republic of the Congo",
          "Africa/Reunion",
          "Europe/Romania",
          "Europe/Russia",
          "Africa/Rwanda",
          "North America/Saint Barthelemy",
          "North America/Saint Kitts and Nevis",
          "North America/Saint Lucia",
          "North America/Saint Martin",
          "North America/Saint Pierre and Miquelon",
          "North America/Saint Vincent and the Grenadines",
          "Oceania/Samoa",
          "Europe/San Marino",
          "Africa/Sao Tome and Principe",
          "Asia/Saudi Arabia",
          "Africa/Senegal",
          "Europe/Serbia",
          "Africa/Seychelles",
          "Africa/Sierra Leone",
          "Asia/Singapore",
          "North America/Sint Maarten",
          "Europe/Slovakia",
          "Europe/Slovenia",
          "Oceania/Solomon Islands",
          "Africa/Somalia",
          "Africa/South Africa",
          "Asia/South Korea",
          "Africa/South Sudan",
          "Europe/Spain",
          "Asia/Sri Lanka",
          "Africa/Sudan",
          "South America/Suriname",
          "Europe/Sweden",
          "Europe/Switzerland",
          "Asia/Syria",
          "Asia/Taiwan",
          "Asia/Tajikistan",
          "Africa/Tanzania",
          "Asia/Thailand",
          "Asia/Timor-Leste",
          "Africa/Togo",
          "Oceania/Tokelau",
          "Oceania/Tonga",
          "North America/Trinidad and Tobago",
          "Africa/Tunisia",
          "Asia/Turkey",
          "Asia/Turkmenistan",
          "North America/Turks and Caicos Islands",
          "Oceania/Tuvalu",
          "Africa/Uganda",
          "Europe/Ukraine",
          "Asia/United Arab Emirates",
          "Europe/United Kingdom",
          "North America/United States",
          "North America/United States Virgin Islands",
          "South America/Uruguay",
          "Asia/Uzbekistan",
          "Oceania/Vanuatu",
          "Europe/Vatican City",
          "South America/Venezuela",
          "Asia/Vietnam",
          "Oceania/Wallis and Futuna",
          "Africa/Western Sahara",
          "Asia/Yemen",
          "Africa/Zambia",
          "Africa/Zimbabwe",
          "Africa",
          "Asia",
          "Europe",
          "North America",
          "Oceania",
          "South America"
         ],
         "labels": [
          "Afghanistan",
          "Albania",
          "Algeria",
          "American Samoa",
          "Andorra",
          "Angola",
          "Anguilla",
          "Antigua and Barbuda",
          "Argentina",
          "Armenia",
          "Aruba",
          "Australia",
          "Austria",
          "Azerbaijan",
          "Bahamas",
          "Bahrain",
          "Bangladesh",
          "Barbados",
          "Belarus",
          "Belgium",
          "Belize",
          "Benin",
          "Bermuda",
          "Bhutan",
          "Bolivia",
          "Bosnia and Herzegovina",
          "Botswana",
          "Brazil",
          "British Virgin Islands",
          "Brunei",
          "Bulgaria",
          "Burkina Faso",
          "Burundi",
          "Cambodia",
          "Cameroon",
          "Canada",
          "Cape Verde",
          "Cayman Islands",
          "Central African Republic",
          "Chad",
          "Chile",
          "China",
          "Colombia",
          "Comoros",
          "Cook Islands",
          "Costa Rica",
          "Croatia",
          "Cuba",
          "Curacao",
          "Cyprus",
          "Czech Republic",
          "DR Congo",
          "Denmark",
          "Djibouti",
          "Dominica",
          "Dominican Republic",
          "Ecuador",
          "Egypt",
          "El Salvador",
          "Equatorial Guinea",
          "Eritrea",
          "Estonia",
          "Eswatini",
          "Ethiopia",
          "Falkland Islands",
          "Faroe Islands",
          "Fiji",
          "Finland",
          "France",
          "French Guiana",
          "French Polynesia",
          "Gabon",
          "Gambia",
          "Georgia",
          "Germany",
          "Ghana",
          "Gibraltar",
          "Greece",
          "Greenland",
          "Grenada",
          "Guadeloupe",
          "Guam",
          "Guatemala",
          "Guernsey",
          "Guinea",
          "Guinea-Bissau",
          "Guyana",
          "Haiti",
          "Honduras",
          "Hong Kong",
          "Hungary",
          "Iceland",
          "India",
          "Indonesia",
          "Iran",
          "Iraq",
          "Ireland",
          "Isle of Man",
          "Israel",
          "Italy",
          "Ivory Coast",
          "Jamaica",
          "Japan",
          "Jersey",
          "Jordan",
          "Kazakhstan",
          "Kenya",
          "Kiribati",
          "Kuwait",
          "Kyrgyzstan",
          "Laos",
          "Latvia",
          "Lebanon",
          "Lesotho",
          "Liberia",
          "Libya",
          "Liechtenstein",
          "Lithuania",
          "Luxembourg",
          "Macau",
          "Madagascar",
          "Malawi",
          "Malaysia",
          "Maldives",
          "Mali",
          "Malta",
          "Marshall Islands",
          "Martinique",
          "Mauritania",
          "Mauritius",
          "Mayotte",
          "Mexico",
          "Micronesia",
          "Moldova",
          "Monaco",
          "Mongolia",
          "Montenegro",
          "Montserrat",
          "Morocco",
          "Mozambique",
          "Myanmar",
          "Namibia",
          "Nauru",
          "Nepal",
          "Netherlands",
          "New Caledonia",
          "New Zealand",
          "Nicaragua",
          "Niger",
          "Nigeria",
          "Niue",
          "North Korea",
          "North Macedonia",
          "Northern Mariana Islands",
          "Norway",
          "Oman",
          "Pakistan",
          "Palau",
          "Palestine",
          "Panama",
          "Papua New Guinea",
          "Paraguay",
          "Peru",
          "Philippines",
          "Poland",
          "Portugal",
          "Puerto Rico",
          "Qatar",
          "Republic of the Congo",
          "Reunion",
          "Romania",
          "Russia",
          "Rwanda",
          "Saint Barthelemy",
          "Saint Kitts and Nevis",
          "Saint Lucia",
          "Saint Martin",
          "Saint Pierre and Miquelon",
          "Saint Vincent and the Grenadines",
          "Samoa",
          "San Marino",
          "Sao Tome and Principe",
          "Saudi Arabia",
          "Senegal",
          "Serbia",
          "Seychelles",
          "Sierra Leone",
          "Singapore",
          "Sint Maarten",
          "Slovakia",
          "Slovenia",
          "Solomon Islands",
          "Somalia",
          "South Africa",
          "South Korea",
          "South Sudan",
          "Spain",
          "Sri Lanka",
          "Sudan",
          "Suriname",
          "Sweden",
          "Switzerland",
          "Syria",
          "Taiwan",
          "Tajikistan",
          "Tanzania",
          "Thailand",
          "Timor-Leste",
          "Togo",
          "Tokelau",
          "Tonga",
          "Trinidad and Tobago",
          "Tunisia",
          "Turkey",
          "Turkmenistan",
          "Turks and Caicos Islands",
          "Tuvalu",
          "Uganda",
          "Ukraine",
          "United Arab Emirates",
          "United Kingdom",
          "United States",
          "United States Virgin Islands",
          "Uruguay",
          "Uzbekistan",
          "Vanuatu",
          "Vatican City",
          "Venezuela",
          "Vietnam",
          "Wallis and Futuna",
          "Western Sahara",
          "Yemen",
          "Zambia",
          "Zimbabwe",
          "Africa",
          "Asia",
          "Europe",
          "North America",
          "Oceania",
          "South America"
         ],
         "marker": {
          "coloraxis": "coloraxis",
          "colors": [
           652230,
           28748,
           2381741,
           199,
           468,
           1246700,
           91,
           442,
           2780400,
           29743,
           180,
           7692024,
           83871,
           86600,
           13943,
           765,
           147570,
           430,
           207600,
           30528,
           22966,
           112622,
           54,
           38394,
           1098581,
           51209,
           582000,
           8515767,
           151,
           5765,
           110879,
           272967,
           27834,
           181035,
           475442,
           9984670,
           4033,
           264,
           622984,
           1284000,
           756102,
           9706961,
           1141748,
           1862,
           236,
           51100,
           56594,
           109884,
           444,
           9251,
           78865,
           2344858,
           43094,
           23200,
           751,
           48671,
           276841,
           1002450,
           21041,
           28051,
           117600,
           45227,
           17364,
           1104300,
           12173,
           1393,
           18272,
           338424,
           551695,
           83534,
           4167,
           267668,
           10689,
           69700,
           357114,
           238533,
           6,
           131990,
           2166086,
           344,
           1628,
           549,
           108889,
           78,
           245857,
           36125,
           214969,
           27750,
           112492,
           1104,
           93028,
           103000,
           3287590,
           1904569,
           1648195,
           438317,
           70273,
           572,
           20770,
           301336,
           322463,
           10991,
           377930,
           116,
           89342,
           2724900,
           580367,
           811,
           17818,
           199951,
           236800,
           64559,
           10452,
           30355,
           111369,
           1759540,
           160,
           65300,
           2586,
           30,
           587041,
           118484,
           330803,
           300,
           1240192,
           316,
           181,
           1128,
           1030700,
           2040,
           374,
           1964375,
           702,
           33846,
           2,
           1564110,
           13812,
           102,
           446550,
           801590,
           676578,
           825615,
           21,
           147181,
           41850,
           18575,
           270467,
           130373,
           1267000,
           923768,
           260,
           120538,
           25713,
           464,
           323802,
           309500,
           881912,
           459,
           6220,
           75417,
           462840,
           406752,
           1285216,
           342353,
           312679,
           92090,
           8870,
           11586,
           342000,
           2511,
           238391,
           17098242,
           26338,
           21,
           261,
           616,
           53,
           242,
           389,
           2842,
           61,
           964,
           2149690,
           196722,
           88361,
           452,
           71740,
           710,
           34,
           49037,
           20273,
           28896,
           637657,
           1221037,
           100210,
           619745,
           505992,
           65610,
           1886068,
           163820,
           450295,
           41284,
           185180,
           36193,
           143100,
           945087,
           513120,
           14874,
           56785,
           12,
           747,
           5130,
           163610,
           783562,
           488100,
           948,
           26,
           241550,
           603500,
           83600,
           242900,
           9372610,
           347,
           181034,
           447400,
           12189,
           1,
           916445,
           331212,
           142,
           266000,
           527968,
           752612,
           390757,
           1190986.7267634373,
           4050657.015303063,
           12789141.523493823,
           8090873.158684613,
           6982469.928502031,
           4832384.486511083
          ]
         },
         "name": "",
         "parents": [
          "Asia",
          "Europe",
          "Africa",
          "Oceania",
          "Europe",
          "Africa",
          "North America",
          "North America",
          "South America",
          "Asia",
          "North America",
          "Oceania",
          "Europe",
          "Asia",
          "North America",
          "Asia",
          "Asia",
          "North America",
          "Europe",
          "Europe",
          "North America",
          "Africa",
          "North America",
          "Asia",
          "South America",
          "Europe",
          "Africa",
          "South America",
          "North America",
          "Asia",
          "Europe",
          "Africa",
          "Africa",
          "Asia",
          "Africa",
          "North America",
          "Africa",
          "North America",
          "Africa",
          "Africa",
          "South America",
          "Asia",
          "South America",
          "Africa",
          "Oceania",
          "North America",
          "Europe",
          "North America",
          "North America",
          "Europe",
          "Europe",
          "Africa",
          "Europe",
          "Africa",
          "North America",
          "North America",
          "South America",
          "Africa",
          "North America",
          "Africa",
          "Africa",
          "Europe",
          "Africa",
          "Africa",
          "South America",
          "Europe",
          "Oceania",
          "Europe",
          "Europe",
          "South America",
          "Oceania",
          "Africa",
          "Africa",
          "Asia",
          "Europe",
          "Africa",
          "Europe",
          "Europe",
          "North America",
          "North America",
          "North America",
          "Oceania",
          "North America",
          "Europe",
          "Africa",
          "Africa",
          "South America",
          "North America",
          "North America",
          "Asia",
          "Europe",
          "Europe",
          "Asia",
          "Asia",
          "Asia",
          "Asia",
          "Europe",
          "Europe",
          "Asia",
          "Europe",
          "Africa",
          "North America",
          "Asia",
          "Europe",
          "Asia",
          "Asia",
          "Africa",
          "Oceania",
          "Asia",
          "Asia",
          "Asia",
          "Europe",
          "Asia",
          "Africa",
          "Africa",
          "Africa",
          "Europe",
          "Europe",
          "Europe",
          "Asia",
          "Africa",
          "Africa",
          "Asia",
          "Asia",
          "Africa",
          "Europe",
          "Oceania",
          "North America",
          "Africa",
          "Africa",
          "Africa",
          "North America",
          "Oceania",
          "Europe",
          "Europe",
          "Asia",
          "Europe",
          "North America",
          "Africa",
          "Africa",
          "Asia",
          "Africa",
          "Oceania",
          "Asia",
          "Europe",
          "Oceania",
          "Oceania",
          "North America",
          "Africa",
          "Africa",
          "Oceania",
          "Asia",
          "Europe",
          "Oceania",
          "Europe",
          "Asia",
          "Asia",
          "Oceania",
          "Asia",
          "North America",
          "Oceania",
          "South America",
          "South America",
          "Asia",
          "Europe",
          "Europe",
          "North America",
          "Asia",
          "Africa",
          "Africa",
          "Europe",
          "Europe",
          "Africa",
          "North America",
          "North America",
          "North America",
          "North America",
          "North America",
          "North America",
          "Oceania",
          "Europe",
          "Africa",
          "Asia",
          "Africa",
          "Europe",
          "Africa",
          "Africa",
          "Asia",
          "North America",
          "Europe",
          "Europe",
          "Oceania",
          "Africa",
          "Africa",
          "Asia",
          "Africa",
          "Europe",
          "Asia",
          "Africa",
          "South America",
          "Europe",
          "Europe",
          "Asia",
          "Asia",
          "Asia",
          "Africa",
          "Asia",
          "Asia",
          "Africa",
          "Oceania",
          "Oceania",
          "North America",
          "Africa",
          "Asia",
          "Asia",
          "North America",
          "Oceania",
          "Africa",
          "Europe",
          "Asia",
          "Europe",
          "North America",
          "North America",
          "South America",
          "Asia",
          "Oceania",
          "Europe",
          "South America",
          "Asia",
          "Oceania",
          "Africa",
          "Asia",
          "Africa",
          "Africa",
          "",
          "",
          "",
          "",
          "",
          ""
         ],
         "type": "treemap",
         "values": [
          652230,
          28748,
          2381741,
          199,
          468,
          1246700,
          91,
          442,
          2780400,
          29743,
          180,
          7692024,
          83871,
          86600,
          13943,
          765,
          147570,
          430,
          207600,
          30528,
          22966,
          112622,
          54,
          38394,
          1098581,
          51209,
          582000,
          8515767,
          151,
          5765,
          110879,
          272967,
          27834,
          181035,
          475442,
          9984670,
          4033,
          264,
          622984,
          1284000,
          756102,
          9706961,
          1141748,
          1862,
          236,
          51100,
          56594,
          109884,
          444,
          9251,
          78865,
          2344858,
          43094,
          23200,
          751,
          48671,
          276841,
          1002450,
          21041,
          28051,
          117600,
          45227,
          17364,
          1104300,
          12173,
          1393,
          18272,
          338424,
          551695,
          83534,
          4167,
          267668,
          10689,
          69700,
          357114,
          238533,
          6,
          131990,
          2166086,
          344,
          1628,
          549,
          108889,
          78,
          245857,
          36125,
          214969,
          27750,
          112492,
          1104,
          93028,
          103000,
          3287590,
          1904569,
          1648195,
          438317,
          70273,
          572,
          20770,
          301336,
          322463,
          10991,
          377930,
          116,
          89342,
          2724900,
          580367,
          811,
          17818,
          199951,
          236800,
          64559,
          10452,
          30355,
          111369,
          1759540,
          160,
          65300,
          2586,
          30,
          587041,
          118484,
          330803,
          300,
          1240192,
          316,
          181,
          1128,
          1030700,
          2040,
          374,
          1964375,
          702,
          33846,
          2,
          1564110,
          13812,
          102,
          446550,
          801590,
          676578,
          825615,
          21,
          147181,
          41850,
          18575,
          270467,
          130373,
          1267000,
          923768,
          260,
          120538,
          25713,
          464,
          323802,
          309500,
          881912,
          459,
          6220,
          75417,
          462840,
          406752,
          1285216,
          342353,
          312679,
          92090,
          8870,
          11586,
          342000,
          2511,
          238391,
          17098242,
          26338,
          21,
          261,
          616,
          53,
          242,
          389,
          2842,
          61,
          964,
          2149690,
          196722,
          88361,
          452,
          71740,
          710,
          34,
          49037,
          20273,
          28896,
          637657,
          1221037,
          100210,
          619745,
          505992,
          65610,
          1886068,
          163820,
          450295,
          41284,
          185180,
          36193,
          143100,
          945087,
          513120,
          14874,
          56785,
          12,
          747,
          5130,
          163610,
          783562,
          488100,
          948,
          26,
          241550,
          603500,
          83600,
          242900,
          9372610,
          347,
          181034,
          447400,
          12189,
          1,
          916445,
          331212,
          142,
          266000,
          527968,
          752612,
          390757,
          30317963,
          32138141,
          23010411,
          24244178,
          8515081,
          17833382
         ]
        }
       ],
       "layout": {
        "coloraxis": {
         "colorbar": {
          "title": {
           "text": "Area (km²)"
          }
         },
         "colorscale": [
          [
           0,
           "#fde725"
          ],
          [
           0.1111111111111111,
           "#b5de2b"
          ],
          [
           0.2222222222222222,
           "#6ece58"
          ],
          [
           0.3333333333333333,
           "#35b779"
          ],
          [
           0.4444444444444444,
           "#1f9e89"
          ],
          [
           0.5555555555555556,
           "#26828e"
          ],
          [
           0.6666666666666666,
           "#31688e"
          ],
          [
           0.7777777777777778,
           "#3e4989"
          ],
          [
           0.8888888888888888,
           "#482878"
          ],
          [
           1,
           "#440154"
          ]
         ]
        },
        "legend": {
         "tracegroupgap": 0
        },
        "template": {
         "data": {
          "bar": [
           {
            "error_x": {
             "color": "#2a3f5f"
            },
            "error_y": {
             "color": "#2a3f5f"
            },
            "marker": {
             "line": {
              "color": "#E5ECF6",
              "width": 0.5
             },
             "pattern": {
              "fillmode": "overlay",
              "size": 10,
              "solidity": 0.2
             }
            },
            "type": "bar"
           }
          ],
          "barpolar": [
           {
            "marker": {
             "line": {
              "color": "#E5ECF6",
              "width": 0.5
             },
             "pattern": {
              "fillmode": "overlay",
              "size": 10,
              "solidity": 0.2
             }
            },
            "type": "barpolar"
           }
          ],
          "carpet": [
           {
            "aaxis": {
             "endlinecolor": "#2a3f5f",
             "gridcolor": "white",
             "linecolor": "white",
             "minorgridcolor": "white",
             "startlinecolor": "#2a3f5f"
            },
            "baxis": {
             "endlinecolor": "#2a3f5f",
             "gridcolor": "white",
             "linecolor": "white",
             "minorgridcolor": "white",
             "startlinecolor": "#2a3f5f"
            },
            "type": "carpet"
           }
          ],
          "choropleth": [
           {
            "colorbar": {
             "outlinewidth": 0,
             "ticks": ""
            },
            "type": "choropleth"
           }
          ],
          "contour": [
           {
            "colorbar": {
             "outlinewidth": 0,
             "ticks": ""
            },
            "colorscale": [
             [
              0,
              "#0d0887"
             ],
             [
              0.1111111111111111,
              "#46039f"
             ],
             [
              0.2222222222222222,
              "#7201a8"
             ],
             [
              0.3333333333333333,
              "#9c179e"
             ],
             [
              0.4444444444444444,
              "#bd3786"
             ],
             [
              0.5555555555555556,
              "#d8576b"
             ],
             [
              0.6666666666666666,
              "#ed7953"
             ],
             [
              0.7777777777777778,
              "#fb9f3a"
             ],
             [
              0.8888888888888888,
              "#fdca26"
             ],
             [
              1,
              "#f0f921"
             ]
            ],
            "type": "contour"
           }
          ],
          "contourcarpet": [
           {
            "colorbar": {
             "outlinewidth": 0,
             "ticks": ""
            },
            "type": "contourcarpet"
           }
          ],
          "heatmap": [
           {
            "colorbar": {
             "outlinewidth": 0,
             "ticks": ""
            },
            "colorscale": [
             [
              0,
              "#0d0887"
             ],
             [
              0.1111111111111111,
              "#46039f"
             ],
             [
              0.2222222222222222,
              "#7201a8"
             ],
             [
              0.3333333333333333,
              "#9c179e"
             ],
             [
              0.4444444444444444,
              "#bd3786"
             ],
             [
              0.5555555555555556,
              "#d8576b"
             ],
             [
              0.6666666666666666,
              "#ed7953"
             ],
             [
              0.7777777777777778,
              "#fb9f3a"
             ],
             [
              0.8888888888888888,
              "#fdca26"
             ],
             [
              1,
              "#f0f921"
             ]
            ],
            "type": "heatmap"
           }
          ],
          "heatmapgl": [
           {
            "colorbar": {
             "outlinewidth": 0,
             "ticks": ""
            },
            "colorscale": [
             [
              0,
              "#0d0887"
             ],
             [
              0.1111111111111111,
              "#46039f"
             ],
             [
              0.2222222222222222,
              "#7201a8"
             ],
             [
              0.3333333333333333,
              "#9c179e"
             ],
             [
              0.4444444444444444,
              "#bd3786"
             ],
             [
              0.5555555555555556,
              "#d8576b"
             ],
             [
              0.6666666666666666,
              "#ed7953"
             ],
             [
              0.7777777777777778,
              "#fb9f3a"
             ],
             [
              0.8888888888888888,
              "#fdca26"
             ],
             [
              1,
              "#f0f921"
             ]
            ],
            "type": "heatmapgl"
           }
          ],
          "histogram": [
           {
            "marker": {
             "pattern": {
              "fillmode": "overlay",
              "size": 10,
              "solidity": 0.2
             }
            },
            "type": "histogram"
           }
          ],
          "histogram2d": [
           {
            "colorbar": {
             "outlinewidth": 0,
             "ticks": ""
            },
            "colorscale": [
             [
              0,
              "#0d0887"
             ],
             [
              0.1111111111111111,
              "#46039f"
             ],
             [
              0.2222222222222222,
              "#7201a8"
             ],
             [
              0.3333333333333333,
              "#9c179e"
             ],
             [
              0.4444444444444444,
              "#bd3786"
             ],
             [
              0.5555555555555556,
              "#d8576b"
             ],
             [
              0.6666666666666666,
              "#ed7953"
             ],
             [
              0.7777777777777778,
              "#fb9f3a"
             ],
             [
              0.8888888888888888,
              "#fdca26"
             ],
             [
              1,
              "#f0f921"
             ]
            ],
            "type": "histogram2d"
           }
          ],
          "histogram2dcontour": [
           {
            "colorbar": {
             "outlinewidth": 0,
             "ticks": ""
            },
            "colorscale": [
             [
              0,
              "#0d0887"
             ],
             [
              0.1111111111111111,
              "#46039f"
             ],
             [
              0.2222222222222222,
              "#7201a8"
             ],
             [
              0.3333333333333333,
              "#9c179e"
             ],
             [
              0.4444444444444444,
              "#bd3786"
             ],
             [
              0.5555555555555556,
              "#d8576b"
             ],
             [
              0.6666666666666666,
              "#ed7953"
             ],
             [
              0.7777777777777778,
              "#fb9f3a"
             ],
             [
              0.8888888888888888,
              "#fdca26"
             ],
             [
              1,
              "#f0f921"
             ]
            ],
            "type": "histogram2dcontour"
           }
          ],
          "mesh3d": [
           {
            "colorbar": {
             "outlinewidth": 0,
             "ticks": ""
            },
            "type": "mesh3d"
           }
          ],
          "parcoords": [
           {
            "line": {
             "colorbar": {
              "outlinewidth": 0,
              "ticks": ""
             }
            },
            "type": "parcoords"
           }
          ],
          "pie": [
           {
            "automargin": true,
            "type": "pie"
           }
          ],
          "scatter": [
           {
            "fillpattern": {
             "fillmode": "overlay",
             "size": 10,
             "solidity": 0.2
            },
            "type": "scatter"
           }
          ],
          "scatter3d": [
           {
            "line": {
             "colorbar": {
              "outlinewidth": 0,
              "ticks": ""
             }
            },
            "marker": {
             "colorbar": {
              "outlinewidth": 0,
              "ticks": ""
             }
            },
            "type": "scatter3d"
           }
          ],
          "scattercarpet": [
           {
            "marker": {
             "colorbar": {
              "outlinewidth": 0,
              "ticks": ""
             }
            },
            "type": "scattercarpet"
           }
          ],
          "scattergeo": [
           {
            "marker": {
             "colorbar": {
              "outlinewidth": 0,
              "ticks": ""
             }
            },
            "type": "scattergeo"
           }
          ],
          "scattergl": [
           {
            "marker": {
             "colorbar": {
              "outlinewidth": 0,
              "ticks": ""
             }
            },
            "type": "scattergl"
           }
          ],
          "scattermapbox": [
           {
            "marker": {
             "colorbar": {
              "outlinewidth": 0,
              "ticks": ""
             }
            },
            "type": "scattermapbox"
           }
          ],
          "scatterpolar": [
           {
            "marker": {
             "colorbar": {
              "outlinewidth": 0,
              "ticks": ""
             }
            },
            "type": "scatterpolar"
           }
          ],
          "scatterpolargl": [
           {
            "marker": {
             "colorbar": {
              "outlinewidth": 0,
              "ticks": ""
             }
            },
            "type": "scatterpolargl"
           }
          ],
          "scatterternary": [
           {
            "marker": {
             "colorbar": {
              "outlinewidth": 0,
              "ticks": ""
             }
            },
            "type": "scatterternary"
           }
          ],
          "surface": [
           {
            "colorbar": {
             "outlinewidth": 0,
             "ticks": ""
            },
            "colorscale": [
             [
              0,
              "#0d0887"
             ],
             [
              0.1111111111111111,
              "#46039f"
             ],
             [
              0.2222222222222222,
              "#7201a8"
             ],
             [
              0.3333333333333333,
              "#9c179e"
             ],
             [
              0.4444444444444444,
              "#bd3786"
             ],
             [
              0.5555555555555556,
              "#d8576b"
             ],
             [
              0.6666666666666666,
              "#ed7953"
             ],
             [
              0.7777777777777778,
              "#fb9f3a"
             ],
             [
              0.8888888888888888,
              "#fdca26"
             ],
             [
              1,
              "#f0f921"
             ]
            ],
            "type": "surface"
           }
          ],
          "table": [
           {
            "cells": {
             "fill": {
              "color": "#EBF0F8"
             },
             "line": {
              "color": "white"
             }
            },
            "header": {
             "fill": {
              "color": "#C8D4E3"
             },
             "line": {
              "color": "white"
             }
            },
            "type": "table"
           }
          ]
         },
         "layout": {
          "annotationdefaults": {
           "arrowcolor": "#2a3f5f",
           "arrowhead": 0,
           "arrowwidth": 1
          },
          "autotypenumbers": "strict",
          "coloraxis": {
           "colorbar": {
            "outlinewidth": 0,
            "ticks": ""
           }
          },
          "colorscale": {
           "diverging": [
            [
             0,
             "#8e0152"
            ],
            [
             0.1,
             "#c51b7d"
            ],
            [
             0.2,
             "#de77ae"
            ],
            [
             0.3,
             "#f1b6da"
            ],
            [
             0.4,
             "#fde0ef"
            ],
            [
             0.5,
             "#f7f7f7"
            ],
            [
             0.6,
             "#e6f5d0"
            ],
            [
             0.7,
             "#b8e186"
            ],
            [
             0.8,
             "#7fbc41"
            ],
            [
             0.9,
             "#4d9221"
            ],
            [
             1,
             "#276419"
            ]
           ],
           "sequential": [
            [
             0,
             "#0d0887"
            ],
            [
             0.1111111111111111,
             "#46039f"
            ],
            [
             0.2222222222222222,
             "#7201a8"
            ],
            [
             0.3333333333333333,
             "#9c179e"
            ],
            [
             0.4444444444444444,
             "#bd3786"
            ],
            [
             0.5555555555555556,
             "#d8576b"
            ],
            [
             0.6666666666666666,
             "#ed7953"
            ],
            [
             0.7777777777777778,
             "#fb9f3a"
            ],
            [
             0.8888888888888888,
             "#fdca26"
            ],
            [
             1,
             "#f0f921"
            ]
           ],
           "sequentialminus": [
            [
             0,
             "#0d0887"
            ],
            [
             0.1111111111111111,
             "#46039f"
            ],
            [
             0.2222222222222222,
             "#7201a8"
            ],
            [
             0.3333333333333333,
             "#9c179e"
            ],
            [
             0.4444444444444444,
             "#bd3786"
            ],
            [
             0.5555555555555556,
             "#d8576b"
            ],
            [
             0.6666666666666666,
             "#ed7953"
            ],
            [
             0.7777777777777778,
             "#fb9f3a"
            ],
            [
             0.8888888888888888,
             "#fdca26"
            ],
            [
             1,
             "#f0f921"
            ]
           ]
          },
          "colorway": [
           "#636efa",
           "#EF553B",
           "#00cc96",
           "#ab63fa",
           "#FFA15A",
           "#19d3f3",
           "#FF6692",
           "#B6E880",
           "#FF97FF",
           "#FECB52"
          ],
          "font": {
           "color": "#2a3f5f"
          },
          "geo": {
           "bgcolor": "white",
           "lakecolor": "white",
           "landcolor": "#E5ECF6",
           "showlakes": true,
           "showland": true,
           "subunitcolor": "white"
          },
          "hoverlabel": {
           "align": "left"
          },
          "hovermode": "closest",
          "mapbox": {
           "style": "light"
          },
          "paper_bgcolor": "white",
          "plot_bgcolor": "#E5ECF6",
          "polar": {
           "angularaxis": {
            "gridcolor": "white",
            "linecolor": "white",
            "ticks": ""
           },
           "bgcolor": "#E5ECF6",
           "radialaxis": {
            "gridcolor": "white",
            "linecolor": "white",
            "ticks": ""
           }
          },
          "scene": {
           "xaxis": {
            "backgroundcolor": "#E5ECF6",
            "gridcolor": "white",
            "gridwidth": 2,
            "linecolor": "white",
            "showbackground": true,
            "ticks": "",
            "zerolinecolor": "white"
           },
           "yaxis": {
            "backgroundcolor": "#E5ECF6",
            "gridcolor": "white",
            "gridwidth": 2,
            "linecolor": "white",
            "showbackground": true,
            "ticks": "",
            "zerolinecolor": "white"
           },
           "zaxis": {
            "backgroundcolor": "#E5ECF6",
            "gridcolor": "white",
            "gridwidth": 2,
            "linecolor": "white",
            "showbackground": true,
            "ticks": "",
            "zerolinecolor": "white"
           }
          },
          "shapedefaults": {
           "line": {
            "color": "#2a3f5f"
           }
          },
          "ternary": {
           "aaxis": {
            "gridcolor": "white",
            "linecolor": "white",
            "ticks": ""
           },
           "baxis": {
            "gridcolor": "white",
            "linecolor": "white",
            "ticks": ""
           },
           "bgcolor": "#E5ECF6",
           "caxis": {
            "gridcolor": "white",
            "linecolor": "white",
            "ticks": ""
           }
          },
          "title": {
           "x": 0.05
          },
          "xaxis": {
           "automargin": true,
           "gridcolor": "white",
           "linecolor": "white",
           "ticks": "",
           "title": {
            "standoff": 15
           },
           "zerolinecolor": "white",
           "zerolinewidth": 2
          },
          "yaxis": {
           "automargin": true,
           "gridcolor": "white",
           "linecolor": "white",
           "ticks": "",
           "title": {
            "standoff": 15
           },
           "zerolinecolor": "white",
           "zerolinewidth": 2
          }
         }
        },
        "title": {
         "text": "Area (km²) Treemap"
        }
       }
      }
     },
     "metadata": {},
     "output_type": "display_data"
    },
    {
     "data": {
      "application/vnd.plotly.v1+json": {
       "config": {
        "plotlyServerURL": "https://plot.ly"
       },
       "data": [
        {
         "branchvalues": "total",
         "customdata": [
          [
           63.0587
          ],
          [
           98.8702
          ],
          [
           18.8531
          ],
          [
           222.4774
          ],
          [
           170.5641
          ],
          [
           28.5466
          ],
          [
           174.2527
          ],
          [
           212.13349999999997
          ],
          [
           16.3683
          ],
          [
           93.4831
          ],
          [
           591.3611
          ],
          [
           3.4032000000000004
          ],
          [
           106.5877
          ],
          [
           119.6082
          ],
          [
           29.404300000000003
          ],
          [
           1924.4876
          ],
          [
           1160.035
          ],
          [
           654.9651
          ],
          [
           45.9295
          ],
          [
           381.81110000000007
          ],
          [
           17.6466
          ],
          [
           118.5635
          ],
          [
           1188.5926
          ],
          [
           20.3796
          ],
          [
           11.1272
          ],
          [
           63.1437
          ],
          [
           4.5194
          ],
          [
           25.2841
          ],
          [
           207.3179
          ],
          [
           77.8841
          ],
          [
           61.1654
          ],
          [
           83.0641
          ],
          [
           463.08739999999995
          ],
          [
           92.6221
          ],
          [
           58.71280000000001
          ],
          [
           3.8513
          ],
          [
           147.0739
          ],
          [
           260.25
          ],
          [
           8.9555
          ],
          [
           13.8032
          ],
          [
           25.927399999999995
          ],
          [
           146.8933
          ],
          [
           45.4339
          ],
          [
           449.39529999999996
          ],
          [
           72.0805
          ],
          [
           101.3861
          ],
          [
           71.2153
          ],
          [
           102.0366
          ],
          [
           430.54730000000006
          ],
          [
           135.2814
          ],
          [
           133.0627
          ],
          [
           42.2244
          ],
          [
           136.4984
          ],
          [
           48.3125
          ],
          [
           96.85349999999998
          ],
          [
           230.70869999999996
          ],
          [
           65.0229
          ],
          [
           110.71879999999999
          ],
          [
           301.145
          ],
          [
           59.709399999999995
          ],
          [
           31.3268
          ],
          [
           29.3201
          ],
          [
           69.2047
          ],
          [
           111.7268
          ],
          [
           0.3105
          ],
          [
           38.112
          ],
          [
           50.8847
          ],
          [
           16.3722
          ],
          [
           117.1419
          ],
          [
           3.6459
          ],
          [
           73.5011
          ],
          [
           8.9252
          ],
          [
           253.1567
          ],
          [
           53.7214
          ],
          [
           233.4544
          ],
          [
           140.3406
          ],
          [
           5441.5
          ],
          [
           78.68
          ],
          [
           0.0261
          ],
          [
           364.6453
          ],
          [
           243.0909
          ],
          [
           312.8852
          ],
          [
           163.8725
          ],
          [
           811.5513
          ],
          [
           56.3716
          ],
          [
           58.2856
          ],
          [
           3.7621
          ],
          [
           417.4773
          ],
          [
           92.7431
          ],
          [
           6783.392200000001
          ],
          [
           107.1431
          ],
          [
           3.6204
          ],
          [
           431.0675
          ],
          [
           144.6529
          ],
          [
           53.7258
          ],
          [
           101.5158
          ],
          [
           71.4799
          ],
          [
           147.7605
          ],
          [
           435.1617
          ],
          [
           195.91909999999996
          ],
          [
           87.3295
          ],
          [
           257.2447
          ],
          [
           327.9753
          ],
          [
           954.9828
          ],
          [
           126.3221
          ],
          [
           7.1188
          ],
          [
           93.0919
          ],
          [
           161.815
          ],
          [
           239.5821
          ],
          [
           33.1612
          ],
          [
           31.7968
          ],
          [
           28.666
          ],
          [
           525.2334
          ],
          [
           75.962
          ],
          [
           47.6136
          ],
          [
           3.8717
          ],
          [
           245.7937
          ],
          [
           42.1142
          ],
          [
           250.425
          ],
          [
           23172.2667
          ],
          [
           50.4423
          ],
          [
           172.22
          ],
          [
           102.5934
          ],
          [
           1745.9567000000002
          ],
          [
           18.2178
          ],
          [
           1687.6139000000003
          ],
          [
           229.663
          ],
          [
           325.8041
          ],
          [
           4.5951
          ],
          [
           636.9946
          ],
          [
           871.9278
          ],
          [
           64.9082
          ],
          [
           162.6268
          ],
          [
           96.70259999999999
          ],
          [
           18234.5
          ],
          [
           2.1727
          ],
          [
           45.4012
          ],
          [
           43.0392
          ],
          [
           83.883
          ],
          [
           41.1302
          ],
          [
           80.0784
          ],
          [
           3.1091999999999995
          ],
          [
           603.2381
          ],
          [
           207.5511
          ],
          [
           419.6897
          ],
          [
           15.6097
          ],
          [
           19.1716
          ],
          [
           53.2962
          ],
          [
           20.6851
          ],
          [
           236.5759
          ],
          [
           7.4385
          ],
          [
           216.27549999999997
          ],
          [
           81.4218
          ],
          [
           106.7909
          ],
          [
           16.7828
          ],
          [
           14.7861
          ],
          [
           267.4018
          ],
          [
           39.3355
          ],
          [
           844.063
          ],
          [
           58.4561
          ],
          [
           21.9139
          ],
          [
           16.6705
          ],
          [
           26.4933
          ],
          [
           337.5434
          ],
          [
           127.4698
          ],
          [
           111.5307
          ],
          [
           366.675
          ],
          [
           232.6189
          ],
          [
           17.4574
          ],
          [
           387.914
          ],
          [
           82.4665
          ],
          [
           8.4636
          ],
          [
           523.0731
          ],
          [
           522.2381
          ],
          [
           182.5939
          ],
          [
           291.9756
          ],
          [
           599.8302
          ],
          [
           24.223100000000002
          ],
          [
           267.2185
          ],
          [
           78.2484
          ],
          [
           551.8033
          ],
          [
           235.8714
          ],
          [
           16.9368
          ],
          [
           88.025
          ],
          [
           81.7257
          ],
          [
           236.9867
          ],
          [
           119.957
          ],
          [
           8416.4634
          ],
          [
           1299.2647
          ],
          [
           115.0856
          ],
          [
           104.5649
          ],
          [
           25.0648
          ],
          [
           27.5971
          ],
          [
           49.051700000000004
          ],
          [
           517.0722
          ],
          [
           17.6091
          ],
          [
           93.9909
          ],
          [
           332.7563
          ],
          [
           24.852900000000005
          ],
          [
           3.7727
          ],
          [
           23.427599999999998
          ],
          [
           211.7157
          ],
          [
           119.4797
          ],
          [
           660.1662
          ],
          [
           69.5513
          ],
          [
           69.3034
          ],
          [
           139.7276
          ],
          [
           90.1772
          ],
          [
           155.8281
          ],
          [
           155.9167
          ],
          [
           143.0495
          ],
          [
           298.4491
          ],
          [
           75.5218
          ],
          [
           108.91450000000002
          ],
          [
           13.1751
          ],
          [
           48.2099
          ],
          [
           435.0769
          ],
          [
           195.60999999999999
          ],
          [
           65.7858
          ],
          [
           112.9322
          ],
          [
           277.9289
          ],
          [
           36.0935
          ],
          [
           286.6427
          ],
          [
           18.9069
          ],
          [
           77.3975
          ],
          [
           26.8061
          ],
          [
           510
          ],
          [
           30.882
          ],
          [
           296.4472
          ],
          [
           81.493
          ],
          [
           2.1654
          ],
          [
           63.8232
          ],
          [
           26.5976
          ],
          [
           41.7665
          ],
          [
           353.34166256219703
          ],
          [
           12972.9709661818
          ],
          [
           11096.582908838633
          ],
          [
           563.2227445762709
          ],
          [
           292.6494981398728
          ],
          [
           35.176915889569656
          ]
         ],
         "domain": {
          "x": [
           0,
           1
          ],
          "y": [
           0,
           1
          ]
         },
         "hovertemplate": "labels=%{label}<br>Density (per km²)_sum=%{value}<br>parent=%{parent}<br>id=%{id}<br>Density (per km²)=%{color}<extra></extra>",
         "ids": [
          "Asia/Afghanistan",
          "Europe/Albania",
          "Africa/Algeria",
          "Oceania/American Samoa",
          "Europe/Andorra",
          "Africa/Angola",
          "North America/Anguilla",
          "North America/Antigua and Barbuda",
          "South America/Argentina",
          "Asia/Armenia",
          "North America/Aruba",
          "Oceania/Australia",
          "Europe/Austria",
          "Asia/Azerbaijan",
          "North America/Bahamas",
          "Asia/Bahrain",
          "Asia/Bangladesh",
          "North America/Barbados",
          "Europe/Belarus",
          "Europe/Belgium",
          "North America/Belize",
          "Africa/Benin",
          "North America/Bermuda",
          "Asia/Bhutan",
          "South America/Bolivia",
          "Europe/Bosnia and Herzegovina",
          "Africa/Botswana",
          "South America/Brazil",
          "North America/British Virgin Islands",
          "Asia/Brunei",
          "Europe/Bulgaria",
          "Africa/Burkina Faso",
          "Africa/Burundi",
          "Asia/Cambodia",
          "Africa/Cameroon",
          "North America/Canada",
          "Africa/Cape Verde",
          "North America/Cayman Islands",
          "Africa/Central African Republic",
          "Africa/Chad",
          "South America/Chile",
          "Asia/China",
          "South America/Colombia",
          "Africa/Comoros",
          "Oceania/Cook Islands",
          "North America/Costa Rica",
          "Europe/Croatia",
          "North America/Cuba",
          "North America/Curacao",
          "Europe/Cyprus",
          "Europe/Czech Republic",
          "Africa/DR Congo",
          "Europe/Denmark",
          "Africa/Djibouti",
          "North America/Dominica",
          "North America/Dominican Republic",
          "South America/Ecuador",
          "Africa/Egypt",
          "North America/El Salvador",
          "Africa/Equatorial Guinea",
          "Africa/Eritrea",
          "Europe/Estonia",
          "Africa/Eswatini",
          "Africa/Ethiopia",
          "South America/Falkland Islands",
          "Europe/Faroe Islands",
          "Oceania/Fiji",
          "Europe/Finland",
          "Europe/France",
          "South America/French Guiana",
          "Oceania/French Polynesia",
          "Africa/Gabon",
          "Africa/Gambia",
          "Asia/Georgia",
          "Europe/Germany",
          "Africa/Ghana",
          "Europe/Gibraltar",
          "Europe/Greece",
          "North America/Greenland",
          "North America/Grenada",
          "North America/Guadeloupe",
          "Oceania/Guam",
          "North America/Guatemala",
          "Europe/Guernsey",
          "Africa/Guinea",
          "Africa/Guinea-Bissau",
          "South America/Guyana",
          "North America/Haiti",
          "North America/Honduras",
          "Asia/Hong Kong",
          "Europe/Hungary",
          "Europe/Iceland",
          "Asia/India",
          "Asia/Indonesia",
          "Asia/Iran",
          "Asia/Iraq",
          "Europe/Ireland",
          "Europe/Isle of Man",
          "Asia/Israel",
          "Europe/Italy",
          "Africa/Ivory Coast",
          "North America/Jamaica",
          "Asia/Japan",
          "Europe/Jersey",
          "Asia/Jordan",
          "Asia/Kazakhstan",
          "Africa/Kenya",
          "Oceania/Kiribati",
          "Asia/Kuwait",
          "Asia/Kyrgyzstan",
          "Asia/Laos",
          "Europe/Latvia",
          "Asia/Lebanon",
          "Africa/Lesotho",
          "Africa/Liberia",
          "Africa/Libya",
          "Europe/Liechtenstein",
          "Europe/Lithuania",
          "Europe/Luxembourg",
          "Asia/Macau",
          "Africa/Madagascar",
          "Africa/Malawi",
          "Asia/Malaysia",
          "Asia/Maldives",
          "Africa/Mali",
          "Europe/Malta",
          "Oceania/Marshall Islands",
          "North America/Martinique",
          "Africa/Mauritania",
          "Africa/Mauritius",
          "Africa/Mayotte",
          "North America/Mexico",
          "Oceania/Micronesia",
          "Europe/Moldova",
          "Europe/Monaco",
          "Asia/Mongolia",
          "Europe/Montenegro",
          "North America/Montserrat",
          "Africa/Morocco",
          "Africa/Mozambique",
          "Asia/Myanmar",
          "Africa/Namibia",
          "Oceania/Nauru",
          "Asia/Nepal",
          "Europe/Netherlands",
          "Oceania/New Caledonia",
          "Oceania/New Zealand",
          "North America/Nicaragua",
          "Africa/Niger",
          "Africa/Nigeria",
          "Oceania/Niue",
          "Asia/North Korea",
          "Europe/North Macedonia",
          "Oceania/Northern Mariana Islands",
          "Europe/Norway",
          "Asia/Oman",
          "Asia/Pakistan",
          "Oceania/Palau",
          "Asia/Palestine",
          "North America/Panama",
          "Oceania/Papua New Guinea",
          "South America/Paraguay",
          "South America/Peru",
          "Asia/Philippines",
          "Europe/Poland",
          "Europe/Portugal",
          "North America/Puerto Rico",
          "Asia/Qatar",
          "Africa/Republic of the Congo",
          "Africa/Reunion",
          "Europe/Romania",
          "Europe/Russia",
          "Africa/Rwanda",
          "North America/Saint Barthelemy",
          "North America/Saint Kitts and Nevis",
          "North America/Saint Lucia",
          "North America/Saint Martin",
          "North America/Saint Pierre and Miquelon",
          "North America/Saint Vincent and the Grenadines",
          "Oceania/Samoa",
          "Europe/San Marino",
          "Africa/Sao Tome and Principe",
          "Asia/Saudi Arabia",
          "Africa/Senegal",
          "Europe/Serbia",
          "Africa/Seychelles",
          "Africa/Sierra Leone",
          "Asia/Singapore",
          "North America/Sint Maarten",
          "Europe/Slovakia",
          "Europe/Slovenia",
          "Oceania/Solomon Islands",
          "Africa/Somalia",
          "Africa/South Africa",
          "Asia/South Korea",
          "Africa/South Sudan",
          "Europe/Spain",
          "Asia/Sri Lanka",
          "Africa/Sudan",
          "South America/Suriname",
          "Europe/Sweden",
          "Europe/Switzerland",
          "Asia/Syria",
          "Asia/Taiwan",
          "Asia/Tajikistan",
          "Africa/Tanzania",
          "Asia/Thailand",
          "Asia/Timor-Leste",
          "Africa/Togo",
          "Oceania/Tokelau",
          "Oceania/Tonga",
          "North America/Trinidad and Tobago",
          "Africa/Tunisia",
          "Asia/Turkey",
          "Asia/Turkmenistan",
          "North America/Turks and Caicos Islands",
          "Oceania/Tuvalu",
          "Africa/Uganda",
          "Europe/Ukraine",
          "Asia/United Arab Emirates",
          "Europe/United Kingdom",
          "North America/United States",
          "North America/United States Virgin Islands",
          "South America/Uruguay",
          "Asia/Uzbekistan",
          "Oceania/Vanuatu",
          "Europe/Vatican City",
          "South America/Venezuela",
          "Asia/Vietnam",
          "Oceania/Wallis and Futuna",
          "Africa/Western Sahara",
          "Asia/Yemen",
          "Africa/Zambia",
          "Africa/Zimbabwe",
          "Africa",
          "Asia",
          "Europe",
          "North America",
          "Oceania",
          "South America"
         ],
         "labels": [
          "Afghanistan",
          "Albania",
          "Algeria",
          "American Samoa",
          "Andorra",
          "Angola",
          "Anguilla",
          "Antigua and Barbuda",
          "Argentina",
          "Armenia",
          "Aruba",
          "Australia",
          "Austria",
          "Azerbaijan",
          "Bahamas",
          "Bahrain",
          "Bangladesh",
          "Barbados",
          "Belarus",
          "Belgium",
          "Belize",
          "Benin",
          "Bermuda",
          "Bhutan",
          "Bolivia",
          "Bosnia and Herzegovina",
          "Botswana",
          "Brazil",
          "British Virgin Islands",
          "Brunei",
          "Bulgaria",
          "Burkina Faso",
          "Burundi",
          "Cambodia",
          "Cameroon",
          "Canada",
          "Cape Verde",
          "Cayman Islands",
          "Central African Republic",
          "Chad",
          "Chile",
          "China",
          "Colombia",
          "Comoros",
          "Cook Islands",
          "Costa Rica",
          "Croatia",
          "Cuba",
          "Curacao",
          "Cyprus",
          "Czech Republic",
          "DR Congo",
          "Denmark",
          "Djibouti",
          "Dominica",
          "Dominican Republic",
          "Ecuador",
          "Egypt",
          "El Salvador",
          "Equatorial Guinea",
          "Eritrea",
          "Estonia",
          "Eswatini",
          "Ethiopia",
          "Falkland Islands",
          "Faroe Islands",
          "Fiji",
          "Finland",
          "France",
          "French Guiana",
          "French Polynesia",
          "Gabon",
          "Gambia",
          "Georgia",
          "Germany",
          "Ghana",
          "Gibraltar",
          "Greece",
          "Greenland",
          "Grenada",
          "Guadeloupe",
          "Guam",
          "Guatemala",
          "Guernsey",
          "Guinea",
          "Guinea-Bissau",
          "Guyana",
          "Haiti",
          "Honduras",
          "Hong Kong",
          "Hungary",
          "Iceland",
          "India",
          "Indonesia",
          "Iran",
          "Iraq",
          "Ireland",
          "Isle of Man",
          "Israel",
          "Italy",
          "Ivory Coast",
          "Jamaica",
          "Japan",
          "Jersey",
          "Jordan",
          "Kazakhstan",
          "Kenya",
          "Kiribati",
          "Kuwait",
          "Kyrgyzstan",
          "Laos",
          "Latvia",
          "Lebanon",
          "Lesotho",
          "Liberia",
          "Libya",
          "Liechtenstein",
          "Lithuania",
          "Luxembourg",
          "Macau",
          "Madagascar",
          "Malawi",
          "Malaysia",
          "Maldives",
          "Mali",
          "Malta",
          "Marshall Islands",
          "Martinique",
          "Mauritania",
          "Mauritius",
          "Mayotte",
          "Mexico",
          "Micronesia",
          "Moldova",
          "Monaco",
          "Mongolia",
          "Montenegro",
          "Montserrat",
          "Morocco",
          "Mozambique",
          "Myanmar",
          "Namibia",
          "Nauru",
          "Nepal",
          "Netherlands",
          "New Caledonia",
          "New Zealand",
          "Nicaragua",
          "Niger",
          "Nigeria",
          "Niue",
          "North Korea",
          "North Macedonia",
          "Northern Mariana Islands",
          "Norway",
          "Oman",
          "Pakistan",
          "Palau",
          "Palestine",
          "Panama",
          "Papua New Guinea",
          "Paraguay",
          "Peru",
          "Philippines",
          "Poland",
          "Portugal",
          "Puerto Rico",
          "Qatar",
          "Republic of the Congo",
          "Reunion",
          "Romania",
          "Russia",
          "Rwanda",
          "Saint Barthelemy",
          "Saint Kitts and Nevis",
          "Saint Lucia",
          "Saint Martin",
          "Saint Pierre and Miquelon",
          "Saint Vincent and the Grenadines",
          "Samoa",
          "San Marino",
          "Sao Tome and Principe",
          "Saudi Arabia",
          "Senegal",
          "Serbia",
          "Seychelles",
          "Sierra Leone",
          "Singapore",
          "Sint Maarten",
          "Slovakia",
          "Slovenia",
          "Solomon Islands",
          "Somalia",
          "South Africa",
          "South Korea",
          "South Sudan",
          "Spain",
          "Sri Lanka",
          "Sudan",
          "Suriname",
          "Sweden",
          "Switzerland",
          "Syria",
          "Taiwan",
          "Tajikistan",
          "Tanzania",
          "Thailand",
          "Timor-Leste",
          "Togo",
          "Tokelau",
          "Tonga",
          "Trinidad and Tobago",
          "Tunisia",
          "Turkey",
          "Turkmenistan",
          "Turks and Caicos Islands",
          "Tuvalu",
          "Uganda",
          "Ukraine",
          "United Arab Emirates",
          "United Kingdom",
          "United States",
          "United States Virgin Islands",
          "Uruguay",
          "Uzbekistan",
          "Vanuatu",
          "Vatican City",
          "Venezuela",
          "Vietnam",
          "Wallis and Futuna",
          "Western Sahara",
          "Yemen",
          "Zambia",
          "Zimbabwe",
          "Africa",
          "Asia",
          "Europe",
          "North America",
          "Oceania",
          "South America"
         ],
         "marker": {
          "coloraxis": "coloraxis",
          "colors": [
           63.0587,
           98.8702,
           18.8531,
           222.4774,
           170.5641,
           28.5466,
           174.2527,
           212.13349999999997,
           16.3683,
           93.4831,
           591.3611,
           3.4032000000000004,
           106.5877,
           119.6082,
           29.404300000000003,
           1924.4876,
           1160.035,
           654.9651,
           45.9295,
           381.81110000000007,
           17.6466,
           118.5635,
           1188.5926,
           20.3796,
           11.1272,
           63.1437,
           4.5194,
           25.2841,
           207.3179,
           77.8841,
           61.1654,
           83.0641,
           463.08739999999995,
           92.6221,
           58.71280000000001,
           3.8513,
           147.0739,
           260.25,
           8.9555,
           13.8032,
           25.927399999999995,
           146.8933,
           45.4339,
           449.39529999999996,
           72.0805,
           101.3861,
           71.2153,
           102.0366,
           430.54730000000006,
           135.2814,
           133.0627,
           42.2244,
           136.4984,
           48.3125,
           96.85349999999998,
           230.70869999999996,
           65.0229,
           110.71879999999999,
           301.145,
           59.709399999999995,
           31.3268,
           29.3201,
           69.2047,
           111.7268,
           0.3105,
           38.112,
           50.8847,
           16.3722,
           117.1419,
           3.6459,
           73.5011,
           8.9252,
           253.1567,
           53.7214,
           233.4544,
           140.3406,
           5441.5,
           78.68,
           0.0261,
           364.6453,
           243.0909,
           312.8852,
           163.8725,
           811.5513,
           56.3716,
           58.2856,
           3.7621,
           417.4773,
           92.7431,
           6783.392200000001,
           107.1431,
           3.6204,
           431.0675,
           144.6529,
           53.7258,
           101.5158,
           71.4799,
           147.7605,
           435.1617,
           195.91909999999996,
           87.3295,
           257.2447,
           327.9753,
           954.9828,
           126.3221,
           7.1188,
           93.0919,
           161.815,
           239.5821,
           33.1612,
           31.7968,
           28.666,
           525.2334,
           75.962,
           47.6136,
           3.8717,
           245.7937,
           42.1142,
           250.425,
           23172.2667,
           50.4423,
           172.22,
           102.5934,
           1745.9567000000002,
           18.2178,
           1687.6139000000003,
           229.663,
           325.8041,
           4.5951,
           636.9946,
           871.9278,
           64.9082,
           162.6268,
           96.70259999999999,
           18234.5,
           2.1727,
           45.4012,
           43.0392,
           83.883,
           41.1302,
           80.0784,
           3.1091999999999995,
           603.2381,
           207.5511,
           419.6897,
           15.6097,
           19.1716,
           53.2962,
           20.6851,
           236.5759,
           7.4385,
           216.27549999999997,
           81.4218,
           106.7909,
           16.7828,
           14.7861,
           267.4018,
           39.3355,
           844.063,
           58.4561,
           21.9139,
           16.6705,
           26.4933,
           337.5434,
           127.4698,
           111.5307,
           366.675,
           232.6189,
           17.4574,
           387.914,
           82.4665,
           8.4636,
           523.0731,
           522.2381,
           182.5939,
           291.9756,
           599.8302,
           24.223100000000002,
           267.2185,
           78.2484,
           551.8033,
           235.8714,
           16.9368,
           88.025,
           81.7257,
           236.9867,
           119.957,
           8416.4634,
           1299.2647,
           115.0856,
           104.5649,
           25.0648,
           27.5971,
           49.051700000000004,
           517.0722,
           17.6091,
           93.9909,
           332.7563,
           24.852900000000005,
           3.7727,
           23.427599999999998,
           211.7157,
           119.4797,
           660.1662,
           69.5513,
           69.3034,
           139.7276,
           90.1772,
           155.8281,
           155.9167,
           143.0495,
           298.4491,
           75.5218,
           108.91450000000002,
           13.1751,
           48.2099,
           435.0769,
           195.60999999999999,
           65.7858,
           112.9322,
           277.9289,
           36.0935,
           286.6427,
           18.9069,
           77.3975,
           26.8061,
           510,
           30.882,
           296.4472,
           81.493,
           2.1654,
           63.8232,
           26.5976,
           41.7665,
           353.34166256219703,
           12972.9709661818,
           11096.582908838633,
           563.2227445762709,
           292.6494981398728,
           35.176915889569656
          ]
         },
         "name": "",
         "parents": [
          "Asia",
          "Europe",
          "Africa",
          "Oceania",
          "Europe",
          "Africa",
          "North America",
          "North America",
          "South America",
          "Asia",
          "North America",
          "Oceania",
          "Europe",
          "Asia",
          "North America",
          "Asia",
          "Asia",
          "North America",
          "Europe",
          "Europe",
          "North America",
          "Africa",
          "North America",
          "Asia",
          "South America",
          "Europe",
          "Africa",
          "South America",
          "North America",
          "Asia",
          "Europe",
          "Africa",
          "Africa",
          "Asia",
          "Africa",
          "North America",
          "Africa",
          "North America",
          "Africa",
          "Africa",
          "South America",
          "Asia",
          "South America",
          "Africa",
          "Oceania",
          "North America",
          "Europe",
          "North America",
          "North America",
          "Europe",
          "Europe",
          "Africa",
          "Europe",
          "Africa",
          "North America",
          "North America",
          "South America",
          "Africa",
          "North America",
          "Africa",
          "Africa",
          "Europe",
          "Africa",
          "Africa",
          "South America",
          "Europe",
          "Oceania",
          "Europe",
          "Europe",
          "South America",
          "Oceania",
          "Africa",
          "Africa",
          "Asia",
          "Europe",
          "Africa",
          "Europe",
          "Europe",
          "North America",
          "North America",
          "North America",
          "Oceania",
          "North America",
          "Europe",
          "Africa",
          "Africa",
          "South America",
          "North America",
          "North America",
          "Asia",
          "Europe",
          "Europe",
          "Asia",
          "Asia",
          "Asia",
          "Asia",
          "Europe",
          "Europe",
          "Asia",
          "Europe",
          "Africa",
          "North America",
          "Asia",
          "Europe",
          "Asia",
          "Asia",
          "Africa",
          "Oceania",
          "Asia",
          "Asia",
          "Asia",
          "Europe",
          "Asia",
          "Africa",
          "Africa",
          "Africa",
          "Europe",
          "Europe",
          "Europe",
          "Asia",
          "Africa",
          "Africa",
          "Asia",
          "Asia",
          "Africa",
          "Europe",
          "Oceania",
          "North America",
          "Africa",
          "Africa",
          "Africa",
          "North America",
          "Oceania",
          "Europe",
          "Europe",
          "Asia",
          "Europe",
          "North America",
          "Africa",
          "Africa",
          "Asia",
          "Africa",
          "Oceania",
          "Asia",
          "Europe",
          "Oceania",
          "Oceania",
          "North America",
          "Africa",
          "Africa",
          "Oceania",
          "Asia",
          "Europe",
          "Oceania",
          "Europe",
          "Asia",
          "Asia",
          "Oceania",
          "Asia",
          "North America",
          "Oceania",
          "South America",
          "South America",
          "Asia",
          "Europe",
          "Europe",
          "North America",
          "Asia",
          "Africa",
          "Africa",
          "Europe",
          "Europe",
          "Africa",
          "North America",
          "North America",
          "North America",
          "North America",
          "North America",
          "North America",
          "Oceania",
          "Europe",
          "Africa",
          "Asia",
          "Africa",
          "Europe",
          "Africa",
          "Africa",
          "Asia",
          "North America",
          "Europe",
          "Europe",
          "Oceania",
          "Africa",
          "Africa",
          "Asia",
          "Africa",
          "Europe",
          "Asia",
          "Africa",
          "South America",
          "Europe",
          "Europe",
          "Asia",
          "Asia",
          "Asia",
          "Africa",
          "Asia",
          "Asia",
          "Africa",
          "Oceania",
          "Oceania",
          "North America",
          "Africa",
          "Asia",
          "Asia",
          "North America",
          "Oceania",
          "Africa",
          "Europe",
          "Asia",
          "Europe",
          "North America",
          "North America",
          "South America",
          "Asia",
          "Oceania",
          "Europe",
          "South America",
          "Asia",
          "Oceania",
          "Africa",
          "Asia",
          "Africa",
          "Africa",
          "",
          "",
          "",
          "",
          "",
          ""
         ],
         "type": "treemap",
         "values": [
          63.0587,
          98.8702,
          18.8531,
          222.4774,
          170.5641,
          28.5466,
          174.2527,
          212.1335,
          16.3683,
          93.4831,
          591.3611,
          3.4032,
          106.5877,
          119.6082,
          29.4043,
          1924.4876,
          1160.035,
          654.9651,
          45.9295,
          381.8111,
          17.6466,
          118.5635,
          1188.5926,
          20.3796,
          11.1272,
          63.1437,
          4.5194,
          25.2841,
          207.3179,
          77.8841,
          61.1654,
          83.0641,
          463.0874,
          92.6221,
          58.7128,
          3.8513,
          147.0739,
          260.25,
          8.9555,
          13.8032,
          25.9274,
          146.8933,
          45.4339,
          449.3953,
          72.0805,
          101.3861,
          71.2153,
          102.0366,
          430.5473,
          135.2814,
          133.0627,
          42.2244,
          136.4984,
          48.3125,
          96.8535,
          230.7087,
          65.0229,
          110.7188,
          301.145,
          59.7094,
          31.3268,
          29.3201,
          69.2047,
          111.7268,
          0.3105,
          38.112,
          50.8847,
          16.3722,
          117.1419,
          3.6459,
          73.5011,
          8.9252,
          253.1567,
          53.7214,
          233.4544,
          140.3406,
          5441.5,
          78.68,
          0.0261,
          364.6453,
          243.0909,
          312.8852,
          163.8725,
          811.5513,
          56.3716,
          58.2856,
          3.7621,
          417.4773,
          92.7431,
          6783.3922,
          107.1431,
          3.6204,
          431.0675,
          144.6529,
          53.7258,
          101.5158,
          71.4799,
          147.7605,
          435.1617,
          195.9191,
          87.3295,
          257.2447,
          327.9753,
          954.9828,
          126.3221,
          7.1188,
          93.0919,
          161.815,
          239.5821,
          33.1612,
          31.7968,
          28.666,
          525.2334,
          75.962,
          47.6136,
          3.8717,
          245.7937,
          42.1142,
          250.425,
          23172.2667,
          50.4423,
          172.22,
          102.5934,
          1745.9567,
          18.2178,
          1687.6139,
          229.663,
          325.8041,
          4.5951,
          636.9946,
          871.9278,
          64.9082,
          162.6268,
          96.7026,
          18234.5,
          2.1727,
          45.4012,
          43.0392,
          83.883,
          41.1302,
          80.0784,
          3.1092,
          603.2381,
          207.5511,
          419.6897,
          15.6097,
          19.1716,
          53.2962,
          20.6851,
          236.5759,
          7.4385,
          216.2755,
          81.4218,
          106.7909,
          16.7828,
          14.7861,
          267.4018,
          39.3355,
          844.063,
          58.4561,
          21.9139,
          16.6705,
          26.4933,
          337.5434,
          127.4698,
          111.5307,
          366.675,
          232.6189,
          17.4574,
          387.914,
          82.4665,
          8.4636,
          523.0731,
          522.2381,
          182.5939,
          291.9756,
          599.8302,
          24.2231,
          267.2185,
          78.2484,
          551.8033,
          235.8714,
          16.9368,
          88.025,
          81.7257,
          236.9867,
          119.957,
          8416.4634,
          1299.2647,
          115.0856,
          104.5649,
          25.0648,
          27.5971,
          49.0517,
          517.0722,
          17.6091,
          93.9909,
          332.7563,
          24.8529,
          3.7727,
          23.4276,
          211.7157,
          119.4797,
          660.1662,
          69.5513,
          69.3034,
          139.7276,
          90.1772,
          155.8281,
          155.9167,
          143.0495,
          298.4491,
          75.5218,
          108.9145,
          13.1751,
          48.2099,
          435.0769,
          195.61,
          65.7858,
          112.9322,
          277.9289,
          36.0935,
          286.6427,
          18.9069,
          77.3975,
          26.8061,
          510,
          30.882,
          296.4472,
          81.493,
          2.1654,
          63.8232,
          26.5976,
          41.7665,
          7127.7158,
          51251.2068,
          33166.2371,
          10910.4703,
          3048.4905,
          293.6077
         ]
        }
       ],
       "layout": {
        "coloraxis": {
         "colorbar": {
          "title": {
           "text": "Density (per km²)"
          }
         },
         "colorscale": [
          [
           0,
           "#fde725"
          ],
          [
           0.1111111111111111,
           "#b5de2b"
          ],
          [
           0.2222222222222222,
           "#6ece58"
          ],
          [
           0.3333333333333333,
           "#35b779"
          ],
          [
           0.4444444444444444,
           "#1f9e89"
          ],
          [
           0.5555555555555556,
           "#26828e"
          ],
          [
           0.6666666666666666,
           "#31688e"
          ],
          [
           0.7777777777777778,
           "#3e4989"
          ],
          [
           0.8888888888888888,
           "#482878"
          ],
          [
           1,
           "#440154"
          ]
         ]
        },
        "legend": {
         "tracegroupgap": 0
        },
        "template": {
         "data": {
          "bar": [
           {
            "error_x": {
             "color": "#2a3f5f"
            },
            "error_y": {
             "color": "#2a3f5f"
            },
            "marker": {
             "line": {
              "color": "#E5ECF6",
              "width": 0.5
             },
             "pattern": {
              "fillmode": "overlay",
              "size": 10,
              "solidity": 0.2
             }
            },
            "type": "bar"
           }
          ],
          "barpolar": [
           {
            "marker": {
             "line": {
              "color": "#E5ECF6",
              "width": 0.5
             },
             "pattern": {
              "fillmode": "overlay",
              "size": 10,
              "solidity": 0.2
             }
            },
            "type": "barpolar"
           }
          ],
          "carpet": [
           {
            "aaxis": {
             "endlinecolor": "#2a3f5f",
             "gridcolor": "white",
             "linecolor": "white",
             "minorgridcolor": "white",
             "startlinecolor": "#2a3f5f"
            },
            "baxis": {
             "endlinecolor": "#2a3f5f",
             "gridcolor": "white",
             "linecolor": "white",
             "minorgridcolor": "white",
             "startlinecolor": "#2a3f5f"
            },
            "type": "carpet"
           }
          ],
          "choropleth": [
           {
            "colorbar": {
             "outlinewidth": 0,
             "ticks": ""
            },
            "type": "choropleth"
           }
          ],
          "contour": [
           {
            "colorbar": {
             "outlinewidth": 0,
             "ticks": ""
            },
            "colorscale": [
             [
              0,
              "#0d0887"
             ],
             [
              0.1111111111111111,
              "#46039f"
             ],
             [
              0.2222222222222222,
              "#7201a8"
             ],
             [
              0.3333333333333333,
              "#9c179e"
             ],
             [
              0.4444444444444444,
              "#bd3786"
             ],
             [
              0.5555555555555556,
              "#d8576b"
             ],
             [
              0.6666666666666666,
              "#ed7953"
             ],
             [
              0.7777777777777778,
              "#fb9f3a"
             ],
             [
              0.8888888888888888,
              "#fdca26"
             ],
             [
              1,
              "#f0f921"
             ]
            ],
            "type": "contour"
           }
          ],
          "contourcarpet": [
           {
            "colorbar": {
             "outlinewidth": 0,
             "ticks": ""
            },
            "type": "contourcarpet"
           }
          ],
          "heatmap": [
           {
            "colorbar": {
             "outlinewidth": 0,
             "ticks": ""
            },
            "colorscale": [
             [
              0,
              "#0d0887"
             ],
             [
              0.1111111111111111,
              "#46039f"
             ],
             [
              0.2222222222222222,
              "#7201a8"
             ],
             [
              0.3333333333333333,
              "#9c179e"
             ],
             [
              0.4444444444444444,
              "#bd3786"
             ],
             [
              0.5555555555555556,
              "#d8576b"
             ],
             [
              0.6666666666666666,
              "#ed7953"
             ],
             [
              0.7777777777777778,
              "#fb9f3a"
             ],
             [
              0.8888888888888888,
              "#fdca26"
             ],
             [
              1,
              "#f0f921"
             ]
            ],
            "type": "heatmap"
           }
          ],
          "heatmapgl": [
           {
            "colorbar": {
             "outlinewidth": 0,
             "ticks": ""
            },
            "colorscale": [
             [
              0,
              "#0d0887"
             ],
             [
              0.1111111111111111,
              "#46039f"
             ],
             [
              0.2222222222222222,
              "#7201a8"
             ],
             [
              0.3333333333333333,
              "#9c179e"
             ],
             [
              0.4444444444444444,
              "#bd3786"
             ],
             [
              0.5555555555555556,
              "#d8576b"
             ],
             [
              0.6666666666666666,
              "#ed7953"
             ],
             [
              0.7777777777777778,
              "#fb9f3a"
             ],
             [
              0.8888888888888888,
              "#fdca26"
             ],
             [
              1,
              "#f0f921"
             ]
            ],
            "type": "heatmapgl"
           }
          ],
          "histogram": [
           {
            "marker": {
             "pattern": {
              "fillmode": "overlay",
              "size": 10,
              "solidity": 0.2
             }
            },
            "type": "histogram"
           }
          ],
          "histogram2d": [
           {
            "colorbar": {
             "outlinewidth": 0,
             "ticks": ""
            },
            "colorscale": [
             [
              0,
              "#0d0887"
             ],
             [
              0.1111111111111111,
              "#46039f"
             ],
             [
              0.2222222222222222,
              "#7201a8"
             ],
             [
              0.3333333333333333,
              "#9c179e"
             ],
             [
              0.4444444444444444,
              "#bd3786"
             ],
             [
              0.5555555555555556,
              "#d8576b"
             ],
             [
              0.6666666666666666,
              "#ed7953"
             ],
             [
              0.7777777777777778,
              "#fb9f3a"
             ],
             [
              0.8888888888888888,
              "#fdca26"
             ],
             [
              1,
              "#f0f921"
             ]
            ],
            "type": "histogram2d"
           }
          ],
          "histogram2dcontour": [
           {
            "colorbar": {
             "outlinewidth": 0,
             "ticks": ""
            },
            "colorscale": [
             [
              0,
              "#0d0887"
             ],
             [
              0.1111111111111111,
              "#46039f"
             ],
             [
              0.2222222222222222,
              "#7201a8"
             ],
             [
              0.3333333333333333,
              "#9c179e"
             ],
             [
              0.4444444444444444,
              "#bd3786"
             ],
             [
              0.5555555555555556,
              "#d8576b"
             ],
             [
              0.6666666666666666,
              "#ed7953"
             ],
             [
              0.7777777777777778,
              "#fb9f3a"
             ],
             [
              0.8888888888888888,
              "#fdca26"
             ],
             [
              1,
              "#f0f921"
             ]
            ],
            "type": "histogram2dcontour"
           }
          ],
          "mesh3d": [
           {
            "colorbar": {
             "outlinewidth": 0,
             "ticks": ""
            },
            "type": "mesh3d"
           }
          ],
          "parcoords": [
           {
            "line": {
             "colorbar": {
              "outlinewidth": 0,
              "ticks": ""
             }
            },
            "type": "parcoords"
           }
          ],
          "pie": [
           {
            "automargin": true,
            "type": "pie"
           }
          ],
          "scatter": [
           {
            "fillpattern": {
             "fillmode": "overlay",
             "size": 10,
             "solidity": 0.2
            },
            "type": "scatter"
           }
          ],
          "scatter3d": [
           {
            "line": {
             "colorbar": {
              "outlinewidth": 0,
              "ticks": ""
             }
            },
            "marker": {
             "colorbar": {
              "outlinewidth": 0,
              "ticks": ""
             }
            },
            "type": "scatter3d"
           }
          ],
          "scattercarpet": [
           {
            "marker": {
             "colorbar": {
              "outlinewidth": 0,
              "ticks": ""
             }
            },
            "type": "scattercarpet"
           }
          ],
          "scattergeo": [
           {
            "marker": {
             "colorbar": {
              "outlinewidth": 0,
              "ticks": ""
             }
            },
            "type": "scattergeo"
           }
          ],
          "scattergl": [
           {
            "marker": {
             "colorbar": {
              "outlinewidth": 0,
              "ticks": ""
             }
            },
            "type": "scattergl"
           }
          ],
          "scattermapbox": [
           {
            "marker": {
             "colorbar": {
              "outlinewidth": 0,
              "ticks": ""
             }
            },
            "type": "scattermapbox"
           }
          ],
          "scatterpolar": [
           {
            "marker": {
             "colorbar": {
              "outlinewidth": 0,
              "ticks": ""
             }
            },
            "type": "scatterpolar"
           }
          ],
          "scatterpolargl": [
           {
            "marker": {
             "colorbar": {
              "outlinewidth": 0,
              "ticks": ""
             }
            },
            "type": "scatterpolargl"
           }
          ],
          "scatterternary": [
           {
            "marker": {
             "colorbar": {
              "outlinewidth": 0,
              "ticks": ""
             }
            },
            "type": "scatterternary"
           }
          ],
          "surface": [
           {
            "colorbar": {
             "outlinewidth": 0,
             "ticks": ""
            },
            "colorscale": [
             [
              0,
              "#0d0887"
             ],
             [
              0.1111111111111111,
              "#46039f"
             ],
             [
              0.2222222222222222,
              "#7201a8"
             ],
             [
              0.3333333333333333,
              "#9c179e"
             ],
             [
              0.4444444444444444,
              "#bd3786"
             ],
             [
              0.5555555555555556,
              "#d8576b"
             ],
             [
              0.6666666666666666,
              "#ed7953"
             ],
             [
              0.7777777777777778,
              "#fb9f3a"
             ],
             [
              0.8888888888888888,
              "#fdca26"
             ],
             [
              1,
              "#f0f921"
             ]
            ],
            "type": "surface"
           }
          ],
          "table": [
           {
            "cells": {
             "fill": {
              "color": "#EBF0F8"
             },
             "line": {
              "color": "white"
             }
            },
            "header": {
             "fill": {
              "color": "#C8D4E3"
             },
             "line": {
              "color": "white"
             }
            },
            "type": "table"
           }
          ]
         },
         "layout": {
          "annotationdefaults": {
           "arrowcolor": "#2a3f5f",
           "arrowhead": 0,
           "arrowwidth": 1
          },
          "autotypenumbers": "strict",
          "coloraxis": {
           "colorbar": {
            "outlinewidth": 0,
            "ticks": ""
           }
          },
          "colorscale": {
           "diverging": [
            [
             0,
             "#8e0152"
            ],
            [
             0.1,
             "#c51b7d"
            ],
            [
             0.2,
             "#de77ae"
            ],
            [
             0.3,
             "#f1b6da"
            ],
            [
             0.4,
             "#fde0ef"
            ],
            [
             0.5,
             "#f7f7f7"
            ],
            [
             0.6,
             "#e6f5d0"
            ],
            [
             0.7,
             "#b8e186"
            ],
            [
             0.8,
             "#7fbc41"
            ],
            [
             0.9,
             "#4d9221"
            ],
            [
             1,
             "#276419"
            ]
           ],
           "sequential": [
            [
             0,
             "#0d0887"
            ],
            [
             0.1111111111111111,
             "#46039f"
            ],
            [
             0.2222222222222222,
             "#7201a8"
            ],
            [
             0.3333333333333333,
             "#9c179e"
            ],
            [
             0.4444444444444444,
             "#bd3786"
            ],
            [
             0.5555555555555556,
             "#d8576b"
            ],
            [
             0.6666666666666666,
             "#ed7953"
            ],
            [
             0.7777777777777778,
             "#fb9f3a"
            ],
            [
             0.8888888888888888,
             "#fdca26"
            ],
            [
             1,
             "#f0f921"
            ]
           ],
           "sequentialminus": [
            [
             0,
             "#0d0887"
            ],
            [
             0.1111111111111111,
             "#46039f"
            ],
            [
             0.2222222222222222,
             "#7201a8"
            ],
            [
             0.3333333333333333,
             "#9c179e"
            ],
            [
             0.4444444444444444,
             "#bd3786"
            ],
            [
             0.5555555555555556,
             "#d8576b"
            ],
            [
             0.6666666666666666,
             "#ed7953"
            ],
            [
             0.7777777777777778,
             "#fb9f3a"
            ],
            [
             0.8888888888888888,
             "#fdca26"
            ],
            [
             1,
             "#f0f921"
            ]
           ]
          },
          "colorway": [
           "#636efa",
           "#EF553B",
           "#00cc96",
           "#ab63fa",
           "#FFA15A",
           "#19d3f3",
           "#FF6692",
           "#B6E880",
           "#FF97FF",
           "#FECB52"
          ],
          "font": {
           "color": "#2a3f5f"
          },
          "geo": {
           "bgcolor": "white",
           "lakecolor": "white",
           "landcolor": "#E5ECF6",
           "showlakes": true,
           "showland": true,
           "subunitcolor": "white"
          },
          "hoverlabel": {
           "align": "left"
          },
          "hovermode": "closest",
          "mapbox": {
           "style": "light"
          },
          "paper_bgcolor": "white",
          "plot_bgcolor": "#E5ECF6",
          "polar": {
           "angularaxis": {
            "gridcolor": "white",
            "linecolor": "white",
            "ticks": ""
           },
           "bgcolor": "#E5ECF6",
           "radialaxis": {
            "gridcolor": "white",
            "linecolor": "white",
            "ticks": ""
           }
          },
          "scene": {
           "xaxis": {
            "backgroundcolor": "#E5ECF6",
            "gridcolor": "white",
            "gridwidth": 2,
            "linecolor": "white",
            "showbackground": true,
            "ticks": "",
            "zerolinecolor": "white"
           },
           "yaxis": {
            "backgroundcolor": "#E5ECF6",
            "gridcolor": "white",
            "gridwidth": 2,
            "linecolor": "white",
            "showbackground": true,
            "ticks": "",
            "zerolinecolor": "white"
           },
           "zaxis": {
            "backgroundcolor": "#E5ECF6",
            "gridcolor": "white",
            "gridwidth": 2,
            "linecolor": "white",
            "showbackground": true,
            "ticks": "",
            "zerolinecolor": "white"
           }
          },
          "shapedefaults": {
           "line": {
            "color": "#2a3f5f"
           }
          },
          "ternary": {
           "aaxis": {
            "gridcolor": "white",
            "linecolor": "white",
            "ticks": ""
           },
           "baxis": {
            "gridcolor": "white",
            "linecolor": "white",
            "ticks": ""
           },
           "bgcolor": "#E5ECF6",
           "caxis": {
            "gridcolor": "white",
            "linecolor": "white",
            "ticks": ""
           }
          },
          "title": {
           "x": 0.05
          },
          "xaxis": {
           "automargin": true,
           "gridcolor": "white",
           "linecolor": "white",
           "ticks": "",
           "title": {
            "standoff": 15
           },
           "zerolinecolor": "white",
           "zerolinewidth": 2
          },
          "yaxis": {
           "automargin": true,
           "gridcolor": "white",
           "linecolor": "white",
           "ticks": "",
           "title": {
            "standoff": 15
           },
           "zerolinecolor": "white",
           "zerolinewidth": 2
          }
         }
        },
        "title": {
         "text": "Density (per km²) Treemap"
        }
       }
      }
     },
     "metadata": {},
     "output_type": "display_data"
    }
   ],
   "source": [
    "for i in xols:    \n",
    "    df_cc = df.groupby(['Continent','Country/Territory']).sum(numeric_only=True)[i]\n",
    "    df_cc = df_cc.reset_index()\n",
    "    fig = px.treemap(df_cc, path=['Continent','Country/Territory'], values=i, color =i, color_continuous_scale='Viridis_r', title=f'{i} Treemap')\n",
    "    fig.show()\n",
    "    fig.write_html(f\"{i} heatmap.html\")"
   ]
  }
 ],
 "metadata": {
  "kernelspec": {
   "display_name": "Python 3",
   "language": "python",
   "name": "python3"
  },
  "language_info": {
   "codemirror_mode": {
    "name": "ipython",
    "version": 3
   },
   "file_extension": ".py",
   "mimetype": "text/x-python",
   "name": "python",
   "nbconvert_exporter": "python",
   "pygments_lexer": "ipython3",
   "version": "3.10.11"
  },
  "orig_nbformat": 4
 },
 "nbformat": 4,
 "nbformat_minor": 2
}
